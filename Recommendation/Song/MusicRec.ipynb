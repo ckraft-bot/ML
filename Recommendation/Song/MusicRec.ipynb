{
 "cells": [
  {
   "cell_type": "code",
   "execution_count": 71,
   "metadata": {},
   "outputs": [
    {
     "data": {
      "text/plain": [
       "\"\\nMany streaming platform services (Spotify, Netflix, Amazon, youtube, etc.) try to learn your interests or habits and make recommendations on products and services according to it's interpretation of your tendencies. \\nYou are what you love and you love what you are. Algorithms simply refines that echo chamber to tickle your ego.\\nRecommendation engines are under the umbrella of AI. Recommender system is one of the techniques in ML.\\n    In the context of movie recs, the engine predicts the rating a consumer might give to a movie. \\n    Then the machine ranks the movies according to how it thinks the consumer might like them.\\n    Relevancy to the consumer is key. \\n    The engine runs on filtering -- content or collaborative. \\n    Content filtering is based on other users who are similar to you demographically (age, gender, geogpraphy, etc.). \\n    Collaborative filtering is based on your recorded behaviors. \\n    It also extrapolates your profile by considering other users who share similar behaviors as you.\\n    The assumption is you and the other similar profiles probably have high likelihood of overlaps in movie tastes. \\n    \\nNow I'd like to give this a try by pretending i'm Spotify or Apple Music.\\n\\nPython 3.9.5\\n\\n\\n\""
      ]
     },
     "execution_count": 71,
     "metadata": {},
     "output_type": "execute_result"
    }
   ],
   "source": [
    "# Music Recommendations\n",
    "\"\"\"\n",
    "Many streaming platform services (Spotify, Netflix, Amazon, youtube, etc.) try to learn your interests or habits and make recommendations on products and services according to it's interpretation of your tendencies. \n",
    "You are what you love and you love what you are. Algorithms simply refines that echo chamber to tickle your ego.\n",
    "Recommendation engines are under the umbrella of AI. Recommender system is one of the techniques in ML.\n",
    "    In the context of movie recs, the engine predicts the rating a consumer might give to a movie. \n",
    "    Then the machine ranks the movies according to how it thinks the consumer might like them.\n",
    "    Relevancy to the consumer is key. \n",
    "    The engine runs on filtering -- content or collaborative. \n",
    "    Content filtering is based on other users who are similar to you demographically (age, gender, geogpraphy, etc.). \n",
    "    Collaborative filtering is based on your recorded behaviors. \n",
    "    It also extrapolates your profile by considering other users who share similar behaviors as you.\n",
    "    The assumption is you and the other similar profiles probably have high likelihood of overlaps in movie tastes. \n",
    "    \n",
    "Now I'd like to give this a try by pretending i'm Spotify or Apple Music.\n",
    "\n",
    "Python 3.9.5\n",
    "\n",
    "\n",
    "\"\"\""
   ]
  },
  {
   "cell_type": "code",
   "execution_count": 72,
   "metadata": {},
   "outputs": [
    {
     "data": {
      "text/plain": [
       "'\\nStandardize features by removing the mean and scaling to unit variance. The standard score of a sample x is calculated as:\\n    z = (x - u) / s\\n\\nThe purpose of the pipeline is to assemble several steps that can be cross-validated together while setting different parameters. \\n\\nT-distributed Stochastic Neighbor Embedding. t-SNE [1] is a tool to visualize high-dimensional data. \\n    It converts similarities between data points to joint probabilities and tries to minimize the Kullback-Leibler divergence between the joint probabilities of the low-dimensional embedding and the high-dimensional data. \\n    t-SNE has a cost function that is not convex, i.e. with different initializations we can get different results.\\n\\nPrincipal component analysis (PCA).\\n    Linear dimensionality reduction using Singular Value Decomposition of the data to project it to a lower dimensional space. \\n    The input data is centered but not scaled for each feature before applying the SVD.\\n\\nCompute the distance matrix between each pair from a vector array X and Y.\\n    For efficiency reasons, the euclidean distance between a pair of row vector x and y is computed as:\\n    dist(x, y) = sqrt(dot(x, x) - 2 * dot(x, y) + dot(y, y))\\n    This formulation has two advantages over other ways of computing distances. First, it is computationally efficient when dealing with sparse data. \\n    Second, if one argument varies but the other remains unchanged, then dot(x, x) and/or dot(y, y) can be pre-computed.\\n\\nscipy.stats.cdist(array, axis=0) function calculates the distance between each pair of the two collections of inputs.\\n'"
      ]
     },
     "execution_count": 72,
     "metadata": {},
     "output_type": "execute_result"
    }
   ],
   "source": [
    "import os \n",
    "import numpy as np\n",
    "import pandas as pd\n",
    "import seaborn as sns\n",
    "import plotly.express as px\n",
    "import matplotlib.pyplot as plt\n",
    "%matplotlib inline\n",
    "\n",
    "from sklearn.cluster import KMeans\n",
    "from sklearn.preprocessing import StandardScaler \n",
    "from sklearn.pipeline import Pipeline\n",
    "from sklearn.manifold import TSNE\n",
    "from sklearn.decomposition import PCA\n",
    "from sklearn.metrics import euclidean_distances\n",
    "from scipy.spatial.distance import cdist\n",
    "\n",
    "import warnings\n",
    "warnings.filterwarnings(\"ignore\")\n",
    "\n",
    "\n",
    "\n",
    "\"\"\"\n",
    "Standardize features by removing the mean and scaling to unit variance. The standard score of a sample x is calculated as:\n",
    "    z = (x - u) / s\n",
    "\n",
    "The purpose of the pipeline is to assemble several steps that can be cross-validated together while setting different parameters. \n",
    "\n",
    "T-distributed Stochastic Neighbor Embedding. t-SNE [1] is a tool to visualize high-dimensional data. \n",
    "    It converts similarities between data points to joint probabilities and tries to minimize the Kullback-Leibler divergence between the joint probabilities of the low-dimensional embedding and the high-dimensional data. \n",
    "    t-SNE has a cost function that is not convex, i.e. with different initializations we can get different results.\n",
    "\n",
    "Principal component analysis (PCA).\n",
    "    Linear dimensionality reduction using Singular Value Decomposition of the data to project it to a lower dimensional space. \n",
    "    The input data is centered but not scaled for each feature before applying the SVD.\n",
    "\n",
    "Compute the distance matrix between each pair from a vector array X and Y.\n",
    "    For efficiency reasons, the euclidean distance between a pair of row vector x and y is computed as:\n",
    "    dist(x, y) = sqrt(dot(x, x) - 2 * dot(x, y) + dot(y, y))\n",
    "    This formulation has two advantages over other ways of computing distances. First, it is computationally efficient when dealing with sparse data. \n",
    "    Second, if one argument varies but the other remains unchanged, then dot(x, x) and/or dot(y, y) can be pre-computed.\n",
    "\n",
    "scipy.stats.cdist(array, axis=0) function calculates the distance between each pair of the two collections of inputs.\n",
    "\"\"\""
   ]
  },
  {
   "cell_type": "code",
   "execution_count": 73,
   "metadata": {},
   "outputs": [],
   "source": [
    "general_data = pd.read_csv(r\"C:\\Users\\ckraft\\Downloads\\Spotify\\General.csv\")\n",
    "genre = pd.read_csv(r\"C:\\Users\\ckraft\\Downloads\\Spotify\\By_Genres.csv\")\n",
    "year = pd.read_csv(r\"C:\\Users\\ckraft\\Downloads\\Spotify\\Year.csv\")\n",
    "artist = pd.read_csv(r\"C:\\Users\\ckraft\\Downloads\\Spotify\\Artists.csv\")"
   ]
  },
  {
   "cell_type": "code",
   "execution_count": 74,
   "metadata": {},
   "outputs": [
    {
     "name": "stdout",
     "output_type": "stream",
     "text": [
      "<class 'pandas.core.frame.DataFrame'>\n",
      "RangeIndex: 170653 entries, 0 to 170652\n",
      "Data columns (total 19 columns):\n",
      " #   Column            Non-Null Count   Dtype  \n",
      "---  ------            --------------   -----  \n",
      " 0   valence           170653 non-null  float64\n",
      " 1   year              170653 non-null  int64  \n",
      " 2   acousticness      170653 non-null  float64\n",
      " 3   artists           170653 non-null  object \n",
      " 4   danceability      170653 non-null  float64\n",
      " 5   duration_ms       170653 non-null  int64  \n",
      " 6   energy            170653 non-null  float64\n",
      " 7   explicit          170653 non-null  int64  \n",
      " 8   id                170653 non-null  object \n",
      " 9   instrumentalness  170653 non-null  float64\n",
      " 10  key               170653 non-null  int64  \n",
      " 11  liveness          170653 non-null  float64\n",
      " 12  loudness          170653 non-null  float64\n",
      " 13  mode              170653 non-null  int64  \n",
      " 14  name              170653 non-null  object \n",
      " 15  popularity        170653 non-null  int64  \n",
      " 16  release_date      170653 non-null  object \n",
      " 17  speechiness       170653 non-null  float64\n",
      " 18  tempo             170653 non-null  float64\n",
      "dtypes: float64(9), int64(6), object(4)\n",
      "memory usage: 24.7+ MB\n",
      "None\n"
     ]
    }
   ],
   "source": [
    "print(general_data.info())"
   ]
  },
  {
   "cell_type": "code",
   "execution_count": 75,
   "metadata": {},
   "outputs": [
    {
     "name": "stdout",
     "output_type": "stream",
     "text": [
      "<class 'pandas.core.frame.DataFrame'>\n",
      "RangeIndex: 2973 entries, 0 to 2972\n",
      "Data columns (total 14 columns):\n",
      " #   Column            Non-Null Count  Dtype  \n",
      "---  ------            --------------  -----  \n",
      " 0   mode              2973 non-null   int64  \n",
      " 1   genres            2973 non-null   object \n",
      " 2   acousticness      2973 non-null   float64\n",
      " 3   danceability      2973 non-null   float64\n",
      " 4   duration_ms       2973 non-null   float64\n",
      " 5   energy            2973 non-null   float64\n",
      " 6   instrumentalness  2973 non-null   float64\n",
      " 7   liveness          2973 non-null   float64\n",
      " 8   loudness          2973 non-null   float64\n",
      " 9   speechiness       2973 non-null   float64\n",
      " 10  tempo             2973 non-null   float64\n",
      " 11  valence           2973 non-null   float64\n",
      " 12  popularity        2973 non-null   float64\n",
      " 13  key               2973 non-null   int64  \n",
      "dtypes: float64(11), int64(2), object(1)\n",
      "memory usage: 325.3+ KB\n",
      "None\n"
     ]
    }
   ],
   "source": [
    "print(genre.info())"
   ]
  },
  {
   "cell_type": "code",
   "execution_count": 76,
   "metadata": {},
   "outputs": [
    {
     "name": "stdout",
     "output_type": "stream",
     "text": [
      "<class 'pandas.core.frame.DataFrame'>\n",
      "RangeIndex: 100 entries, 0 to 99\n",
      "Data columns (total 14 columns):\n",
      " #   Column            Non-Null Count  Dtype  \n",
      "---  ------            --------------  -----  \n",
      " 0   mode              100 non-null    int64  \n",
      " 1   year              100 non-null    int64  \n",
      " 2   acousticness      100 non-null    float64\n",
      " 3   danceability      100 non-null    float64\n",
      " 4   duration_ms       100 non-null    float64\n",
      " 5   energy            100 non-null    float64\n",
      " 6   instrumentalness  100 non-null    float64\n",
      " 7   liveness          100 non-null    float64\n",
      " 8   loudness          100 non-null    float64\n",
      " 9   speechiness       100 non-null    float64\n",
      " 10  tempo             100 non-null    float64\n",
      " 11  valence           100 non-null    float64\n",
      " 12  popularity        100 non-null    float64\n",
      " 13  key               100 non-null    int64  \n",
      "dtypes: float64(11), int64(3)\n",
      "memory usage: 11.1 KB\n",
      "None\n"
     ]
    }
   ],
   "source": [
    "print(year.info())"
   ]
  },
  {
   "cell_type": "code",
   "execution_count": 77,
   "metadata": {},
   "outputs": [
    {
     "name": "stdout",
     "output_type": "stream",
     "text": [
      "<class 'pandas.core.frame.DataFrame'>\n",
      "RangeIndex: 28680 entries, 0 to 28679\n",
      "Data columns (total 15 columns):\n",
      " #   Column            Non-Null Count  Dtype  \n",
      "---  ------            --------------  -----  \n",
      " 0   mode              28680 non-null  int64  \n",
      " 1   count             28680 non-null  int64  \n",
      " 2   acousticness      28680 non-null  float64\n",
      " 3   artists           28680 non-null  object \n",
      " 4   danceability      28680 non-null  float64\n",
      " 5   duration_ms       28680 non-null  float64\n",
      " 6   energy            28680 non-null  float64\n",
      " 7   instrumentalness  28680 non-null  float64\n",
      " 8   liveness          28680 non-null  float64\n",
      " 9   loudness          28680 non-null  float64\n",
      " 10  speechiness       28680 non-null  float64\n",
      " 11  tempo             28680 non-null  float64\n",
      " 12  valence           28680 non-null  float64\n",
      " 13  popularity        28680 non-null  float64\n",
      " 14  key               28680 non-null  int64  \n",
      "dtypes: float64(11), int64(3), object(1)\n",
      "memory usage: 3.3+ MB\n",
      "None\n"
     ]
    }
   ],
   "source": [
    "print(artist.info())"
   ]
  },
  {
   "cell_type": "code",
   "execution_count": 78,
   "metadata": {},
   "outputs": [],
   "source": [
    "#pip install yellowbrick"
   ]
  },
  {
   "cell_type": "code",
   "execution_count": 79,
   "metadata": {},
   "outputs": [
    {
     "data": {
      "image/png": "[encoded data removed]",
      "text/plain": [
       "<Figure size 1440x1440 with 1 Axes>"
      ]
     },
     "metadata": {
      "needs_background": "light"
     },
     "output_type": "display_data"
    },
    {
     "data": {
      "text/plain": [
       "<AxesSubplot:title={'center':'Features correlation with dependent variable'}, xlabel='Pearson Correlation'>"
      ]
     },
     "execution_count": 79,
     "metadata": {},
     "output_type": "execute_result"
    }
   ],
   "source": [
    "# Popularity - by cheking feature correlation \n",
    "import warnings\n",
    "warnings.simplefilter(\"ignore\")\n",
    "from yellowbrick.target import FeatureCorrelation #pip install yellowbrick\n",
    "\"\"\"\n",
    "This visualizer calculates Pearson correlation coefficients and mutual information between features and the dependent variable. \n",
    "This visualization can be used in feature selection to identify features with high correlation or large mutual information with the dependent variable.\n",
    "\"\"\"\n",
    "feature_names = ['acousticness', \n",
    "                'danceability', \n",
    "                'energy', \n",
    "                'instrumentalness',\n",
    "                'liveness', \n",
    "                'loudness', \n",
    "                'speechiness', \n",
    "                'tempo', \n",
    "                'valence',\n",
    "                'duration_ms',\n",
    "                'explicit',\n",
    "                'key',\n",
    "                'mode',\n",
    "                'year']\n",
    "\n",
    "X, y = general_data[feature_names], general_data['popularity']\n",
    "\n",
    "# place the feature names in an array\n",
    "features = np.array(feature_names)\n",
    "\n",
    "# Show me the data!\n",
    "visualizer = FeatureCorrelation(labels = features)\n",
    "\n",
    "plt.rcParams['figure.figsize'] = (20,20)\n",
    "visualizer.fit(X,y) \n",
    "visualizer.show()\n"
   ]
  },
  {
   "cell_type": "code",
   "execution_count": 80,
   "metadata": {},
   "outputs": [
    {
     "data": {
      "text/plain": [
       "<AxesSubplot:xlabel='decade', ylabel='count'>"
      ]
     },
     "execution_count": 80,
     "metadata": {},
     "output_type": "execute_result"
    },
    {
     "data": {
      "image/png": "[encoded data removed]",
      "text/plain": [
       "<Figure size 792x432 with 1 Axes>"
      ]
     },
     "metadata": {},
     "output_type": "display_data"
    }
   ],
   "source": [
    "# Music over the years\n",
    "def get_decade(year):\n",
    "    period_start = int(year/10)*10\n",
    "    decade = '{}s'.format(period_start)\n",
    "    return decade\n",
    "\n",
    "general_data['decade'] = general_data['year'].apply(get_decade)\n",
    "\n",
    "sns.set(rc = {'figure.figsize':(11,6)})\n",
    "sns.countplot(general_data['decade'])"
   ]
  },
  {
   "cell_type": "code",
   "execution_count": 81,
   "metadata": {},
   "outputs": [
    {
     "data": {
      "application/vnd.plotly.v1+json": {
       "config": {
        "plotlyServerURL": "https://plot.ly"
       },
       "data": [
        {
         "hovertemplate": "variable=acousticness<br>year=%{x}<br>value=%{y}<extra></extra>",
         "legendgroup": "acousticness",
         "line": {
          "color": "#636efa",
          "dash": "solid"
         },
         "marker": {
          "symbol": "circle"
         },
         "mode": "lines",
         "name": "acousticness",
         "orientation": "v",
         "showlegend": true,
         "type": "scatter",
         "x": [
          1921,
          1922,
          1923,
          1924,
          1925,
          1926,
          1927,
          1928,
          1929,
          1930,
          1931,
          1932,
          1933,
          1934,
          1935,
          1936,
          1937,
          1938,
          1939,
          1940,
          1941,
          1942,
          1943,
          1944,
          1945,
          1946,
          1947,
          1948,
          1949,
          1950,
          1951,
          1952,
          1953,
          1954,
          1955,
          1956,
          1957,
          1958,
          1959,
          1960,
          1961,
          1962,
          1963,
          1964,
          1965,
          1966,
          1967,
          1968,
          1969,
          1970,
          1971,
          1972,
          1973,
          1974,
          1975,
          1976,
          1977,
          1978,
          1979,
          1980,
          1981,
          1982,
          1983,
          1984,
          1985,
          1986,
          1987,
          1988,
          1989,
          1990,
          1991,
          1992,
          1993,
          1994,
          1995,
          1996,
          1997,
          1998,
          1999,
          2000,
          2001,
          2002,
          2003,
          2004,
          2005,
          2006,
          2007,
          2008,
          2009,
          2010,
          2011,
          2012,
          2013,
          2014,
          2015,
          2016,
          2017,
          2018,
          2019,
          2020
         ],
         "xaxis": "x",
         "y": [
          0.8868960000000005,
          0.9385915492957748,
          0.9572467913513516,
          0.940199860169493,
          0.9626070503597138,
          0.660817216981134,
          0.9361794552845558,
          0.9386165035685952,
          0.6014265861344558,
          0.936714937370057,
          0.8330399585921336,
          0.9357705179282878,
          0.899897909117222,
          0.8911487501730107,
          0.7783855599472987,
          0.7723120800000008,
          0.8654357853881286,
          0.9192803908646014,
          0.9087381000000004,
          0.8476440499999951,
          0.8957376562500025,
          0.8529343703923857,
          0.9027523185915528,
          0.9076531914893636,
          0.7096568630000005,
          0.9199445823665852,
          0.9139650224242392,
          0.9221549999999956,
          0.9075328949999956,
          0.8539413005999965,
          0.9022971956499974,
          0.8743009244999965,
          0.8909223502564074,
          0.8650197272999992,
          0.8405510069999986,
          0.8230569899999975,
          0.7928023589743608,
          0.7796118650000005,
          0.7793927897435907,
          0.7671814843243259,
          0.7519038684210535,
          0.720607806842106,
          0.7227048300000004,
          0.6941005307692291,
          0.6099113295384619,
          0.5248094599699997,
          0.5296103243521767,
          0.4937702403500001,
          0.4488463039999994,
          0.4600571139500007,
          0.4583362981000009,
          0.4600428051999994,
          0.4165241889999992,
          0.4472074226000001,
          0.4337738871950005,
          0.3614706321099993,
          0.3393025333750004,
          0.3289685734499993,
          0.29593224063,
          0.284955397635897,
          0.3012042267400006,
          0.2895800382050001,
          0.2947778916300001,
          0.2877095803450008,
          0.2965709032099995,
          0.2850806564249999,
          0.3116640663948722,
          0.322009946512821,
          0.3133512518150009,
          0.3328699505850001,
          0.3327652916307699,
          0.3208087638250009,
          0.3090685537400004,
          0.3062343630899999,
          0.3025118061200004,
          0.3010268798000006,
          0.3067156934549995,
          0.2914894615700001,
          0.2715901110661201,
          0.2893227005163599,
          0.2868424748428934,
          0.282624289885001,
          0.2564705181729783,
          0.2805589466225845,
          0.2557635068666665,
          0.2799863520256408,
          0.2540809575538463,
          0.2491917627212275,
          0.261928619096939,
          0.2426866435515872,
          0.2731826625185919,
          0.2499530443804624,
          0.2574880859564779,
          0.249312645880299,
          0.2539522577102332,
          0.2841710299554814,
          0.2860990665261043,
          0.2676329907750836,
          0.2782985863365824,
          0.2199308880935964
         ],
         "yaxis": "y"
        },
        {
         "hovertemplate": "variable=danceability<br>year=%{x}<br>value=%{y}<extra></extra>",
         "legendgroup": "danceability",
         "line": {
          "color": "#EF553B",
          "dash": "solid"
         },
         "marker": {
          "symbol": "circle"
         },
         "mode": "lines",
         "name": "danceability",
         "orientation": "v",
         "showlegend": true,
         "type": "scatter",
         "x": [
          1921,
          1922,
          1923,
          1924,
          1925,
          1926,
          1927,
          1928,
          1929,
          1930,
          1931,
          1932,
          1933,
          1934,
          1935,
          1936,
          1937,
          1938,
          1939,
          1940,
          1941,
          1942,
          1943,
          1944,
          1945,
          1946,
          1947,
          1948,
          1949,
          1950,
          1951,
          1952,
          1953,
          1954,
          1955,
          1956,
          1957,
          1958,
          1959,
          1960,
          1961,
          1962,
          1963,
          1964,
          1965,
          1966,
          1967,
          1968,
          1969,
          1970,
          1971,
          1972,
          1973,
          1974,
          1975,
          1976,
          1977,
          1978,
          1979,
          1980,
          1981,
          1982,
          1983,
          1984,
          1985,
          1986,
          1987,
          1988,
          1989,
          1990,
          1991,
          1992,
          1993,
          1994,
          1995,
          1996,
          1997,
          1998,
          1999,
          2000,
          2001,
          2002,
          2003,
          2004,
          2005,
          2006,
          2007,
          2008,
          2009,
          2010,
          2011,
          2012,
          2013,
          2014,
          2015,
          2016,
          2017,
          2018,
          2019,
          2020
         ],
         "xaxis": "x",
         "y": [
          0.4185973333333336,
          0.4820422535211267,
          0.5773405405405401,
          0.5498940677966102,
          0.5738633093525181,
          0.5998802612481859,
          0.6482682926829262,
          0.5342878667724027,
          0.6476698529411761,
          0.5181758835758836,
          0.5952217391304357,
          0.5577976095617526,
          0.57029030390738,
          0.528705882352941,
          0.5558691699604746,
          0.5580055454545453,
          0.5421572298325723,
          0.479977977161501,
          0.5126828,
          0.52189235,
          0.4804813541666676,
          0.4646338882282997,
          0.4551456338028168,
          0.5001744680851068,
          0.5191431500000011,
          0.4144450116009276,
          0.4713208484848491,
          0.4633694736842109,
          0.4421993999999996,
          0.5042531000000008,
          0.4624800999999999,
          0.4570322000000001,
          0.4374260512820513,
          0.4656388999999994,
          0.4881312,
          0.4878145000000007,
          0.5034812307692305,
          0.4800213999999995,
          0.4821143076923083,
          0.4860292432432435,
          0.4891655789473678,
          0.4931643684210523,
          0.48162135,
          0.5041769743589742,
          0.5034505641025638,
          0.5070204999999981,
          0.4926885942971483,
          0.5010080999999997,
          0.4880977999999999,
          0.5063075000000004,
          0.5042738499999999,
          0.5209994499999997,
          0.5154494500000005,
          0.51533975,
          0.5209980000000007,
          0.5297624999999999,
          0.5333237000000017,
          0.5407746000000005,
          0.5620453000000001,
          0.5561523589743594,
          0.5421846999999999,
          0.5642594000000005,
          0.5456292999999998,
          0.5303089499999987,
          0.5556424000000012,
          0.5409334000000001,
          0.5410193333333342,
          0.5404594358974372,
          0.5472274499999988,
          0.5352986500000001,
          0.5558243589743591,
          0.5550648499999989,
          0.5698781500000001,
          0.5528299500000016,
          0.5590457500000001,
          0.5878306000000001,
          0.5768138499999994,
          0.5862116499999998,
          0.5821579190158892,
          0.590918047034764,
          0.5833178553615969,
          0.5761602999999997,
          0.5757633060388944,
          0.5676803662258397,
          0.5722805641025652,
          0.5682301538461539,
          0.5634143589743592,
          0.5791928388746803,
          0.5641903571428577,
          0.5724883432539687,
          0.5528669806643526,
          0.5708818508997433,
          0.5711480263157896,
          0.5899476807980057,
          0.5937740628166152,
          0.6002023928770179,
          0.6122170180722886,
          0.6635004755111744,
          0.6448141097998967,
          0.6929043349753701
         ],
         "yaxis": "y"
        },
        {
         "hovertemplate": "variable=energy<br>year=%{x}<br>value=%{y}<extra></extra>",
         "legendgroup": "energy",
         "line": {
          "color": "#00cc96",
          "dash": "solid"
         },
         "marker": {
          "symbol": "circle"
         },
         "mode": "lines",
         "name": "energy",
         "orientation": "v",
         "showlegend": true,
         "type": "scatter",
         "x": [
          1921,
          1922,
          1923,
          1924,
          1925,
          1926,
          1927,
          1928,
          1929,
          1930,
          1931,
          1932,
          1933,
          1934,
          1935,
          1936,
          1937,
          1938,
          1939,
          1940,
          1941,
          1942,
          1943,
          1944,
          1945,
          1946,
          1947,
          1948,
          1949,
          1950,
          1951,
          1952,
          1953,
          1954,
          1955,
          1956,
          1957,
          1958,
          1959,
          1960,
          1961,
          1962,
          1963,
          1964,
          1965,
          1966,
          1967,
          1968,
          1969,
          1970,
          1971,
          1972,
          1973,
          1974,
          1975,
          1976,
          1977,
          1978,
          1979,
          1980,
          1981,
          1982,
          1983,
          1984,
          1985,
          1986,
          1987,
          1988,
          1989,
          1990,
          1991,
          1992,
          1993,
          1994,
          1995,
          1996,
          1997,
          1998,
          1999,
          2000,
          2001,
          2002,
          2003,
          2004,
          2005,
          2006,
          2007,
          2008,
          2009,
          2010,
          2011,
          2012,
          2013,
          2014,
          2015,
          2016,
          2017,
          2018,
          2019,
          2020
         ],
         "xaxis": "x",
         "y": [
          0.2318151333333333,
          0.2378153521126759,
          0.2624064864864865,
          0.3443466101694912,
          0.2785935251798561,
          0.2114670907111756,
          0.2643213008130081,
          0.2079477954004757,
          0.2418007352941172,
          0.3335239189189189,
          0.2344967732919257,
          0.3020677290836656,
          0.2798994211287988,
          0.2621313148788928,
          0.2463669762845848,
          0.3083886092727274,
          0.3110482952815827,
          0.2809812398042416,
          0.2826715000000002,
          0.3108928949999999,
          0.2656431979166666,
          0.2560794708680144,
          0.2799900422535211,
          0.2534414494680852,
          0.2260444155,
          0.2221723085846866,
          0.2635512000000002,
          0.242464841052632,
          0.2461146149999996,
          0.3140711950000003,
          0.254665655,
          0.2536260100000002,
          0.2661968307692306,
          0.264347385,
          0.2950963400000001,
          0.3047611200000001,
          0.2952791333333324,
          0.3087957550000006,
          0.3109944051282049,
          0.3411423783783781,
          0.3395318673684203,
          0.3710257,
          0.3653538849999999,
          0.394438825641026,
          0.4490272461538461,
          0.482208465,
          0.4468238319159585,
          0.4569696500000004,
          0.4876251299999994,
          0.495633050000001,
          0.4963612550000003,
          0.5045261799999999,
          0.5361382499999989,
          0.5147236550000011,
          0.5232085050000003,
          0.5538432500000001,
          0.560287959000001,
          0.5614288650000007,
          0.5910127149999996,
          0.5977773948717964,
          0.5993827249999998,
          0.5909193894999996,
          0.6014252350000012,
          0.5910916750000013,
          0.6015154800000013,
          0.6149545999999998,
          0.5798395538461533,
          0.5856792461538458,
          0.584046375000001,
          0.5715913950000007,
          0.5594023641025635,
          0.5828642050000001,
          0.5625599100000002,
          0.578772685000001,
          0.5785795100000009,
          0.5860684750000011,
          0.5986987151000001,
          0.6051975050000015,
          0.6375226022552535,
          0.6254128323108387,
          0.6269855221945144,
          0.6412697960000012,
          0.6601652610030712,
          0.6488679450661226,
          0.653208511282051,
          0.6503262820512825,
          0.6683047743589737,
          0.6714608207672623,
          0.6707487551020408,
          0.6817778026289684,
          0.6483008934060499,
          0.6565714601542408,
          0.6455968914473688,
          0.6487954437905223,
          0.6270642715298895,
          0.5928552316082347,
          0.5904210208835337,
          0.6024346220161672,
          0.5932240360184717,
          0.6312316354679793
         ],
         "yaxis": "y"
        },
        {
         "hovertemplate": "variable=instrumentalness<br>year=%{x}<br>value=%{y}<extra></extra>",
         "legendgroup": "instrumentalness",
         "line": {
          "color": "#ab63fa",
          "dash": "solid"
         },
         "marker": {
          "symbol": "circle"
         },
         "mode": "lines",
         "name": "instrumentalness",
         "orientation": "v",
         "showlegend": true,
         "type": "scatter",
         "x": [
          1921,
          1922,
          1923,
          1924,
          1925,
          1926,
          1927,
          1928,
          1929,
          1930,
          1931,
          1932,
          1933,
          1934,
          1935,
          1936,
          1937,
          1938,
          1939,
          1940,
          1941,
          1942,
          1943,
          1944,
          1945,
          1946,
          1947,
          1948,
          1949,
          1950,
          1951,
          1952,
          1953,
          1954,
          1955,
          1956,
          1957,
          1958,
          1959,
          1960,
          1961,
          1962,
          1963,
          1964,
          1965,
          1966,
          1967,
          1968,
          1969,
          1970,
          1971,
          1972,
          1973,
          1974,
          1975,
          1976,
          1977,
          1978,
          1979,
          1980,
          1981,
          1982,
          1983,
          1984,
          1985,
          1986,
          1987,
          1988,
          1989,
          1990,
          1991,
          1992,
          1993,
          1994,
          1995,
          1996,
          1997,
          1998,
          1999,
          2000,
          2001,
          2002,
          2003,
          2004,
          2005,
          2006,
          2007,
          2008,
          2009,
          2010,
          2011,
          2012,
          2013,
          2014,
          2015,
          2016,
          2017,
          2018,
          2019,
          2020
         ],
         "xaxis": "x",
         "y": [
          0.3448780588666665,
          0.4341948697183099,
          0.371732725027027,
          0.5817009136440677,
          0.4182973612230215,
          0.3330931111175616,
          0.3913284986504065,
          0.4948354801348136,
          0.2152040310609246,
          0.3522059281652805,
          0.2214196416149072,
          0.2263565791633467,
          0.1839489396816208,
          0.276382266643599,
          0.2258732980895915,
          0.2571099957181816,
          0.3270876216438359,
          0.3784246349265906,
          0.2776824694100001,
          0.3168486998649998,
          0.4449516393124999,
          0.392882047871581,
          0.4098969234647892,
          0.4492919654122334,
          0.2758942570149996,
          0.4861264096461711,
          0.3475934179090908,
          0.3554848223842104,
          0.2977615361899994,
          0.245000820015,
          0.3084378555850002,
          0.2884126469300002,
          0.3183223943230766,
          0.2974400082799999,
          0.2166044216900002,
          0.2387634177800001,
          0.1945206161692309,
          0.1812411100599998,
          0.1881481940615383,
          0.1765021594216216,
          0.2646232531421054,
          0.1714715509421054,
          0.18543231468,
          0.1595978017794872,
          0.1183659460923078,
          0.1151259555649999,
          0.1189468546723362,
          0.112776949285,
          0.1594527081650001,
          0.1275670030849998,
          0.12501788923,
          0.1148803337599997,
          0.0996802232299999,
          0.11636098351,
          0.1113220337449999,
          0.12162904398,
          0.1277210319449999,
          0.1003812145099999,
          0.1157513720150001,
          0.1287510612717948,
          0.1468379466199998,
          0.100016383,
          0.1454105232900004,
          0.1451730397350004,
          0.1137385580749998,
          0.1099408543649999,
          0.1019745174666666,
          0.117190380220513,
          0.1131825446149999,
          0.1258262680949997,
          0.1150923397999999,
          0.1006900830649998,
          0.11529396538,
          0.1118857599499999,
          0.1232687960699999,
          0.0950528120350001,
          0.1046901786199999,
          0.1113257503499999,
          0.0940681410661199,
          0.1011677687934559,
          0.1072140189925186,
          0.0880483503149999,
          0.0830492746673491,
          0.0779340349084435,
          0.0901943611846154,
          0.0777014718769231,
          0.0729572680512819,
          0.0636620903171356,
          0.0758720736836735,
          0.0829805682192461,
          0.103772332166584,
          0.0852055206786631,
          0.0983650539170038,
          0.0765695548379051,
          0.1067868780547114,
          0.0939843871174179,
          0.0970906090662649,
          0.0542171216690441,
          0.0776402469728064,
          0.0163755243054187
         ],
         "yaxis": "y"
        },
        {
         "hovertemplate": "variable=liveness<br>year=%{x}<br>value=%{y}<extra></extra>",
         "legendgroup": "liveness",
         "line": {
          "color": "#FFA15A",
          "dash": "solid"
         },
         "marker": {
          "symbol": "circle"
         },
         "mode": "lines",
         "name": "liveness",
         "orientation": "v",
         "showlegend": true,
         "type": "scatter",
         "x": [
          1921,
          1922,
          1923,
          1924,
          1925,
          1926,
          1927,
          1928,
          1929,
          1930,
          1931,
          1932,
          1933,
          1934,
          1935,
          1936,
          1937,
          1938,
          1939,
          1940,
          1941,
          1942,
          1943,
          1944,
          1945,
          1946,
          1947,
          1948,
          1949,
          1950,
          1951,
          1952,
          1953,
          1954,
          1955,
          1956,
          1957,
          1958,
          1959,
          1960,
          1961,
          1962,
          1963,
          1964,
          1965,
          1966,
          1967,
          1968,
          1969,
          1970,
          1971,
          1972,
          1973,
          1974,
          1975,
          1976,
          1977,
          1978,
          1979,
          1980,
          1981,
          1982,
          1983,
          1984,
          1985,
          1986,
          1987,
          1988,
          1989,
          1990,
          1991,
          1992,
          1993,
          1994,
          1995,
          1996,
          1997,
          1998,
          1999,
          2000,
          2001,
          2002,
          2003,
          2004,
          2005,
          2006,
          2007,
          2008,
          2009,
          2010,
          2011,
          2012,
          2013,
          2014,
          2015,
          2016,
          2017,
          2018,
          2019,
          2020
         ],
         "xaxis": "x",
         "y": [
          0.20571,
          0.2407197183098592,
          0.2274621621621621,
          0.2352190677966101,
          0.2376679856115108,
          0.2323695936139332,
          0.1684502439024389,
          0.1752893735130848,
          0.2360002100840333,
          0.2213108627858629,
          0.2274279503105589,
          0.2324962151394422,
          0.2090719247467437,
          0.2134525951557092,
          0.2292998682476943,
          0.2214382727272726,
          0.2259677321156773,
          0.237111092985318,
          0.2391015999999999,
          0.2643351000000004,
          0.2018398958333331,
          0.2128784185493456,
          0.2392107042253524,
          0.2387719414893616,
          0.2030099500000001,
          0.2108183294663576,
          0.2238293939393936,
          0.2196935789473678,
          0.2088585500000004,
          0.2169584000000004,
          0.2177773999999999,
          0.2329722999999998,
          0.221734051282051,
          0.2178411499999996,
          0.2214353500000001,
          0.1822571500000002,
          0.1827485641025636,
          0.2058408500000003,
          0.1918429230769232,
          0.2078637297297298,
          0.2089125789473681,
          0.2018957368421054,
          0.2037453000000002,
          0.2172323589743596,
          0.2138391282051284,
          0.2180930999999999,
          0.190917658829415,
          0.2173509500000005,
          0.2069658999999999,
          0.2122688000000002,
          0.2149145500000001,
          0.2069549500000001,
          0.2013747499999997,
          0.2093463499999996,
          0.2154413500000002,
          0.2490321999999999,
          0.2232140500000004,
          0.2180709499999994,
          0.2134431000000002,
          0.2037541025641026,
          0.2250998999999999,
          0.20100675,
          0.1989224500000002,
          0.1977062,
          0.1992064499999998,
          0.2118794500000001,
          0.202018102564103,
          0.207707538461538,
          0.1990802,
          0.1909609,
          0.1886289230769235,
          0.2002455000000007,
          0.1949322500000003,
          0.1921651000000001,
          0.2013737000000004,
          0.1986863000000002,
          0.1984788000000003,
          0.1937308999999996,
          0.206308047155305,
          0.1976860429447853,
          0.1870256359102248,
          0.1939111999999998,
          0.196976305015353,
          0.2021994404883014,
          0.1900816256410258,
          0.1882892820512821,
          0.1961265641025642,
          0.1984314066496162,
          0.2052522959183674,
          0.1997006448412699,
          0.2033088249876056,
          0.1897330077120824,
          0.1996308198380571,
          0.1918215960099752,
          0.1888564336372847,
          0.181169894268225,
          0.1917126004016064,
          0.1763255349500711,
          0.1726164186762446,
          0.1785354187192117
         ],
         "yaxis": "y"
        },
        {
         "hovertemplate": "variable=valence<br>year=%{x}<br>value=%{y}<extra></extra>",
         "legendgroup": "valence",
         "line": {
          "color": "#19d3f3",
          "dash": "solid"
         },
         "marker": {
          "symbol": "circle"
         },
         "mode": "lines",
         "name": "valence",
         "orientation": "v",
         "showlegend": true,
         "type": "scatter",
         "x": [
          1921,
          1922,
          1923,
          1924,
          1925,
          1926,
          1927,
          1928,
          1929,
          1930,
          1931,
          1932,
          1933,
          1934,
          1935,
          1936,
          1937,
          1938,
          1939,
          1940,
          1941,
          1942,
          1943,
          1944,
          1945,
          1946,
          1947,
          1948,
          1949,
          1950,
          1951,
          1952,
          1953,
          1954,
          1955,
          1956,
          1957,
          1958,
          1959,
          1960,
          1961,
          1962,
          1963,
          1964,
          1965,
          1966,
          1967,
          1968,
          1969,
          1970,
          1971,
          1972,
          1973,
          1974,
          1975,
          1976,
          1977,
          1978,
          1979,
          1980,
          1981,
          1982,
          1983,
          1984,
          1985,
          1986,
          1987,
          1988,
          1989,
          1990,
          1991,
          1992,
          1993,
          1994,
          1995,
          1996,
          1997,
          1998,
          1999,
          2000,
          2001,
          2002,
          2003,
          2004,
          2005,
          2006,
          2007,
          2008,
          2009,
          2010,
          2011,
          2012,
          2013,
          2014,
          2015,
          2016,
          2017,
          2018,
          2019,
          2020
         ],
         "xaxis": "x",
         "y": [
          0.3793266666666666,
          0.5355492957746479,
          0.6254924324324328,
          0.6637254237288139,
          0.6219287769784171,
          0.4369104571843251,
          0.6597004878048782,
          0.4957126883425853,
          0.6365298319327733,
          0.6162376299376306,
          0.5131170807453418,
          0.5881599601593626,
          0.5994099855282197,
          0.5588046712802772,
          0.5455777997364957,
          0.5640635454545455,
          0.5857894977168944,
          0.5149111092985317,
          0.5599248999999992,
          0.6167094700000009,
          0.4794560416666661,
          0.4774088585017848,
          0.4954545070422531,
          0.5406954787234041,
          0.4913613500000002,
          0.3982538283062647,
          0.5082125454545455,
          0.4621423684210526,
          0.4304195000000001,
          0.5516497000000001,
          0.44134755,
          0.4431349620499994,
          0.4291420512820513,
          0.4523410500000002,
          0.4724154999999997,
          0.5084230500000003,
          0.5110101538461542,
          0.4976614999999994,
          0.4784156410256422,
          0.5239316756756759,
          0.5128512105263155,
          0.5477920526315792,
          0.5415274500000008,
          0.55726042051282,
          0.5809506666666668,
          0.5801445499999996,
          0.5507916958479243,
          0.5659936500000002,
          0.5547452849999999,
          0.5720753999999992,
          0.5749132500000002,
          0.5956881500000009,
          0.5921162000000004,
          0.5812744000000009,
          0.5694151500000002,
          0.5807332499999998,
          0.58524655,
          0.5895352500000014,
          0.6099818000000005,
          0.5980580512820513,
          0.5829518500000006,
          0.5864384500000001,
          0.5721198999999989,
          0.5516387100000003,
          0.5655964500000001,
          0.5509485500000019,
          0.5414511794871785,
          0.5464853897435901,
          0.5483329000000007,
          0.5265268499999999,
          0.5486552307692295,
          0.5590983000000014,
          0.5555684500000001,
          0.5266491500000006,
          0.5302466999999994,
          0.5608732500000001,
          0.5485525000000002,
          0.5377209,
          0.5564528446950284,
          0.5594754601226991,
          0.541479107231919,
          0.5423971500000008,
          0.5305042476970324,
          0.5244885554425227,
          0.5325309230769236,
          0.5200283076923078,
          0.5167938461538473,
          0.5275418925831203,
          0.5071696617346935,
          0.5208951587301589,
          0.4724536787307882,
          0.4627090128534706,
          0.4547411943319834,
          0.4630487780548628,
          0.4320983687943254,
          0.4315320589872012,
          0.4164763112449793,
          0.4479212743699474,
          0.4588176295536167,
          0.5010478078817729
         ],
         "yaxis": "y"
        }
       ],
       "layout": {
        "legend": {
         "title": {
          "text": "variable"
         },
         "tracegroupgap": 0
        },
        "margin": {
         "t": 60
        },
        "template": {
         "data": {
          "bar": [
           {
            "error_x": {
             "color": "#2a3f5f"
            },
            "error_y": {
             "color": "#2a3f5f"
            },
            "marker": {
             "line": {
              "color": "#E5ECF6",
              "width": 0.5
             },
             "pattern": {
              "fillmode": "overlay",
              "size": 10,
              "solidity": 0.2
             }
            },
            "type": "bar"
           }
          ],
          "barpolar": [
           {
            "marker": {
             "line": {
              "color": "#E5ECF6",
              "width": 0.5
             },
             "pattern": {
              "fillmode": "overlay",
              "size": 10,
              "solidity": 0.2
             }
            },
            "type": "barpolar"
           }
          ],
          "carpet": [
           {
            "aaxis": {
             "endlinecolor": "#2a3f5f",
             "gridcolor": "white",
             "linecolor": "white",
             "minorgridcolor": "white",
             "startlinecolor": "#2a3f5f"
            },
            "baxis": {
             "endlinecolor": "#2a3f5f",
             "gridcolor": "white",
             "linecolor": "white",
             "minorgridcolor": "white",
             "startlinecolor": "#2a3f5f"
            },
            "type": "carpet"
           }
          ],
          "choropleth": [
           {
            "colorbar": {
             "outlinewidth": 0,
             "ticks": ""
            },
            "type": "choropleth"
           }
          ],
          "contour": [
           {
            "colorbar": {
             "outlinewidth": 0,
             "ticks": ""
            },
            "colorscale": [
             [
              0,
              "#0d0887"
             ],
             [
              0.1111111111111111,
              "#46039f"
             ],
             [
              0.2222222222222222,
              "#7201a8"
             ],
             [
              0.3333333333333333,
              "#9c179e"
             ],
             [
              0.4444444444444444,
              "#bd3786"
             ],
             [
              0.5555555555555556,
              "#d8576b"
             ],
             [
              0.6666666666666666,
              "#ed7953"
             ],
             [
              0.7777777777777778,
              "#fb9f3a"
             ],
             [
              0.8888888888888888,
              "#fdca26"
             ],
             [
              1,
              "#f0f921"
             ]
            ],
            "type": "contour"
           }
          ],
          "contourcarpet": [
           {
            "colorbar": {
             "outlinewidth": 0,
             "ticks": ""
            },
            "type": "contourcarpet"
           }
          ],
          "heatmap": [
           {
            "colorbar": {
             "outlinewidth": 0,
             "ticks": ""
            },
            "colorscale": [
             [
              0,
              "#0d0887"
             ],
             [
              0.1111111111111111,
              "#46039f"
             ],
             [
              0.2222222222222222,
              "#7201a8"
             ],
             [
              0.3333333333333333,
              "#9c179e"
             ],
             [
              0.4444444444444444,
              "#bd3786"
             ],
             [
              0.5555555555555556,
              "#d8576b"
             ],
             [
              0.6666666666666666,
              "#ed7953"
             ],
             [
              0.7777777777777778,
              "#fb9f3a"
             ],
             [
              0.8888888888888888,
              "#fdca26"
             ],
             [
              1,
              "#f0f921"
             ]
            ],
            "type": "heatmap"
           }
          ],
          "heatmapgl": [
           {
            "colorbar": {
             "outlinewidth": 0,
             "ticks": ""
            },
            "colorscale": [
             [
              0,
              "#0d0887"
             ],
             [
              0.1111111111111111,
              "#46039f"
             ],
             [
              0.2222222222222222,
              "#7201a8"
             ],
             [
              0.3333333333333333,
              "#9c179e"
             ],
             [
              0.4444444444444444,
              "#bd3786"
             ],
             [
              0.5555555555555556,
              "#d8576b"
             ],
             [
              0.6666666666666666,
              "#ed7953"
             ],
             [
              0.7777777777777778,
              "#fb9f3a"
             ],
             [
              0.8888888888888888,
              "#fdca26"
             ],
             [
              1,
              "#f0f921"
             ]
            ],
            "type": "heatmapgl"
           }
          ],
          "histogram": [
           {
            "marker": {
             "pattern": {
              "fillmode": "overlay",
              "size": 10,
              "solidity": 0.2
             }
            },
            "type": "histogram"
           }
          ],
          "histogram2d": [
           {
            "colorbar": {
             "outlinewidth": 0,
             "ticks": ""
            },
            "colorscale": [
             [
              0,
              "#0d0887"
             ],
             [
              0.1111111111111111,
              "#46039f"
             ],
             [
              0.2222222222222222,
              "#7201a8"
             ],
             [
              0.3333333333333333,
              "#9c179e"
             ],
             [
              0.4444444444444444,
              "#bd3786"
             ],
             [
              0.5555555555555556,
              "#d8576b"
             ],
             [
              0.6666666666666666,
              "#ed7953"
             ],
             [
              0.7777777777777778,
              "#fb9f3a"
             ],
             [
              0.8888888888888888,
              "#fdca26"
             ],
             [
              1,
              "#f0f921"
             ]
            ],
            "type": "histogram2d"
           }
          ],
          "histogram2dcontour": [
           {
            "colorbar": {
             "outlinewidth": 0,
             "ticks": ""
            },
            "colorscale": [
             [
              0,
              "#0d0887"
             ],
             [
              0.1111111111111111,
              "#46039f"
             ],
             [
              0.2222222222222222,
              "#7201a8"
             ],
             [
              0.3333333333333333,
              "#9c179e"
             ],
             [
              0.4444444444444444,
              "#bd3786"
             ],
             [
              0.5555555555555556,
              "#d8576b"
             ],
             [
              0.6666666666666666,
              "#ed7953"
             ],
             [
              0.7777777777777778,
              "#fb9f3a"
             ],
             [
              0.8888888888888888,
              "#fdca26"
             ],
             [
              1,
              "#f0f921"
             ]
            ],
            "type": "histogram2dcontour"
           }
          ],
          "mesh3d": [
           {
            "colorbar": {
             "outlinewidth": 0,
             "ticks": ""
            },
            "type": "mesh3d"
           }
          ],
          "parcoords": [
           {
            "line": {
             "colorbar": {
              "outlinewidth": 0,
              "ticks": ""
             }
            },
            "type": "parcoords"
           }
          ],
          "pie": [
           {
            "automargin": true,
            "type": "pie"
           }
          ],
          "scatter": [
           {
            "marker": {
             "colorbar": {
              "outlinewidth": 0,
              "ticks": ""
             }
            },
            "type": "scatter"
           }
          ],
          "scatter3d": [
           {
            "line": {
             "colorbar": {
              "outlinewidth": 0,
              "ticks": ""
             }
            },
            "marker": {
             "colorbar": {
              "outlinewidth": 0,
              "ticks": ""
             }
            },
            "type": "scatter3d"
           }
          ],
          "scattercarpet": [
           {
            "marker": {
             "colorbar": {
              "outlinewidth": 0,
              "ticks": ""
             }
            },
            "type": "scattercarpet"
           }
          ],
          "scattergeo": [
           {
            "marker": {
             "colorbar": {
              "outlinewidth": 0,
              "ticks": ""
             }
            },
            "type": "scattergeo"
           }
          ],
          "scattergl": [
           {
            "marker": {
             "colorbar": {
              "outlinewidth": 0,
              "ticks": ""
             }
            },
            "type": "scattergl"
           }
          ],
          "scattermapbox": [
           {
            "marker": {
             "colorbar": {
              "outlinewidth": 0,
              "ticks": ""
             }
            },
            "type": "scattermapbox"
           }
          ],
          "scatterpolar": [
           {
            "marker": {
             "colorbar": {
              "outlinewidth": 0,
              "ticks": ""
             }
            },
            "type": "scatterpolar"
           }
          ],
          "scatterpolargl": [
           {
            "marker": {
             "colorbar": {
              "outlinewidth": 0,
              "ticks": ""
             }
            },
            "type": "scatterpolargl"
           }
          ],
          "scatterternary": [
           {
            "marker": {
             "colorbar": {
              "outlinewidth": 0,
              "ticks": ""
             }
            },
            "type": "scatterternary"
           }
          ],
          "surface": [
           {
            "colorbar": {
             "outlinewidth": 0,
             "ticks": ""
            },
            "colorscale": [
             [
              0,
              "#0d0887"
             ],
             [
              0.1111111111111111,
              "#46039f"
             ],
             [
              0.2222222222222222,
              "#7201a8"
             ],
             [
              0.3333333333333333,
              "#9c179e"
             ],
             [
              0.4444444444444444,
              "#bd3786"
             ],
             [
              0.5555555555555556,
              "#d8576b"
             ],
             [
              0.6666666666666666,
              "#ed7953"
             ],
             [
              0.7777777777777778,
              "#fb9f3a"
             ],
             [
              0.8888888888888888,
              "#fdca26"
             ],
             [
              1,
              "#f0f921"
             ]
            ],
            "type": "surface"
           }
          ],
          "table": [
           {
            "cells": {
             "fill": {
              "color": "#EBF0F8"
             },
             "line": {
              "color": "white"
             }
            },
            "header": {
             "fill": {
              "color": "#C8D4E3"
             },
             "line": {
              "color": "white"
             }
            },
            "type": "table"
           }
          ]
         },
         "layout": {
          "annotationdefaults": {
           "arrowcolor": "#2a3f5f",
           "arrowhead": 0,
           "arrowwidth": 1
          },
          "autotypenumbers": "strict",
          "coloraxis": {
           "colorbar": {
            "outlinewidth": 0,
            "ticks": ""
           }
          },
          "colorscale": {
           "diverging": [
            [
             0,
             "#8e0152"
            ],
            [
             0.1,
             "#c51b7d"
            ],
            [
             0.2,
             "#de77ae"
            ],
            [
             0.3,
             "#f1b6da"
            ],
            [
             0.4,
             "#fde0ef"
            ],
            [
             0.5,
             "#f7f7f7"
            ],
            [
             0.6,
             "#e6f5d0"
            ],
            [
             0.7,
             "#b8e186"
            ],
            [
             0.8,
             "#7fbc41"
            ],
            [
             0.9,
             "#4d9221"
            ],
            [
             1,
             "#276419"
            ]
           ],
           "sequential": [
            [
             0,
             "#0d0887"
            ],
            [
             0.1111111111111111,
             "#46039f"
            ],
            [
             0.2222222222222222,
             "#7201a8"
            ],
            [
             0.3333333333333333,
             "#9c179e"
            ],
            [
             0.4444444444444444,
             "#bd3786"
            ],
            [
             0.5555555555555556,
             "#d8576b"
            ],
            [
             0.6666666666666666,
             "#ed7953"
            ],
            [
             0.7777777777777778,
             "#fb9f3a"
            ],
            [
             0.8888888888888888,
             "#fdca26"
            ],
            [
             1,
             "#f0f921"
            ]
           ],
           "sequentialminus": [
            [
             0,
             "#0d0887"
            ],
            [
             0.1111111111111111,
             "#46039f"
            ],
            [
             0.2222222222222222,
             "#7201a8"
            ],
            [
             0.3333333333333333,
             "#9c179e"
            ],
            [
             0.4444444444444444,
             "#bd3786"
            ],
            [
             0.5555555555555556,
             "#d8576b"
            ],
            [
             0.6666666666666666,
             "#ed7953"
            ],
            [
             0.7777777777777778,
             "#fb9f3a"
            ],
            [
             0.8888888888888888,
             "#fdca26"
            ],
            [
             1,
             "#f0f921"
            ]
           ]
          },
          "colorway": [
           "#636efa",
           "#EF553B",
           "#00cc96",
           "#ab63fa",
           "#FFA15A",
           "#19d3f3",
           "#FF6692",
           "#B6E880",
           "#FF97FF",
           "#FECB52"
          ],
          "font": {
           "color": "#2a3f5f"
          },
          "geo": {
           "bgcolor": "white",
           "lakecolor": "white",
           "landcolor": "#E5ECF6",
           "showlakes": true,
           "showland": true,
           "subunitcolor": "white"
          },
          "hoverlabel": {
           "align": "left"
          },
          "hovermode": "closest",
          "mapbox": {
           "style": "light"
          },
          "paper_bgcolor": "white",
          "plot_bgcolor": "#E5ECF6",
          "polar": {
           "angularaxis": {
            "gridcolor": "white",
            "linecolor": "white",
            "ticks": ""
           },
           "bgcolor": "#E5ECF6",
           "radialaxis": {
            "gridcolor": "white",
            "linecolor": "white",
            "ticks": ""
           }
          },
          "scene": {
           "xaxis": {
            "backgroundcolor": "#E5ECF6",
            "gridcolor": "white",
            "gridwidth": 2,
            "linecolor": "white",
            "showbackground": true,
            "ticks": "",
            "zerolinecolor": "white"
           },
           "yaxis": {
            "backgroundcolor": "#E5ECF6",
            "gridcolor": "white",
            "gridwidth": 2,
            "linecolor": "white",
            "showbackground": true,
            "ticks": "",
            "zerolinecolor": "white"
           },
           "zaxis": {
            "backgroundcolor": "#E5ECF6",
            "gridcolor": "white",
            "gridwidth": 2,
            "linecolor": "white",
            "showbackground": true,
            "ticks": "",
            "zerolinecolor": "white"
           }
          },
          "shapedefaults": {
           "line": {
            "color": "#2a3f5f"
           }
          },
          "ternary": {
           "aaxis": {
            "gridcolor": "white",
            "linecolor": "white",
            "ticks": ""
           },
           "baxis": {
            "gridcolor": "white",
            "linecolor": "white",
            "ticks": ""
           },
           "bgcolor": "#E5ECF6",
           "caxis": {
            "gridcolor": "white",
            "linecolor": "white",
            "ticks": ""
           }
          },
          "title": {
           "x": 0.05
          },
          "xaxis": {
           "automargin": true,
           "gridcolor": "white",
           "linecolor": "white",
           "ticks": "",
           "title": {
            "standoff": 15
           },
           "zerolinecolor": "white",
           "zerolinewidth": 2
          },
          "yaxis": {
           "automargin": true,
           "gridcolor": "white",
           "linecolor": "white",
           "ticks": "",
           "title": {
            "standoff": 15
           },
           "zerolinecolor": "white",
           "zerolinewidth": 2
          }
         }
        },
        "xaxis": {
         "anchor": "y",
         "domain": [
          0,
          1
         ],
         "title": {
          "text": "year"
         }
        },
        "yaxis": {
         "anchor": "x",
         "domain": [
          0,
          1
         ],
         "title": {
          "text": "value"
         }
        }
       }
      }
     },
     "metadata": {},
     "output_type": "display_data"
    }
   ],
   "source": [
    "sound_features = ['acousticness', \n",
    "                    'danceability', \n",
    "                    'energy', \n",
    "                    'instrumentalness', \n",
    "                    'liveness', \n",
    "                    'valence']\n",
    "fig = px.line(year, x = 'year', y = sound_features)\n",
    "fig.show()"
   ]
  },
  {
   "cell_type": "code",
   "execution_count": 82,
   "metadata": {},
   "outputs": [
    {
     "data": {
      "application/vnd.plotly.v1+json": {
       "config": {
        "plotlyServerURL": "https://plot.ly"
       },
       "data": [
        {
         "alignmentgroup": "True",
         "hovertemplate": "variable=valence<br>genres=%{x}<br>value=%{y}<extra></extra>",
         "legendgroup": "valence",
         "marker": {
          "color": "#636efa",
          "pattern": {
           "shape": ""
          }
         },
         "name": "valence",
         "offsetgroup": "valence",
         "orientation": "v",
         "showlegend": true,
         "textposition": "auto",
         "type": "bar",
         "x": [
          "basshall",
          "south african house",
          "trap venezolano",
          "turkish edm",
          "alberta hip hop",
          "chinese electropop",
          "afroswing",
          "afro soul",
          "circuit",
          "guaracha"
         ],
         "xaxis": "x",
         "y": [
          0.5886666666666667,
          0.8343333333333334,
          0.706,
          0.364,
          0.937,
          0.199,
          0.676625,
          0.743,
          0.556,
          0.556
         ],
         "yaxis": "y"
        },
        {
         "alignmentgroup": "True",
         "hovertemplate": "variable=energy<br>genres=%{x}<br>value=%{y}<extra></extra>",
         "legendgroup": "energy",
         "marker": {
          "color": "#EF553B",
          "pattern": {
           "shape": ""
          }
         },
         "name": "energy",
         "offsetgroup": "energy",
         "orientation": "v",
         "showlegend": true,
         "textposition": "auto",
         "type": "bar",
         "x": [
          "basshall",
          "south african house",
          "trap venezolano",
          "turkish edm",
          "alberta hip hop",
          "chinese electropop",
          "afroswing",
          "afro soul",
          "circuit",
          "guaracha"
         ],
         "xaxis": "x",
         "y": [
          0.6301666666666668,
          0.5623333333333332,
          0.777,
          0.7190000000000001,
          0.685,
          0.787,
          0.5801875,
          0.873,
          0.972,
          0.972
         ],
         "yaxis": "y"
        },
        {
         "alignmentgroup": "True",
         "hovertemplate": "variable=danceability<br>genres=%{x}<br>value=%{y}<extra></extra>",
         "legendgroup": "danceability",
         "marker": {
          "color": "#00cc96",
          "pattern": {
           "shape": ""
          }
         },
         "name": "danceability",
         "offsetgroup": "danceability",
         "orientation": "v",
         "showlegend": true,
         "textposition": "auto",
         "type": "bar",
         "x": [
          "basshall",
          "south african house",
          "trap venezolano",
          "turkish edm",
          "alberta hip hop",
          "chinese electropop",
          "afroswing",
          "afro soul",
          "circuit",
          "guaracha"
         ],
         "xaxis": "x",
         "y": [
          0.8180000000000001,
          0.847,
          0.877,
          0.698,
          0.885,
          0.66,
          0.71175,
          0.7659999999999999,
          0.745,
          0.745
         ],
         "yaxis": "y"
        },
        {
         "alignmentgroup": "True",
         "hovertemplate": "variable=acousticness<br>genres=%{x}<br>value=%{y}<extra></extra>",
         "legendgroup": "acousticness",
         "marker": {
          "color": "#ab63fa",
          "pattern": {
           "shape": ""
          }
         },
         "name": "acousticness",
         "offsetgroup": "acousticness",
         "orientation": "v",
         "showlegend": true,
         "textposition": "auto",
         "type": "bar",
         "x": [
          "basshall",
          "south african house",
          "trap venezolano",
          "turkish edm",
          "alberta hip hop",
          "chinese electropop",
          "afroswing",
          "afro soul",
          "circuit",
          "guaracha"
         ],
         "xaxis": "x",
         "y": [
          0.2131666666666666,
          0.0438333333333333,
          0.0446,
          0.00829,
          0.33,
          0.00257,
          0.31845,
          0.00627,
          0.00903,
          0.00903
         ],
         "yaxis": "y"
        }
       ],
       "layout": {
        "barmode": "group",
        "legend": {
         "title": {
          "text": "variable"
         },
         "tracegroupgap": 0
        },
        "margin": {
         "t": 60
        },
        "template": {
         "data": {
          "bar": [
           {
            "error_x": {
             "color": "#2a3f5f"
            },
            "error_y": {
             "color": "#2a3f5f"
            },
            "marker": {
             "line": {
              "color": "#E5ECF6",
              "width": 0.5
             },
             "pattern": {
              "fillmode": "overlay",
              "size": 10,
              "solidity": 0.2
             }
            },
            "type": "bar"
           }
          ],
          "barpolar": [
           {
            "marker": {
             "line": {
              "color": "#E5ECF6",
              "width": 0.5
             },
             "pattern": {
              "fillmode": "overlay",
              "size": 10,
              "solidity": 0.2
             }
            },
            "type": "barpolar"
           }
          ],
          "carpet": [
           {
            "aaxis": {
             "endlinecolor": "#2a3f5f",
             "gridcolor": "white",
             "linecolor": "white",
             "minorgridcolor": "white",
             "startlinecolor": "#2a3f5f"
            },
            "baxis": {
             "endlinecolor": "#2a3f5f",
             "gridcolor": "white",
             "linecolor": "white",
             "minorgridcolor": "white",
             "startlinecolor": "#2a3f5f"
            },
            "type": "carpet"
           }
          ],
          "choropleth": [
           {
            "colorbar": {
             "outlinewidth": 0,
             "ticks": ""
            },
            "type": "choropleth"
           }
          ],
          "contour": [
           {
            "colorbar": {
             "outlinewidth": 0,
             "ticks": ""
            },
            "colorscale": [
             [
              0,
              "#0d0887"
             ],
             [
              0.1111111111111111,
              "#46039f"
             ],
             [
              0.2222222222222222,
              "#7201a8"
             ],
             [
              0.3333333333333333,
              "#9c179e"
             ],
             [
              0.4444444444444444,
              "#bd3786"
             ],
             [
              0.5555555555555556,
              "#d8576b"
             ],
             [
              0.6666666666666666,
              "#ed7953"
             ],
             [
              0.7777777777777778,
              "#fb9f3a"
             ],
             [
              0.8888888888888888,
              "#fdca26"
             ],
             [
              1,
              "#f0f921"
             ]
            ],
            "type": "contour"
           }
          ],
          "contourcarpet": [
           {
            "colorbar": {
             "outlinewidth": 0,
             "ticks": ""
            },
            "type": "contourcarpet"
           }
          ],
          "heatmap": [
           {
            "colorbar": {
             "outlinewidth": 0,
             "ticks": ""
            },
            "colorscale": [
             [
              0,
              "#0d0887"
             ],
             [
              0.1111111111111111,
              "#46039f"
             ],
             [
              0.2222222222222222,
              "#7201a8"
             ],
             [
              0.3333333333333333,
              "#9c179e"
             ],
             [
              0.4444444444444444,
              "#bd3786"
             ],
             [
              0.5555555555555556,
              "#d8576b"
             ],
             [
              0.6666666666666666,
              "#ed7953"
             ],
             [
              0.7777777777777778,
              "#fb9f3a"
             ],
             [
              0.8888888888888888,
              "#fdca26"
             ],
             [
              1,
              "#f0f921"
             ]
            ],
            "type": "heatmap"
           }
          ],
          "heatmapgl": [
           {
            "colorbar": {
             "outlinewidth": 0,
             "ticks": ""
            },
            "colorscale": [
             [
              0,
              "#0d0887"
             ],
             [
              0.1111111111111111,
              "#46039f"
             ],
             [
              0.2222222222222222,
              "#7201a8"
             ],
             [
              0.3333333333333333,
              "#9c179e"
             ],
             [
              0.4444444444444444,
              "#bd3786"
             ],
             [
              0.5555555555555556,
              "#d8576b"
             ],
             [
              0.6666666666666666,
              "#ed7953"
             ],
             [
              0.7777777777777778,
              "#fb9f3a"
             ],
             [
              0.8888888888888888,
              "#fdca26"
             ],
             [
              1,
              "#f0f921"
             ]
            ],
            "type": "heatmapgl"
           }
          ],
          "histogram": [
           {
            "marker": {
             "pattern": {
              "fillmode": "overlay",
              "size": 10,
              "solidity": 0.2
             }
            },
            "type": "histogram"
           }
          ],
          "histogram2d": [
           {
            "colorbar": {
             "outlinewidth": 0,
             "ticks": ""
            },
            "colorscale": [
             [
              0,
              "#0d0887"
             ],
             [
              0.1111111111111111,
              "#46039f"
             ],
             [
              0.2222222222222222,
              "#7201a8"
             ],
             [
              0.3333333333333333,
              "#9c179e"
             ],
             [
              0.4444444444444444,
              "#bd3786"
             ],
             [
              0.5555555555555556,
              "#d8576b"
             ],
             [
              0.6666666666666666,
              "#ed7953"
             ],
             [
              0.7777777777777778,
              "#fb9f3a"
             ],
             [
              0.8888888888888888,
              "#fdca26"
             ],
             [
              1,
              "#f0f921"
             ]
            ],
            "type": "histogram2d"
           }
          ],
          "histogram2dcontour": [
           {
            "colorbar": {
             "outlinewidth": 0,
             "ticks": ""
            },
            "colorscale": [
             [
              0,
              "#0d0887"
             ],
             [
              0.1111111111111111,
              "#46039f"
             ],
             [
              0.2222222222222222,
              "#7201a8"
             ],
             [
              0.3333333333333333,
              "#9c179e"
             ],
             [
              0.4444444444444444,
              "#bd3786"
             ],
             [
              0.5555555555555556,
              "#d8576b"
             ],
             [
              0.6666666666666666,
              "#ed7953"
             ],
             [
              0.7777777777777778,
              "#fb9f3a"
             ],
             [
              0.8888888888888888,
              "#fdca26"
             ],
             [
              1,
              "#f0f921"
             ]
            ],
            "type": "histogram2dcontour"
           }
          ],
          "mesh3d": [
           {
            "colorbar": {
             "outlinewidth": 0,
             "ticks": ""
            },
            "type": "mesh3d"
           }
          ],
          "parcoords": [
           {
            "line": {
             "colorbar": {
              "outlinewidth": 0,
              "ticks": ""
             }
            },
            "type": "parcoords"
           }
          ],
          "pie": [
           {
            "automargin": true,
            "type": "pie"
           }
          ],
          "scatter": [
           {
            "marker": {
             "colorbar": {
              "outlinewidth": 0,
              "ticks": ""
             }
            },
            "type": "scatter"
           }
          ],
          "scatter3d": [
           {
            "line": {
             "colorbar": {
              "outlinewidth": 0,
              "ticks": ""
             }
            },
            "marker": {
             "colorbar": {
              "outlinewidth": 0,
              "ticks": ""
             }
            },
            "type": "scatter3d"
           }
          ],
          "scattercarpet": [
           {
            "marker": {
             "colorbar": {
              "outlinewidth": 0,
              "ticks": ""
             }
            },
            "type": "scattercarpet"
           }
          ],
          "scattergeo": [
           {
            "marker": {
             "colorbar": {
              "outlinewidth": 0,
              "ticks": ""
             }
            },
            "type": "scattergeo"
           }
          ],
          "scattergl": [
           {
            "marker": {
             "colorbar": {
              "outlinewidth": 0,
              "ticks": ""
             }
            },
            "type": "scattergl"
           }
          ],
          "scattermapbox": [
           {
            "marker": {
             "colorbar": {
              "outlinewidth": 0,
              "ticks": ""
             }
            },
            "type": "scattermapbox"
           }
          ],
          "scatterpolar": [
           {
            "marker": {
             "colorbar": {
              "outlinewidth": 0,
              "ticks": ""
             }
            },
            "type": "scatterpolar"
           }
          ],
          "scatterpolargl": [
           {
            "marker": {
             "colorbar": {
              "outlinewidth": 0,
              "ticks": ""
             }
            },
            "type": "scatterpolargl"
           }
          ],
          "scatterternary": [
           {
            "marker": {
             "colorbar": {
              "outlinewidth": 0,
              "ticks": ""
             }
            },
            "type": "scatterternary"
           }
          ],
          "surface": [
           {
            "colorbar": {
             "outlinewidth": 0,
             "ticks": ""
            },
            "colorscale": [
             [
              0,
              "#0d0887"
             ],
             [
              0.1111111111111111,
              "#46039f"
             ],
             [
              0.2222222222222222,
              "#7201a8"
             ],
             [
              0.3333333333333333,
              "#9c179e"
             ],
             [
              0.4444444444444444,
              "#bd3786"
             ],
             [
              0.5555555555555556,
              "#d8576b"
             ],
             [
              0.6666666666666666,
              "#ed7953"
             ],
             [
              0.7777777777777778,
              "#fb9f3a"
             ],
             [
              0.8888888888888888,
              "#fdca26"
             ],
             [
              1,
              "#f0f921"
             ]
            ],
            "type": "surface"
           }
          ],
          "table": [
           {
            "cells": {
             "fill": {
              "color": "#EBF0F8"
             },
             "line": {
              "color": "white"
             }
            },
            "header": {
             "fill": {
              "color": "#C8D4E3"
             },
             "line": {
              "color": "white"
             }
            },
            "type": "table"
           }
          ]
         },
         "layout": {
          "annotationdefaults": {
           "arrowcolor": "#2a3f5f",
           "arrowhead": 0,
           "arrowwidth": 1
          },
          "autotypenumbers": "strict",
          "coloraxis": {
           "colorbar": {
            "outlinewidth": 0,
            "ticks": ""
           }
          },
          "colorscale": {
           "diverging": [
            [
             0,
             "#8e0152"
            ],
            [
             0.1,
             "#c51b7d"
            ],
            [
             0.2,
             "#de77ae"
            ],
            [
             0.3,
             "#f1b6da"
            ],
            [
             0.4,
             "#fde0ef"
            ],
            [
             0.5,
             "#f7f7f7"
            ],
            [
             0.6,
             "#e6f5d0"
            ],
            [
             0.7,
             "#b8e186"
            ],
            [
             0.8,
             "#7fbc41"
            ],
            [
             0.9,
             "#4d9221"
            ],
            [
             1,
             "#276419"
            ]
           ],
           "sequential": [
            [
             0,
             "#0d0887"
            ],
            [
             0.1111111111111111,
             "#46039f"
            ],
            [
             0.2222222222222222,
             "#7201a8"
            ],
            [
             0.3333333333333333,
             "#9c179e"
            ],
            [
             0.4444444444444444,
             "#bd3786"
            ],
            [
             0.5555555555555556,
             "#d8576b"
            ],
            [
             0.6666666666666666,
             "#ed7953"
            ],
            [
             0.7777777777777778,
             "#fb9f3a"
            ],
            [
             0.8888888888888888,
             "#fdca26"
            ],
            [
             1,
             "#f0f921"
            ]
           ],
           "sequentialminus": [
            [
             0,
             "#0d0887"
            ],
            [
             0.1111111111111111,
             "#46039f"
            ],
            [
             0.2222222222222222,
             "#7201a8"
            ],
            [
             0.3333333333333333,
             "#9c179e"
            ],
            [
             0.4444444444444444,
             "#bd3786"
            ],
            [
             0.5555555555555556,
             "#d8576b"
            ],
            [
             0.6666666666666666,
             "#ed7953"
            ],
            [
             0.7777777777777778,
             "#fb9f3a"
            ],
            [
             0.8888888888888888,
             "#fdca26"
            ],
            [
             1,
             "#f0f921"
            ]
           ]
          },
          "colorway": [
           "#636efa",
           "#EF553B",
           "#00cc96",
           "#ab63fa",
           "#FFA15A",
           "#19d3f3",
           "#FF6692",
           "#B6E880",
           "#FF97FF",
           "#FECB52"
          ],
          "font": {
           "color": "#2a3f5f"
          },
          "geo": {
           "bgcolor": "white",
           "lakecolor": "white",
           "landcolor": "#E5ECF6",
           "showlakes": true,
           "showland": true,
           "subunitcolor": "white"
          },
          "hoverlabel": {
           "align": "left"
          },
          "hovermode": "closest",
          "mapbox": {
           "style": "light"
          },
          "paper_bgcolor": "white",
          "plot_bgcolor": "#E5ECF6",
          "polar": {
           "angularaxis": {
            "gridcolor": "white",
            "linecolor": "white",
            "ticks": ""
           },
           "bgcolor": "#E5ECF6",
           "radialaxis": {
            "gridcolor": "white",
            "linecolor": "white",
            "ticks": ""
           }
          },
          "scene": {
           "xaxis": {
            "backgroundcolor": "#E5ECF6",
            "gridcolor": "white",
            "gridwidth": 2,
            "linecolor": "white",
            "showbackground": true,
            "ticks": "",
            "zerolinecolor": "white"
           },
           "yaxis": {
            "backgroundcolor": "#E5ECF6",
            "gridcolor": "white",
            "gridwidth": 2,
            "linecolor": "white",
            "showbackground": true,
            "ticks": "",
            "zerolinecolor": "white"
           },
           "zaxis": {
            "backgroundcolor": "#E5ECF6",
            "gridcolor": "white",
            "gridwidth": 2,
            "linecolor": "white",
            "showbackground": true,
            "ticks": "",
            "zerolinecolor": "white"
           }
          },
          "shapedefaults": {
           "line": {
            "color": "#2a3f5f"
           }
          },
          "ternary": {
           "aaxis": {
            "gridcolor": "white",
            "linecolor": "white",
            "ticks": ""
           },
           "baxis": {
            "gridcolor": "white",
            "linecolor": "white",
            "ticks": ""
           },
           "bgcolor": "#E5ECF6",
           "caxis": {
            "gridcolor": "white",
            "linecolor": "white",
            "ticks": ""
           }
          },
          "title": {
           "x": 0.05
          },
          "xaxis": {
           "automargin": true,
           "gridcolor": "white",
           "linecolor": "white",
           "ticks": "",
           "title": {
            "standoff": 15
           },
           "zerolinecolor": "white",
           "zerolinewidth": 2
          },
          "yaxis": {
           "automargin": true,
           "gridcolor": "white",
           "linecolor": "white",
           "ticks": "",
           "title": {
            "standoff": 15
           },
           "zerolinecolor": "white",
           "zerolinewidth": 2
          }
         }
        },
        "xaxis": {
         "anchor": "y",
         "domain": [
          0,
          1
         ],
         "title": {
          "text": "genres"
         }
        },
        "yaxis": {
         "anchor": "x",
         "domain": [
          0,
          1
         ],
         "title": {
          "text": "value"
         }
        }
       }
      }
     },
     "metadata": {},
     "output_type": "display_data"
    }
   ],
   "source": [
    "# Genres and charcteristics\n",
    "\n",
    "Top10_genres = genre.nlargest(10, 'popularity')\n",
    "\n",
    "fig = px.bar(Top10_genres, x = 'genres', y = ['valence', 'energy', 'danceability', 'acousticness'], barmode = 'group')\n",
    "fig.show()"
   ]
  },
  {
   "cell_type": "code",
   "execution_count": 83,
   "metadata": {},
   "outputs": [],
   "source": [
    "# Clustering genres with K-Means\n",
    "from sklearn.cluster import KMeans\n",
    "from sklearn.preprocessing import StandardScaler\n",
    "from sklearn.pipeline import Pipeline\n",
    "\n",
    "cluster_pipeline = Pipeline([('scaler', StandardScaler()),\n",
    "                            ('kmeans', KMeans(n_clusters = 10))])\n",
    "X = genre.select_dtypes(np.number)\n",
    "cluster_pipeline.fit(X)\n",
    "genre['cluster'] = cluster_pipeline.predict(X)"
   ]
  },
  {
   "cell_type": "code",
   "execution_count": 84,
   "metadata": {},
   "outputs": [
    {
     "name": "stdout",
     "output_type": "stream",
     "text": [
      "[t-SNE] Computing 91 nearest neighbors...\n",
      "[t-SNE] Indexed 2973 samples in 0.035s...\n",
      "[t-SNE] Computed neighbors for 2973 samples in 0.952s...\n",
      "[t-SNE] Computed conditional probabilities for sample 1000 / 2973\n",
      "[t-SNE] Computed conditional probabilities for sample 2000 / 2973\n",
      "[t-SNE] Computed conditional probabilities for sample 2973 / 2973\n",
      "[t-SNE] Mean sigma: 0.777516\n",
      "[t-SNE] KL divergence after 250 iterations with early exaggeration: 76.116928\n",
      "[t-SNE] KL divergence after 1000 iterations: 1.386957\n"
     ]
    },
    {
     "data": {
      "application/vnd.plotly.v1+json": {
       "config": {
        "plotlyServerURL": "https://plot.ly"
       },
       "data": [
        {
         "customdata": [
          [
           "21st century classical"
          ],
          [
           "432hz"
          ],
          [
           "8-bit"
          ],
          [
           "[]"
          ],
          [
           "a cappella"
          ],
          [
           "abstract"
          ],
          [
           "abstract beats"
          ],
          [
           "abstract hip hop"
          ],
          [
           "accordeon"
          ],
          [
           "accordion"
          ],
          [
           "acid house"
          ],
          [
           "acid rock"
          ],
          [
           "acid trance"
          ],
          [
           "acousmatic"
          ],
          [
           "acoustic blues"
          ],
          [
           "acoustic pop"
          ],
          [
           "acoustic punk"
          ],
          [
           "acoustic rock"
          ],
          [
           "action rock"
          ],
          [
           "adoracion"
          ],
          [
           "adult standards"
          ],
          [
           "adventista"
          ],
          [
           "afghan pop"
          ],
          [
           "afghan traditional"
          ],
          [
           "african percussion"
          ],
          [
           "african reggae"
          ],
          [
           "african rock"
          ],
          [
           "african-american classical"
          ],
          [
           "afro dancehall"
          ],
          [
           "afro house"
          ],
          [
           "afro psych"
          ],
          [
           "afro soul"
          ],
          [
           "afro-funk"
          ],
          [
           "afrobeat"
          ],
          [
           "afrofuturism"
          ],
          [
           "afrofuturismo brasileiro"
          ],
          [
           "afropop"
          ],
          [
           "afroswing"
          ],
          [
           "aggrotech"
          ],
          [
           "alabama indie"
          ],
          [
           "alabama metal"
          ],
          [
           "alabama rap"
          ],
          [
           "alaska indie"
          ],
          [
           "albanian pop"
          ],
          [
           "albany ny indie"
          ],
          [
           "alberta country"
          ],
          [
           "alberta hip hop"
          ],
          [
           "album rock"
          ],
          [
           "albuquerque indie"
          ],
          [
           "alt-idol"
          ],
          [
           "alte"
          ],
          [
           "alternative americana"
          ],
          [
           "alternative country"
          ],
          [
           "alternative dance"
          ],
          [
           "alternative emo"
          ],
          [
           "alternative hip hop"
          ],
          [
           "alternative metal"
          ],
          [
           "alternative pop"
          ],
          [
           "alternative pop rock"
          ],
          [
           "alternative r&b"
          ],
          [
           "alternative rock"
          ],
          [
           "alternative roots rock"
          ],
          [
           "ambeat"
          ],
          [
           "ambient"
          ],
          [
           "ambient black metal"
          ],
          [
           "ambient folk"
          ],
          [
           "ambient house"
          ],
          [
           "ambient idm"
          ],
          [
           "ambient industrial"
          ],
          [
           "ambient pop"
          ],
          [
           "ambient techno"
          ],
          [
           "ambient worship"
          ],
          [
           "american 21st century classical"
          ],
          [
           "american choir"
          ],
          [
           "american classical piano"
          ],
          [
           "american contemporary classical"
          ],
          [
           "american early music"
          ],
          [
           "american folk revival"
          ],
          [
           "american metalcore"
          ],
          [
           "american modern classical"
          ],
          [
           "american oi"
          ],
          [
           "american orchestra"
          ],
          [
           "american post-rock"
          ],
          [
           "american primitive"
          ],
          [
           "american romanticism"
          ],
          [
           "american shoegaze"
          ],
          [
           "anadolu rock"
          ],
          [
           "anarcho-punk"
          ],
          [
           "anglican liturgy"
          ],
          [
           "animal singing"
          ],
          [
           "anime"
          ],
          [
           "anime latino"
          ],
          [
           "anime rock"
          ],
          [
           "anime score"
          ],
          [
           "ann arbor indie"
          ],
          [
           "anthem emo"
          ],
          [
           "anthem worship"
          ],
          [
           "anti-folk"
          ],
          [
           "antilliaanse folklore"
          ],
          [
           "antiviral pop"
          ],
          [
           "appalachian folk"
          ],
          [
           "arab folk"
          ],
          [
           "arab groove"
          ],
          [
           "arab pop"
          ],
          [
           "arabesk"
          ],
          [
           "arabic hip hop"
          ],
          [
           "arabic jazz"
          ],
          [
           "argentine ambient"
          ],
          [
           "argentine hardcore"
          ],
          [
           "argentine heavy metal"
          ],
          [
           "argentine hip hop"
          ],
          [
           "argentine indie"
          ],
          [
           "argentine metal"
          ],
          [
           "argentine punk"
          ],
          [
           "argentine reggae"
          ],
          [
           "argentine rock"
          ],
          [
           "argentine telepop"
          ],
          [
           "arizona punk"
          ],
          [
           "arkansas country"
          ],
          [
           "arkansas hip hop"
          ],
          [
           "arkansas indie"
          ],
          [
           "armenian folk"
          ],
          [
           "art pop"
          ],
          [
           "art punk"
          ],
          [
           "art rock"
          ],
          [
           "art song"
          ],
          [
           "asbury park indie"
          ],
          [
           "asheville indie"
          ],
          [
           "asian american hip hop"
          ],
          [
           "asmr"
          ],
          [
           "athens indie"
          ],
          [
           "atl hip hop"
          ],
          [
           "atl trap"
          ],
          [
           "atlanta indie"
          ],
          [
           "atlanta metal"
          ],
          [
           "atlanta punk"
          ],
          [
           "atmosphere"
          ],
          [
           "atmospheric black metal"
          ],
          [
           "atmospheric dnb"
          ],
          [
           "atmospheric post-metal"
          ],
          [
           "atmospheric post-rock"
          ],
          [
           "atmospheric sludge"
          ],
          [
           "auckland indie"
          ],
          [
           "audiophile vocal"
          ],
          [
           "aussietronica"
          ],
          [
           "austin americana"
          ],
          [
           "austin singer-songwriter"
          ],
          [
           "austindie"
          ],
          [
           "australian alternative pop"
          ],
          [
           "australian alternative rock"
          ],
          [
           "australian ambient"
          ],
          [
           "australian children's music"
          ],
          [
           "australian choir"
          ],
          [
           "australian classical"
          ],
          [
           "australian classical piano"
          ],
          [
           "australian country"
          ],
          [
           "australian dance"
          ],
          [
           "australian electropop"
          ],
          [
           "australian garage punk"
          ],
          [
           "australian hip hop"
          ],
          [
           "australian house"
          ],
          [
           "australian indie"
          ],
          [
           "australian indie folk"
          ],
          [
           "australian indie rock"
          ],
          [
           "australian indigenous"
          ],
          [
           "australian metal"
          ],
          [
           "australian metalcore"
          ],
          [
           "australian pop"
          ],
          [
           "australian post-hardcore"
          ],
          [
           "australian post-punk"
          ],
          [
           "australian psych"
          ],
          [
           "australian r&b"
          ],
          [
           "australian reggae fusion"
          ],
          [
           "australian rock"
          ],
          [
           "australian singer-songwriter"
          ],
          [
           "australian ska"
          ],
          [
           "australian talent show"
          ],
          [
           "australian trap"
          ],
          [
           "australian underground hip hop"
          ],
          [
           "austrian choir"
          ],
          [
           "austrian classical piano"
          ],
          [
           "austrian orchestra"
          ],
          [
           "austrian pop"
          ],
          [
           "austro-german modernism"
          ],
          [
           "austropop"
          ],
          [
           "autoharp"
          ],
          [
           "autonomous black metal"
          ],
          [
           "avant-garde"
          ],
          [
           "avant-garde jazz"
          ],
          [
           "avant-garde metal"
          ],
          [
           "axe"
          ],
          [
           "azeri traditional"
          ],
          [
           "azonto"
          ],
          [
           "azontobeats"
          ],
          [
           "bachata"
          ],
          [
           "bachata dominicana"
          ],
          [
           "background music"
          ],
          [
           "background piano"
          ],
          [
           "baglama"
          ],
          [
           "bahai"
          ],
          [
           "bahamian folk"
          ],
          [
           "bahamian pop"
          ],
          [
           "baiao"
          ],
          [
           "bajki"
          ],
          [
           "bakersfield sound"
          ],
          [
           "balearic"
          ],
          [
           "balkan brass"
          ],
          [
           "balkan classical piano"
          ],
          [
           "ballet class"
          ],
          [
           "ballroom"
          ],
          [
           "baltic classical"
          ],
          [
           "baltimore hip hop"
          ],
          [
           "baltimore indie"
          ],
          [
           "banda"
          ],
          [
           "banda caliente"
          ],
          [
           "banda carnavalera"
          ],
          [
           "bandinhas"
          ],
          [
           "bandolim"
          ],
          [
           "bandoneon"
          ],
          [
           "bangla"
          ],
          [
           "banjo"
          ],
          [
           "bansuri"
          ],
          [
           "barbadian pop"
          ],
          [
           "barbershop"
          ],
          [
           "bard"
          ],
          [
           "barnmusik"
          ],
          [
           "barockinterpreten"
          ],
          [
           "baroque"
          ],
          [
           "baroque brass"
          ],
          [
           "baroque ensemble"
          ],
          [
           "baroque pop"
          ],
          [
           "baroque singing"
          ],
          [
           "baroque violin"
          ],
          [
           "baroque woodwind"
          ],
          [
           "bass house"
          ],
          [
           "bass music"
          ],
          [
           "bass trap"
          ],
          [
           "basshall"
          ],
          [
           "bassline"
          ],
          [
           "bath indie"
          ],
          [
           "baton rouge indie"
          ],
          [
           "baton rouge rap"
          ],
          [
           "battle rap"
          ],
          [
           "bay area hip hop"
          ],
          [
           "bay area indie"
          ],
          [
           "bboy"
          ],
          [
           "bc underground hip hop"
          ],
          [
           "beach music"
          ],
          [
           "beat italiano"
          ],
          [
           "beat poetry"
          ],
          [
           "beatboxing"
          ],
          [
           "beatlesque"
          ],
          [
           "bebop"
          ],
          [
           "bedroom pop"
          ],
          [
           "bedroom soul"
          ],
          [
           "belarusian indie"
          ],
          [
           "belarusian pop"
          ],
          [
           "belarusian rock"
          ],
          [
           "belgian classical piano"
          ],
          [
           "belgian contemporary classical"
          ],
          [
           "belgian dance"
          ],
          [
           "belgian edm"
          ],
          [
           "belgian hardcore"
          ],
          [
           "belgian indie"
          ],
          [
           "belgian indie rock"
          ],
          [
           "belgian jazz"
          ],
          [
           "belgian new wave"
          ],
          [
           "belgian pop"
          ],
          [
           "belgian rock"
          ],
          [
           "belgian singer-songwriter"
          ],
          [
           "belgian techno"
          ],
          [
           "belly dance"
          ],
          [
           "bengali folk"
          ],
          [
           "beninese pop"
          ],
          [
           "bergen indie"
          ],
          [
           "berlin minimal techno"
          ],
          [
           "berlin school"
          ],
          [
           "bhajan"
          ],
          [
           "bhangra"
          ],
          [
           "bible"
          ],
          [
           "big band"
          ],
          [
           "big beat"
          ],
          [
           "big room"
          ],
          [
           "binaural"
          ],
          [
           "birdsong"
          ],
          [
           "birmingham grime"
          ],
          [
           "birmingham hip hop"
          ],
          [
           "birmingham metal"
          ],
          [
           "bitpop"
          ],
          [
           "black 'n' roll"
          ],
          [
           "black comedy"
          ],
          [
           "black metal"
          ],
          [
           "black punk"
          ],
          [
           "black thrash"
          ],
          [
           "blackened crust"
          ],
          [
           "blackgaze"
          ],
          [
           "bleep techno"
          ],
          [
           "bluegrass"
          ],
          [
           "bluegrass fiddle"
          ],
          [
           "bluegrass gospel"
          ],
          [
           "blues"
          ],
          [
           "blues latinoamericano"
          ],
          [
           "blues mexicano"
          ],
          [
           "blues rock"
          ],
          [
           "bmore"
          ],
          [
           "bolero"
          ],
          [
           "bolero cubano"
          ],
          [
           "boogaloo"
          ],
          [
           "boogie"
          ],
          [
           "boogie-woogie"
          ],
          [
           "boom bap"
          ],
          [
           "boom bap brasileiro"
          ],
          [
           "bossa nova"
          ],
          [
           "bossa nova jazz"
          ],
          [
           "boston folk"
          ],
          [
           "boston hardcore"
          ],
          [
           "boston hip hop"
          ],
          [
           "boston indie"
          ],
          [
           "boston metal"
          ],
          [
           "boston punk"
          ],
          [
           "boston rock"
          ],
          [
           "bounce"
          ],
          [
           "bouncy house"
          ],
          [
           "bouzouki"
          ],
          [
           "bow pop"
          ],
          [
           "boy band"
          ],
          [
           "boy pop"
          ],
          [
           "boy soprano"
          ],
          [
           "brain waves"
          ],
          [
           "braindance"
          ],
          [
           "brass band"
          ],
          [
           "brass ensemble"
          ],
          [
           "brass quintet"
          ],
          [
           "brazilian boogie"
          ],
          [
           "brazilian classical"
          ],
          [
           "brazilian classical piano"
          ],
          [
           "brazilian contemporary classical"
          ],
          [
           "brazilian edm"
          ],
          [
           "brazilian groove metal"
          ],
          [
           "brazilian hip hop"
          ],
          [
           "brazilian indie"
          ],
          [
           "brazilian jazz"
          ],
          [
           "brazilian metal"
          ],
          [
           "brazilian modern jazz"
          ],
          [
           "brazilian percussion"
          ],
          [
           "brazilian punk"
          ],
          [
           "brazilian reggae"
          ],
          [
           "brazilian rock"
          ],
          [
           "brazilian ska"
          ],
          [
           "brazilian soul"
          ],
          [
           "brazilian thrash metal"
          ],
          [
           "breakbeat"
          ],
          [
           "breakcore"
          ],
          [
           "brega"
          ],
          [
           "breton folk"
          ],
          [
           "brighton indie"
          ],
          [
           "brill building pop"
          ],
          [
           "brisbane indie"
          ],
          [
           "bristol electronic"
          ],
          [
           "bristol indie"
          ],
          [
           "brit funk"
          ],
          [
           "british alternative rock"
          ],
          [
           "british black metal"
          ],
          [
           "british blues"
          ],
          [
           "british children's music"
          ],
          [
           "british choir"
          ],
          [
           "british classical piano"
          ],
          [
           "british comedy"
          ],
          [
           "british contemporary classical"
          ],
          [
           "british dance band"
          ],
          [
           "british death metal"
          ],
          [
           "british experimental"
          ],
          [
           "british folk"
          ],
          [
           "british grindcore"
          ],
          [
           "british indie rock"
          ],
          [
           "british industrial"
          ],
          [
           "british invasion"
          ],
          [
           "british jazz"
          ],
          [
           "british modern classical"
          ],
          [
           "british orchestra"
          ],
          [
           "british post-rock"
          ],
          [
           "british power metal"
          ],
          [
           "british singer-songwriter"
          ],
          [
           "british soul"
          ],
          [
           "british soundtrack"
          ],
          [
           "britpop"
          ],
          [
           "broadway"
          ],
          [
           "broken beat"
          ],
          [
           "bronx hip hop"
          ],
          [
           "brooklyn drill"
          ],
          [
           "brooklyn indie"
          ],
          [
           "brostep"
          ],
          [
           "brutal death metal"
          ],
          [
           "brutal deathcore"
          ],
          [
           "bubble trance"
          ],
          [
           "bubblegrunge"
          ],
          [
           "bubblegum dance"
          ],
          [
           "bubblegum pop"
          ],
          [
           "buffalo hip hop"
          ],
          [
           "buffalo ny indie"
          ],
          [
           "buffalo ny metal"
          ],
          [
           "bulgarian experimental"
          ],
          [
           "burmese traditional"
          ],
          [
           "bush ballad"
          ],
          [
           "c-pop"
          ],
          [
           "c86"
          ],
          [
           "cabaret"
          ],
          [
           "cajun"
          ],
          [
           "calgary indie"
          ],
          [
           "cali rap"
          ],
          [
           "calming instrumental"
          ],
          [
           "calypso"
          ],
          [
           "cambodian rock"
          ],
          [
           "cambridge choir"
          ],
          [
           "cambridgeshire indie"
          ],
          [
           "cameroonian pop"
          ],
          [
           "canadian americana"
          ],
          [
           "canadian blues"
          ],
          [
           "canadian ccm"
          ],
          [
           "canadian celtic"
          ],
          [
           "canadian children's music"
          ],
          [
           "canadian choir"
          ],
          [
           "canadian classical"
          ],
          [
           "canadian classical piano"
          ],
          [
           "canadian comedy"
          ],
          [
           "canadian contemporary country"
          ],
          [
           "canadian contemporary r&b"
          ],
          [
           "canadian country"
          ],
          [
           "canadian electronic"
          ],
          [
           "canadian electropop"
          ],
          [
           "canadian experimental"
          ],
          [
           "canadian folk"
          ],
          [
           "canadian hardcore"
          ],
          [
           "canadian hip hop"
          ],
          [
           "canadian house"
          ],
          [
           "canadian indie"
          ],
          [
           "canadian indie folk"
          ],
          [
           "canadian indigenous"
          ],
          [
           "canadian indigenous hip hop"
          ],
          [
           "canadian latin"
          ],
          [
           "canadian metal"
          ],
          [
           "canadian metalcore"
          ],
          [
           "canadian modern jazz"
          ],
          [
           "canadian pop"
          ],
          [
           "canadian pop punk"
          ],
          [
           "canadian post-hardcore"
          ],
          [
           "canadian post-rock"
          ],
          [
           "canadian psychedelic"
          ],
          [
           "canadian punk"
          ],
          [
           "canadian rock"
          ],
          [
           "canadian rockabilly"
          ],
          [
           "canadian singer-songwriter"
          ],
          [
           "canadian soundtrack"
          ],
          [
           "cancion melodica"
          ],
          [
           "candy pop"
          ],
          [
           "cantautor"
          ],
          [
           "cante flamenco"
          ],
          [
           "canterbury scene"
          ],
          [
           "canto popular uruguayo"
          ],
          [
           "cantopop"
          ],
          [
           "canzone d'autore"
          ],
          [
           "canzone genovese"
          ],
          [
           "canzone napoletana"
          ],
          [
           "cape town indie"
          ],
          [
           "cape verdean folk"
          ],
          [
           "capoeira"
          ],
          [
           "caracas indie"
          ],
          [
           "carnatic"
          ],
          [
           "carnatic instrumental"
          ],
          [
           "carnatic vocal"
          ],
          [
           "cartoon"
          ],
          [
           "cathedral choir"
          ],
          [
           "caucasian classical"
          ],
          [
           "caucasian classical piano"
          ],
          [
           "ccm"
          ],
          [
           "cedm"
          ],
          [
           "cello"
          ],
          [
           "celtic"
          ],
          [
           "celtic harp"
          ],
          [
           "celtic metal"
          ],
          [
           "celtic punk"
          ],
          [
           "celtic rock"
          ],
          [
           "cha-cha-cha"
          ],
          [
           "chakra"
          ],
          [
           "chamame"
          ],
          [
           "chamber choir"
          ],
          [
           "chamber ensemble"
          ],
          [
           "chamber folk"
          ],
          [
           "chamber orchestra"
          ],
          [
           "chamber pop"
          ],
          [
           "chamber psych"
          ],
          [
           "champeta"
          ],
          [
           "channel islands indie"
          ],
          [
           "channel pop"
          ],
          [
           "chanson"
          ],
          [
           "chanson paillarde"
          ],
          [
           "chaotic hardcore"
          ],
          [
           "charanga"
          ],
          [
           "charango"
          ],
          [
           "charlotte nc indie"
          ],
          [
           "charlottesville indie"
          ],
          [
           "chattanooga indie"
          ],
          [
           "chicago blues"
          ],
          [
           "chicago drill"
          ],
          [
           "chicago hardcore"
          ],
          [
           "chicago house"
          ],
          [
           "chicago indie"
          ],
          [
           "chicago pop punk"
          ],
          [
           "chicago punk"
          ],
          [
           "chicago rap"
          ],
          [
           "chicago soul"
          ],
          [
           "chicano punk"
          ],
          [
           "chicano rap"
          ],
          [
           "chicha"
          ],
          [
           "chihuahua indie"
          ],
          [
           "children's choir"
          ],
          [
           "children's folk"
          ],
          [
           "children's music"
          ],
          [
           "children's story"
          ],
          [
           "chilean hardcore"
          ],
          [
           "chilean indie"
          ],
          [
           "chilean rock"
          ],
          [
           "chilena"
          ],
          [
           "chill beats"
          ],
          [
           "chill guitar"
          ],
          [
           "chill lounge"
          ],
          [
           "chill out"
          ],
          [
           "chill pop"
          ],
          [
           "chill r&b"
          ],
          [
           "chillhop"
          ],
          [
           "chillstep"
          ],
          [
           "chillwave"
          ],
          [
           "chinese audiophile"
          ],
          [
           "chinese classical"
          ],
          [
           "chinese classical performance"
          ],
          [
           "chinese classical piano"
          ],
          [
           "chinese electropop"
          ],
          [
           "chinese hip hop"
          ],
          [
           "chinese idol pop"
          ],
          [
           "chinese indie"
          ],
          [
           "chinese indie rock"
          ],
          [
           "chinese instrumental"
          ],
          [
           "chinese jazz"
          ],
          [
           "chinese r&b"
          ],
          [
           "chinese soundtrack"
          ],
          [
           "chinese traditional"
          ],
          [
           "chiptune"
          ],
          [
           "chopped and screwed"
          ],
          [
           "choral"
          ],
          [
           "choro"
          ],
          [
           "christchurch indie"
          ],
          [
           "christelijk"
          ],
          [
           "christian a cappella"
          ],
          [
           "christian alternative rock"
          ],
          [
           "christian dance"
          ],
          [
           "christian hard rock"
          ],
          [
           "christian hardcore"
          ],
          [
           "christian hip hop"
          ],
          [
           "christian indie"
          ],
          [
           "christian metal"
          ],
          [
           "christian metalcore"
          ],
          [
           "christian music"
          ],
          [
           "christian pop"
          ],
          [
           "christian power metal"
          ],
          [
           "christian punk"
          ],
          [
           "christian relaxative"
          ],
          [
           "christian rock"
          ],
          [
           "christian trap"
          ],
          [
           "christian uplift"
          ],
          [
           "christmas instrumental"
          ],
          [
           "christmas product"
          ],
          [
           "chunchaca"
          ],
          [
           "chutney"
          ],
          [
           "cincinnati rap"
          ],
          [
           "cinematic post-rock"
          ],
          [
           "circuit"
          ],
          [
           "circus"
          ],
          [
           "classic afrobeat"
          ],
          [
           "classic arab pop"
          ],
          [
           "classic australian country"
          ],
          [
           "classic belgian pop"
          ],
          [
           "classic bhangra"
          ],
          [
           "classic bollywood"
          ],
          [
           "classic canadian rock"
          ],
          [
           "classic cantopop"
          ],
          [
           "classic colombian pop"
          ],
          [
           "classic country pop"
          ],
          [
           "classic czech pop"
          ],
          [
           "classic danish pop"
          ],
          [
           "classic dubstep"
          ],
          [
           "classic eurovision"
          ],
          [
           "classic finnish pop"
          ],
          [
           "classic french pop"
          ],
          [
           "classic garage rock"
          ],
          [
           "classic girl group"
          ],
          [
           "classic greek pop"
          ],
          [
           "classic hardstyle"
          ],
          [
           "classic icelandic pop"
          ],
          [
           "classic indo pop"
          ],
          [
           "classic iskelma"
          ],
          [
           "classic israeli pop"
          ],
          [
           "classic italian folk pop"
          ],
          [
           "classic italian pop"
          ],
          [
           "classic j-rock"
          ],
          [
           "classic japanese jazz"
          ],
          [
           "classic korean pop"
          ],
          [
           "classic latvian pop"
          ],
          [
           "classic mandopop"
          ],
          [
           "classic norwegian pop"
          ],
          [
           "classic opm"
          ],
          [
           "classic pakistani pop"
          ],
          [
           "classic persian pop"
          ],
          [
           "classic peruvian pop"
          ],
          [
           "classic polish pop"
          ],
          [
           "classic praise"
          ],
          [
           "classic psychedelic rock"
          ],
          [
           "classic punjabi pop"
          ],
          [
           "classic rock"
          ],
          [
           "classic russian pop"
          ],
          [
           "classic russian rock"
          ],
          [
           "classic schlager"
          ],
          [
           "classic soul"
          ],
          [
           "classic soundtrack"
          ],
          [
           "classic swedish pop"
          ],
          [
           "classic thai pop"
          ],
          [
           "classic tunisian pop"
          ],
          [
           "classic turkish pop"
          ],
          [
           "classic uk pop"
          ],
          [
           "classic venezuelan pop"
          ],
          [
           "classical"
          ],
          [
           "classical accordion"
          ],
          [
           "classical baritone"
          ],
          [
           "classical bass"
          ],
          [
           "classical cello"
          ],
          [
           "classical clarinet"
          ],
          [
           "classical contralto"
          ],
          [
           "classical countertenor"
          ],
          [
           "classical era"
          ],
          [
           "classical flute"
          ],
          [
           "classical guitar"
          ],
          [
           "classical harp"
          ],
          [
           "classical horn"
          ],
          [
           "classical mandolin"
          ],
          [
           "classical mezzo-soprano"
          ],
          [
           "classical oboe"
          ],
          [
           "classical organ"
          ],
          [
           "classical performance"
          ],
          [
           "classical piano"
          ],
          [
           "classical piano duo"
          ],
          [
           "classical piano trio"
          ],
          [
           "classical saxophone"
          ],
          [
           "classical soprano"
          ],
          [
           "classical tenor"
          ],
          [
           "classical trumpet"
          ],
          [
           "classify"
          ],
          [
           "clawhammer banjo"
          ],
          [
           "clean comedy"
          ],
          [
           "cleveland metal"
          ],
          [
           "coco"
          ],
          [
           "collage pop"
          ],
          [
           "college a cappella"
          ],
          [
           "colombian hip hop"
          ],
          [
           "colombian pop"
          ],
          [
           "colombian rock"
          ],
          [
           "columbus ohio indie"
          ],
          [
           "comedy"
          ],
          [
           "comedy rap"
          ],
          [
           "comedy rock"
          ],
          [
           "comic"
          ],
          [
           "comic metal"
          ],
          [
           "commons"
          ],
          [
           "complextro"
          ],
          [
           "compositional ambient"
          ],
          [
           "concepcion indie"
          ],
          [
           "concert band"
          ],
          [
           "connecticut hardcore"
          ],
          [
           "connecticut indie"
          ],
          [
           "conscious hip hop"
          ],
          [
           "contemporary choir"
          ],
          [
           "contemporary classical"
          ],
          [
           "contemporary classical piano"
          ],
          [
           "contemporary country"
          ],
          [
           "contemporary folk"
          ],
          [
           "contemporary gospel"
          ],
          [
           "contemporary jazz"
          ],
          [
           "contemporary post-bop"
          ],
          [
           "contemporary vocal jazz"
          ],
          [
           "contrabass"
          ],
          [
           "cool jazz"
          ],
          [
           "copla"
          ],
          [
           "cornish folk"
          ],
          [
           "cornwall indie"
          ],
          [
           "corrido"
          ],
          [
           "corridos cristianos"
          ],
          [
           "corridos tumbados"
          ],
          [
           "corrosion"
          ],
          [
           "cosmic american"
          ],
          [
           "cosmic post-rock"
          ],
          [
           "country"
          ],
          [
           "country blues"
          ],
          [
           "country boogie"
          ],
          [
           "country dawn"
          ],
          [
           "country gospel"
          ],
          [
           "country pop"
          ],
          [
           "country rap"
          ],
          [
           "country road"
          ],
          [
           "country rock"
          ],
          [
           "coverchill"
          ],
          [
           "cowboy western"
          ],
          [
           "cowpunk"
          ],
          [
           "crack rock steady"
          ],
          [
           "croatian folk"
          ],
          [
           "croatian pop"
          ],
          [
           "croatian rock"
          ],
          [
           "crossover thrash"
          ],
          [
           "crunk"
          ],
          [
           "crust punk"
          ],
          [
           "cuarteto"
          ],
          [
           "cuatro venezolano"
          ],
          [
           "cuban alternative"
          ],
          [
           "cuban rumba"
          ],
          [
           "cubaton"
          ],
          [
           "cumbia"
          ],
          [
           "cumbia andina mexicana"
          ],
          [
           "cumbia chilena"
          ],
          [
           "cumbia colombiana regia"
          ],
          [
           "cumbia ecuatoriana"
          ],
          [
           "cumbia funk"
          ],
          [
           "cumbia lagunera"
          ],
          [
           "cumbia paraguaya"
          ],
          [
           "cumbia peruana"
          ],
          [
           "cumbia pop"
          ],
          [
           "cumbia ranchera"
          ],
          [
           "cumbia salvadorena"
          ],
          [
           "cumbia santafesina"
          ],
          [
           "cumbia sonidera"
          ],
          [
           "cumbia villera"
          ],
          [
           "cyberpunk"
          ],
          [
           "cymraeg"
          ],
          [
           "cypriot pop"
          ],
          [
           "czech classical"
          ],
          [
           "czech classical piano"
          ],
          [
           "czech contemporary classical"
          ],
          [
           "d-beat"
          ],
          [
           "dabke"
          ],
          [
           "dakke dak"
          ],
          [
           "dallas indie"
          ],
          [
           "dance pop"
          ],
          [
           "dance rock"
          ],
          [
           "dance-punk"
          ],
          [
           "dancehall"
          ],
          [
           "dangdut"
          ],
          [
           "danish alternative rock"
          ],
          [
           "danish classical"
          ],
          [
           "danish electronic"
          ],
          [
           "danish electropop"
          ],
          [
           "danish hip hop"
          ],
          [
           "danish jazz"
          ],
          [
           "danish metal"
          ],
          [
           "danish pop"
          ],
          [
           "danish pop rock"
          ],
          [
           "danish post-punk"
          ],
          [
           "danish punk"
          ],
          [
           "danish rock"
          ],
          [
           "danish singer-songwriter"
          ],
          [
           "dansband"
          ],
          [
           "danseband"
          ],
          [
           "dansktop"
          ],
          [
           "danspunk"
          ],
          [
           "dark cabaret"
          ],
          [
           "dark clubbing"
          ],
          [
           "dark disco"
          ],
          [
           "dark hardcore"
          ],
          [
           "dark jazz"
          ],
          [
           "dark minimal techno"
          ],
          [
           "dark post-punk"
          ],
          [
           "dark techno"
          ],
          [
           "dark trap"
          ],
          [
           "dark wave"
          ],
          [
           "darksynth"
          ],
          [
           "dayton indie"
          ],
          [
           "dc hardcore"
          ],
          [
           "dc indie"
          ],
          [
           "death 'n' roll"
          ],
          [
           "death metal"
          ],
          [
           "deathcore"
          ],
          [
           "deathgrass"
          ],
          [
           "deathgrind"
          ],
          [
           "deathrash"
          ],
          [
           "deathrock"
          ],
          [
           "deathstep"
          ],
          [
           "deep acoustic pop"
          ],
          [
           "deep adult standards"
          ],
          [
           "deep big room"
          ],
          [
           "deep ccm"
          ],
          [
           "deep christian rock"
          ],
          [
           "deep classic garage rock"
          ],
          [
           "deep comedy"
          ],
          [
           "deep contemporary country"
          ],
          [
           "deep dance pop"
          ],
          [
           "deep delta blues"
          ],
          [
           "deep disco"
          ],
          [
           "deep disco house"
          ],
          [
           "deep dnb"
          ],
          [
           "deep east coast hip hop"
          ],
          [
           "deep euro house"
          ],
          [
           "deep flow"
          ],
          [
           "deep free jazz"
          ],
          [
           "deep freestyle"
          ],
          [
           "deep full on"
          ],
          [
           "deep funk"
          ],
          [
           "deep g funk"
          ],
          [
           "deep gothic post-punk"
          ],
          [
           "deep groove house"
          ],
          [
           "deep house"
          ],
          [
           "deep idm"
          ],
          [
           "deep indian pop"
          ],
          [
           "deep indie singer-songwriter"
          ],
          [
           "deep latin alternative"
          ],
          [
           "deep latin christian"
          ],
          [
           "deep melodic metalcore"
          ],
          [
           "deep minimal techno"
          ],
          [
           "deep motown"
          ],
          [
           "deep new americana"
          ],
          [
           "deep new wave"
          ],
          [
           "deep norteno"
          ],
          [
           "deep northern soul"
          ],
          [
           "deep pop edm"
          ],
          [
           "deep progressive house"
          ],
          [
           "deep psychobilly"
          ],
          [
           "deep punk rock"
          ],
          [
           "deep r&b"
          ],
          [
           "deep ragga"
          ],
          [
           "deep regional mexican"
          ],
          [
           "deep smooth jazz"
          ],
          [
           "deep soft rock"
          ],
          [
           "deep soul house"
          ],
          [
           "deep soundtrack"
          ],
          [
           "deep southern soul"
          ],
          [
           "deep southern trap"
          ],
          [
           "deep space rock"
          ],
          [
           "deep talent show"
          ],
          [
           "deep tech house"
          ],
          [
           "deep techno"
          ],
          [
           "deep tropical house"
          ],
          [
           "deep underground hip hop"
          ],
          [
           "deep uplifting trance"
          ],
          [
           "delta blues"
          ],
          [
           "dembow"
          ],
          [
           "denpa-kei"
          ],
          [
           "denton tx indie"
          ],
          [
           "denver indie"
          ],
          [
           "depressive black metal"
          ],
          [
           "derby indie"
          ],
          [
           "desert blues"
          ],
          [
           "desi hip hop"
          ],
          [
           "desi pop"
          ],
          [
           "destroy techno"
          ],
          [
           "detroit hip hop"
          ],
          [
           "detroit house"
          ],
          [
           "detroit techno"
          ],
          [
           "detroit trap"
          ],
          [
           "detske pisnicky"
          ],
          [
           "detskie pesni"
          ],
          [
           "devon indie"
          ],
          [
           "dfw rap"
          ],
          [
           "dhrupad"
          ],
          [
           "digital hardcore"
          ],
          [
           "dinner jazz"
          ],
          [
           "dirty south rap"
          ],
          [
           "dirty texas rap"
          ],
          [
           "disco"
          ],
          [
           "disco house"
          ],
          [
           "disney"
          ],
          [
           "diva house"
          ],
          [
           "dixieland"
          ],
          [
           "diy emo"
          ],
          [
           "djent"
          ],
          [
           "dmv rap"
          ],
          [
           "dominican pop"
          ],
          [
           "dong-yo"
          ],
          [
           "doo-wop"
          ],
          [
           "doom metal"
          ],
          [
           "double drumming"
          ],
          [
           "downtempo"
          ],
          [
           "drama"
          ],
          [
           "dream pop"
          ],
          [
           "dream trance"
          ],
          [
           "dreamgaze"
          ],
          [
           "dreamo"
          ],
          [
           "drift"
          ],
          [
           "drill"
          ],
          [
           "drill and bass"
          ],
          [
           "drone"
          ],
          [
           "drone folk"
          ],
          [
           "drone metal"
          ],
          [
           "drum and bass"
          ],
          [
           "dub"
          ],
          [
           "dub metal"
          ],
          [
           "dub poetry"
          ],
          [
           "dub techno"
          ],
          [
           "dubstep"
          ],
          [
           "dubsteppe"
          ],
          [
           "duduk"
          ],
          [
           "duluth indie"
          ],
          [
           "dunedin indie"
          ],
          [
           "dunedin sound"
          ],
          [
           "dungeon synth"
          ],
          [
           "duranguense"
          ],
          [
           "dusseldorf electronic"
          ],
          [
           "dutch blues"
          ],
          [
           "dutch cabaret"
          ],
          [
           "dutch classical piano"
          ],
          [
           "dutch death metal"
          ],
          [
           "dutch dnb"
          ],
          [
           "dutch edm"
          ],
          [
           "dutch folk"
          ],
          [
           "dutch hip hop"
          ],
          [
           "dutch house"
          ],
          [
           "dutch indie"
          ],
          [
           "dutch jazz"
          ],
          [
           "dutch metal"
          ],
          [
           "dutch pop"
          ],
          [
           "dutch prog"
          ],
          [
           "dutch rap pop"
          ],
          [
           "dutch rock"
          ],
          [
           "dutch trance"
          ],
          [
           "e6fi"
          ],
          [
           "early american folk"
          ],
          [
           "early avant garde"
          ],
          [
           "early modern classical"
          ],
          [
           "early music"
          ],
          [
           "early music choir"
          ],
          [
           "early music ensemble"
          ],
          [
           "early reggae"
          ],
          [
           "early romantic era"
          ],
          [
           "early synthpop"
          ],
          [
           "early us punk"
          ],
          [
           "east coast hip hop"
          ],
          [
           "east coast reggae"
          ],
          [
           "eastern bloc groove"
          ],
          [
           "easy listening"
          ],
          [
           "easycore"
          ],
          [
           "eau claire indie"
          ],
          [
           "ebm"
          ],
          [
           "ecm-style jazz"
          ],
          [
           "ectofolk"
          ],
          [
           "ecuadorian pop"
          ],
          [
           "edm"
          ],
          [
           "edmonton indie"
          ],
          [
           "egyptian pop"
          ],
          [
           "egyptian traditional"
          ],
          [
           "el paso indie"
          ],
          [
           "electra"
          ],
          [
           "electric bass"
          ],
          [
           "electric blues"
          ],
          [
           "electro"
          ],
          [
           "electro house"
          ],
          [
           "electro jazz"
          ],
          [
           "electro latino"
          ],
          [
           "electro swing"
          ],
          [
           "electro-industrial"
          ],
          [
           "electro-pop francais"
          ],
          [
           "electroclash"
          ],
          [
           "electrofox"
          ],
          [
           "electronic djent"
          ],
          [
           "electronic rock"
          ],
          [
           "electronic trap"
          ],
          [
           "electronica"
          ],
          [
           "electronica argentina"
          ],
          [
           "electropop"
          ],
          [
           "electropowerpop"
          ],
          [
           "emo"
          ],
          [
           "emo mexicano"
          ],
          [
           "emo punk"
          ],
          [
           "emo rap"
          ],
          [
           "emocore"
          ],
          [
           "english baroque"
          ],
          [
           "english indie rock"
          ],
          [
           "english renaissance"
          ],
          [
           "enka"
          ],
          [
           "entehno"
          ],
          [
           "environmental"
          ],
          [
           "epic doom"
          ],
          [
           "epicore"
          ],
          [
           "erhu"
          ],
          [
           "escape room"
          ],
          [
           "esperanto"
          ],
          [
           "essex indie"
          ],
          [
           "estonian hip hop"
          ],
          [
           "estonian pop"
          ],
          [
           "ethereal wave"
          ],
          [
           "etherpop"
          ],
          [
           "ethio-jazz"
          ],
          [
           "ethiopian pop"
          ],
          [
           "ethnomusicology"
          ],
          [
           "ethnotronica"
          ],
          [
           "eugene indie"
          ],
          [
           "euphoric hardstyle"
          ],
          [
           "eurobeat"
          ],
          [
           "eurodance"
          ],
          [
           "europop"
          ],
          [
           "euroska"
          ],
          [
           "eurovision"
          ],
          [
           "exotica"
          ],
          [
           "experimental"
          ],
          [
           "experimental ambient"
          ],
          [
           "experimental big band"
          ],
          [
           "experimental dub"
          ],
          [
           "experimental folk"
          ],
          [
           "experimental guitar"
          ],
          [
           "experimental hip hop"
          ],
          [
           "experimental house"
          ],
          [
           "experimental indie"
          ],
          [
           "experimental jazz"
          ],
          [
           "experimental pop"
          ],
          [
           "experimental rock"
          ],
          [
           "experimental vocal"
          ],
          [
           "fado"
          ],
          [
           "family gospel"
          ],
          [
           "faroese pop"
          ],
          [
           "fast melodic punk"
          ],
          [
           "fidget house"
          ],
          [
           "filmi"
          ],
          [
           "filter house"
          ],
          [
           "filthstep"
          ],
          [
           "final fantasy"
          ],
          [
           "fingerstyle"
          ],
          [
           "finnish alternative rock"
          ],
          [
           "finnish classical"
          ],
          [
           "finnish contemporary classical"
          ],
          [
           "finnish death metal"
          ],
          [
           "finnish edm"
          ],
          [
           "finnish hard rock"
          ],
          [
           "finnish heavy metal"
          ],
          [
           "finnish metal"
          ],
          [
           "finnish power metal"
          ],
          [
           "finnish soul"
          ],
          [
           "flamenco"
          ],
          [
           "flamenco guitar"
          ],
          [
           "flick hop"
          ],
          [
           "flint hip hop"
          ],
          [
           "float house"
          ],
          [
           "florida death metal"
          ],
          [
           "florida rap"
          ],
          [
           "fluxwork"
          ],
          [
           "fo jing"
          ],
          [
           "focus"
          ],
          [
           "focus beats"
          ],
          [
           "focus trance"
          ],
          [
           "folclor afrocolombiano"
          ],
          [
           "folclor colombiano"
          ],
          [
           "folclore extremeno"
          ],
          [
           "folclore jujeno"
          ],
          [
           "folclore navarra"
          ],
          [
           "folclore salteno"
          ],
          [
           "folclore tucumano"
          ],
          [
           "folk"
          ],
          [
           "folk metal"
          ],
          [
           "folk punk"
          ],
          [
           "folk rock"
          ],
          [
           "folk rock italiano"
          ],
          [
           "folk-pop"
          ],
          [
           "folklore argentino"
          ],
          [
           "folklore boliviano"
          ],
          [
           "folklore chileno"
          ],
          [
           "folklore ecuatoriano"
          ],
          [
           "folklore peruano"
          ],
          [
           "folklore venezolano"
          ],
          [
           "folklore veracruzano"
          ],
          [
           "folkmusik"
          ],
          [
           "folktronica"
          ],
          [
           "footwork"
          ],
          [
           "forro"
          ],
          [
           "forro tradicional"
          ],
          [
           "fort worth indie"
          ],
          [
           "fourth world"
          ],
          [
           "francoton"
          ],
          [
           "freak folk"
          ],
          [
           "freakbeat"
          ],
          [
           "free folk"
          ],
          [
           "free improvisation"
          ],
          [
           "free jazz"
          ],
          [
           "freestyle"
          ],
          [
           "french baroque"
          ],
          [
           "french classical piano"
          ],
          [
           "french contemporary classical"
          ],
          [
           "french death metal"
          ],
          [
           "french dnb"
          ],
          [
           "french hip hop"
          ],
          [
           "french indie folk"
          ],
          [
           "french indie pop"
          ],
          [
           "french indietronica"
          ],
          [
           "french jazz"
          ],
          [
           "french metal"
          ],
          [
           "french movie tunes"
          ],
          [
           "french opera"
          ],
          [
           "french orchestra"
          ],
          [
           "french pop"
          ],
          [
           "french post-punk"
          ],
          [
           "french psychedelic"
          ],
          [
           "french reggae"
          ],
          [
           "french rock"
          ],
          [
           "french romanticism"
          ],
          [
           "french shoegaze"
          ],
          [
           "french soundtrack"
          ],
          [
           "french synthpop"
          ],
          [
           "french techno"
          ],
          [
           "frenchcore"
          ],
          [
           "full on"
          ],
          [
           "funana"
          ],
          [
           "funeral doom"
          ],
          [
           "funk"
          ],
          [
           "funk 150 bpm"
          ],
          [
           "funk carioca"
          ],
          [
           "funk das antigas"
          ],
          [
           "funk metal"
          ],
          [
           "funk mexicano"
          ],
          [
           "funk ostentacao"
          ],
          [
           "funk paulista"
          ],
          [
           "funk pop"
          ],
          [
           "funk rock"
          ],
          [
           "funky breaks"
          ],
          [
           "funky tech house"
          ],
          [
           "future bass"
          ],
          [
           "future funk"
          ],
          [
           "future garage"
          ],
          [
           "future house"
          ],
          [
           "future rock"
          ],
          [
           "futurepop"
          ],
          [
           "g funk"
          ],
          [
           "gabba"
          ],
          [
           "gabonese pop"
          ],
          [
           "gaian doom"
          ],
          [
           "gainesville indie"
          ],
          [
           "gaita zuliana"
          ],
          [
           "galante era"
          ],
          [
           "gamelan"
          ],
          [
           "gaming dubstep"
          ],
          [
           "gaming edm"
          ],
          [
           "gangster rap"
          ],
          [
           "garage house"
          ],
          [
           "garage pop"
          ],
          [
           "garage psych"
          ],
          [
           "garage punk"
          ],
          [
           "garage punk blues"
          ],
          [
           "garage rock"
          ],
          [
           "garage rock revival"
          ],
          [
           "gauze pop"
          ],
          [
           "gbvfi"
          ],
          [
           "geek folk"
          ],
          [
           "geek rock"
          ],
          [
           "georgian folk"
          ],
          [
           "german alternative rock"
          ],
          [
           "german baroque"
          ],
          [
           "german choir"
          ],
          [
           "german classical piano"
          ],
          [
           "german country"
          ],
          [
           "german dance"
          ],
          [
           "german hard rock"
          ],
          [
           "german heavy metal"
          ],
          [
           "german house"
          ],
          [
           "german indie"
          ],
          [
           "german jazz"
          ],
          [
           "german literature"
          ],
          [
           "german metal"
          ],
          [
           "german oi"
          ],
          [
           "german opera"
          ],
          [
           "german orchestra"
          ],
          [
           "german pop"
          ],
          [
           "german pop rock"
          ],
          [
           "german post-hardcore"
          ],
          [
           "german power metal"
          ],
          [
           "german punk"
          ],
          [
           "german renaissance"
          ],
          [
           "german rock"
          ],
          [
           "german romanticism"
          ],
          [
           "german show tunes"
          ],
          [
           "german soundtrack"
          ],
          [
           "german techno"
          ],
          [
           "german thrash metal"
          ],
          [
           "german trance"
          ],
          [
           "german underground rap"
          ],
          [
           "ghanaian hip hop"
          ],
          [
           "ghanaian traditional"
          ],
          [
           "ghazal"
          ],
          [
           "ghent indie"
          ],
          [
           "girl group"
          ],
          [
           "glam metal"
          ],
          [
           "glam punk"
          ],
          [
           "glam rock"
          ],
          [
           "glee club"
          ],
          [
           "glitch"
          ],
          [
           "glitch hop"
          ],
          [
           "glitch pop"
          ],
          [
           "glitchcore"
          ],
          [
           "go-go"
          ],
          [
           "goregrind"
          ],
          [
           "gospel"
          ],
          [
           "gospel antigas"
          ],
          [
           "gospel blues"
          ],
          [
           "gospel italiano"
          ],
          [
           "gospel r&b"
          ],
          [
           "gospel rap"
          ],
          [
           "gospel singers"
          ],
          [
           "gospel soul"
          ],
          [
           "gothabilly"
          ],
          [
           "gothenburg indie"
          ],
          [
           "gothenburg metal"
          ],
          [
           "gothic alternative"
          ],
          [
           "gothic americana"
          ],
          [
           "gothic black metal"
          ],
          [
           "gothic metal"
          ],
          [
           "gothic post-punk"
          ],
          [
           "gothic rock"
          ],
          [
           "gothic symphonic metal"
          ],
          [
           "gqom"
          ],
          [
           "grand rapids indie"
          ],
          [
           "grave wave"
          ],
          [
           "greek clarinet"
          ],
          [
           "greek contemporary classical"
          ],
          [
           "greek folk"
          ],
          [
           "greek guitar"
          ],
          [
           "greek house"
          ],
          [
           "greek jazz"
          ],
          [
           "greek pop"
          ],
          [
           "greek swing"
          ],
          [
           "gregorian chant"
          ],
          [
           "grime"
          ],
          [
           "grindcore"
          ],
          [
           "griot"
          ],
          [
           "groove metal"
          ],
          [
           "groove room"
          ],
          [
           "grunge"
          ],
          [
           "grunge pop"
          ],
          [
           "grupera"
          ],
          [
           "gruperas inmortales"
          ],
          [
           "guadalajara indie"
          ],
          [
           "guam indie"
          ],
          [
           "guaracha"
          ],
          [
           "guatemalan pop"
          ],
          [
           "guidance"
          ],
          [
           "guinean pop"
          ],
          [
           "guitarra argentina"
          ],
          [
           "guitarra clasica"
          ],
          [
           "guitarra portuguesa"
          ],
          [
           "gujarati garba"
          ],
          [
           "gujarati pop"
          ],
          [
           "guzheng"
          ],
          [
           "gymcore"
          ],
          [
           "gypsy"
          ],
          [
           "gypsy jazz"
          ],
          [
           "gypsy punk"
          ],
          [
           "haitian traditional"
          ],
          [
           "halifax indie"
          ],
          [
           "halloween"
          ],
          [
           "hamburg electronic"
          ],
          [
           "hammered dulcimer"
          ],
          [
           "hammond organ"
          ],
          [
           "hands up"
          ],
          [
           "hangpan"
          ],
          [
           "happy hardcore"
          ],
          [
           "hard alternative"
          ],
          [
           "hard bop"
          ],
          [
           "hard minimal techno"
          ],
          [
           "hard rock"
          ],
          [
           "hard rock brasileiro"
          ],
          [
           "hardcore"
          ],
          [
           "hardcore hip hop"
          ],
          [
           "hardcore punk"
          ],
          [
           "hardcore techno"
          ],
          [
           "hardstyle"
          ],
          [
           "harlem hip hop"
          ],
          [
           "harlem renaissance"
          ],
          [
           "harmonica blues"
          ],
          [
           "harmonica jazz"
          ],
          [
           "harp"
          ],
          [
           "harpsichord"
          ],
          [
           "haryanvi pop"
          ],
          [
           "hauntology"
          ],
          [
           "hawaiian"
          ],
          [
           "hawaiian hip hop"
          ],
          [
           "hawaiian indie"
          ],
          [
           "healing"
          ],
          [
           "heartland rock"
          ],
          [
           "hi-nrg"
          ],
          [
           "highlife"
          ],
          [
           "hindi hip hop"
          ],
          [
           "hindi indie"
          ],
          [
           "hindustani classical"
          ],
          [
           "hindustani instrumental"
          ],
          [
           "hindustani vocal"
          ],
          [
           "hip hop"
          ],
          [
           "hip hop cubano"
          ],
          [
           "hip house"
          ],
          [
           "hip pop"
          ],
          [
           "hiplife"
          ],
          [
           "histoire pour enfants"
          ],
          [
           "historic classical performance"
          ],
          [
           "historic orchestral performance"
          ],
          [
           "historic piano performance"
          ],
          [
           "historic string quartet"
          ],
          [
           "historical keyboard"
          ],
          [
           "historically informed performance"
          ],
          [
           "hoerspiel"
          ],
          [
           "hokkien pop"
          ],
          [
           "hollywood"
          ],
          [
           "hong kong hip hop"
          ],
          [
           "hong kong indie"
          ],
          [
           "hong kong rock"
          ],
          [
           "honky tonk"
          ],
          [
           "honky-tonk piano"
          ],
          [
           "hopebeat"
          ],
          [
           "horror punk"
          ],
          [
           "horror synth"
          ],
          [
           "horrorcore"
          ],
          [
           "house"
          ],
          [
           "houston rap"
          ],
          [
           "huapango"
          ],
          [
           "huayno"
          ],
          [
           "hula"
          ],
          [
           "humppa"
          ],
          [
           "hungarian choir"
          ],
          [
           "hungarian classical performance"
          ],
          [
           "hungarian classical piano"
          ],
          [
           "hungarian contemporary classical"
          ],
          [
           "hungarian edm"
          ],
          [
           "hungarian folk"
          ],
          [
           "hungarian pop"
          ],
          [
           "hungarian rock"
          ],
          [
           "hungarian techno"
          ],
          [
           "hurdy-gurdy"
          ],
          [
           "hyperpop"
          ],
          [
           "hyphy"
          ],
          [
           "icelandic classical"
          ],
          [
           "icelandic electronic"
          ],
          [
           "icelandic experimental"
          ],
          [
           "icelandic folk"
          ],
          [
           "icelandic indie"
          ],
          [
           "icelandic jazz"
          ],
          [
           "icelandic pop"
          ],
          [
           "icelandic rock"
          ],
          [
           "idaho indie"
          ],
          [
           "idol"
          ],
          [
           "idol rock"
          ],
          [
           "ilahiler"
          ],
          [
           "ilocano pop"
          ],
          [
           "impressionism"
          ],
          [
           "indian classical"
          ],
          [
           "indian edm"
          ],
          [
           "indian folk"
          ],
          [
           "indian fusion"
          ],
          [
           "indian indie"
          ],
          [
           "indian instrumental"
          ],
          [
           "indian jazz"
          ],
          [
           "indiana hip hop"
          ],
          [
           "indie anthem-folk"
          ],
          [
           "indie cafe pop"
          ],
          [
           "indie deutschrap"
          ],
          [
           "indie dream pop"
          ],
          [
           "indie electronica"
          ],
          [
           "indie electropop"
          ],
          [
           "indie folk"
          ],
          [
           "indie game soundtrack"
          ],
          [
           "indie garage rock"
          ],
          [
           "indie hip hop"
          ],
          [
           "indie jazz"
          ],
          [
           "indie pop"
          ],
          [
           "indie pop rap"
          ],
          [
           "indie poptimism"
          ],
          [
           "indie psych-pop"
          ],
          [
           "indie punk"
          ],
          [
           "indie quebecois"
          ],
          [
           "indie r&b"
          ],
          [
           "indie rock"
          ],
          [
           "indie rock mexicano"
          ],
          [
           "indie rockism"
          ],
          [
           "indie shoegaze"
          ],
          [
           "indie singer-songwriter"
          ],
          [
           "indie soul"
          ],
          [
           "indie surf"
          ],
          [
           "indie triste"
          ],
          [
           "indiecoustica"
          ],
          [
           "indietronica"
          ],
          [
           "indonesian hip hop"
          ],
          [
           "indonesian indie"
          ],
          [
           "indonesian pop"
          ],
          [
           "indonesian r&b"
          ],
          [
           "indonesian worship"
          ],
          [
           "industrial"
          ],
          [
           "industrial hardcore"
          ],
          [
           "industrial hip hop"
          ],
          [
           "industrial metal"
          ],
          [
           "industrial rock"
          ],
          [
           "indy indie"
          ],
          [
           "instrumental acoustic guitar"
          ],
          [
           "instrumental bluegrass"
          ],
          [
           "instrumental funk"
          ],
          [
           "instrumental grime"
          ],
          [
           "instrumental math rock"
          ],
          [
           "instrumental post-rock"
          ],
          [
           "instrumental progressive metal"
          ],
          [
           "instrumental rock"
          ],
          [
           "instrumental soul"
          ],
          [
           "instrumental stoner rock"
          ],
          [
           "instrumental surf"
          ],
          [
           "intelligent dance music"
          ],
          [
           "iowa hip hop"
          ],
          [
           "irish accordion"
          ],
          [
           "irish ballad"
          ],
          [
           "irish banjo"
          ],
          [
           "irish classical"
          ],
          [
           "irish country"
          ],
          [
           "irish dance"
          ],
          [
           "irish fiddle"
          ],
          [
           "irish folk"
          ],
          [
           "irish hip hop"
          ],
          [
           "irish indie"
          ],
          [
           "irish metal"
          ],
          [
           "irish pop"
          ],
          [
           "irish pub song"
          ],
          [
           "irish rock"
          ],
          [
           "irish singer-songwriter"
          ],
          [
           "iskelma"
          ],
          [
           "islamic recitation"
          ],
          [
           "isle of wight indie"
          ],
          [
           "israeli classical"
          ],
          [
           "israeli classical piano"
          ],
          [
           "israeli folk"
          ],
          [
           "israeli hip hop"
          ],
          [
           "israeli mediterranean"
          ],
          [
           "israeli pop"
          ],
          [
           "israeli rock"
          ],
          [
           "israeli singer-songwriter"
          ],
          [
           "israeli techno"
          ],
          [
           "italian adult pop"
          ],
          [
           "italian baritone"
          ],
          [
           "italian baroque"
          ],
          [
           "italian baroque ensemble"
          ],
          [
           "italian bass"
          ],
          [
           "italian blues"
          ],
          [
           "italian classical guitar"
          ],
          [
           "italian classical piano"
          ],
          [
           "italian contemporary jazz"
          ],
          [
           "italian disco"
          ],
          [
           "italian gothic"
          ],
          [
           "italian gothic metal"
          ],
          [
           "italian indie pop"
          ],
          [
           "italian jazz"
          ],
          [
           "italian library music"
          ],
          [
           "italian mandolin"
          ],
          [
           "italian metal"
          ],
          [
           "italian mezzo-soprano"
          ],
          [
           "italian modern prog"
          ],
          [
           "italian opera"
          ],
          [
           "italian orchestra"
          ],
          [
           "italian pop rock"
          ],
          [
           "italian power metal"
          ],
          [
           "italian progressive metal"
          ],
          [
           "italian progressive rock"
          ],
          [
           "italian renaissance"
          ],
          [
           "italian romanticism"
          ],
          [
           "italian soprano"
          ],
          [
           "italian soundtrack"
          ],
          [
           "italian techno"
          ],
          [
           "italian tenor"
          ],
          [
           "italian violin"
          ],
          [
           "italo dance"
          ],
          [
           "italo house"
          ],
          [
           "j-acoustic"
          ],
          [
           "j-ambient"
          ],
          [
           "j-dance"
          ],
          [
           "j-division"
          ],
          [
           "j-idol"
          ],
          [
           "j-metal"
          ],
          [
           "j-pixie"
          ],
          [
           "j-pop"
          ],
          [
           "j-pop girl group"
          ],
          [
           "j-poprock"
          ],
          [
           "j-punk"
          ],
          [
           "j-reggae"
          ],
          [
           "j-rock"
          ],
          [
           "jacksonville indie"
          ],
          [
           "jam band"
          ],
          [
           "jamgrass"
          ],
          [
           "jamtronica"
          ],
          [
           "jangle pop"
          ],
          [
           "japanese alternative rock"
          ],
          [
           "japanese chillhop"
          ],
          [
           "japanese city pop"
          ],
          [
           "japanese classical"
          ],
          [
           "japanese classical performance"
          ],
          [
           "japanese classical piano"
          ],
          [
           "japanese concert band"
          ],
          [
           "japanese dream pop"
          ],
          [
           "japanese electronic"
          ],
          [
           "japanese electropop"
          ],
          [
           "japanese emo"
          ],
          [
           "japanese experimental"
          ],
          [
           "japanese folk"
          ],
          [
           "japanese garage rock"
          ],
          [
           "japanese girl punk"
          ],
          [
           "japanese heavy metal"
          ],
          [
           "japanese idm"
          ],
          [
           "japanese indie folk"
          ],
          [
           "japanese indie rock"
          ],
          [
           "japanese instrumental"
          ],
          [
           "japanese jazz"
          ],
          [
           "japanese jazz fusion"
          ],
          [
           "japanese jazztronica"
          ],
          [
           "japanese metalcore"
          ],
          [
           "japanese new wave"
          ],
          [
           "japanese piano"
          ],
          [
           "japanese pop punk"
          ],
          [
           "japanese post-hardcore"
          ],
          [
           "japanese power metal"
          ],
          [
           "japanese prog"
          ],
          [
           "japanese psychedelic"
          ],
          [
           "japanese punk rock"
          ],
          [
           "japanese r&b"
          ],
          [
           "japanese rockabilly"
          ],
          [
           "japanese singer-songwriter"
          ],
          [
           "japanese soundtrack"
          ],
          [
           "japanese traditional"
          ],
          [
           "japanese vgm"
          ],
          [
           "japanese vocal jazz"
          ],
          [
           "jawaiian"
          ],
          [
           "jazz"
          ],
          [
           "jazz accordion"
          ],
          [
           "jazz blues"
          ],
          [
           "jazz boom bap"
          ],
          [
           "jazz brass"
          ],
          [
           "jazz chileno"
          ],
          [
           "jazz clarinet"
          ],
          [
           "jazz colombiano"
          ],
          [
           "jazz cubano"
          ],
          [
           "jazz double bass"
          ],
          [
           "jazz drums"
          ],
          [
           "jazz flute"
          ],
          [
           "jazz funk"
          ],
          [
           "jazz fusion"
          ],
          [
           "jazz guitar"
          ],
          [
           "jazz harp"
          ],
          [
           "jazz metal"
          ],
          [
           "jazz mexicano"
          ],
          [
           "jazz orchestra"
          ],
          [
           "jazz organ"
          ],
          [
           "jazz piano"
          ],
          [
           "jazz pop"
          ],
          [
           "jazz quartet"
          ],
          [
           "jazz rap"
          ],
          [
           "jazz rock"
          ],
          [
           "jazz saxophone"
          ],
          [
           "jazz trio"
          ],
          [
           "jazz trombone"
          ],
          [
           "jazz trumpet"
          ],
          [
           "jazz tuba"
          ],
          [
           "jazz venezolano"
          ],
          [
           "jazz vibraphone"
          ],
          [
           "jazz violin"
          ],
          [
           "jazztronica"
          ],
          [
           "jewish cantorial"
          ],
          [
           "jewish hip hop"
          ],
          [
           "jig and reel"
          ],
          [
           "jordanian pop"
          ],
          [
           "joropo"
          ],
          [
           "jovem guarda"
          ],
          [
           "jug band"
          ],
          [
           "juju"
          ],
          [
           "jump blues"
          ],
          [
           "jump up"
          ],
          [
           "k-indie"
          ],
          [
           "k-pop"
          ],
          [
           "k-pop boy group"
          ],
          [
           "k-pop girl group"
          ],
          [
           "k-rap"
          ],
          [
           "kabarett"
          ],
          [
           "kabyle"
          ],
          [
           "kaneka"
          ],
          [
           "kannada bhava geethe"
          ],
          [
           "kansas city hip hop"
          ],
          [
           "kashmiri pop"
          ],
          [
           "kawaii future bass"
          ],
          [
           "kawaii metal"
          ],
          [
           "kayokyoku"
          ],
          [
           "kc indie"
          ],
          [
           "kent indie"
          ],
          [
           "kentucky hip hop"
          ],
          [
           "kentucky indie"
          ],
          [
           "kentucky metal"
          ],
          [
           "kentucky mountain folk"
          ],
          [
           "kentucky punk"
          ],
          [
           "kentucky roots"
          ],
          [
           "keroncong"
          ],
          [
           "khaleeji iraqi"
          ],
          [
           "khmer"
          ],
          [
           "kids dance party"
          ],
          [
           "kindie rock"
          ],
          [
           "kingston on indie"
          ],
          [
           "kirtan"
          ],
          [
           "kiwi rock"
          ],
          [
           "kizomba antigas"
          ],
          [
           "kleine hoerspiel"
          ],
          [
           "klezmer"
          ],
          [
           "knoxville indie"
          ],
          [
           "kodomo no ongaku"
          ],
          [
           "kolsche karneval"
          ],
          [
           "komedi"
          ],
          [
           "kompa"
          ],
          [
           "kora"
          ],
          [
           "korean classical performance"
          ],
          [
           "korean classical piano"
          ],
          [
           "korean indie rock"
          ],
          [
           "korean mask singer"
          ],
          [
           "korean pop"
          ],
          [
           "korean r&b"
          ],
          [
           "korean trap"
          ],
          [
           "koto"
          ],
          [
           "krautrock"
          ],
          [
           "kundiman"
          ],
          [
           "la indie"
          ],
          [
           "la pop"
          ],
          [
           "laboratorio"
          ],
          [
           "lafayette indie"
          ],
          [
           "laiko"
          ],
          [
           "lancashire indie"
          ],
          [
           "lancaster pa indie"
          ],
          [
           "late romantic era"
          ],
          [
           "latin"
          ],
          [
           "latin afrobeat"
          ],
          [
           "latin alternative"
          ],
          [
           "latin american classical piano"
          ],
          [
           "latin arena pop"
          ],
          [
           "latin christian"
          ],
          [
           "latin classical"
          ],
          [
           "latin funk"
          ],
          [
           "latin hip hop"
          ],
          [
           "latin house"
          ],
          [
           "latin jazz"
          ],
          [
           "latin metal"
          ],
          [
           "latin pop"
          ],
          [
           "latin rock"
          ],
          [
           "latin ska"
          ],
          [
           "latin soundtrack"
          ],
          [
           "latin talent show"
          ],
          [
           "latin tech house"
          ],
          [
           "latin viral pop"
          ],
          [
           "latin worship"
          ],
          [
           "latincore"
          ],
          [
           "latino comedy"
          ],
          [
           "latintronica"
          ],
          [
           "latinx alternative"
          ],
          [
           "latvian pop"
          ],
          [
           "lds"
          ],
          [
           "lds youth"
          ],
          [
           "lebanese pop"
          ],
          [
           "leicester indie"
          ],
          [
           "lexington ky indie"
          ],
          [
           "lgbtq+ hip hop"
          ],
          [
           "library music"
          ],
          [
           "liedermacher"
          ],
          [
           "light music"
          ],
          [
           "lilith"
          ],
          [
           "liquid funk"
          ],
          [
           "lithuanian electronic"
          ],
          [
           "liverpool indie"
          ],
          [
           "livetronica"
          ],
          [
           "lldm"
          ],
          [
           "lo star"
          ],
          [
           "lo-fi"
          ],
          [
           "lo-fi beats"
          ],
          [
           "lo-fi brasileiro"
          ],
          [
           "lo-fi chill"
          ],
          [
           "lo-fi cover"
          ],
          [
           "lo-fi emo"
          ],
          [
           "lo-fi house"
          ],
          [
           "lo-fi indie"
          ],
          [
           "lo-fi vgm"
          ],
          [
           "london rap"
          ],
          [
           "louisiana blues"
          ],
          [
           "louisiana metal"
          ],
          [
           "louisville indie"
          ],
          [
           "louisville underground"
          ],
          [
           "lounge"
          ],
          [
           "louvor"
          ],
          [
           "lovers rock"
          ],
          [
           "lullaby"
          ],
          [
           "lund indie"
          ],
          [
           "lute"
          ],
          [
           "macedonian folk"
          ],
          [
           "madchester"
          ],
          [
           "madrigal"
          ],
          [
           "magyar alternative"
          ],
          [
           "maine hip hop"
          ],
          [
           "maine indie"
          ],
          [
           "mainland chinese pop"
          ],
          [
           "makossa"
          ],
          [
           "malaysian mandopop"
          ],
          [
           "malaysian pop"
          ],
          [
           "malian blues"
          ],
          [
           "mallet"
          ],
          [
           "malmo indie"
          ],
          [
           "mambo"
          ],
          [
           "manchester hip hop"
          ],
          [
           "manchester indie"
          ],
          [
           "mande pop"
          ],
          [
           "mandolin"
          ],
          [
           "mandopop"
          ],
          [
           "manguebeat"
          ],
          [
           "manila sound"
          ],
          [
           "manitoba indie"
          ],
          [
           "mantra"
          ],
          [
           "marathi pop"
          ],
          [
           "marathi traditional"
          ],
          [
           "marching band"
          ],
          [
           "mariachi"
          ],
          [
           "mariachi cristiano"
          ],
          [
           "marimba orquesta"
          ],
          [
           "martial industrial"
          ],
          [
           "mashup"
          ],
          [
           "math rock"
          ],
          [
           "mathcore"
          ],
          [
           "mbalax"
          ],
          [
           "medieval"
          ],
          [
           "medieval folk"
          ],
          [
           "medieval rock"
          ],
          [
           "meditation"
          ],
          [
           "melancholia"
          ],
          [
           "melbourne bounce"
          ],
          [
           "melbourne bounce international"
          ],
          [
           "melbourne indie"
          ],
          [
           "mellow gold"
          ],
          [
           "melodic death metal"
          ],
          [
           "melodic deathcore"
          ],
          [
           "melodic dubstep"
          ],
          [
           "melodic groove metal"
          ],
          [
           "melodic hard rock"
          ],
          [
           "melodic hardcore"
          ],
          [
           "melodic metal"
          ],
          [
           "melodic metalcore"
          ],
          [
           "melodic power metal"
          ],
          [
           "melodic rap"
          ],
          [
           "melodic thrash"
          ],
          [
           "meme rap"
          ],
          [
           "memphis americana"
          ],
          [
           "memphis blues"
          ],
          [
           "memphis hip hop"
          ],
          [
           "memphis indie"
          ],
          [
           "memphis soul"
          ],
          [
           "mento"
          ],
          [
           "merengue"
          ],
          [
           "merengue tipico"
          ],
          [
           "merseybeat"
          ],
          [
           "messianic praise"
          ],
          [
           "metal"
          ],
          [
           "metal guitar"
          ],
          [
           "metal mineiro"
          ],
          [
           "metalcore"
          ],
          [
           "metropopolis"
          ],
          [
           "mexican classic rock"
          ],
          [
           "mexican classical"
          ],
          [
           "mexican hip hop"
          ],
          [
           "mexican indie"
          ],
          [
           "mexican pop"
          ],
          [
           "mexican pop punk"
          ],
          [
           "mexican rock"
          ],
          [
           "mexican rock-and-roll"
          ],
          [
           "mexican son"
          ],
          [
           "mexican traditional"
          ],
          [
           "miami bass"
          ],
          [
           "miami hip hop"
          ],
          [
           "miami indie"
          ],
          [
           "miami metal"
          ],
          [
           "michigan indie"
          ],
          [
           "microhouse"
          ],
          [
           "microtonal"
          ],
          [
           "middle earth"
          ],
          [
           "middle east hip hop"
          ],
          [
           "middle eastern traditional"
          ],
          [
           "midwest americana"
          ],
          [
           "midwest emo"
          ],
          [
           "military cadence"
          ],
          [
           "military rap"
          ],
          [
           "milwaukee indie"
          ],
          [
           "mindfulness"
          ],
          [
           "minecraft"
          ],
          [
           "minimal melodic techno"
          ],
          [
           "minimal tech house"
          ],
          [
           "minimal techno"
          ],
          [
           "minimal wave"
          ],
          [
           "minimalism"
          ],
          [
           "minneapolis indie"
          ],
          [
           "minneapolis metal"
          ],
          [
           "minneapolis punk"
          ],
          [
           "minneapolis sound"
          ],
          [
           "minnesota hip hop"
          ],
          [
           "mississippi hip hop"
          ],
          [
           "mississippi indie"
          ],
          [
           "mizrahi"
          ],
          [
           "mod revival"
          ],
          [
           "modern alternative pop"
          ],
          [
           "modern alternative rock"
          ],
          [
           "modern big band"
          ],
          [
           "modern blues"
          ],
          [
           "modern blues rock"
          ],
          [
           "modern bollywood"
          ],
          [
           "modern country rock"
          ],
          [
           "modern dream pop"
          ],
          [
           "modern folk rock"
          ],
          [
           "modern funk"
          ],
          [
           "modern hard rock"
          ],
          [
           "modern indie pop"
          ],
          [
           "modern jazz piano"
          ],
          [
           "modern jazz trio"
          ],
          [
           "modern old-time"
          ],
          [
           "modern performance"
          ],
          [
           "modern power pop"
          ],
          [
           "modern psychedelic folk"
          ],
          [
           "modern reggae"
          ],
          [
           "modern rock"
          ],
          [
           "modern salsa"
          ],
          [
           "modern ska punk"
          ],
          [
           "modern southern rock"
          ],
          [
           "modern string quartet"
          ],
          [
           "modern swing"
          ],
          [
           "modern uplift"
          ],
          [
           "modular synth"
          ],
          [
           "moldovan pop"
          ],
          [
           "mollywood"
          ],
          [
           "mongolian hip hop"
          ],
          [
           "mongolian pop"
          ],
          [
           "monterrey indie"
          ],
          [
           "montreal indie"
          ],
          [
           "moog"
          ],
          [
           "moombahton"
          ],
          [
           "morna"
          ],
          [
           "motivation"
          ],
          [
           "motown"
          ],
          [
           "mountain dulcimer"
          ],
          [
           "movie tunes"
          ],
          [
           "mpb"
          ],
          [
           "music box"
          ],
          [
           "music hall"
          ],
          [
           "musica afroperuana"
          ],
          [
           "musica alagoana"
          ],
          [
           "musica andina"
          ],
          [
           "musica andina colombiana"
          ],
          [
           "musica antigua"
          ],
          [
           "musica aragonesa"
          ],
          [
           "musica ayacuchana"
          ],
          [
           "musica canaria"
          ],
          [
           "musica costarricense"
          ],
          [
           "musica costena"
          ],
          [
           "musica cristiana guatemalteca"
          ],
          [
           "musica de fondo"
          ],
          [
           "musica gaucha tradicionalista"
          ],
          [
           "musica hondurena"
          ],
          [
           "musica infantil"
          ],
          [
           "musica jibara"
          ],
          [
           "musica juiz-forana"
          ],
          [
           "musica llanera"
          ],
          [
           "musica nicaraguense"
          ],
          [
           "musica para criancas"
          ],
          [
           "musica para ninos"
          ],
          [
           "musica paraibana"
          ],
          [
           "musica piemonteisa"
          ],
          [
           "musica popular colombiana"
          ],
          [
           "musica popular mineira"
          ],
          [
           "musica popular paraense"
          ],
          [
           "musica potosina"
          ],
          [
           "musica prehispanica"
          ],
          [
           "musica sarda"
          ],
          [
           "musica tradicional cubana"
          ],
          [
           "musica tropical guatemalteca"
          ],
          [
           "musical advocacy"
          ],
          [
           "musikkorps"
          ],
          [
           "musique concrete"
          ],
          [
           "musique peule"
          ],
          [
           "musique pour enfant quebecois"
          ],
          [
           "musique pour enfants"
          ],
          [
           "musique touareg"
          ],
          [
           "muzica populara"
          ],
          [
           "muzika l'yeladim"
          ],
          [
           "naija worship"
          ],
          [
           "nantes indie"
          ],
          [
           "narodna muzika"
          ],
          [
           "nashville americana"
          ],
          [
           "nashville hip hop"
          ],
          [
           "nashville indie"
          ],
          [
           "nashville singer-songwriter"
          ],
          [
           "nashville sound"
          ],
          [
           "native american"
          ],
          [
           "native american contemporary"
          ],
          [
           "native american flute"
          ],
          [
           "native american hip hop"
          ],
          [
           "native american spiritual"
          ],
          [
           "navajo"
          ],
          [
           "nederlandse hardstyle"
          ],
          [
           "nederpop"
          ],
          [
           "neo classical metal"
          ],
          [
           "neo kyma"
          ],
          [
           "neo mellow"
          ],
          [
           "neo r&b"
          ],
          [
           "neo soul"
          ],
          [
           "neo-classical"
          ],
          [
           "neo-kraut"
          ],
          [
           "neo-pagan"
          ],
          [
           "neo-progressive"
          ],
          [
           "neo-psychedelic"
          ],
          [
           "neo-rockabilly"
          ],
          [
           "neo-singer-songwriter"
          ],
          [
           "neo-synthpop"
          ],
          [
           "neo-trad metal"
          ],
          [
           "neo-traditional bluegrass"
          ],
          [
           "neo-traditional country"
          ],
          [
           "neoclassical darkwave"
          ],
          [
           "neoclassicism"
          ],
          [
           "neofolk"
          ],
          [
           "neon pop punk"
          ],
          [
           "neotango"
          ],
          [
           "nepali indie"
          ],
          [
           "nepali pop"
          ],
          [
           "nerdcore"
          ],
          [
           "neue deutsche harte"
          ],
          [
           "neue deutsche todeskunst"
          ],
          [
           "neue deutsche welle"
          ],
          [
           "neurofunk"
          ],
          [
           "new age"
          ],
          [
           "new age piano"
          ],
          [
           "new americana"
          ],
          [
           "new beat"
          ],
          [
           "new comedy"
          ],
          [
           "new england americana"
          ],
          [
           "new england emo"
          ],
          [
           "new french touch"
          ],
          [
           "new isolationism"
          ],
          [
           "new jack swing"
          ],
          [
           "new jersey hardcore"
          ],
          [
           "new jersey indie"
          ],
          [
           "new jersey punk"
          ],
          [
           "new jersey rap"
          ],
          [
           "new mexico music"
          ],
          [
           "new orleans blues"
          ],
          [
           "new orleans funk"
          ],
          [
           "new orleans indie"
          ],
          [
           "new orleans jazz"
          ],
          [
           "new orleans rap"
          ],
          [
           "new rave"
          ],
          [
           "new romantic"
          ],
          [
           "new tribe"
          ],
          [
           "new wave"
          ],
          [
           "new wave of thrash metal"
          ],
          [
           "new wave pop"
          ],
          [
           "new weird america"
          ],
          [
           "new york death metal"
          ],
          [
           "new york drill"
          ],
          [
           "new zealand classical"
          ],
          [
           "newcastle indie"
          ],
          [
           "newcastle nsw indie"
          ],
          [
           "nigerian hip hop"
          ],
          [
           "nigerian pop"
          ],
          [
           "nightcore"
          ],
          [
           "nightrun"
          ],
          [
           "ninja"
          ],
          [
           "nintendocore"
          ],
          [
           "nisiotika"
          ],
          [
           "nl folk"
          ],
          [
           "no wave"
          ],
          [
           "noise pop"
          ],
          [
           "noise punk"
          ],
          [
           "noise rock"
          ],
          [
           "nordic classical piano"
          ],
          [
           "nordic contemporary classical"
          ],
          [
           "nordic folk"
          ],
          [
           "nordic house"
          ],
          [
           "nordic orchestra"
          ],
          [
           "nordic post-rock"
          ],
          [
           "nordic soundtrack"
          ],
          [
           "norman ok indie"
          ],
          [
           "norsk lovsang"
          ],
          [
           "norteno"
          ],
          [
           "norteno-sax"
          ],
          [
           "north carolina emo"
          ],
          [
           "north carolina hip hop"
          ],
          [
           "north carolina indie"
          ],
          [
           "north carolina metal"
          ],
          [
           "north carolina roots"
          ],
          [
           "north east england indie"
          ],
          [
           "northern irish indie"
          ],
          [
           "northern irish punk"
          ],
          [
           "northern soul"
          ],
          [
           "norwegian black metal"
          ],
          [
           "norwegian choir"
          ],
          [
           "norwegian classical"
          ],
          [
           "norwegian contemporary jazz"
          ],
          [
           "norwegian death metal"
          ],
          [
           "norwegian experimental"
          ],
          [
           "norwegian hip hop"
          ],
          [
           "norwegian indie"
          ],
          [
           "norwegian jazz"
          ],
          [
           "norwegian metal"
          ],
          [
           "norwegian pop"
          ],
          [
           "norwegian pop rap"
          ],
          [
           "norwegian punk rock"
          ],
          [
           "norwegian rock"
          ],
          [
           "norwegian singer-songwriter"
          ],
          [
           "norwegian space disco"
          ],
          [
           "nottingham indie"
          ],
          [
           "nouvelle chanson francaise"
          ],
          [
           "nova canco"
          ],
          [
           "nova mpb"
          ],
          [
           "nova musica pernambucana"
          ],
          [
           "novelty"
          ],
          [
           "nu age"
          ],
          [
           "nu disco"
          ],
          [
           "nu gaze"
          ],
          [
           "nu jazz"
          ],
          [
           "nu metal"
          ],
          [
           "nu skool breaks"
          ],
          [
           "nu-cumbia"
          ],
          [
           "nu-metalcore"
          ],
          [
           "nubian traditional"
          ],
          [
           "nueva cancion"
          ],
          [
           "nueva ola chilena"
          ],
          [
           "nueva ola peruana"
          ],
          [
           "nuevo flamenco"
          ],
          [
           "nuevo folklore mexicano"
          ],
          [
           "nuevo regional mexicano"
          ],
          [
           "nuevo tango"
          ],
          [
           "nursery"
          ],
          [
           "nwobhm"
          ],
          [
           "nwothm"
          ],
          [
           "ny roots"
          ],
          [
           "nyc pop"
          ],
          [
           "nyc rap"
          ],
          [
           "nyhc"
          ],
          [
           "nz christian"
          ],
          [
           "nz folk"
          ],
          [
           "nz hardcore"
          ],
          [
           "nz indie"
          ],
          [
           "nz pop"
          ],
          [
           "nz punk"
          ],
          [
           "nz reggae"
          ],
          [
           "nz singer-songwriter"
          ],
          [
           "oakland hip hop"
          ],
          [
           "oakland indie"
          ],
          [
           "oc indie"
          ],
          [
           "oc rap"
          ],
          [
           "oceania soundtrack"
          ],
          [
           "ohio hip hop"
          ],
          [
           "ohio indie"
          ],
          [
           "oi"
          ],
          [
           "ok indie"
          ],
          [
           "okc indie"
          ],
          [
           "okinawan pop"
          ],
          [
           "oklahoma country"
          ],
          [
           "old school dancehall"
          ],
          [
           "old school hip hop"
          ],
          [
           "old school rap francais"
          ],
          [
           "old school thrash"
          ],
          [
           "old school uk hip hop"
          ],
          [
           "old west"
          ],
          [
           "old-time"
          ],
          [
           "old-time fiddle"
          ],
          [
           "olympia wa indie"
          ],
          [
           "omaha indie"
          ],
          [
           "one-person band"
          ],
          [
           "ontario indie"
          ],
          [
           "opera"
          ],
          [
           "opera chorus"
          ],
          [
           "opera metal"
          ],
          [
           "operatic pop"
          ],
          [
           "operetta"
          ],
          [
           "opm"
          ],
          [
           "oratory"
          ],
          [
           "orchestra"
          ],
          [
           "orchestral performance"
          ],
          [
           "orebro indie"
          ],
          [
           "organic ambient"
          ],
          [
           "organic electronic"
          ],
          [
           "organic house"
          ],
          [
           "orgcore"
          ],
          [
           "oriental classical"
          ],
          [
           "orkney and shetland folk"
          ],
          [
           "orlando indie"
          ],
          [
           "orquesta tipica"
          ],
          [
           "orthodox chant"
          ],
          [
           "oshare kei"
          ],
          [
           "otacore"
          ],
          [
           "oth indie"
          ],
          [
           "ottawa indie"
          ],
          [
           "ottawa rap"
          ],
          [
           "oud"
          ],
          [
           "outer hip hop"
          ],
          [
           "outlaw country"
          ],
          [
           "outsider"
          ],
          [
           "outsider house"
          ],
          [
           "oxford choir"
          ],
          [
           "oxford indie"
          ],
          [
           "p funk"
          ],
          [
           "pagan black metal"
          ],
          [
           "pagode"
          ],
          [
           "pagode baiano"
          ],
          [
           "paisley underground"
          ],
          [
           "pakistani folk"
          ],
          [
           "pakistani hip hop"
          ],
          [
           "pakistani pop"
          ],
          [
           "palestinian pop"
          ],
          [
           "palm desert scene"
          ],
          [
           "panamanian pop"
          ],
          [
           "panamanian rock"
          ],
          [
           "panpipe"
          ],
          [
           "papuri"
          ],
          [
           "parody"
          ],
          [
           "partido alto"
          ],
          [
           "partyschlager"
          ],
          [
           "pei indie"
          ],
          [
           "permanent wave"
          ],
          [
           "perreo"
          ],
          [
           "persian pop"
          ],
          [
           "persian traditional"
          ],
          [
           "perth indie"
          ],
          [
           "peruvian hip hop"
          ],
          [
           "peruvian rock"
          ],
          [
           "pet calming"
          ],
          [
           "philly indie"
          ],
          [
           "philly rap"
          ],
          [
           "philly soul"
          ],
          [
           "phoenix indie"
          ],
          [
           "phonk"
          ],
          [
           "pianissimo"
          ],
          [
           "piano blues"
          ],
          [
           "piano cover"
          ],
          [
           "piano mpb"
          ],
          [
           "piano rock"
          ],
          [
           "pibroch"
          ],
          [
           "piedmont blues"
          ],
          [
           "pinoy hip hop"
          ],
          [
           "pinoy indie"
          ],
          [
           "pinoy pop punk"
          ],
          [
           "pinoy praise"
          ],
          [
           "pinoy r&b"
          ],
          [
           "pinoy reggae"
          ],
          [
           "pinoy rock"
          ],
          [
           "pinoy traditional"
          ],
          [
           "pinoy trap"
          ],
          [
           "pirate"
          ],
          [
           "pittsburgh indie"
          ],
          [
           "pittsburgh rap"
          ],
          [
           "pittsburgh rock"
          ],
          [
           "pixie"
          ],
          [
           "plunderphonics"
          ],
          [
           "poetry"
          ],
          [
           "polca paraguaya"
          ],
          [
           "polish blues"
          ],
          [
           "polish classical"
          ],
          [
           "polish classical piano"
          ],
          [
           "polish contemporary classical"
          ],
          [
           "polish jazz"
          ],
          [
           "polish modern jazz"
          ],
          [
           "polish pop"
          ],
          [
           "polish post-rock"
          ],
          [
           "polish reggae"
          ],
          [
           "polish rock"
          ],
          [
           "political hip hop"
          ],
          [
           "polka"
          ],
          [
           "polynesian hip hop"
          ],
          [
           "polynesian pop"
          ],
          [
           "polyphony"
          ],
          [
           "pony"
          ],
          [
           "pop"
          ],
          [
           "pop argentino"
          ],
          [
           "pop chileno"
          ],
          [
           "pop dance"
          ],
          [
           "pop edm"
          ],
          [
           "pop electronico"
          ],
          [
           "pop emo"
          ],
          [
           "pop flamenco"
          ],
          [
           "pop folk"
          ],
          [
           "pop house"
          ],
          [
           "pop nacional"
          ],
          [
           "pop nacional antigas"
          ],
          [
           "pop peruano"
          ],
          [
           "pop punk"
          ],
          [
           "pop quebecois"
          ],
          [
           "pop r&b"
          ],
          [
           "pop rap"
          ],
          [
           "pop reggaeton"
          ],
          [
           "pop rock"
          ],
          [
           "pop rock brasileiro"
          ],
          [
           "pop romantico"
          ],
          [
           "pop soul"
          ],
          [
           "pop venezolano"
          ],
          [
           "pop violin"
          ],
          [
           "popgaze"
          ],
          [
           "popping"
          ],
          [
           "pops orchestra"
          ],
          [
           "popwave"
          ],
          [
           "pornogrind"
          ],
          [
           "porro"
          ],
          [
           "portland hip hop"
          ],
          [
           "portland indie"
          ],
          [
           "portland metal"
          ],
          [
           "portland punk"
          ],
          [
           "portuguese early music"
          ],
          [
           "post-disco"
          ],
          [
           "post-disco soul"
          ],
          [
           "post-doom metal"
          ],
          [
           "post-grunge"
          ],
          [
           "post-hardcore"
          ],
          [
           "post-metal"
          ],
          [
           "post-minimalism"
          ],
          [
           "post-post-hardcore"
          ],
          [
           "post-punk"
          ],
          [
           "post-punk argentina"
          ],
          [
           "post-rock"
          ],
          [
           "post-romantic era"
          ],
          [
           "post-screamo"
          ],
          [
           "post-teen pop"
          ],
          [
           "power metal"
          ],
          [
           "power pop"
          ],
          [
           "power thrash"
          ],
          [
           "power-pop punk"
          ],
          [
           "praise"
          ],
          [
           "prepared piano"
          ],
          [
           "preschool children's music"
          ],
          [
           "prog quebec"
          ],
          [
           "progressive alternative"
          ],
          [
           "progressive bluegrass"
          ],
          [
           "progressive deathcore"
          ],
          [
           "progressive electro house"
          ],
          [
           "progressive groove metal"
          ],
          [
           "progressive house"
          ],
          [
           "progressive jazz fusion"
          ],
          [
           "progressive metal"
          ],
          [
           "progressive metalcore"
          ],
          [
           "progressive post-hardcore"
          ],
          [
           "progressive power metal"
          ],
          [
           "progressive psytrance"
          ],
          [
           "progressive rock"
          ],
          [
           "progressive sludge"
          ],
          [
           "progressive trance"
          ],
          [
           "progressive trance house"
          ],
          [
           "progressive uplifting trance"
          ],
          [
           "proto-rap"
          ],
          [
           "proto-techno"
          ],
          [
           "protopunk"
          ],
          [
           "psalmen"
          ],
          [
           "psicodelia brasileira"
          ],
          [
           "psybass"
          ],
          [
           "psychedelic blues-rock"
          ],
          [
           "psychedelic doom"
          ],
          [
           "psychedelic folk"
          ],
          [
           "psychedelic folk rock"
          ],
          [
           "psychedelic hip hop"
          ],
          [
           "psychedelic pop"
          ],
          [
           "psychedelic punk"
          ],
          [
           "psychedelic rock"
          ],
          [
           "psychedelic soul"
          ],
          [
           "psychedelic trance"
          ],
          [
           "psychill"
          ],
          [
           "psychobilly"
          ],
          [
           "pub rock"
          ],
          [
           "puerto rican folk"
          ],
          [
           "puerto rican pop"
          ],
          [
           "puerto rican rock"
          ],
          [
           "punjabi folk"
          ],
          [
           "punjabi hip hop"
          ],
          [
           "punjabi pop"
          ],
          [
           "punk"
          ],
          [
           "punk 'n' roll"
          ],
          [
           "punk blues"
          ],
          [
           "punk rock italiano"
          ],
          [
           "punk rock mexicano"
          ],
          [
           "punta"
          ],
          [
           "purple sound"
          ],
          [
           "qawwali"
          ],
          [
           "quartetto d'archi"
          ],
          [
           "quatuor a cordes"
          ],
          [
           "quebec death metal"
          ],
          [
           "quebec indie"
          ],
          [
           "queens hip hop"
          ],
          [
           "queer country"
          ],
          [
           "queercore"
          ],
          [
           "quiet storm"
          ],
          [
           "quran"
          ],
          [
           "r&b"
          ],
          [
           "r&b en espanol"
          ],
          [
           "rabindra sangeet"
          ],
          [
           "radio symphony"
          ],
          [
           "ragtime"
          ],
          [
           "rai"
          ],
          [
           "ranchera"
          ],
          [
           "rap"
          ],
          [
           "rap chileno"
          ],
          [
           "rap conciencia"
          ],
          [
           "rap conscient"
          ],
          [
           "rap cristiano"
          ],
          [
           "rap dominicano"
          ],
          [
           "rap kreyol"
          ],
          [
           "rap latina"
          ],
          [
           "rap metal"
          ],
          [
           "rap nacional antigo"
          ],
          [
           "rap napoletano"
          ],
          [
           "rap rock"
          ],
          [
           "rap underground mexicano"
          ],
          [
           "rare groove"
          ],
          [
           "rave"
          ],
          [
           "rawstyle"
          ],
          [
           "reading"
          ],
          [
           "reading indie"
          ],
          [
           "rebel blues"
          ],
          [
           "rebetiko"
          ],
          [
           "recorder"
          ],
          [
           "red dirt"
          ],
          [
           "redneck"
          ],
          [
           "reggae"
          ],
          [
           "reggae en espanol"
          ],
          [
           "reggae fusion"
          ],
          [
           "reggae rock"
          ],
          [
           "reggaeton"
          ],
          [
           "reggaeton colombiano"
          ],
          [
           "reggaeton cristiano"
          ],
          [
           "reggaeton flow"
          ],
          [
           "reggaeton mexicano"
          ],
          [
           "regional mexican"
          ],
          [
           "relaxative"
          ],
          [
           "renaissance"
          ],
          [
           "rennes indie"
          ],
          [
           "retro metal"
          ],
          [
           "retro soul"
          ],
          [
           "rhode island indie"
          ],
          [
           "rhode island rap"
          ],
          [
           "rhythm and blues"
          ],
          [
           "riddim"
          ],
          [
           "rif"
          ],
          [
           "riot grrrl"
          ],
          [
           "ritmo kombina"
          ],
          [
           "rochester mn indie"
          ],
          [
           "rochester ny indie"
          ],
          [
           "rock"
          ],
          [
           "rock alternatif francais"
          ],
          [
           "rock alternativo brasileiro"
          ],
          [
           "rock andaluz"
          ],
          [
           "rock baiano"
          ],
          [
           "rock brasiliense"
          ],
          [
           "rock chapin"
          ],
          [
           "rock cristiano"
          ],
          [
           "rock drums"
          ],
          [
           "rock en espanol"
          ],
          [
           "rock gaucho"
          ],
          [
           "rock independant francais"
          ],
          [
           "rock kapak"
          ],
          [
           "rock keyboard"
          ],
          [
           "rock nacional"
          ],
          [
           "rock nacional brasileiro"
          ],
          [
           "rock pernambucano"
          ],
          [
           "rock progressif francais"
          ],
          [
           "rock steady"
          ],
          [
           "rock urbano mexicano"
          ],
          [
           "rock-and-roll"
          ],
          [
           "rockabilly"
          ],
          [
           "rockabilly en espanol"
          ],
          [
           "roda de samba"
          ],
          [
           "romanian classical piano"
          ],
          [
           "romanian electronic"
          ],
          [
           "romanian folk"
          ],
          [
           "romanian pop"
          ],
          [
           "romanian rock"
          ],
          [
           "romantico"
          ],
          [
           "roots americana"
          ],
          [
           "roots reggae"
          ],
          [
           "roots rock"
          ],
          [
           "roots worship"
          ],
          [
           "rosary"
          ],
          [
           "rumba"
          ],
          [
           "rumba congolaise"
          ],
          [
           "rune folk"
          ],
          [
           "russian alternative rock"
          ],
          [
           "russian ccm"
          ],
          [
           "russian chanson"
          ],
          [
           "russian choir"
          ],
          [
           "russian classical piano"
          ],
          [
           "russian dance"
          ],
          [
           "russian edm"
          ],
          [
           "russian folk"
          ],
          [
           "russian folk rock"
          ],
          [
           "russian jazz"
          ],
          [
           "russian metal"
          ],
          [
           "russian metalcore"
          ],
          [
           "russian modern classical"
          ],
          [
           "russian orchestra"
          ],
          [
           "russian pop"
          ],
          [
           "russian post-punk"
          ],
          [
           "russian punk"
          ],
          [
           "russian rock"
          ],
          [
           "russian romanticism"
          ],
          [
           "russian shoegaze"
          ],
          [
           "russian trance"
          ],
          [
           "rva indie"
          ],
          [
           "rwandan traditional"
          ],
          [
           "ryukyu ongaku"
          ],
          [
           "sacramento hip hop"
          ],
          [
           "sacramento indie"
          ],
          [
           "sacred steel"
          ],
          [
           "sad rap"
          ],
          [
           "salsa"
          ],
          [
           "salsa choke"
          ],
          [
           "salsa colombiana"
          ],
          [
           "salsa cubana"
          ],
          [
           "salsa international"
          ],
          [
           "salsa peruana"
          ],
          [
           "salsa puertorriquena"
          ],
          [
           "salsa venezolana"
          ],
          [
           "samba"
          ],
          [
           "samba de roda"
          ],
          [
           "samba moderno"
          ],
          [
           "samba-enredo"
          ],
          [
           "samba-jazz"
          ],
          [
           "samba-rock"
          ],
          [
           "san antonio rap"
          ],
          [
           "san diego indie"
          ],
          [
           "san diego rap"
          ],
          [
           "san marcos tx indie"
          ],
          [
           "sandalwood"
          ],
          [
           "sarod"
          ],
          [
           "saskatchewan indie"
          ],
          [
           "scam rap"
          ],
          [
           "scandinavian r&b"
          ],
          [
           "scandipop"
          ],
          [
           "schlager"
          ],
          [
           "scorecore"
          ],
          [
           "scottish electronic"
          ],
          [
           "scottish fiddle"
          ],
          [
           "scottish folk"
          ],
          [
           "scottish hip hop"
          ],
          [
           "scottish indie"
          ],
          [
           "scottish jazz"
          ],
          [
           "scottish metal"
          ],
          [
           "scottish new wave"
          ],
          [
           "scottish rock"
          ],
          [
           "scottish singer-songwriter"
          ],
          [
           "scratch"
          ],
          [
           "scream rap"
          ],
          [
           "screamo"
          ],
          [
           "seattle hip hop"
          ],
          [
           "seattle indie"
          ],
          [
           "second line"
          ],
          [
           "sefardi"
          ],
          [
           "serbian electronic"
          ],
          [
           "serialism"
          ],
          [
           "sertanejo"
          ],
          [
           "sertanejo pop"
          ],
          [
           "sertanejo tradicional"
          ],
          [
           "sertanejo universitario"
          ],
          [
           "sevdah"
          ],
          [
           "sevillanas"
          ],
          [
           "shaabi"
          ],
          [
           "shabad"
          ],
          [
           "shakuhachi"
          ],
          [
           "shamanic"
          ],
          [
           "shanty"
          ],
          [
           "sheffield indie"
          ],
          [
           "shibuya-kei"
          ],
          [
           "shimmer pop"
          ],
          [
           "shimmer psych"
          ],
          [
           "shiver pop"
          ],
          [
           "shoegaze"
          ],
          [
           "show tunes"
          ],
          [
           "shred"
          ],
          [
           "shush"
          ],
          [
           "sierreno"
          ],
          [
           "singaporean mandopop"
          ],
          [
           "singaporean pop"
          ],
          [
           "singaporean singer-songwriter"
          ],
          [
           "singer-songwriter"
          ],
          [
           "singing bowl"
          ],
          [
           "sitar"
          ],
          [
           "ska"
          ],
          [
           "ska argentino"
          ],
          [
           "ska chileno"
          ],
          [
           "ska jazz"
          ],
          [
           "ska mexicano"
          ],
          [
           "ska punk"
          ],
          [
           "ska revival"
          ],
          [
           "skate punk"
          ],
          [
           "skiffle"
          ],
          [
           "skramz"
          ],
          [
           "sky room"
          ],
          [
           "slack-key guitar"
          ],
          [
           "slam poetry"
          ],
          [
           "slamming deathcore"
          ],
          [
           "slavic folk metal"
          ],
          [
           "slayer"
          ],
          [
           "slc indie"
          ],
          [
           "sleaze rock"
          ],
          [
           "sleep"
          ],
          [
           "slovak electronic"
          ],
          [
           "slovenian electronic"
          ],
          [
           "slovenian metal"
          ],
          [
           "slow game"
          ],
          [
           "slowcore"
          ],
          [
           "sludge metal"
          ],
          [
           "small room"
          ],
          [
           "smooth jazz"
          ],
          [
           "smooth saxophone"
          ],
          [
           "smooth soul"
          ],
          [
           "soca"
          ],
          [
           "socal pop punk"
          ],
          [
           "social media pop"
          ],
          [
           "soda pop"
          ],
          [
           "soft rock"
          ],
          [
           "solipsynthm"
          ],
          [
           "son cubano"
          ],
          [
           "son cubano clasico"
          ],
          [
           "son jarocho"
          ],
          [
           "sophisti-pop"
          ],
          [
           "sotalaulut"
          ],
          [
           "soukous"
          ],
          [
           "soul"
          ],
          [
           "soul blues"
          ],
          [
           "soul flow"
          ],
          [
           "soul jazz"
          ],
          [
           "souldies"
          ],
          [
           "sound"
          ],
          [
           "sound art"
          ],
          [
           "sound effects"
          ],
          [
           "sound team"
          ],
          [
           "soundtrack"
          ],
          [
           "south african alternative"
          ],
          [
           "south african choral"
          ],
          [
           "south african country"
          ],
          [
           "south african hip hop"
          ],
          [
           "south african house"
          ],
          [
           "south african jazz"
          ],
          [
           "south african pop"
          ],
          [
           "south african pop dance"
          ],
          [
           "south african rock"
          ],
          [
           "south carolina hip hop"
          ],
          [
           "south carolina indie"
          ],
          [
           "south carolina metal"
          ],
          [
           "south dakota indie"
          ],
          [
           "southampton indie"
          ],
          [
           "southern americana"
          ],
          [
           "southern gospel"
          ],
          [
           "southern hip hop"
          ],
          [
           "southern metal"
          ],
          [
           "southern rock"
          ],
          [
           "southern soul"
          ],
          [
           "southern soul blues"
          ],
          [
           "soviet synthpop"
          ],
          [
           "sovietwave"
          ],
          [
           "spa"
          ],
          [
           "space age pop"
          ],
          [
           "space ambient"
          ],
          [
           "space rock"
          ],
          [
           "spanish baroque"
          ],
          [
           "spanish classical"
          ],
          [
           "spanish classical piano"
          ],
          [
           "spanish folk metal"
          ],
          [
           "spanish hip hop"
          ],
          [
           "spanish indie pop"
          ],
          [
           "spanish invasion"
          ],
          [
           "spanish metal"
          ],
          [
           "spanish modern rock"
          ],
          [
           "spanish new wave"
          ],
          [
           "spanish noise pop"
          ],
          [
           "spanish pop"
          ],
          [
           "spanish pop rock"
          ],
          [
           "spanish renaissance"
          ],
          [
           "spanish rock"
          ],
          [
           "spanish synthpop"
          ],
          [
           "spanish techno"
          ],
          [
           "speed garage"
          ],
          [
           "speed metal"
          ],
          [
           "speedcore"
          ],
          [
           "spiritual hip hop"
          ],
          [
           "spiritual jazz"
          ],
          [
           "spirituals"
          ],
          [
           "springfield mo indie"
          ],
          [
           "spytrack"
          ],
          [
           "st louis rap"
          ],
          [
           "steampunk"
          ],
          [
           "steel guitar"
          ],
          [
           "steelpan"
          ],
          [
           "stl indie"
          ],
          [
           "stomp and flutter"
          ],
          [
           "stomp and holler"
          ],
          [
           "stomp and whittle"
          ],
          [
           "stomp pop"
          ],
          [
           "stoner metal"
          ],
          [
           "stoner rock"
          ],
          [
           "straight edge"
          ],
          [
           "straight-ahead jazz"
          ],
          [
           "street band"
          ],
          [
           "street punk"
          ],
          [
           "streichquartett"
          ],
          [
           "stride"
          ],
          [
           "string band"
          ],
          [
           "string folk"
          ],
          [
           "string orchestra"
          ],
          [
           "string quartet"
          ],
          [
           "strut"
          ],
          [
           "substep"
          ],
          [
           "sudanese pop"
          ],
          [
           "sufi"
          ],
          [
           "sufi chant"
          ],
          [
           "sunshine pop"
          ],
          [
           "supergroup"
          ],
          [
           "surf music"
          ],
          [
           "surf punk"
          ],
          [
           "svensk progg"
          ],
          [
           "swamp blues"
          ],
          [
           "swamp pop"
          ],
          [
           "swamp rock"
          ],
          [
           "swancore"
          ],
          [
           "swedish alternative rock"
          ],
          [
           "swedish americana"
          ],
          [
           "swedish black metal"
          ],
          [
           "swedish choir"
          ],
          [
           "swedish country"
          ],
          [
           "swedish dancehall"
          ],
          [
           "swedish death metal"
          ],
          [
           "swedish doom metal"
          ],
          [
           "swedish electronic"
          ],
          [
           "swedish electropop"
          ],
          [
           "swedish eurodance"
          ],
          [
           "swedish garage rock"
          ],
          [
           "swedish hard rock"
          ],
          [
           "swedish hardcore"
          ],
          [
           "swedish heavy metal"
          ],
          [
           "swedish house"
          ],
          [
           "swedish idol pop"
          ],
          [
           "swedish indie folk"
          ],
          [
           "swedish indie pop"
          ],
          [
           "swedish indie rock"
          ],
          [
           "swedish jazz"
          ],
          [
           "swedish jazz orkester"
          ],
          [
           "swedish melodic rock"
          ],
          [
           "swedish metal"
          ],
          [
           "swedish metalcore"
          ],
          [
           "swedish pop"
          ],
          [
           "swedish post-hardcore"
          ],
          [
           "swedish power metal"
          ],
          [
           "swedish prog"
          ],
          [
           "swedish progressive metal"
          ],
          [
           "swedish rock-and-roll"
          ],
          [
           "swedish singer-songwriter"
          ],
          [
           "swedish soul"
          ],
          [
           "swedish stoner rock"
          ],
          [
           "swedish synth"
          ],
          [
           "swedish synthpop"
          ],
          [
           "swedish tropical house"
          ],
          [
           "swedish underground rap"
          ],
          [
           "swing"
          ],
          [
           "swing italiano"
          ],
          [
           "swing revival"
          ],
          [
           "swiss black metal"
          ],
          [
           "swiss classical piano"
          ],
          [
           "swiss country"
          ],
          [
           "swiss metal"
          ],
          [
           "swiss pop"
          ],
          [
           "swiss rock"
          ],
          [
           "swiss worship"
          ],
          [
           "sydney indie"
          ],
          [
           "symphonic black metal"
          ],
          [
           "symphonic metal"
          ],
          [
           "symphonic rock"
          ],
          [
           "synth funk"
          ],
          [
           "synthpop"
          ],
          [
           "synthwave"
          ],
          [
           "syrian pop"
          ],
          [
           "tabla"
          ],
          [
           "tagalog rap"
          ],
          [
           "tagalog worship"
          ],
          [
           "taiwan campus folk"
          ],
          [
           "taiwan classical performance"
          ],
          [
           "taiwan hip hop"
          ],
          [
           "taiwan indie"
          ],
          [
           "taiwan pop"
          ],
          [
           "taiwan singer-songwriter"
          ],
          [
           "tajik pop"
          ],
          [
           "talent show"
          ],
          [
           "tamaulipas indie"
          ],
          [
           "tamaulipas rap"
          ],
          [
           "tamborazo"
          ],
          [
           "tamil hip hop"
          ],
          [
           "tamil pop"
          ],
          [
           "tamil worship"
          ],
          [
           "tampa indie"
          ],
          [
           "tango"
          ],
          [
           "tango cancion"
          ],
          [
           "tape club"
          ],
          [
           "tech house"
          ],
          [
           "technical death metal"
          ],
          [
           "technical deathcore"
          ],
          [
           "technical groove metal"
          ],
          [
           "technical melodic death metal"
          ],
          [
           "technical thrash"
          ],
          [
           "techno"
          ],
          [
           "techno kayo"
          ],
          [
           "tecnobanda"
          ],
          [
           "teen pop"
          ],
          [
           "tejano"
          ],
          [
           "tempe indie"
          ],
          [
           "tennessee hip hop"
          ],
          [
           "tennessee metal"
          ],
          [
           "tex-mex"
          ],
          [
           "texas blues"
          ],
          [
           "texas country"
          ],
          [
           "texas latin rap"
          ],
          [
           "texas pop punk"
          ],
          [
           "texas punk"
          ],
          [
           "thai folk"
          ],
          [
           "thai folk rock"
          ],
          [
           "thai idol"
          ],
          [
           "thai indie rock"
          ],
          [
           "thai pop"
          ],
          [
           "thall"
          ],
          [
           "theme"
          ],
          [
           "theremin"
          ],
          [
           "thrash core"
          ],
          [
           "thrash metal"
          ],
          [
           "timba"
          ],
          [
           "tin pan alley"
          ],
          [
           "tipico"
          ],
          [
           "tolkien metal"
          ],
          [
           "tollywood"
          ],
          [
           "tone"
          ],
          [
           "torch song"
          ],
          [
           "toronto indie"
          ],
          [
           "toronto rap"
          ],
          [
           "trad jazz catala"
          ],
          [
           "traditional bluegrass"
          ],
          [
           "traditional blues"
          ],
          [
           "traditional british folk"
          ],
          [
           "traditional country"
          ],
          [
           "traditional folk"
          ],
          [
           "traditional funk"
          ],
          [
           "traditional rockabilly"
          ],
          [
           "traditional ska"
          ],
          [
           "traditional soul"
          ],
          [
           "trance"
          ],
          [
           "trance mexicano"
          ],
          [
           "trancecore"
          ],
          [
           "transpop"
          ],
          [
           "trap"
          ],
          [
           "trap argentino"
          ],
          [
           "trap chileno"
          ],
          [
           "trap dominicano"
          ],
          [
           "trap latino"
          ],
          [
           "trap mexicano"
          ],
          [
           "trap queen"
          ],
          [
           "trap soul"
          ],
          [
           "trap triste"
          ],
          [
           "trap venezolano"
          ],
          [
           "traprun"
          ],
          [
           "trash rock"
          ],
          [
           "triangle indie"
          ],
          [
           "tribal house"
          ],
          [
           "trinidadian reggae"
          ],
          [
           "trio cubano"
          ],
          [
           "trip hop"
          ],
          [
           "trival"
          ],
          [
           "tropical"
          ],
          [
           "tropical house"
          ],
          [
           "tropicalia"
          ],
          [
           "trova"
          ],
          [
           "trova mexicana"
          ],
          [
           "truck-driving country"
          ],
          [
           "tuareg guitar"
          ],
          [
           "tucson indie"
          ],
          [
           "tulsa indie"
          ],
          [
           "tuna estudiantil"
          ],
          [
           "tunisian pop"
          ],
          [
           "turbo folk"
          ],
          [
           "turkish classical"
          ],
          [
           "turkish classical performance"
          ],
          [
           "turkish edm"
          ],
          [
           "turkish experimental"
          ],
          [
           "turkish folk"
          ],
          [
           "turkish jazz"
          ],
          [
           "turkish modern jazz"
          ],
          [
           "turkish pop"
          ],
          [
           "turkish psych"
          ],
          [
           "turkish trap"
          ],
          [
           "turkish trap pop"
          ],
          [
           "turntablism"
          ],
          [
           "twee pop"
          ],
          [
           "twoubadou"
          ],
          [
           "tzadik"
          ],
          [
           "ugandan pop"
          ],
          [
           "uilleann pipes"
          ],
          [
           "uk alternative hip hop"
          ],
          [
           "uk alternative pop"
          ],
          [
           "uk americana"
          ],
          [
           "uk contemporary jazz"
          ],
          [
           "uk contemporary r&b"
          ],
          [
           "uk dance"
          ],
          [
           "uk dancehall"
          ],
          [
           "uk diy punk"
          ],
          [
           "uk dnb"
          ],
          [
           "uk doom metal"
          ],
          [
           "uk dub"
          ],
          [
           "uk experimental electronic"
          ],
          [
           "uk funky"
          ],
          [
           "uk garage"
          ],
          [
           "uk hip hop"
          ],
          [
           "uk house"
          ],
          [
           "uk metalcore"
          ],
          [
           "uk noise rock"
          ],
          [
           "uk pop"
          ],
          [
           "uk pop punk"
          ],
          [
           "uk post-hardcore"
          ],
          [
           "uk post-punk"
          ],
          [
           "uk reggae"
          ],
          [
           "uk rockabilly"
          ],
          [
           "uk stoner rock"
          ],
          [
           "uk worship"
          ],
          [
           "uk82"
          ],
          [
           "ukrainian choir"
          ],
          [
           "ukrainian classical"
          ],
          [
           "ukrainian classical piano"
          ],
          [
           "ukrainian electronic"
          ],
          [
           "ukrainian pop"
          ],
          [
           "ukulele"
          ],
          [
           "umbanda"
          ],
          [
           "underground hip hop"
          ],
          [
           "underground power pop"
          ],
          [
           "underground rap"
          ],
          [
           "university choir"
          ],
          [
           "uplifting trance"
          ],
          [
           "uptempo hardcore"
          ],
          [
           "urban contemporary"
          ],
          [
           "urbano espanol"
          ],
          [
           "us power metal"
          ],
          [
           "utah indie"
          ],
          [
           "uzbek pop"
          ],
          [
           "uzbek traditional"
          ],
          [
           "v-pop"
          ],
          [
           "vallenato"
          ],
          [
           "vallenato moderno"
          ],
          [
           "vancouver indie"
          ],
          [
           "vancouver metal"
          ],
          [
           "vancouver punk"
          ],
          [
           "vapor pop"
          ],
          [
           "vapor soul"
          ],
          [
           "vapor trap"
          ],
          [
           "vapor twitch"
          ],
          [
           "vaporwave"
          ],
          [
           "variete francaise"
          ],
          [
           "vaudeville"
          ],
          [
           "vbs"
          ],
          [
           "veena"
          ],
          [
           "vegan straight edge"
          ],
          [
           "vegas indie"
          ],
          [
           "velha guarda"
          ],
          [
           "venezuelan hip hop"
          ],
          [
           "venezuelan indie"
          ],
          [
           "venezuelan rock"
          ],
          [
           "veracruz indie"
          ],
          [
           "vermont indie"
          ],
          [
           "vgm instrumental"
          ],
          [
           "vgm remix"
          ],
          [
           "victoria bc indie"
          ],
          [
           "victorian britain"
          ],
          [
           "video game music"
          ],
          [
           "vienna indie"
          ],
          [
           "vietnamese bolero"
          ],
          [
           "vietnamese pop"
          ],
          [
           "viking black metal"
          ],
          [
           "viking folk"
          ],
          [
           "viking metal"
          ],
          [
           "villancicos"
          ],
          [
           "vintage chanson"
          ],
          [
           "vintage chinese pop"
          ],
          [
           "vintage classical singing"
          ],
          [
           "vintage country folk"
          ],
          [
           "vintage dutch pop"
          ],
          [
           "vintage french electronic"
          ],
          [
           "vintage gospel"
          ],
          [
           "vintage hollywood"
          ],
          [
           "vintage italian pop"
          ],
          [
           "vintage italian soundtrack"
          ],
          [
           "vintage jazz"
          ],
          [
           "vintage old-time"
          ],
          [
           "vintage rockabilly"
          ],
          [
           "vintage schlager"
          ],
          [
           "vintage spanish pop"
          ],
          [
           "vintage swedish pop"
          ],
          [
           "vintage swing"
          ],
          [
           "vintage tango"
          ],
          [
           "viola"
          ],
          [
           "violao"
          ],
          [
           "violao classico"
          ],
          [
           "violin"
          ],
          [
           "viral pop"
          ],
          [
           "viral rap"
          ],
          [
           "viral trap"
          ],
          [
           "virgin islands reggae"
          ],
          [
           "virginia hip hop"
          ],
          [
           "virginia metal"
          ],
          [
           "virginia punk"
          ],
          [
           "visor"
          ],
          [
           "visual kei"
          ],
          [
           "vocal ensemble"
          ],
          [
           "vocal harmony group"
          ],
          [
           "vocal house"
          ],
          [
           "vocal jazz"
          ],
          [
           "vocal trance"
          ],
          [
           "vocaloid"
          ],
          [
           "vogue"
          ],
          [
           "volksmusik"
          ],
          [
           "warm drone"
          ],
          [
           "washboard"
          ],
          [
           "washington indie"
          ],
          [
           "wassoulou"
          ],
          [
           "water"
          ],
          [
           "wave"
          ],
          [
           "welsh folk"
          ],
          [
           "welsh indie"
          ],
          [
           "welsh metal"
          ],
          [
           "welsh rock"
          ],
          [
           "west african jazz"
          ],
          [
           "west australian hip hop"
          ],
          [
           "west coast rap"
          ],
          [
           "west coast reggae"
          ],
          [
           "west coast trap"
          ],
          [
           "west end"
          ],
          [
           "west virginia indie"
          ],
          [
           "western americana"
          ],
          [
           "western mass indie"
          ],
          [
           "western saharan folk"
          ],
          [
           "western swing"
          ],
          [
           "white noise"
          ],
          [
           "wind ensemble"
          ],
          [
           "wind quintet"
          ],
          [
           "wisconsin indie"
          ],
          [
           "witch house"
          ],
          [
           "women's choir"
          ],
          [
           "women's music"
          ],
          [
           "wonky"
          ],
          [
           "worcester ma indie"
          ],
          [
           "world"
          ],
          [
           "world fusion"
          ],
          [
           "world meditation"
          ],
          [
           "world worship"
          ],
          [
           "worship"
          ],
          [
           "wrestling"
          ],
          [
           "wu fam"
          ],
          [
           "wyoming indie"
          ],
          [
           "wyoming roots"
          ],
          [
           "xhosa"
          ],
          [
           "xtra raw"
          ],
          [
           "yacht rock"
          ],
          [
           "ye ye"
          ],
          [
           "yiddish folk"
          ],
          [
           "yodeling"
          ],
          [
           "yoga"
          ],
          [
           "yoik"
          ],
          [
           "york indie"
          ],
          [
           "yorkshire folk"
          ],
          [
           "yugoslav new wave"
          ],
          [
           "yugoslav rock"
          ],
          [
           "zambian pop"
          ],
          [
           "zeuhl"
          ],
          [
           "zhongguo feng"
          ],
          [
           "zimdancehall"
          ],
          [
           "zolo"
          ],
          [
           "zouglou"
          ],
          [
           "zouk"
          ],
          [
           "zurich indie"
          ],
          [
           "zydeco"
          ]
         ],
         "hovertemplate": "x=%{x}<br>y=%{y}<br>genres=%{customdata[0]}<br>cluster=%{marker.color}<extra></extra>",
         "legendgroup": "",
         "marker": {
          "color": [
           2,
           8,
           6,
           7,
           7,
           1,
           6,
           3,
           5,
           7,
           5,
           3,
           6,
           2,
           7,
           6,
           6,
           6,
           5,
           0,
           7,
           7,
           6,
           7,
           5,
           6,
           6,
           2,
           5,
           6,
           6,
           5,
           3,
           3,
           6,
           5,
           6,
           5,
           3,
           6,
           0,
           3,
           6,
           5,
           1,
           3,
           5,
           6,
           6,
           0,
           3,
           6,
           6,
           3,
           0,
           3,
           0,
           0,
           6,
           6,
           0,
           6,
           5,
           2,
           1,
           7,
           5,
           1,
           1,
           2,
           5,
           1,
           2,
           2,
           2,
           2,
           2,
           7,
           0,
           7,
           5,
           2,
           1,
           2,
           2,
           1,
           5,
           0,
           2,
           7,
           3,
           3,
           0,
           0,
           6,
           0,
           0,
           6,
           7,
           3,
           7,
           7,
           5,
           5,
           6,
           4,
           2,
           5,
           6,
           0,
           3,
           6,
           3,
           6,
           6,
           6,
           6,
           0,
           6,
           5,
           1,
           2,
           6,
           6,
           6,
           2,
           3,
           3,
           3,
           2,
           6,
           3,
           3,
           6,
           3,
           6,
           2,
           1,
           3,
           4,
           5,
           4,
           3,
           7,
           5,
           6,
           6,
           6,
           6,
           3,
           2,
           6,
           2,
           2,
           2,
           3,
           5,
           5,
           6,
           6,
           3,
           6,
           6,
           3,
           3,
           0,
           0,
           3,
           6,
           1,
           3,
           3,
           5,
           6,
           6,
           0,
           6,
           3,
           3,
           2,
           2,
           2,
           5,
           7,
           5,
           4,
           1,
           2,
           7,
           0,
           6,
           7,
           5,
           6,
           6,
           6,
           2,
           2,
           7,
           7,
           7,
           5,
           7,
           7,
           7,
           1,
           6,
           2,
           2,
           7,
           2,
           3,
           0,
           6,
           6,
           3,
           7,
           7,
           7,
           7,
           7,
           2,
           6,
           7,
           7,
           4,
           2,
           2,
           2,
           2,
           6,
           2,
           2,
           7,
           3,
           1,
           0,
           3,
           5,
           3,
           6,
           3,
           3,
           5,
           6,
           6,
           5,
           7,
           3,
           7,
           6,
           6,
           7,
           6,
           6,
           3,
           0,
           0,
           2,
           1,
           5,
           5,
           3,
           6,
           1,
           7,
           1,
           5,
           1,
           5,
           1,
           6,
           7,
           6,
           6,
           1,
           2,
           7,
           3,
           2,
           7,
           6,
           5,
           2,
           4,
           5,
           3,
           0,
           5,
           0,
           9,
           0,
           0,
           0,
           0,
           1,
           5,
           7,
           7,
           6,
           7,
           0,
           0,
           6,
           3,
           7,
           7,
           3,
           5,
           7,
           5,
           5,
           7,
           5,
           6,
           6,
           6,
           6,
           0,
           0,
           3,
           6,
           0,
           7,
           1,
           3,
           3,
           2,
           2,
           1,
           7,
           2,
           2,
           6,
           2,
           2,
           2,
           6,
           0,
           6,
           6,
           7,
           0,
           7,
           7,
           3,
           6,
           6,
           0,
           5,
           0,
           0,
           6,
           7,
           2,
           6,
           7,
           3,
           5,
           0,
           6,
           6,
           0,
           6,
           6,
           2,
           2,
           6,
           2,
           7,
           1,
           1,
           7,
           0,
           3,
           1,
           6,
           1,
           2,
           2,
           1,
           0,
           7,
           6,
           2,
           6,
           7,
           6,
           3,
           3,
           6,
           3,
           1,
           6,
           1,
           3,
           6,
           6,
           5,
           5,
           0,
           8,
           7,
           7,
           7,
           0,
           7,
           6,
           5,
           3,
           2,
           7,
           3,
           2,
           5,
           6,
           7,
           6,
           3,
           6,
           7,
           2,
           2,
           2,
           7,
           6,
           6,
           6,
           3,
           5,
           2,
           7,
           0,
           3,
           4,
           6,
           7,
           3,
           5,
           6,
           0,
           0,
           5,
           3,
           0,
           0,
           1,
           6,
           0,
           0,
           5,
           6,
           2,
           6,
           6,
           6,
           6,
           1,
           7,
           6,
           6,
           7,
           7,
           0,
           6,
           6,
           3,
           7,
           7,
           7,
           6,
           2,
           2,
           2,
           6,
           3,
           7,
           7,
           2,
           5,
           6,
           6,
           7,
           2,
           7,
           2,
           2,
           6,
           2,
           6,
           6,
           6,
           6,
           6,
           7,
           5,
           0,
           7,
           5,
           3,
           0,
           7,
           7,
           3,
           5,
           5,
           3,
           0,
           0,
           3,
           6,
           0,
           3,
           5,
           6,
           7,
           3,
           3,
           9,
           6,
           5,
           5,
           3,
           1,
           2,
           7,
           1,
           6,
           6,
           6,
           0,
           6,
           7,
           2,
           2,
           2,
           5,
           6,
           5,
           6,
           0,
           2,
           3,
           6,
           2,
           2,
           1,
           6,
           2,
           7,
           1,
           7,
           6,
           6,
           5,
           0,
           3,
           3,
           3,
           0,
           0,
           3,
           3,
           0,
           3,
           2,
           0,
           3,
           6,
           2,
           7,
           6,
           6,
           3,
           1,
           0,
           5,
           3,
           7,
           7,
           6,
           5,
           7,
           3,
           7,
           5,
           6,
           7,
           7,
           0,
           7,
           5,
           5,
           6,
           6,
           5,
           5,
           4,
           0,
           5,
           6,
           7,
           7,
           1,
           7,
           7,
           7,
           6,
           6,
           3,
           7,
           5,
           6,
           5,
           7,
           0,
           6,
           6,
           7,
           0,
           7,
           6,
           2,
           3,
           0,
           3,
           5,
           6,
           6,
           2,
           3,
           2,
           2,
           2,
           2,
           2,
           2,
           2,
           2,
           2,
           2,
           2,
           7,
           2,
           2,
           2,
           2,
           2,
           2,
           2,
           1,
           2,
           2,
           2,
           7,
           7,
           9,
           0,
           6,
           6,
           5,
           3,
           6,
           3,
           6,
           9,
           6,
           3,
           6,
           3,
           7,
           0,
           2,
           5,
           4,
           0,
           6,
           3,
           2,
           2,
           2,
           6,
           7,
           3,
           2,
           7,
           7,
           2,
           7,
           7,
           7,
           0,
           6,
           6,
           5,
           0,
           7,
           1,
           6,
           7,
           7,
           6,
           7,
           6,
           6,
           6,
           6,
           7,
           7,
           6,
           0,
           7,
           6,
           6,
           0,
           3,
           0,
           6,
           6,
           5,
           7,
           6,
           6,
           6,
           6,
           6,
           5,
           5,
           6,
           6,
           7,
           6,
           7,
           6,
           5,
           6,
           6,
           1,
           3,
           7,
           2,
           2,
           7,
           0,
           7,
           5,
           3,
           6,
           6,
           0,
           3,
           0,
           0,
           2,
           0,
           2,
           5,
           2,
           0,
           5,
           4,
           1,
           6,
           3,
           1,
           7,
           0,
           7,
           6,
           0,
           1,
           5,
           0,
           2,
           1,
           0,
           1,
           3,
           1,
           1,
           0,
           0,
           5,
           0,
           0,
           0,
           6,
           1,
           0,
           0,
           5,
           0,
           7,
           5,
           0,
           7,
           3,
           9,
           6,
           3,
           7,
           5,
           3,
           0,
           5,
           6,
           3,
           7,
           6,
           1,
           3,
           5,
           1,
           6,
           6,
           1,
           7,
           0,
           7,
           5,
           0,
           1,
           7,
           6,
           3,
           6,
           7,
           6,
           4,
           1,
           3,
           0,
           6,
           6,
           5,
           6,
           1,
           2,
           6,
           6,
           1,
           6,
           1,
           1,
           5,
           3,
           1,
           7,
           3,
           6,
           3,
           3,
           1,
           5,
           6,
           5,
           6,
           6,
           3,
           3,
           1,
           5,
           7,
           7,
           6,
           3,
           7,
           5,
           2,
           3,
           3,
           6,
           5,
           7,
           6,
           7,
           0,
           0,
           5,
           6,
           3,
           7,
           0,
           0,
           1,
           7,
           1,
           0,
           0,
           0,
           2,
           3,
           1,
           2,
           2,
           1,
           0,
           6,
           1,
           5,
           1,
           0,
           1,
           2,
           6,
           7,
           3,
           1,
           6,
           1,
           0,
           9,
           2,
           0,
           0,
           6,
           7,
           6,
           3,
           7,
           4,
           0,
           5,
           5,
           5,
           6,
           5,
           6,
           7,
           9,
           2,
           2,
           2,
           2,
           6,
           2,
           3,
           0,
           3,
           6,
           1,
           7,
           0,
           6,
           1,
           2,
           6,
           6,
           6,
           3,
           5,
           7,
           5,
           6,
           7,
           6,
           6,
           6,
           6,
           6,
           6,
           0,
           6,
           0,
           6,
           1,
           5,
           3,
           6,
           5,
           6,
           0,
           0,
           0,
           0,
           3,
           0,
           2,
           5,
           2,
           5,
           7,
           4,
           0,
           5,
           7,
           3,
           2,
           1,
           7,
           0,
           1,
           5,
           1,
           2,
           7,
           1,
           3,
           5,
           0,
           5,
           6,
           0,
           5,
           7,
           1,
           2,
           1,
           5,
           4,
           2,
           6,
           5,
           1,
           2,
           6,
           1,
           2,
           7,
           7,
           7,
           0,
           5,
           7,
           3,
           3,
           1,
           2,
           5,
           2,
           2,
           0,
           5,
           0,
           3,
           0,
           5,
           3,
           6,
           5,
           2,
           3,
           1,
           0,
           6,
           1,
           5,
           2,
           6,
           1,
           5,
           3,
           7,
           5,
           7,
           7,
           3,
           6,
           0,
           3,
           6,
           6,
           3,
           7,
           5,
           7,
           7,
           6,
           6,
           6,
           2,
           6,
           3,
           6,
           6,
           0,
           2,
           3,
           6,
           6,
           1,
           2,
           7,
           6,
           2,
           2,
           7,
           0,
           0,
           3,
           1,
           6,
           1,
           7,
           0,
           5,
           2,
           2,
           6,
           5,
           0,
           6,
           6,
           2,
           0,
           7,
           6,
           5,
           0,
           1,
           5,
           0,
           6,
           7,
           5,
           5,
           0,
           3,
           7,
           3,
           5,
           6,
           5,
           1,
           3,
           6,
           5,
           3,
           0,
           6,
           3,
           0,
           1,
           1,
           3,
           6,
           7,
           2,
           0,
           5,
           3,
           6,
           0,
           0,
           0,
           0,
           0,
           6,
           5,
           6,
           6,
           6,
           3,
           0,
           2,
           2,
           2,
           6,
           5,
           5,
           0,
           5,
           3,
           2,
           9,
           5,
           0,
           2,
           2,
           6,
           3,
           6,
           0,
           6,
           2,
           3,
           2,
           2,
           2,
           6,
           0,
           6,
           3,
           5,
           9,
           7,
           1,
           6,
           0,
           0,
           6,
           6,
           1,
           0,
           1,
           6,
           5,
           0,
           3,
           7,
           7,
           9,
           3,
           4,
           7,
           6,
           0,
           3,
           0,
           5,
           6,
           5,
           5,
           5,
           0,
           5,
           6,
           3,
           6,
           7,
           2,
           7,
           7,
           4,
           7,
           5,
           7,
           7,
           6,
           1,
           5,
           0,
           6,
           0,
           0,
           6,
           6,
           5,
           5,
           0,
           3,
           9,
           5,
           7,
           2,
           7,
           4,
           3,
           2,
           3,
           7,
           7,
           6,
           7,
           0,
           6,
           5,
           2,
           3,
           6,
           2,
           0,
           0,
           7,
           1,
           0,
           6,
           0,
           3,
           0,
           0,
           0,
           6,
           7,
           7,
           7,
           2,
           2,
           7,
           2,
           7,
           3,
           3,
           2,
           6,
           6,
           6,
           1,
           5,
           7,
           2,
           7,
           3,
           0,
           6,
           3,
           5,
           8,
           2,
           2,
           2,
           2,
           2,
           2,
           9,
           4,
           6,
           5,
           6,
           6,
           7,
           7,
           6,
           0,
           1,
           5,
           6,
           3,
           6,
           6,
           7,
           5,
           2,
           2,
           2,
           2,
           1,
           9,
           7,
           7,
           1,
           1,
           6,
           3,
           2,
           1,
           2,
           7,
           7,
           1,
           1,
           1,
           1,
           6,
           0,
           5,
           7,
           2,
           7,
           5,
           3,
           2,
           6,
           7,
           5,
           3,
           6,
           3,
           5,
           1,
           1,
           6,
           6,
           1,
           3,
           6,
           6,
           6,
           3,
           6,
           3,
           3,
           6,
           6,
           6,
           0,
           6,
           0,
           3,
           6,
           3,
           3,
           6,
           6,
           3,
           0,
           5,
           6,
           2,
           1,
           5,
           6,
           3,
           3,
           6,
           7,
           7,
           3,
           5,
           0,
           1,
           0,
           1,
           6,
           1,
           0,
           1,
           4,
           3,
           7,
           4,
           7,
           6,
           1,
           7,
           7,
           6,
           2,
           1,
           6,
           7,
           3,
           7,
           5,
           7,
           7,
           7,
           2,
           7,
           6,
           0,
           3,
           3,
           7,
           1,
           6,
           7,
           2,
           2,
           7,
           0,
           2,
           2,
           3,
           5,
           5,
           5,
           3,
           2,
           1,
           2,
           5,
           7,
           1,
           2,
           2,
           6,
           5,
           1,
           1,
           2,
           7,
           2,
           2,
           1,
           7,
           7,
           6,
           5,
           4,
           2,
           6,
           0,
           3,
           0,
           0,
           0,
           6,
           3,
           0,
           5,
           0,
           0,
           6,
           6,
           5,
           6,
           6,
           6,
           6,
           2,
           2,
           2,
           2,
           1,
           2,
           6,
           0,
           1,
           3,
           4,
           0,
           5,
           2,
           7,
           0,
           7,
           7,
           1,
           0,
           0,
           5,
           1,
           0,
           0,
           0,
           0,
           1,
           0,
           5,
           4,
           6,
           5,
           2,
           1,
           1,
           6,
           7,
           7,
           7,
           6,
           7,
           7,
           7,
           5,
           7,
           2,
           7,
           7,
           7,
           1,
           7,
           7,
           0,
           2,
           7,
           1,
           7,
           7,
           7,
           6,
           0,
           7,
           2,
           7,
           7,
           7,
           7,
           7,
           7,
           1,
           2,
           5,
           7,
           5,
           6,
           6,
           7,
           5,
           7,
           0,
           3,
           6,
           5,
           5,
           3,
           7,
           7,
           6,
           7,
           3,
           7,
           3,
           0,
           6,
           0,
           3,
           6,
           6,
           5,
           7,
           5,
           6,
           7,
           4,
           3,
           6,
           3,
           6,
           2,
           6,
           1,
           9,
           7,
           3,
           2,
           7,
           2,
           5,
           2,
           2,
           2,
           5,
           3,
           6,
           3,
           3,
           2,
           1,
           3,
           6,
           6,
           7,
           5,
           5,
           5,
           3,
           2,
           6,
           6,
           6,
           2,
           3,
           6,
           7,
           6,
           3,
           6,
           6,
           0,
           3,
           6,
           6,
           7,
           6,
           4,
           3,
           0,
           6,
           9,
           6,
           3,
           7,
           2,
           6,
           5,
           0,
           6,
           6,
           7,
           4,
           2,
           6,
           0,
           1,
           7,
           1,
           7,
           3,
           6,
           7,
           6,
           6,
           5,
           6,
           1,
           1,
           1,
           6,
           7,
           0,
           3,
           1,
           7,
           6,
           6,
           2,
           7,
           2,
           7,
           6,
           2,
           9,
           4,
           6,
           6,
           6,
           6,
           5,
           6,
           2,
           1,
           7,
           6,
           0,
           6,
           6,
           3,
           6,
           7,
           6,
           7,
           3,
           7,
           7,
           3,
           6,
           6,
           5,
           6,
           1,
           0,
           5,
           2,
           7,
           0,
           2,
           6,
           3,
           6,
           3,
           6,
           0,
           0,
           0,
           0,
           0,
           0,
           5,
           0,
           0,
           3,
           0,
           3,
           6,
           7,
           5,
           5,
           3,
           7,
           6,
           6,
           6,
           7,
           0,
           1,
           0,
           0,
           3,
           6,
           2,
           6,
           6,
           6,
           0,
           6,
           7,
           4,
           6,
           6,
           3,
           6,
           5,
           3,
           1,
           8,
           2,
           4,
           4,
           5,
           0,
           7,
           6,
           6,
           4,
           6,
           1,
           6,
           1,
           1,
           2,
           6,
           0,
           0,
           6,
           6,
           3,
           6,
           2,
           0,
           5,
           3,
           6,
           6,
           6,
           6,
           6,
           3,
           6,
           3,
           6,
           3,
           2,
           2,
           6,
           2,
           0,
           5,
           5,
           6,
           5,
           0,
           6,
           2,
           0,
           0,
           4,
           3,
           7,
           1,
           1,
           5,
           6,
           2,
           3,
           6,
           9,
           3,
           7,
           7,
           6,
           7,
           7,
           5,
           6,
           5,
           3,
           2,
           5,
           6,
           6,
           3,
           3,
           6,
           2,
           7,
           3,
           6,
           6,
           6,
           6,
           5,
           3,
           7,
           4,
           7,
           6,
           5,
           3,
           6,
           7,
           5,
           7,
           4,
           3,
           7,
           5,
           5,
           3,
           8,
           7,
           7,
           7,
           4,
           4,
           5,
           3,
           6,
           6,
           6,
           7,
           2,
           6,
           2,
           6,
           2,
           7,
           0,
           6,
           0,
           7,
           3,
           5,
           6,
           2,
           1,
           7,
           1,
           6,
           6,
           6,
           6,
           0,
           6,
           4,
           2,
           2,
           5,
           3,
           5,
           7,
           7,
           3,
           3,
           5,
           6,
           0,
           2,
           2,
           6,
           5,
           9,
           7,
           3,
           3,
           2,
           6,
           0,
           6,
           0,
           6,
           6,
           7,
           6,
           6,
           7,
           3,
           6,
           6,
           1,
           6,
           0,
           6,
           7,
           1,
           6,
           2,
           0,
           0,
           5,
           6,
           0,
           5,
           1,
           5,
           7,
           6,
           6,
           0,
           0,
           0,
           2,
           4,
           1,
           5,
           2,
           1,
           2,
           7,
           0,
           6,
           6,
           0,
           6,
           6,
           0,
           6,
           0,
           3,
           0,
           3,
           1,
           2,
           2,
           2,
           0,
           2,
           5,
           6,
           2,
           0,
           5,
           5,
           0,
           0,
           5,
           4,
           5,
           6,
           6,
           3,
           6,
           6,
           2,
           3,
           0,
           6,
           3,
           0,
           3,
           0,
           7,
           6,
           7,
           6,
           6,
           7,
           6,
           7,
           7,
           0,
           0,
           3,
           6,
           3,
           0,
           2,
           6,
           0,
           3,
           3,
           0,
           3,
           3,
           6,
           6,
           0,
           6,
           2,
           3,
           6,
           0,
           5,
           5,
           6,
           6,
           6,
           6,
           3,
           0,
           6,
           5,
           7,
           7,
           3,
           0,
           6,
           6,
           2,
           7,
           0,
           2,
           7,
           6,
           8,
           2,
           2,
           1,
           1,
           4,
           1,
           0,
           7,
           7,
           5,
           7,
           2,
           0,
           3,
           1,
           5,
           3,
           7,
           5,
           6,
           7,
           1,
           2,
           0,
           6,
           1,
           6,
           5,
           6,
           7,
           5,
           7,
           4,
           1,
           6,
           6,
           2,
           7,
           6,
           3,
           3,
           7,
           6,
           3,
           6,
           5,
           5,
           6,
           6,
           4,
           0,
           3,
           3,
           6,
           3,
           3,
           7,
           2,
           5,
           6,
           2,
           7,
           6,
           0,
           3,
           0,
           7,
           6,
           6,
           5,
           6,
           6,
           6,
           3,
           3,
           0,
           0,
           9,
           2,
           5,
           2,
           2,
           2,
           4,
           2,
           5,
           0,
           7,
           5,
           3,
           7,
           5,
           6,
           2,
           5,
           3,
           6,
           3,
           6,
           0,
           5,
           0,
           3,
           7,
           5,
           5,
           6,
           3,
           3,
           3,
           6,
           3,
           6,
           6,
           6,
           3,
           3,
           3,
           6,
           6,
           6,
           2,
           6,
           7,
           5,
           6,
           6,
           0,
           6,
           2,
           6,
           6,
           1,
           0,
           0,
           1,
           2,
           0,
           6,
           6,
           1,
           2,
           0,
           6,
           0,
           3,
           0,
           0,
           3,
           2,
           6,
           7,
           3,
           6,
           0,
           0,
           0,
           5,
           1,
           0,
           3,
           0,
           1,
           1,
           1,
           0,
           5,
           1,
           1,
           5,
           1,
           6,
           7,
           7,
           4,
           0,
           1,
           7,
           6,
           3,
           6,
           0,
           3,
           3,
           1,
           1,
           0,
           6,
           7,
           6,
           4,
           7,
           5,
           5,
           0,
           0,
           0,
           0,
           0,
           3,
           3,
           7,
           7,
           2,
           0,
           6,
           3,
           6,
           6,
           6,
           7,
           3,
           6,
           7,
           2,
           7,
           1,
           3,
           3,
           6,
           3,
           6,
           3,
           6,
           3,
           3,
           0,
           5,
           7,
           3,
           6,
           6,
           0,
           0,
           9,
           1,
           5,
           7,
           7,
           6,
           6,
           6,
           3,
           3,
           6,
           3,
           6,
           0,
           5,
           3,
           6,
           6,
           2,
           6,
           1,
           6,
           6,
           5,
           7,
           3,
           5,
           0,
           5,
           6,
           5,
           6,
           5,
           6,
           6,
           6,
           6,
           3,
           0,
           6,
           6,
           6,
           0,
           5,
           6,
           6,
           6,
           6,
           1,
           6,
           3,
           6,
           6,
           7,
           6,
           2,
           1,
           2,
           3,
           7,
           7,
           6,
           6,
           6,
           6,
           7,
           5,
           3,
           1,
           5,
           0,
           5,
           2,
           2,
           0,
           3,
           5,
           5,
           5,
           3,
           3,
           2,
           2,
           5,
           3,
           7,
           5,
           2,
           1,
           1,
           3,
           2,
           7,
           6,
           0,
           3,
           6,
           6,
           3,
           3,
           3,
           6,
           6,
           6,
           6,
           7,
           7,
           6,
           4,
           7,
           5,
           6,
           0,
           6,
           6,
           7,
           2,
           6,
           6,
           5,
           6,
           3,
           2,
           6,
           2,
           7,
           3,
           0,
           7,
           0,
           6,
           6,
           6,
           3,
           3,
           0,
           3,
           3,
           6,
           5,
           5,
           2,
           6,
           7,
           7,
           6,
           5,
           5,
           3,
           7,
           2,
           2,
           7,
           0,
           3,
           6,
           5,
           5,
           1,
           6,
           0,
           2,
           6,
           3,
           6,
           0,
           6,
           2,
           2,
           6,
           6,
           6,
           5,
           5,
           0,
           6,
           0,
           7,
           7,
           1,
           7,
           3,
           0,
           0,
           0,
           0,
           0,
           2,
           1,
           6,
           0,
           3,
           1,
           0,
           6,
           1,
           5,
           6,
           3,
           3,
           6,
           7,
           6,
           6,
           6,
           7,
           6,
           6,
           5,
           3,
           3,
           6,
           5,
           7,
           7,
           2,
           2,
           4,
           3,
           2,
           6,
           7,
           3,
           6,
           3,
           7,
           3,
           5,
           0,
           5,
           6,
           1,
           3,
           0,
           6,
           7,
           3,
           0,
           6,
           6,
           6,
           5,
           3,
           4,
           7,
           2,
           1,
           2,
           7,
           2,
           5,
           6,
           6,
           3,
           5,
           5,
           6,
           5,
           3,
           6,
           2,
           6,
           6,
           1,
           4,
           0,
           5,
           5,
           7,
           7,
           5,
           7,
           6,
           6,
           7,
           5,
           6,
           7,
           6,
           5,
           6,
           1,
           1,
           0,
           2,
           3,
           0,
           2,
           7,
           7,
           2,
           2,
           2,
           6,
           5,
           1,
           3,
           5,
           6,
           6,
           6,
           0,
           0,
           6,
           3,
           6,
           0,
           3,
           6,
           1,
           2,
           6,
           6,
           0,
           0,
           5,
           6,
           5,
           0,
           0,
           6,
           7,
           5,
           3,
           3,
           6,
           3,
           2,
           7,
           0,
           0,
           0,
           3,
           6,
           5,
           0,
           1,
           3,
           6,
           6,
           1,
           1,
           6,
           6,
           5,
           7,
           7,
           5,
           0,
           2,
           2,
           0,
           6,
           6,
           2,
           6,
           0,
           5,
           1,
           6,
           6,
           6,
           7,
           7,
           6,
           4,
           7,
           2,
           7,
           6,
           6,
           3,
           7,
           6,
           6,
           3,
           3,
           7,
           7,
           7,
           0,
           7,
           7,
           0,
           1,
           1,
           6,
           0,
           1,
           0,
           1,
           3,
           6,
           3,
           6,
           6,
           6,
           0,
           6,
           3,
           6,
           6,
           6,
           6,
           6,
           6,
           7,
           7,
           6,
           0,
           7,
           2,
           0,
           0,
           6,
           7,
           5,
           1,
           7,
           2,
           7,
           6,
           5,
           7,
           7,
           7,
           7,
           7,
           7,
           7,
           6,
           3,
           6,
           5,
           4,
           0,
           6,
           3,
           6,
           3,
           6,
           3,
           6,
           3,
           3,
           6,
           3,
           5,
           0,
           0,
           3,
           7,
           7,
           3,
           6,
           6,
           6,
           3,
           6,
           7,
           7,
           7,
           6,
           4,
           6,
           3,
           5,
           4,
           2,
           5,
           5,
           7,
           7,
           1,
           5,
           7,
           4,
           5,
           3,
           6,
           5,
           2,
           1,
           7,
           6,
           3,
           3,
           6,
           3,
           3,
           5,
           4,
           0,
           0,
           5,
           1,
           6,
           5,
           6,
           6,
           5,
           5,
           6,
           0,
           3,
           6,
           6,
           0,
           1,
           3,
           0,
           2,
           2,
           2,
           1,
           3,
           7,
           6,
           3,
           3,
           6,
           2,
           1,
           5,
           3,
           3,
           0,
           7,
           7,
           7,
           5,
           6,
           3,
           6,
           0,
           6,
           6,
           6,
           3,
           3,
           5,
           6,
           4,
           6,
           7,
           0,
           0,
           7,
           6,
           6,
           6,
           3,
           6,
           2,
           1,
           6,
           2,
           1,
           5,
           5,
           5,
           1,
           1,
           0,
           6,
           7,
           7,
           7,
           7,
           9,
           6,
           7,
           7,
           7,
           2,
           7,
           7,
           5,
           7,
           7,
           7,
           7,
           7,
           2,
           7,
           7,
           2,
           6,
           3,
           3,
           3,
           6,
           0,
           0,
           2,
           0,
           2,
           7,
           6,
           7,
           5,
           5,
           3,
           7,
           2,
           7,
           6,
           6,
           4,
           5,
           2,
           3,
           0,
           3,
           5,
           4,
           3,
           5,
           3,
           7,
           5,
           6,
           6,
           7,
           7,
           2,
           2,
           2,
           2,
           6,
           0,
           6,
           6,
           0,
           6,
           1,
           2,
           0,
           6,
           0,
           3,
           0,
           6,
           7,
           0,
           6,
           7,
           7,
           7,
           2,
           2,
           6,
           7,
           6,
           6,
           5,
           0,
           6,
           5,
           6,
           5,
           6,
           7,
           6
          ],
          "coloraxis": "coloraxis",
          "symbol": "circle"
         },
         "mode": "markers",
         "name": "",
         "showlegend": false,
         "type": "scattergl",
         "x": [
          -45.83012771606445,
          -48.66141128540039,
          -3.435734272003174,
          -16.085163116455078,
          -5.3242645263671875,
          -16.04262924194336,
          29.048864364624023,
          64.16139221191406,
          -48.5833740234375,
          -1.8785507678985596,
          -38.856605529785156,
          -11.364776611328125,
          -2.1440486907958984,
          -43.33009338378906,
          -3.325540781021118,
          3.001009225845337,
          13.934493064880371,
          -1.3118071556091309,
          -39.27354049682617,
          10.320711135864258,
          -2.852203369140625,
          -3.7531230449676514,
          28.12029457092285,
          -19.908039093017578,
          -35.21247863769531,
          37.020240783691406,
          27.582826614379883,
          -40.0891227722168,
          -47.30522155761719,
          33.598331451416016,
          28.258481979370117,
          -49.76911544799805,
          47.921695709228516,
          -7.841582775115967,
          34.442134857177734,
          -34.66643524169922,
          25.274761199951172,
          -50.725502014160156,
          52.67591857910156,
          24.432645797729492,
          34.39904022216797,
          60.84302520751953,
          38.811790466308594,
          -51.63495635986328,
          -14.69946575164795,
          41.78932189941406,
          -51.35452651977539,
          13.954493522644043,
          23.20153045654297,
          49.913902282714844,
          51.78358459472656,
          3.348644256591797,
          -1.1266206502914429,
          49.89830780029297,
          31.1538028717041,
          66.73182678222656,
          45.36228942871094,
          13.154980659484863,
          38.725528717041016,
          35.76454544067383,
          16.138999938964844,
          21.804691314697266,
          -52.71841049194336,
          -35.69438171386719,
          0.4471881687641144,
          -5.392127990722656,
          -38.23108673095703,
          -3.6611340045928955,
          -14.638008117675781,
          -44.14443588256836,
          -49.67948913574219,
          -3.2225356101989746,
          -57.939453125,
          -33.43283462524414,
          -53.24647521972656,
          -50.51939010620117,
          -40.045867919921875,
          -6.873035430908203,
          -31.042987823486328,
          -26.958271026611328,
          -58.412235260009766,
          -45.08370590209961,
          -15.940940856933594,
          -33.748836517333984,
          -40.043968200683594,
          1.8015542030334473,
          -54.704952239990234,
          25.57616424560547,
          -38.34181594848633,
          -0.08440202474594116,
          48.34096145629883,
          49.510398864746094,
          30.766740798950195,
          4.379308223724365,
          13.224183082580566,
          31.35313606262207,
          12.819855690002441,
          3.158482074737549,
          -14.262246131896973,
          53.321041107177734,
          -6.5800628662109375,
          -26.58819580078125,
          -49.867088317871094,
          -52.015289306640625,
          3.30707049369812,
          -24.542402267456055,
          -55.04670715332031,
          -44.924476623535156,
          18.843534469604492,
          30.125141143798828,
          58.36431884765625,
          19.838420867919922,
          60.82210159301758,
          18.838924407958984,
          38.682979583740234,
          21.57950210571289,
          34.7604866027832,
          22.436439514160156,
          13.014622688293457,
          -42.63383102416992,
          11.340259552001953,
          -51.71146774291992,
          3.2476325035095215,
          12.675346374511719,
          11.326921463012695,
          -30.456666946411133,
          46.12168884277344,
          -8.348421096801758,
          56.211891174316406,
          -57.291603088378906,
          10.323358535766602,
          62.679344177246094,
          63.87346649169922,
          19.11199188232422,
          45.59792709350586,
          36.93004608154297,
          -56.91170120239258,
          0.4494410455226898,
          48.72453689575195,
          -27.508790969848633,
          -32.310482025146484,
          -27.508787155151367,
          31.975887298583984,
          -9.458931922912598,
          -42.75946044921875,
          20.340328216552734,
          13.22752571105957,
          25.6307430267334,
          5.916934013366699,
          45.65529251098633,
          -53.80131149291992,
          26.655406951904297,
          -29.88650894165039,
          -40.56294631958008,
          -38.70249557495117,
          3.949633836746216,
          -39.98678207397461,
          -40.181793212890625,
          30.254709243774414,
          37.80095672607422,
          51.63970184326172,
          28.880857467651367,
          7.98870325088501,
          57.6889533996582,
          43.7620964050293,
          18.52459144592285,
          22.313230514526367,
          50.46080017089844,
          24.27881622314453,
          9.488308906555176,
          49.76057815551758,
          10.772907257080078,
          -43.07625961303711,
          18.393564224243164,
          25.24144744873047,
          -31.082040786743164,
          31.655235290527344,
          66.22554779052734,
          69.75666809082031,
          -42.6933479309082,
          -53.444549560546875,
          -51.30120849609375,
          -43.250240325927734,
          -43.659664154052734,
          -52.07137680053711,
          -19.856794357299805,
          8.246707916259766,
          -49.65553283691406,
          -25.75447654724121,
          10.036507606506348,
          37.332340240478516,
          -56.03509521484375,
          -48.156246185302734,
          16.248273849487305,
          35.46580505371094,
          35.36308670043945,
          -58.24378204345703,
          -32.7056770324707,
          -27.037872314453125,
          -14.18584156036377,
          -6.474178791046143,
          -50.288246154785156,
          -10.006980895996094,
          -10.4601469039917,
          -0.40953412652015686,
          -22.19914436340332,
          13.112107276916504,
          -55.78302764892578,
          -32.66727066040039,
          -24.90803337097168,
          -51.592830657958984,
          53.455482482910156,
          16.57592010498047,
          35.74461364746094,
          35.18558120727539,
          42.716983795166016,
          -12.363423347473145,
          -7.715725898742676,
          -13.751068115234375,
          -24.756633758544922,
          6.153843402862549,
          -54.193031311035156,
          39.65134048461914,
          -8.101500511169434,
          -5.310052871704102,
          -17.796733856201172,
          -36.05099868774414,
          -39.128726959228516,
          -34.49945068359375,
          -34.534542083740234,
          21.89634895324707,
          -42.405052185058594,
          -32.54301452636719,
          -60.262516021728516,
          35.87646484375,
          4.9705023765563965,
          32.727821350097656,
          54.2773323059082,
          -43.789676666259766,
          50.119346618652344,
          33.59589385986328,
          62.694732666015625,
          68.06787109375,
          -48.13222122192383,
          24.897300720214844,
          42.12329864501953,
          -42.63042449951172,
          -2.172954559326172,
          -10.257533073425293,
          -34.49126434326172,
          53.3538932800293,
          15.150162696838379,
          -24.198272705078125,
          26.7425537109375,
          26.243852615356445,
          38.908206939697266,
          -32.98311996459961,
          -32.98306655883789,
          -56.25724411010742,
          -35.062652587890625,
          -39.20659255981445,
          -39.57485580444336,
          41.251068115234375,
          3.6453349590301514,
          -35.63243865966797,
          -21.880971908569336,
          2.495694398880005,
          -43.183738708496094,
          -45.04085159301758,
          -54.947532653808594,
          -24.462482452392578,
          24.335464477539062,
          -23.339420318603516,
          32.398529052734375,
          38.68869400024414,
          -13.956279754638672,
          -19.68689727783203,
          -16.609655380249023,
          47.07091522216797,
          -52.22882843017578,
          -18.925642013549805,
          5.0503973960876465,
          -38.39222717285156,
          -60.12949752807617,
          -28.528079986572266,
          -47.89167404174805,
          61.79932403564453,
          12.10595417022705,
          -33.4456901550293,
          -26.823787689208984,
          -32.31401824951172,
          10.633552551269531,
          27.28057289123535,
          10.127931594848633,
          -26.824960708618164,
          -18.242000579833984,
          -34.269081115722656,
          6.582217693328857,
          -9.863442420959473,
          6.661479473114014,
          -1.2376327514648438,
          -33.56114959716797,
          31.07538604736328,
          13.25184440612793,
          33.566131591796875,
          -1.3377161026000977,
          -1.1442396640777588,
          1.4422595500946045,
          -53.543251037597656,
          -12.96610164642334,
          -43.423431396484375,
          -44.56187438964844,
          -0.5324274897575378,
          -60.173439025878906,
          -6.645801067352295,
          20.690753936767578,
          46.33263397216797,
          26.76149559020996,
          22.61130142211914,
          37.12599563598633,
          45.12070846557617,
          50.34989929199219,
          32.87757873535156,
          -9.058334350585938,
          -14.127909660339355,
          51.358734130859375,
          44.44539260864258,
          -51.51116180419922,
          -60.129581451416016,
          -46.63975143432617,
          -7.416796684265137,
          -40.71076965332031,
          -53.08029556274414,
          24.887306213378906,
          -35.97748947143555,
          -52.52286911010742,
          -38.704349517822266,
          22.632944107055664,
          15.757354736328125,
          53.500274658203125,
          13.629923820495605,
          -12.643418312072754,
          15.759515762329102,
          -7.808189868927002,
          7.80483865737915,
          69.78915405273438,
          44.620662689208984,
          23.53203773498535,
          -28.953231811523438,
          -56.10009765625,
          15.759523391723633,
          5.6302289962768555,
          30.94060516357422,
          7.874109745025635,
          -57.289588928222656,
          19.71989631652832,
          9.235810279846191,
          56.43718338012695,
          -40.824466705322266,
          10.379182815551758,
          29.22432518005371,
          11.170271873474121,
          6.196551322937012,
          13.253277778625488,
          39.909786224365234,
          -43.9029655456543,
          -55.92316436767578,
          26.272743225097656,
          -47.2269172668457,
          -23.047170639038086,
          5.022660255432129,
          -10.2244873046875,
          -3.1326937675476074,
          11.18685531616211,
          36.25514221191406,
          -10.268468856811523,
          13.136951446533203,
          -12.905823707580566,
          -40.22502899169922,
          -49.47993850708008,
          -29.247753143310547,
          48.11393737792969,
          7.478424072265625,
          34.03230667114258,
          -43.84047317504883,
          19.705419540405273,
          -3.2142961025238037,
          25.94721221923828,
          66.40592193603516,
          51.41259002685547,
          21.55584144592285,
          51.7310905456543,
          3.752873659133911,
          16.566438674926758,
          2.039874315261841,
          16.251039505004883,
          37.16627502441406,
          10.84842586517334,
          -43.218143463134766,
          -51.13356399536133,
          4.35932731628418,
          -47.99551773071289,
          -21.20947265625,
          -10.862168312072754,
          1.3036117553710938,
          12.58059024810791,
          -20.49319076538086,
          9.27698040008545,
          -38.96168899536133,
          63.67695999145508,
          -35.024784088134766,
          -9.193414688110352,
          41.35332489013672,
          -46.90765380859375,
          -43.8182258605957,
          30.86137580871582,
          -23.411903381347656,
          27.526639938354492,
          41.864376068115234,
          19.846742630004883,
          1.214465856552124,
          -43.720550537109375,
          -53.903770446777344,
          -57.36323928833008,
          -3.1892378330230713,
          28.284486770629883,
          -1.2340654134750366,
          2.9562809467315674,
          50.88881301879883,
          -47.99257278442383,
          -31.861587524414062,
          -6.607397079467773,
          15.748952865600586,
          62.51810836791992,
          -18.878915786743164,
          22.38878631591797,
          -11.106599807739258,
          4.818160057067871,
          -43.590423583984375,
          38.483882904052734,
          43.245296478271484,
          21.06787872314453,
          -49.62358093261719,
          50.210968017578125,
          32.05625915527344,
          33.9483528137207,
          -48.84481430053711,
          1.7631783485412598,
          28.60427474975586,
          24.030254364013672,
          -55.94135665893555,
          -3.5561249256134033,
          -32.324317932128906,
          -1.9236682653427124,
          27.536401748657227,
          19.91752052307129,
          7.299932479858398,
          6.447417736053467,
          -6.943556308746338,
          1.9901930093765259,
          -3.3872275352478027,
          -7.089448928833008,
          -37.470462799072266,
          25.717741012573242,
          7.888533592224121,
          33.84663009643555,
          50.126468658447266,
          -14.948378562927246,
          -12.874509811401367,
          -14.962302207946777,
          25.930482864379883,
          -45.88661193847656,
          -48.932220458984375,
          -60.35765075683594,
          12.836323738098145,
          48.728050231933594,
          -29.956727981567383,
          -3.6965975761413574,
          -50.44702911376953,
          -35.66749954223633,
          29.666967391967773,
          26.322956085205078,
          -3.6150784492492676,
          -53.08094024658203,
          -7.357017517089844,
          -44.56071472167969,
          -37.81234359741211,
          4.411990642547607,
          -50.16211700439453,
          -1.5412025451660156,
          2.86197829246521,
          29.0700626373291,
          40.97808837890625,
          1.5076065063476562,
          -2.9605460166931152,
          -57.05281066894531,
          45.305049896240234,
          20.692380905151367,
          -56.094120025634766,
          62.2947998046875,
          30.67198371887207,
          9.977598190307617,
          -1.7843034267425537,
          61.799007415771484,
          -34.241493225097656,
          -48.41394805908203,
          47.03108596801758,
          26.417312622070312,
          24.259965896606445,
          63.568965911865234,
          9.126762390136719,
          37.870174407958984,
          63.69462966918945,
          -53.627044677734375,
          8.698558807373047,
          -4.424227237701416,
          2.948154926300049,
          3.3885717391967773,
          -33.88488006591797,
          31.14307403564453,
          -53.28368377685547,
          -52.51030349731445,
          43.80958557128906,
          1.9905779361724854,
          -55.9921989440918,
          -6.449824810028076,
          -1.143287181854248,
          22.59975814819336,
          34.41974639892578,
          18.782915115356445,
          24.862707138061523,
          6.001845359802246,
          -10.714408874511719,
          -34.97880554199219,
          -57.28396987915039,
          -57.93572235107422,
          -39.84381103515625,
          14.97355842590332,
          -45.469852447509766,
          1.316810965538025,
          31.40826416015625,
          -44.526214599609375,
          10.552325248718262,
          2.042304039001465,
          -34.97881317138672,
          -36.97559356689453,
          -31.76371192932129,
          47.97572326660156,
          -43.7178840637207,
          -5.094970703125,
          2.4586358070373535,
          -37.68978500366211,
          -5.207687854766846,
          20.864763259887695,
          -44.24256134033203,
          32.24638366699219,
          49.02218246459961,
          60.23383712768555,
          12.785483360290527,
          21.154569625854492,
          19.7322998046875,
          12.263877868652344,
          45.3168830871582,
          15.803681373596191,
          43.85694885253906,
          -31.448898315429688,
          31.585996627807617,
          62.58309555053711,
          4.841532230377197,
          -36.8282356262207,
          -14.690033912658691,
          31.80976104736328,
          33.22185134887695,
          62.802528381347656,
          -8.543940544128418,
          36.38811111450195,
          -44.69438171386719,
          47.657894134521484,
          -20.16082191467285,
          -0.11507071554660797,
          26.977144241333008,
          -51.929481506347656,
          -15.004325866699219,
          41.58153533935547,
          1.0654735565185547,
          -60.06787109375,
          8.775903701782227,
          -26.85621452331543,
          -1.6050618886947632,
          24.886337280273438,
          -26.75977325439453,
          -61.131465911865234,
          -45.155025482177734,
          13.30820083618164,
          12.736856460571289,
          -58.50370788574219,
          -31.175569534301758,
          -18.633893966674805,
          3.881927728652954,
          -60.33030700683594,
          -2.0966274738311768,
          -25.94904899597168,
          -3.3235433101654053,
          6.705533981323242,
          -23.894033432006836,
          -13.27712631225586,
          -38.44329833984375,
          1.5726122856140137,
          8.2418794631958,
          9.39560317993164,
          -14.900671005249023,
          -53.623329162597656,
          9.197641372680664,
          -57.131065368652344,
          -15.15407657623291,
          1.2820533514022827,
          14.38685131072998,
          13.275613784790039,
          -58.74916076660156,
          14.636512756347656,
          1.1968995332717896,
          12.334809303283691,
          -44.75679016113281,
          2.571465015411377,
          14.116050720214844,
          49.907405853271484,
          -54.636512756347656,
          13.318012237548828,
          22.893348693847656,
          -48.07436752319336,
          9.576184272766113,
          -39.915138244628906,
          -42.15401840209961,
          -52.66568374633789,
          -45.64031219482422,
          -49.30402755737305,
          -51.05217742919922,
          -45.40105438232422,
          -47.498661041259766,
          -56.086997985839844,
          -56.67112731933594,
          -53.614479064941406,
          -21.200942993164062,
          -41.68547439575195,
          -49.14364242553711,
          -49.006080627441406,
          -45.24006271362305,
          -54.995723724365234,
          -59.363914489746094,
          -54.20071792602539,
          -4.693145275115967,
          -40.79546356201172,
          -40.87596130371094,
          -37.758033752441406,
          -21.603422164916992,
          -11.057378768920898,
          -33.217647552490234,
          16.08815574645996,
          9.75969409942627,
          21.50473976135254,
          -49.19712448120117,
          53.44253921508789,
          38.46421813964844,
          43.3652229309082,
          19.020912170410156,
          -32.74819564819336,
          49.508018493652344,
          -4.625482082366943,
          17.278900146484375,
          46.98127365112305,
          -13.773979187011719,
          24.866153717041016,
          -44.55402755737305,
          -52.93803024291992,
          -49.71175765991211,
          22.442230224609375,
          32.30247497558594,
          66.73153686523438,
          -57.93914794921875,
          -51.13908386230469,
          -54.011810302734375,
          28.82122039794922,
          -1.0409458875656128,
          -13.423928260803223,
          -31.168075561523438,
          -25.129867553710938,
          -7.288337707519531,
          -46.35776138305664,
          -24.341081619262695,
          -4.959818363189697,
          -14.804892539978027,
          -30.721477508544922,
          36.998374938964844,
          38.17091369628906,
          -48.62762451171875,
          9.06899642944336,
          3.4998667240142822,
          -17.481040954589844,
          23.542991638183594,
          -3.7458174228668213,
          -1.3631722927093506,
          23.930994033813477,
          -3.3268227577209473,
          29.38280487060547,
          44.029762268066406,
          27.687705993652344,
          12.752547264099121,
          -18.295175552368164,
          -4.130548000335693,
          15.492044448852539,
          8.737435340881348,
          -17.41835594177246,
          25.675045013427734,
          25.6752986907959,
          6.131341934204102,
          64.17510223388672,
          20.293296813964844,
          36.67001724243164,
          23.150989532470703,
          -49.44654846191406,
          -4.599978923797607,
          43.18485641479492,
          36.617645263671875,
          35.60216522216797,
          41.20921325683594,
          34.42268371582031,
          -59.27750015258789,
          -49.617286682128906,
          34.5854606628418,
          40.370155334472656,
          -6.980971336364746,
          38.65398025512695,
          3.563088893890381,
          36.58256530761719,
          -51.705543518066406,
          36.15754318237305,
          40.26597595214844,
          -1.3523952960968018,
          58.038612365722656,
          -16.859111785888672,
          -48.968017578125,
          -48.78067398071289,
          -24.880512237548828,
          21.563823699951172,
          -16.768159866333008,
          -41.099609375,
          46.14545440673828,
          33.43461227416992,
          25.388051986694336,
          28.063779830932617,
          62.522945404052734,
          3.881927728652954,
          11.590241432189941,
          -47.253108978271484,
          4.250786304473877,
          -52.021568298339844,
          -47.85029602050781,
          -29.438879013061523,
          11.874466896057129,
          -46.63825988769531,
          -17.907814025878906,
          -1.381655216217041,
          32.20846939086914,
          45.460174560546875,
          -1.381655216217041,
          7.813223361968994,
          6.921470642089844,
          -19.95876693725586,
          38.32026672363281,
          25.126670837402344,
          -11.899397850036621,
          -52.13495635986328,
          -28.7805233001709,
          -46.02278137207031,
          -10.821456909179688,
          8.003499031066895,
          -13.728607177734375,
          61.64274978637695,
          -8.877901077270508,
          0.5547428131103516,
          29.164953231811523,
          19.536540985107422,
          -42.207393646240234,
          10.818960189819336,
          11.700241088867188,
          18.834123611450195,
          19.357683181762695,
          5.005289077758789,
          5.31517219543457,
          9.828636169433594,
          -30.7928524017334,
          25.872350692749023,
          -4.220678329467773,
          -38.84905242919922,
          8.08685302734375,
          2.070600748062134,
          48.51015853881836,
          -33.04169464111328,
          12.376758575439453,
          61.84777069091797,
          -26.43869400024414,
          -54.23435592651367,
          -7.0727033615112305,
          26.71572494506836,
          -48.88066864013672,
          30.38595962524414,
          51.57826232910156,
          -13.46669864654541,
          32.348297119140625,
          -12.663113594055176,
          42.29720687866211,
          -43.199371337890625,
          -3.4449028968811035,
          35.81394577026367,
          42.30076217651367,
          -53.092613220214844,
          -1.2499051094055176,
          -32.534854888916016,
          6.558873653411865,
          -44.45792770385742,
          34.34327697753906,
          -13.220343589782715,
          -0.29678016901016235,
          2.3179540634155273,
          32.84559631347656,
          37.47629165649414,
          -16.468399047851562,
          11.170775413513184,
          -21.170040130615234,
          -12.594268798828125,
          38.75501251220703,
          31.795982360839844,
          48.01942443847656,
          36.1844367980957,
          -49.19426727294922,
          17.047733306884766,
          -41.207157135009766,
          -56.872989654541016,
          19.710596084594727,
          50.21476745605469,
          -52.865177154541016,
          24.813861846923828,
          -46.112144470214844,
          -24.46248435974121,
          -45.19264221191406,
          63.23876953125,
          -26.808135986328125,
          -6.452101707458496,
          55.48686599731445,
          31.484832763671875,
          47.33600616455078,
          -9.616381645202637,
          -15.006905555725098,
          -47.5791130065918,
          -3.6138112545013428,
          -47.531009674072266,
          25.585115432739258,
          33.43144226074219,
          68.25354766845703,
          -6.017274856567383,
          0.3790346384048462,
          -48.08129119873047,
          -16.403827667236328,
          -59.28681182861328,
          12.878565788269043,
          65.5942611694336,
          -20.283645629882812,
          -35.37388610839844,
          -53.27091979980469,
          64.414794921875,
          66.05378723144531,
          27.309276580810547,
          -45.98359680175781,
          -3.1548662185668945,
          34.40287780761719,
          -10.229726791381836,
          13.966104507446289,
          43.87889862060547,
          -42.374298095703125,
          35.422874450683594,
          55.951080322265625,
          8.658095359802246,
          10.769535064697266,
          14.92357349395752,
          0.015886737033724785,
          -33.97526550292969,
          0.9794051051139832,
          3.7164604663848877,
          9.503960609436035,
          21.010595321655273,
          -50.75418472290039,
          61.936363220214844,
          2.811256170272827,
          -45.13629913330078,
          -29.46261215209961,
          -1.2480546236038208,
          43.725196838378906,
          47.23849105834961,
          1.3779321908950806,
          -50.55870819091797,
          -32.25775909423828,
          25.422903060913086,
          -13.973982810974121,
          -51.711273193359375,
          22.071809768676758,
          -3.6760008335113525,
          3.288217544555664,
          0.4494522511959076,
          35.8305778503418,
          -11.562499046325684,
          -32.4118766784668,
          -33.46723175048828,
          -54.969051361083984,
          6.036293029785156,
          27.39580726623535,
          25.16938018798828,
          -17.269010543823242,
          42.34369659423828,
          51.99211120605469,
          -8.17728328704834,
          -26.199216842651367,
          15.02074909210205,
          -49.4097785949707,
          -52.12947463989258,
          -50.54144287109375,
          -3.632328510284424,
          -34.45748519897461,
          14.172171592712402,
          0.6792028546333313,
          -34.373046875,
          -46.73915100097656,
          -46.06572723388672,
          -41.119544982910156,
          -42.9273796081543,
          22.69792938232422,
          -46.318115234375,
          -8.58493423461914,
          25.45285415649414,
          66.38817596435547,
          30.437835693359375,
          -10.689950942993164,
          -20.29783058166504,
          28.718339920043945,
          -2.7864532470703125,
          2.4968438148498535,
          -44.261512756347656,
          -5.696848392486572,
          34.09441375732422,
          24.97138214111328,
          36.481727600097656,
          -49.31486511230469,
          -10.302700996398926,
          -33.68599319458008,
          34.37738800048828,
          -21.989967346191406,
          12.32778549194336,
          47.74614715576172,
          25.156373977661133,
          -1.1972298622131348,
          40.13075637817383,
          41.814300537109375,
          2.4819209575653076,
          43.56398391723633,
          28.980379104614258,
          41.21924591064453,
          -13.595531463623047,
          -37.748409271240234,
          51.93550109863281,
          2.572523355484009,
          -45.71377182006836,
          32.66009521484375,
          30.324857711791992,
          22.733198165893555,
          31.65306854248047,
          20.81962013244629,
          59.7894401550293,
          18.608570098876953,
          -39.455326080322266,
          -33.928340911865234,
          -38.29802703857422,
          -54.62596130371094,
          -15.953369140625,
          -31.12636947631836,
          8.411966323852539,
          -44.47525405883789,
          -16.044960021972656,
          61.164573669433594,
          -42.09080505371094,
          -3.444901943206787,
          -8.949248313903809,
          31.266437530517578,
          0.6644191741943359,
          -46.84109878540039,
          -8.956344604492188,
          -45.63896942138672,
          -12.107653617858887,
          -22.86456871032715,
          41.81488037109375,
          -30.95532989501953,
          42.453365325927734,
          -41.14071273803711,
          36.416786193847656,
          36.0966682434082,
          -52.96160888671875,
          -21.295122146606445,
          -12.679736137390137,
          -50.32244110107422,
          -55.26772689819336,
          -50.55581283569336,
          -20.13372230529785,
          -36.679264068603516,
          30.508485794067383,
          -46.008392333984375,
          -13.569398880004883,
          -5.282476425170898,
          3.454270839691162,
          2.852677583694458,
          -23.669391632080078,
          -3.7229063510894775,
          1.9918370246887207,
          -11.677191734313965,
          -33.398746490478516,
          -40.171165466308594,
          -1.0140931606292725,
          51.99897003173828,
          45.89704895019531,
          -11.40025806427002,
          -35.22685623168945,
          -44.25823974609375,
          -45.33816909790039,
          -42.028465270996094,
          4.328574180603027,
          -47.17629623413086,
          43.552947998046875,
          43.938602447509766,
          43.31465148925781,
          -28.02300262451172,
          47.99042892456055,
          22.089366912841797,
          -50.294071197509766,
          -37.468505859375,
          65.79391479492188,
          -0.35907626152038574,
          12.506486892700195,
          44.67947006225586,
          -29.103084564208984,
          -55.403751373291016,
          -58.04827117919922,
          29.42643165588379,
          -11.795478820800781,
          -59.53993606567383,
          47.58778381347656,
          -8.700927734375,
          -58.03280258178711,
          -26.586524963378906,
          -7.842983245849609,
          -12.400113105773926,
          -3.229787588119507,
          12.107845306396484,
          45.409629821777344,
          12.316478729248047,
          -2.497819662094116,
          11.952964782714844,
          -0.8879886269569397,
          -56.09403610229492,
          -24.022703170776367,
          -58.80540084838867,
          36.934547424316406,
          23.086687088012695,
          9.982086181640625,
          -33.2861442565918,
          11.33581829071045,
          37.72853469848633,
          8.239919662475586,
          8.2694673538208,
          16.795251846313477,
          -44.83079147338867,
          34.83613967895508,
          2.6890571117401123,
          13.17418098449707,
          -0.4892881214618683,
          -27.085615158081055,
          -25.677534103393555,
          32.521156311035156,
          -37.943092346191406,
          -56.50859451293945,
          -10.461284637451172,
          6.22297477722168,
          27.3677921295166,
          59.24311065673828,
          -16.18987274169922,
          22.24100685119629,
          -1.0931252241134644,
          -21.910043716430664,
          6.2230024337768555,
          -55.62905502319336,
          -40.321685791015625,
          -44.33902359008789,
          1.1548300981521606,
          -42.194313049316406,
          11.399459838867188,
          34.42428207397461,
          24.791608810424805,
          -40.394630432128906,
          20.12825584411621,
          -26.192174911499023,
          35.56843948364258,
          -35.980262756347656,
          20.705142974853516,
          -25.720569610595703,
          -53.4728889465332,
          21.58115577697754,
          26.201345443725586,
          -46.90232467651367,
          -44.71617126464844,
          -49.34122848510742,
          18.917001724243164,
          43.04692459106445,
          -52.29063415527344,
          57.358001708984375,
          -49.33425521850586,
          17.05748748779297,
          -42.161495208740234,
          -12.926568984985352,
          31.556562423706055,
          25.545507431030273,
          -42.54917526245117,
          40.73003387451172,
          34.498565673828125,
          22.630142211914062,
          65.80978393554688,
          20.587194442749023,
          -14.861823081970215,
          1.4970145225524902,
          47.586280822753906,
          34.24949264526367,
          -24.404380798339844,
          -41.100772857666016,
          63.71498107910156,
          -39.3043098449707,
          65.62738037109375,
          34.16120529174805,
          25.103620529174805,
          14.58087158203125,
          37.1396598815918,
          14.207329750061035,
          23.80974006652832,
          21.77998924255371,
          -45.928619384765625,
          12.78396224975586,
          4.267462253570557,
          30.489294052124023,
          -15.127348899841309,
          34.26313400268555,
          -39.17166519165039,
          -32.56962966918945,
          -55.4014778137207,
          3.0382704734802246,
          -46.40917205810547,
          -33.96049118041992,
          18.04048728942871,
          -47.215579986572266,
          49.05072784423828,
          -34.053672790527344,
          -34.61784744262695,
          -29.742115020751953,
          41.340335845947266,
          -40.88508987426758,
          -47.953853607177734,
          25.95856285095215,
          50.40461349487305,
          32.55479431152344,
          -33.334068298339844,
          20.82196617126465,
          -53.19471740722656,
          44.319122314453125,
          -46.415950775146484,
          -42.15459442138672,
          -32.10636520385742,
          3.8123056888580322,
          6.141336441040039,
          -2.0579724311828613,
          59.461631774902344,
          -47.56249237060547,
          -35.44471740722656,
          -15.287105560302734,
          -35.632572174072266,
          36.66436767578125,
          17.683229446411133,
          24.37762451171875,
          15.348093032836914,
          26.974342346191406,
          0.6720298528671265,
          4.0135273933410645,
          -12.028237342834473,
          37.7595100402832,
          -44.08156967163086,
          11.388432502746582,
          -13.276104927062988,
          -26.1468563079834,
          -5.717715740203857,
          -34.179344177246094,
          -11.848077774047852,
          -23.27976417541504,
          1.1452528238296509,
          9.673428535461426,
          10.716434478759766,
          13.962815284729004,
          12.007569313049316,
          -45.25395965576172,
          34.39315414428711,
          -27.003175735473633,
          -32.495262145996094,
          -33.88883590698242,
          10.235188484191895,
          -34.0812873840332,
          40.6644401550293,
          31.232379913330078,
          4.657390594482422,
          -17.096220016479492,
          -25.16046142578125,
          -16.23983383178711,
          -22.211931228637695,
          -21.852083206176758,
          -30.759973526000977,
          -59.13561248779297,
          -60.518882751464844,
          -27.870513916015625,
          40.87421798706055,
          3.2982397079467773,
          -52.07437515258789,
          18.862573623657227,
          16.41827964782715,
          15.429889678955078,
          19.636554718017578,
          31.823453903198242,
          31.980478286743164,
          -50.37222671508789,
          -46.39955520629883,
          36.38811111450195,
          13.872651100158691,
          -35.8259162902832,
          -51.02606964111328,
          -22.370853424072266,
          -55.49275207519531,
          -60.825042724609375,
          -22.45459747314453,
          8.40301513671875,
          -52.281272888183594,
          47.20584487915039,
          -22.332172393798828,
          -11.056610107421875,
          21.105867385864258,
          -15.534868240356445,
          35.7031364440918,
          17.215816497802734,
          -48.20771408081055,
          -36.71765899658203,
          -8.805466651916504,
          29.984302520751953,
          -40.907283782958984,
          19.897157669067383,
          29.19633674621582,
          -23.819198608398438,
          -13.618571281433105,
          17.44161033630371,
          20.208911895751953,
          39.4429931640625,
          66.81952667236328,
          37.98232650756836,
          7.308088779449463,
          -29.714143753051758,
          47.49913787841797,
          -19.760147094726562,
          -4.862281322479248,
          -21.880990982055664,
          -33.08873748779297,
          -36.05964660644531,
          -24.196008682250977,
          -47.7987060546875,
          -6.049551486968994,
          52.27592849731445,
          49.85081100463867,
          -49.95117950439453,
          14.77274227142334,
          33.20349884033203,
          28.891040802001953,
          -3.6020216941833496,
          -52.9102783203125,
          -26.20982551574707,
          -28.129287719726562,
          -19.97525978088379,
          65.36355590820312,
          53.249942779541016,
          30.59365463256836,
          61.31425857543945,
          -29.958515167236328,
          -48.08720397949219,
          -48.02586364746094,
          -44.25213623046875,
          -46.87065887451172,
          -51.30863952636719,
          -49.09601593017578,
          -34.2829704284668,
          -35.330326080322266,
          -17.125831604003906,
          -2.1870079040527344,
          -44.3304443359375,
          7.987462997436523,
          7.987459182739258,
          -0.8795148730278015,
          -20.652610778808594,
          29.877092361450195,
          36.5383186340332,
          -29.815048217773438,
          -43.68893051147461,
          24.071582794189453,
          65.4102783203125,
          40.60173416137695,
          36.85879898071289,
          -14.060670852661133,
          -61.13144302368164,
          -49.86458969116211,
          -50.14071273803711,
          -54.614437103271484,
          -59.5560188293457,
          -23.076719284057617,
          -36.74651336669922,
          -14.410463333129883,
          -14.410463333129883,
          -23.076337814331055,
          1.3577135801315308,
          37.87754440307617,
          64.8041763305664,
          -58.26534652709961,
          -41.21318817138672,
          -32.46431350708008,
          2.0982465744018555,
          4.61232852935791,
          -15.445856094360352,
          1.701080322265625,
          -16.2630672454834,
          0.9666485786437988,
          16.325014114379883,
          28.425567626953125,
          -61.37767791748047,
          -10.966789245605469,
          -43.96165466308594,
          -25.365602493286133,
          -51.80434036254883,
          53.51388168334961,
          -43.95087432861328,
          26.852060317993164,
          -16.649538040161133,
          -52.58845901489258,
          64.81732940673828,
          4.8532185554504395,
          11.064692497253418,
          -49.922096252441406,
          -12.187715530395508,
          -32.095458984375,
          33.375694274902344,
          2.348487377166748,
          0.3256285488605499,
          16.078670501708984,
          52.887489318847656,
          -7.222776889801025,
          25.84075927734375,
          63.20155715942383,
          32.114009857177734,
          8.686844825744629,
          45.48290252685547,
          16.269630432128906,
          35.801910400390625,
          24.754850387573242,
          30.206693649291992,
          30.848834991455078,
          8.11949348449707,
          -8.531575202941895,
          35.59519577026367,
          46.880496978759766,
          1.1420114040374756,
          3.2518553733825684,
          25.40753936767578,
          55.491573333740234,
          3.8819236755371094,
          -42.70404052734375,
          38.01881790161133,
          -36.71664047241211,
          -9.439249038696289,
          -29.000579833984375,
          46.254276275634766,
          44.9954719543457,
          43.68153381347656,
          -0.5604643821716309,
          -9.869260787963867,
          -9.329630851745605,
          -8.542031288146973,
          -49.65496063232422,
          -27.659456253051758,
          -17.789806365966797,
          38.542686462402344,
          8.058650016784668,
          -23.63463020324707,
          -1.9779181480407715,
          12.0706787109375,
          -15.230052947998047,
          -30.855276107788086,
          48.29169845581055,
          -27.23175621032715,
          -21.997562408447266,
          -29.633743286132812,
          4.340452194213867,
          -16.338823318481445,
          -8.333185195922852,
          4.639176845550537,
          37.982887268066406,
          -24.270753860473633,
          -27.74127197265625,
          2.551828622817993,
          -20.587982177734375,
          11.872054100036621,
          8.031801223754883,
          -61.131439208984375,
          -8.714692115783691,
          -11.960333824157715,
          -46.9174919128418,
          -55.10369873046875,
          -29.272905349731445,
          34.49882888793945,
          31.559736251831055,
          48.82234191894531,
          4.064507484436035,
          5.218421936035156,
          -13.385581970214844,
          -1.5724579095840454,
          -38.921287536621094,
          -46.202877044677734,
          -33.80368423461914,
          -39.46149444580078,
          42.89718246459961,
          -60.58430862426758,
          -55.43227767944336,
          9.576184272766113,
          -53.50969314575195,
          -32.47061538696289,
          -32.47040557861328,
          52.161380767822266,
          -48.407283782958984,
          -47.77994918823242,
          -57.35823440551758,
          -32.470619201660156,
          -39.23225021362305,
          9.004878997802734,
          -34.3800048828125,
          -33.90605163574219,
          6.989095211029053,
          -41.7921142578125,
          -18.130380630493164,
          -13.751311302185059,
          -47.08066177368164,
          -38.44316101074219,
          -39.62539291381836,
          -31.384521484375,
          -13.186739921569824,
          -38.230674743652344,
          -34.404544830322266,
          37.824302673339844,
          -52.387001037597656,
          -14.283977508544922,
          -48.35316467285156,
          16.135496139526367,
          34.35978317260742,
          40.0807991027832,
          29.658458709716797,
          31.75762176513672,
          30.91330909729004,
          36.770896911621094,
          48.090511322021484,
          27.97726058959961,
          -52.02020263671875,
          32.54558181762695,
          26.05530548095703,
          22.10197639465332,
          21.649105072021484,
          -45.293033599853516,
          14.428906440734863,
          40.0577507019043,
          19.050682067871094,
          26.695402145385742,
          -31.98406982421875,
          -48.377418518066406,
          -54.35771179199219,
          -50.14220428466797,
          0.7612623572349548,
          -35.296630859375,
          38.20580291748047,
          24.06700897216797,
          -14.303194999694824,
          -8.20743179321289,
          -2.862119674682617,
          51.03807830810547,
          -32.672664642333984,
          -35.296661376953125,
          -8.551782608032227,
          32.49664306640625,
          -27.441516876220703,
          -24.50944709777832,
          -2.8453800678253174,
          28.361146926879883,
          27.982789993286133,
          -37.18872833251953,
          0.8342508673667908,
          50.119728088378906,
          28.16878890991211,
          29.905393600463867,
          17.79044532775879,
          -9.441471099853516,
          50.71245193481445,
          -52.02027130126953,
          -31.62325668334961,
          19.056001663208008,
          -44.842750549316406,
          -48.960453033447266,
          -31.323577880859375,
          -14.314723014831543,
          18.6739559173584,
          -24.143024444580078,
          -14.83228588104248,
          -3.408515214920044,
          46.13620376586914,
          -24.24052619934082,
          -0.614753782749176,
          -23.102210998535156,
          -55.76594543457031,
          -6.510874271392822,
          -54.04704284667969,
          -24.602327346801758,
          -24.916902542114258,
          -7.371474742889404,
          -23.77305793762207,
          -25.357160568237305,
          -24.940231323242188,
          8.017613410949707,
          -32.779632568359375,
          -12.430359840393066,
          -7.7427287101745605,
          -24.95121955871582,
          5.081300258636475,
          -22.43739891052246,
          47.608924865722656,
          8.217082977294922,
          -23.175573348999023,
          -34.586238861083984,
          -18.649967193603516,
          -22.8226375579834,
          -22.928390502929688,
          1.616265892982483,
          -23.094520568847656,
          -13.514813423156738,
          1.4298911094665527,
          -46.84476089477539,
          -48.0870361328125,
          -14.419732093811035,
          -47.76447296142578,
          23.841222763061523,
          16.547977447509766,
          -7.757619857788086,
          -53.78077697753906,
          -1.1800813674926758,
          27.367719650268555,
          34.03141784667969,
          39.15737533569336,
          -45.79804611206055,
          -45.69379425048828,
          60.018898010253906,
          -59.443870544433594,
          -56.77899169921875,
          40.253074645996094,
          -18.52005386352539,
          65.8038558959961,
          -18.39815902709961,
          52.658531188964844,
          49.91386795043945,
          1.3235316276550293,
          1.4247628450393677,
          9.031878471374512,
          48.608184814453125,
          -0.3969951868057251,
          -50.81317138671875,
          -7.895090579986572,
          -50.79869079589844,
          23.655929565429688,
          -5.842476844787598,
          -23.027990341186523,
          41.33506774902344,
          48.62849044799805,
          2.6605613231658936,
          31.229644775390625,
          -49.027950286865234,
          12.234386444091797,
          -14.861804962158203,
          -34.6177864074707,
          -4.443815231323242,
          45.764137268066406,
          -40.697052001953125,
          -39.091670989990234,
          -38.89138412475586,
          -55.13458251953125,
          -33.19953155517578,
          -54.56477737426758,
          -59.72682189941406,
          -37.941402435302734,
          55.16504669189453,
          26.63367462158203,
          34.858341217041016,
          61.74875259399414,
          -55.06454849243164,
          -19.509098052978516,
          0.18831442296504974,
          27.013635635375977,
          33.269893646240234,
          -27.65224266052246,
          -53.440067291259766,
          -59.246177673339844,
          -40.63129806518555,
          11.824365615844727,
          -47.86852264404297,
          37.769256591796875,
          37.74383544921875,
          36.96543502807617,
          -53.09711456298828,
          51.13469696044922,
          10.438557624816895,
          -24.099761962890625,
          39.68544387817383,
          59.504981994628906,
          38.68633270263672,
          22.95146942138672,
          20.7485408782959,
          51.80908966064453,
          28.797687530517578,
          37.597900390625,
          -46.79231262207031,
          38.716453552246094,
          -22.902301788330078,
          53.197513580322266,
          10.579557418823242,
          42.19107437133789,
          -31.387853622436523,
          40.369773864746094,
          41.2562141418457,
          -38.44285583496094,
          -38.909671783447266,
          4.586266040802002,
          -54.44723892211914,
          21.95013999938965,
          31.79750633239746,
          45.70900344848633,
          -23.973047256469727,
          -16.63471794128418,
          -45.32430648803711,
          -0.7690427899360657,
          16.84954261779785,
          37.697452545166016,
          -11.860115051269531,
          -0.06575441360473633,
          -8.692182540893555,
          44.70832443237305,
          3.106839418411255,
          18.57474708557129,
          29.42643165588379,
          18.122638702392578,
          -55.35409164428711,
          1.154132604598999,
          -22.798730850219727,
          -14.326764106750488,
          -46.17118835449219,
          42.7814826965332,
          4.308680534362793,
          12.523496627807617,
          51.01434326171875,
          -0.2797412872314453,
          -20.09313201904297,
          -4.487614154815674,
          47.79591369628906,
          -37.12058639526367,
          -2.2198569774627686,
          -37.134098052978516,
          6.618000507354736,
          19.34754180908203,
          -33.01933288574219,
          -36.74650192260742,
          -24.61646842956543,
          7.452020168304443,
          9.749506950378418,
          26.41611099243164,
          6.286975383758545,
          -35.140769958496094,
          -6.34152364730835,
          -55.873653411865234,
          0.23847463726997375,
          -5.611124038696289,
          30.2533016204834,
          45.582435607910156,
          -5.977399826049805,
          6.088653564453125,
          9.597519874572754,
          27.053600311279297,
          6.353023052215576,
          0.6170560717582703,
          -16.695236206054688,
          43.35092544555664,
          -19.476463317871094,
          -22.943857192993164,
          -0.7917664051055908,
          21.920442581176758,
          37.31095886230469,
          -45.22309875488281,
          39.26021194458008,
          2.3963375091552734,
          -31.244224548339844,
          -52.33308792114258,
          -42.80091857910156,
          -2.071387767791748,
          5.434620380401611,
          -49.52399826049805,
          -1.9873794317245483,
          37.97805404663086,
          22.775550842285156,
          45.41596603393555,
          13.227213859558105,
          16.986366271972656,
          18.76980972290039,
          17.802261352539062,
          20.86477279663086,
          17.180805206298828,
          36.6623420715332,
          -28.875463485717773,
          19.322580337524414,
          27.999536514282227,
          60.54373550415039,
          21.661893844604492,
          64.28987121582031,
          8.053132057189941,
          -2.9186465740203857,
          -41.80678939819336,
          -39.2735481262207,
          -0.30730459094047546,
          -8.29272174835205,
          33.5108757019043,
          33.429569244384766,
          10.59317398071289,
          -15.481172561645508,
          13.311882972717285,
          4.183732509613037,
          15.75829792022705,
          45.093849182128906,
          30.142139434814453,
          10.960237503051758,
          -42.6721305847168,
          45.582462310791016,
          29.459840774536133,
          29.80940818786621,
          31.44058609008789,
          28.743560791015625,
          8.661908149719238,
          -21.98253631591797,
          31.72943878173828,
          49.577274322509766,
          64.04241943359375,
          44.11323928833008,
          -36.99428176879883,
          49.51579284667969,
          -3.498093605041504,
          -48.625431060791016,
          -45.76744842529297,
          -24.542402267456055,
          -23.027912139892578,
          -44.16749572753906,
          28.20536231994629,
          -5.543678283691406,
          40.18317413330078,
          12.036785125732422,
          -29.42302894592285,
          28.974403381347656,
          -24.604984283447266,
          28.277685165405273,
          -4.223852634429932,
          4.292597770690918,
          -45.48330307006836,
          12.469001770019531,
          7.596008777618408,
          26.552631378173828,
          29.172672271728516,
          44.81243133544922,
          60.48624038696289,
          29.830245971679688,
          -54.02643966674805,
          24.619482040405273,
          -48.55802917480469,
          48.11790466308594,
          8.074438095092773,
          11.721924781799316,
          24.606510162353516,
          25.613407135009766,
          28.466299057006836,
          -10.979019165039062,
          21.949199676513672,
          -7.961460590362549,
          20.342737197875977,
          58.58873748779297,
          -45.713626861572266,
          -37.342567443847656,
          19.789474487304688,
          -52.014522552490234,
          29.1903018951416,
          -53.16762161254883,
          -48.755043029785156,
          28.528165817260742,
          -54.33391571044922,
          27.291284561157227,
          20.160547256469727,
          -35.10736846923828,
          20.809864044189453,
          32.09540939331055,
          -26.38667869567871,
          50.28197479248047,
          -18.687923431396484,
          -5.792566299438477,
          -5.792568683624268,
          -35.69021224975586,
          40.95909118652344,
          -30.532136917114258,
          51.99647903442383,
          7.888533592224121,
          -35.82514953613281,
          1.1229331493377686,
          -30.98163604736328,
          -3.226546049118042,
          2.819535970687866,
          -15.987427711486816,
          -18.019250869750977,
          -49.02543258666992,
          18.33061408996582,
          -53.48052215576172,
          47.5876350402832,
          -41.72903823852539,
          -35.31682586669922,
          36.858787536621094,
          41.706722259521484,
          8.981809616088867,
          43.8759765625,
          13.113992691040039,
          -57.78618240356445,
          -12.363418579101562,
          45.30860137939453,
          5.463418483734131,
          21.7334041595459,
          18.142799377441406,
          22.75720977783203,
          -58.04295349121094,
          9.306516647338867,
          -2.339172124862671,
          -18.391368865966797,
          -9.343390464782715,
          33.580780029296875,
          -56.237979888916016,
          3.8220715522766113,
          40.98607635498047,
          -15.08690357208252,
          -58.58827209472656,
          -2.5160653591156006,
          -22.924015045166016,
          12.589520454406738,
          -2.384087324142456,
          -25.405723571777344,
          -30.54420280456543,
          27.74783706665039,
          -48.08720397949219,
          -17.7111759185791,
          -24.04976463317871,
          1.9508075714111328,
          8.655238151550293,
          7.945572376251221,
          -54.855865478515625,
          7.878603935241699,
          45.93265151977539,
          27.241737365722656,
          0.15738609433174133,
          -3.526994466781616,
          -54.185935974121094,
          17.077346801757812,
          -54.42212677001953,
          53.8836784362793,
          -48.27429962158203,
          -58.759910583496094,
          -27.863527297973633,
          23.98406982421875,
          13.181839942932129,
          -56.77137756347656,
          12.143678665161133,
          -49.357975006103516,
          29.145465850830078,
          -37.428977966308594,
          -52.86524963378906,
          -13.219940185546875,
          -13.503279685974121,
          6.730669021606445,
          -3.098449230194092,
          1.7044943571090698,
          29.68071746826172,
          41.90840530395508,
          8.274523735046387,
          -20.76918601989746,
          -30.137311935424805,
          -43.34296798706055,
          -45.22388458251953,
          47.29364776611328,
          -47.386409759521484,
          -63.23366928100586,
          -63.23366928100586,
          -5.709178924560547,
          44.10755157470703,
          -36.323604583740234,
          27.738590240478516,
          26.71600341796875,
          -34.54275894165039,
          -35.007022857666016,
          2.0548412799835205,
          -40.494632720947266,
          -33.31979751586914,
          0.2352997213602066,
          41.21930694580078,
          35.02801513671875,
          -43.74728775024414,
          29.2545223236084,
          20.402767181396484,
          23.8594970703125,
          19.90740966796875,
          49.969757080078125,
          8.610199928283691,
          -2.283740520477295,
          25.020492553710938,
          38.68460464477539,
          -9.40837287902832,
          50.620269775390625,
          23.499595642089844,
          26.026798248291016,
          -18.539079666137695,
          25.3829288482666,
          20.983999252319336,
          26.149316787719727,
          -4.305212497711182,
          0.2811521291732788,
          47.26132583618164,
          -52.56485366821289,
          31.195716857910156,
          30.730066299438477,
          -46.94346618652344,
          41.821224212646484,
          58.34385299682617,
          -44.281925201416016,
          -12.761300086975098,
          -30.554637908935547,
          -59.37345886230469,
          13.055136680603027,
          9.409083366394043,
          15.723273277282715,
          11.872603416442871,
          13.073988914489746,
          -57.43468475341797,
          -21.809688568115234,
          -43.30912399291992,
          -46.13793182373047,
          -49.91363525390625,
          -8.88044261932373,
          -49.71940994262695,
          -22.97421646118164,
          46.281089782714844,
          36.319087982177734,
          40.924137115478516,
          28.712736129760742,
          50.929969787597656,
          0.07131362706422806,
          34.671627044677734,
          1.0538841485977173,
          30.750417709350586,
          48.113128662109375,
          24.167789459228516,
          1.8512901067733765,
          8.59355354309082,
          -59.1419563293457,
          -51.654258728027344,
          -34.40852355957031,
          -26.82436180114746,
          -53.82921600341797,
          -44.70847702026367,
          18.802112579345703,
          -42.65357208251953,
          -27.445003509521484,
          -47.01877975463867,
          -30.84099769592285,
          29.145627975463867,
          24.220735549926758,
          -46.80667495727539,
          -22.184202194213867,
          -41.6070442199707,
          26.292455673217773,
          -1.205358624458313,
          3.779836893081665,
          33.5811653137207,
          12.855121612548828,
          -51.82381057739258,
          52.12745666503906,
          5.998697280883789,
          -0.8332743048667908,
          45.71659851074219,
          3.5398011207580566,
          46.68877029418945,
          22.289913177490234,
          -10.302611351013184,
          -3.4389114379882812,
          -2.4318881034851074,
          9.817842483520508,
          21.217103958129883,
          -14.88201904296875,
          37.37794494628906,
          -57.48284149169922,
          -0.7558046579360962,
          13.770432472229004,
          42.25505447387695,
          46.61731719970703,
          34.90693664550781,
          66.25436401367188,
          19.536762237548828,
          -39.72120666503906,
          12.7739896774292,
          28.906841278076172,
          -10.849140167236328,
          49.944881439208984,
          28.905315399169922,
          28.237382888793945,
          3.2682993412017822,
          46.710594177246094,
          31.79254722595215,
          38.791526794433594,
          30.67975616455078,
          -40.709564208984375,
          64.80657196044922,
          17.987491607666016,
          24.607892990112305,
          -52.93936538696289,
          -51.65903091430664,
          29.809999465942383,
          9.707371711730957,
          48.64862823486328,
          48.03461456298828,
          59.24296951293945,
          12.27367115020752,
          23.79667091369629,
          -45.09097671508789,
          -5.1335978507995605,
          -32.08226013183594,
          15.2254056930542,
          12.975397109985352,
          14.394806861877441,
          22.996721267700195,
          -40.808509826660156,
          -32.12068176269531,
          8.149333953857422,
          -38.76988220214844,
          -37.512062072753906,
          3.505401611328125,
          -37.67279815673828,
          -49.00729751586914,
          -44.98102569580078,
          -0.923815906047821,
          -28.356111526489258,
          -21.852060317993164,
          -10.526297569274902,
          26.023832321166992,
          -46.89838409423828,
          -35.107608795166016,
          -49.84518051147461,
          -12.425727844238281,
          -51.25287628173828,
          19.694353103637695,
          48.00173568725586,
          -2.2603769302368164,
          -53.015838623046875,
          54.90378189086914,
          -20.38218116760254,
          -31.6407413482666,
          13.680011749267578,
          -2.428211212158203,
          -53.6226692199707,
          -57.823760986328125,
          20.371875762939453,
          30.286794662475586,
          8.246707916259766,
          27.1324405670166,
          -44.55572509765625,
          12.069108963012695,
          -12.37624454498291,
          -43.9408073425293,
          -19.214614868164062,
          -24.541845321655273,
          -11.03494644165039,
          41.030513763427734,
          37.62309646606445,
          -44.22634506225586,
          0.18853257596492767,
          16.124540328979492,
          48.121578216552734,
          50.48261642456055,
          -11.30673599243164,
          17.013959884643555,
          59.71473693847656,
          5.82889986038208,
          -52.100276947021484,
          -37.72079849243164,
          49.06193923950195,
          36.14360809326172,
          -48.061214447021484,
          43.572105407714844,
          51.042884826660156,
          1.0742716789245605,
          35.14333724975586,
          60.65201950073242,
          44.65060806274414,
          -12.787469863891602,
          -36.73695373535156,
          -56.20120620727539,
          13.426294326782227,
          -36.65093231201172,
          -2.4750149250030518,
          34.746315002441406,
          10.03308391571045,
          44.24935531616211,
          9.437760353088379,
          -60.96732711791992,
          3.975970506668091,
          7.8394975662231445,
          -57.81230926513672,
          19.793317794799805,
          18.8422794342041,
          43.82933807373047,
          59.45497512817383,
          48.38969039916992,
          31.14232063293457,
          8.949957847595215,
          -34.83915710449219,
          -55.56525802612305,
          -59.18209457397461,
          -45.016990661621094,
          -44.60683059692383,
          -52.95263671875,
          -47.818397521972656,
          -51.54609680175781,
          -57.05929183959961,
          27.770252227783203,
          6.458487510681152,
          -59.1818962097168,
          67.04327392578125,
          -4.78558349609375,
          -43.194026947021484,
          33.77156448364258,
          -42.63191604614258,
          -49.1242790222168,
          50.509830474853516,
          39.3187370300293,
          9.683260917663574,
          33.244998931884766,
          31.938566207885742,
          -47.10857391357422,
          31.534114837646484,
          -19.49903678894043,
          7.278777122497559,
          -35.80137634277344,
          -45.777687072753906,
          16.665231704711914,
          41.004356384277344,
          47.17662048339844,
          12.409673690795898,
          35.88652801513672,
          61.344024658203125,
          34.92946243286133,
          26.80443000793457,
          31.369863510131836,
          1.602957010269165,
          48.89599609375,
          37.24462127685547,
          4.24755859375,
          32.7720832824707,
          33.43634033203125,
          -37.19355773925781,
          13.708399772644043,
          -12.755365371704102,
          -58.34743881225586,
          30.034412384033203,
          21.529146194458008,
          13.635353088378906,
          22.603046417236328,
          -35.4612922668457,
          29.429031372070312,
          30.92479705810547,
          -1.55338454246521,
          22.138952255249023,
          20.374361038208008,
          -1.7054921388626099,
          -57.53243637084961,
          20.089868545532227,
          11.918281555175781,
          20.917633056640625,
          -17.044166564941406,
          -47.091468811035156,
          30.426769256591797,
          32.862361907958984,
          18.600196838378906,
          42.272586822509766,
          14.523204803466797,
          25.504552841186523,
          -13.21888542175293,
          -42.92676544189453,
          26.04515266418457,
          -1.1937110424041748,
          0.7534191012382507,
          6.39039421081543,
          -27.20163345336914,
          24.86994171142578,
          6.07370138168335,
          -33.468685150146484,
          4.334165573120117,
          13.021708488464355,
          46.05693435668945,
          19.254634857177734,
          -25.1407527923584,
          -11.130924224853516,
          -12.977766990661621,
          11.279616355895996,
          -34.37323760986328,
          -12.36099624633789,
          -26.4692325592041,
          -52.29489517211914,
          -10.13387393951416,
          13.647171974182129,
          -37.689781188964844,
          -0.4253424406051636,
          -1.4217966794967651,
          8.55848503112793,
          -0.46661514043807983,
          -13.901866912841797,
          7.998349666595459,
          67.8714828491211,
          12.317051887512207,
          14.029417991638184,
          -11.039092063903809,
          -9.771577835083008,
          -10.611809730529785,
          1.2738163471221924,
          25.677215576171875,
          13.937639236450195,
          4.153929710388184,
          20.590303421020508,
          -21.472063064575195,
          -19.02104949951172,
          -47.82867431640625,
          -54.82821273803711,
          25.257638931274414,
          23.681705474853516,
          24.27993392944336,
          35.89679718017578,
          31.6530704498291,
          45.30849075317383,
          63.83891296386719,
          -22.319456100463867,
          -29.663240432739258,
          -39.84528350830078,
          7.956988334655762,
          15.096076965332031,
          67.1910400390625,
          22.689327239990234,
          25.44097900390625,
          29.086488723754883,
          -8.714637756347656,
          52.495670318603516,
          47.041748046875,
          -25.41596031188965,
          -44.78669738769531,
          -11.259685516357422,
          -19.39183235168457,
          -0.8723899126052856,
          63.698570251464844,
          31.602418899536133,
          60.76274108886719,
          46.43422317504883,
          11.488432884216309,
          40.41804122924805,
          61.6630744934082,
          58.180381774902344,
          31.7409610748291,
          -44.56187438964844,
          -30.82807159423828,
          46.41250991821289,
          46.26972961425781,
          24.985258102416992,
          5.559540748596191,
          42.09165954589844,
          -35.18781661987305,
          0.22138673067092896,
          -43.252315521240234,
          -17.245685577392578,
          -8.580891609191895,
          24.63214874267578,
          33.557891845703125,
          47.30686569213867,
          58.63385772705078,
          61.515159606933594,
          36.329246520996094,
          58.75780487060547,
          41.329132080078125,
          15.64330768585205,
          -42.03173065185547,
          61.84497833251953,
          36.696128845214844,
          -6.93067741394043,
          -38.757442474365234,
          33.42980194091797,
          2.951850652694702,
          27.33969497680664,
          8.108920097351074,
          -41.718746185302734,
          8.553492546081543,
          67.40156555175781,
          -53.07301712036133,
          24.58614158630371,
          -43.520423889160156,
          34.96607208251953,
          -49.990760803222656,
          17.4592342376709,
          -54.600948333740234,
          20.208749771118164,
          29.242380142211914,
          19.407312393188477,
          20.253887176513672,
          13.872651100158691,
          10.540709495544434,
          11.064940452575684,
          28.964839935302734,
          31.368877410888672,
          22.205785751342773,
          -56.18577575683594,
          11.495527267456055,
          20.934160232543945,
          27.065235137939453,
          19.664844512939453,
          -47.19380569458008,
          23.771135330200195,
          41.47298812866211,
          10.015382766723633,
          11.709092140197754,
          8.724218368530273,
          26.26103401184082,
          -49.29241943359375,
          -24.598066329956055,
          -44.226383209228516,
          48.08005905151367,
          -16.55488395690918,
          -9.368319511413574,
          21.932050704956055,
          47.669532775878906,
          13.238052368164062,
          -0.9657407402992249,
          -15.128786087036133,
          -50.198272705078125,
          -15.22628402709961,
          -29.20421028137207,
          -36.11191940307617,
          3.561713457107544,
          -54.93136978149414,
          -55.82517623901367,
          -55.16175842285156,
          5.027499198913574,
          49.159847259521484,
          -57.04627990722656,
          -54.538963317871094,
          -59.48896408081055,
          47.915374755859375,
          47.91520309448242,
          -43.81414794921875,
          -52.593753814697266,
          -50.29646682739258,
          38.1419563293457,
          -2.1084299087524414,
          -54.94087600708008,
          -48.1546745300293,
          4.171745777130127,
          -25.006425857543945,
          46.07215881347656,
          -44.73668670654297,
          -63.45676040649414,
          47.55919647216797,
          19.494606018066406,
          -10.730379104614258,
          37.15187072753906,
          23.71707534790039,
          51.020782470703125,
          42.16855239868164,
          49.213226318359375,
          23.46358299255371,
          28.15762710571289,
          23.815805435180664,
          22.337526321411133,
          4.28435754776001,
          -10.631586074829102,
          24.830068588256836,
          -21.57444190979004,
          -0.19561968743801117,
          -56.179019927978516,
          48.69717788696289,
          3.328284502029419,
          44.44384002685547,
          20.404775619506836,
          -18.946617126464844,
          -43.76385498046875,
          9.906654357910156,
          38.56313705444336,
          -48.38275146484375,
          34.384986877441406,
          3.0385854244232178,
          -31.654369354248047,
          26.522592544555664,
          -36.63950729370117,
          -1.2453478574752808,
          63.8388557434082,
          15.623512268066406,
          -8.686184883117676,
          28.968473434448242,
          25.705347061157227,
          17.939359664916992,
          31.69965171813965,
          64.39230346679688,
          66.44086456298828,
          20.868864059448242,
          51.1132926940918,
          12.403697967529297,
          44.98875045776367,
          -56.540679931640625,
          -23.299739837646484,
          -46.461204528808594,
          14.793815612792969,
          -14.44310188293457,
          -2.9766016006469727,
          15.223786354064941,
          -54.2671012878418,
          -52.04655838012695,
          44.74418258666992,
          -24.652488708496094,
          -49.206520080566406,
          -30.561738967895508,
          3.140613317489624,
          20.084774017333984,
          -7.489170551300049,
          29.13725471496582,
          -48.70516586303711,
          -45.326480865478516,
          0.8158560991287231,
          -2.6320600509643555,
          8.291081428527832,
          -32.1048583984375,
          37.86345291137695,
          10.193102836608887,
          1.2473422288894653,
          9.055055618286133,
          -3.2155370712280273,
          -51.830299377441406,
          -48.786067962646484,
          31.19150161743164,
          36.68144226074219,
          31.143089294433594,
          -52.2896614074707,
          -41.480716705322266,
          27.44974136352539,
          32.139198303222656,
          36.51314926147461,
          -0.8706033825874329,
          -16.291582107543945,
          -11.921194076538086,
          -13.700824737548828,
          52.00334167480469,
          43.3126335144043,
          30.194005966186523,
          22.475324630737305,
          -3.637401819229126,
          17.802833557128906,
          -32.01394271850586,
          -23.92812156677246,
          43.03884506225586,
          -27.20163917541504,
          40.90082550048828,
          -1.7143911123275757,
          11.099034309387207,
          -1.0756661891937256,
          -7.91631555557251,
          -48.251461029052734,
          15.403282165527344,
          50.4467658996582,
          46.98086166381836,
          36.62067794799805,
          6.389647960662842,
          13.502557754516602,
          26.094881057739258,
          16.87906837463379,
          -1.918076992034912,
          27.22990608215332,
          26.88202667236328,
          -61.13121032714844,
          -6.4617180824279785,
          1.021553635597229,
          11.0953369140625,
          -43.68795394897461,
          -23.0314998626709,
          7.608338832855225,
          -31.390609741210938,
          -52.5367546081543,
          -31.151687622070312,
          45.67180633544922,
          -32.44361877441406,
          39.0822868347168,
          -10.361456871032715,
          46.27168273925781,
          46.17564392089844,
          52.744544982910156,
          2.6638715267181396,
          52.91903305053711,
          -50.05411148071289,
          30.417463302612305,
          -42.758033752441406,
          -2.671812057495117,
          -26.000329971313477,
          44.11265182495117,
          11.299291610717773,
          34.42218780517578,
          -2.051431894302368,
          63.87922286987305,
          16.980880737304688,
          14.181537628173828,
          11.896106719970703,
          26.490432739257812,
          -49.64556884765625,
          38.90810775756836,
          -31.23884391784668,
          -21.15193748474121,
          -44.42091751098633,
          4.904977321624756,
          -57.4511833190918,
          -36.59062576293945,
          -49.513145446777344,
          -35.170654296875,
          49.014286041259766,
          5.205891132354736,
          3.035832166671753,
          -29.983049392700195,
          -39.801292419433594,
          19.95687484741211,
          -39.80113220214844,
          52.05590057373047,
          25.213037490844727,
          -38.89651870727539,
          27.674463272094727,
          31.641672134399414,
          -13.655489921569824,
          -20.78082847595215,
          12.918004989624023,
          -29.000558853149414,
          -46.49188995361328,
          -22.98338508605957,
          -28.255443572998047,
          -45.45329284667969,
          -24.438467025756836,
          40.580814361572266,
          24.690935134887695,
          -22.789037704467773,
          -56.37489700317383,
          26.86808967590332,
          7.1508917808532715,
          2.7418949604034424,
          -59.8548583984375,
          33.66035842895508,
          3.378342628479004,
          3.320977210998535,
          38.26741027832031,
          -31.652151107788086,
          44.17806625366211,
          24.382444381713867,
          -46.44989776611328,
          -23.96070098876953,
          -5.603914737701416,
          -36.55390548706055,
          -49.94491958618164,
          -51.79011154174805,
          33.1652717590332,
          -41.289825439453125,
          -43.257232666015625,
          1.1554152965545654,
          -61.377445220947266,
          11.749956130981445,
          16.344520568847656,
          11.477376937866211,
          42.33604049682617,
          44.830692291259766,
          20.289710998535156,
          0.8046773076057434,
          14.321102142333984,
          27.987131118774414,
          46.8877067565918,
          6.067207336425781,
          8.664591789245605,
          -57.58750534057617,
          30.8625431060791,
          40.98345184326172,
          16.42426872253418,
          8.411917686462402,
          -48.24581527709961,
          30.732179641723633,
          -38.41302490234375,
          27.889711380004883,
          16.31169891357422,
          23.456945419311523,
          4.011110305786133,
          -48.24561309814453,
          43.534698486328125,
          9.44011402130127,
          25.289478302001953,
          46.27305221557617,
          -32.55825424194336,
          -57.54377746582031,
          7.104250431060791,
          12.645855903625488,
          -28.89564323425293,
          51.199195861816406,
          23.456945419311523,
          -31.69192886352539,
          44.830909729003906,
          8.3377046585083,
          46.48676681518555,
          3.8272929191589355,
          5.077119827270508,
          -13.149433135986328,
          -37.52412796020508,
          26.601869583129883,
          12.002314567565918,
          -36.598236083984375,
          -18.797683715820312,
          -9.080704689025879,
          -33.20975112915039,
          -27.06247901916504,
          -45.76103210449219,
          -36.75556564331055,
          -28.36656951904297,
          36.33626174926758,
          11.06949520111084,
          -40.17558288574219,
          -8.146197319030762,
          -26.8523006439209,
          -33.11609649658203,
          -12.539915084838867,
          29.89215850830078,
          26.046945571899414,
          4.5573954582214355,
          -17.3054256439209,
          -13.291288375854492,
          19.793350219726562,
          -17.690032958984375,
          -5.029451847076416,
          -40.89094161987305,
          -14.886191368103027,
          5.003956317901611,
          2.349018096923828,
          8.857438087463379,
          -7.729024887084961,
          32.00103759765625,
          42.19113540649414,
          49.80933380126953,
          42.978572845458984,
          -11.013330459594727,
          -1.3295730352401733,
          -9.448383331298828,
          40.3956184387207,
          -15.71384334564209,
          -14.4051513671875,
          12.503246307373047,
          -11.205591201782227,
          3.9628727436065674,
          15.539764404296875,
          -28.878990173339844,
          7.405874729156494,
          10.071861267089844,
          -11.520928382873535,
          -10.158991813659668,
          34.66191482543945,
          52.043643951416016,
          32.863712310791016,
          42.56193923950195,
          45.06524658203125,
          17.218963623046875,
          35.88294982910156,
          0.8355745077133179,
          24.133861541748047,
          46.75965118408203,
          30.140260696411133,
          17.13275146484375,
          15.80833625793457,
          14.702746391296387,
          -15.656835556030273,
          3.4431426525115967,
          15.000561714172363,
          38.54269027709961,
          -25.562639236450195,
          -41.834564208984375,
          20.361785888671875,
          5.7912139892578125,
          31.676483154296875,
          -22.311262130737305,
          -54.669166564941406,
          0.436615914106369,
          -19.054771423339844,
          -50.44881057739258,
          -25.774250030517578,
          3.7837417125701904,
          -42.27041244506836,
          -6.997704982757568,
          -7.401517391204834,
          -3.105628728866577,
          -13.531972885131836,
          -6.4453935623168945,
          -5.6023101806640625,
          -14.699108123779297,
          0.37899577617645264,
          44.717124938964844,
          14.612214088439941,
          -32.43983840942383,
          -22.31955337524414,
          30.14691162109375,
          30.30304718017578,
          62.97201919555664,
          45.792301177978516,
          57.25091552734375,
          9.123952865600586,
          58.63828659057617,
          51.61920928955078,
          64.23834228515625,
          58.60995864868164,
          41.16081619262695,
          55.0063362121582,
          -40.65238571166992,
          24.12152099609375,
          13.743230819702148,
          35.17177200317383,
          19.558940887451172,
          -61.39463806152344,
          -10.627775192260742,
          50.03246307373047,
          35.737884521484375,
          25.79314613342285,
          2.0055360794067383,
          -4.2448930740356445,
          -11.56976318359375,
          2.592283010482788,
          -17.71122932434082,
          31.11698341369629,
          -31.635513305664062,
          24.969009399414062,
          49.90705871582031,
          -54.76716995239258,
          -59.71500015258789,
          -53.985694885253906,
          -39.954898834228516,
          -25.405723571777344,
          -5.652627468109131,
          -16.676837921142578,
          -54.89929962158203,
          -55.1005859375,
          -6.4394612312316895,
          -20.49014663696289,
          -31.32623291015625,
          65.46775817871094,
          11.36378002166748,
          -54.9902458190918,
          -53.90786361694336,
          -14.86184024810791,
          -22.289249420166016,
          46.47223663330078,
          50.33445358276367,
          8.517570495605469,
          -5.163418769836426,
          38.382137298583984,
          35.93642807006836,
          -45.285118103027344,
          -14.488035202026367,
          16.794023513793945,
          9.943289756774902,
          -50.610862731933594,
          -15.046503067016602,
          37.30357360839844,
          -41.091224670410156,
          41.678863525390625,
          19.812414169311523,
          -29.208755493164062,
          -45.766849517822266,
          34.1348991394043,
          25.620515823364258,
          46.169429779052734,
          11.928058624267578,
          46.609554290771484,
          25.410825729370117,
          -0.2912386357784271,
          10.793994903564453,
          24.161542892456055,
          -49.21393585205078,
          -45.49886703491211,
          -53.8892707824707,
          -12.171401977539062,
          50.16777038574219,
          -24.191709518432617,
          26.249338150024414,
          62.4988899230957,
          42.28201675415039,
          47.94477081298828,
          -57.823753356933594,
          -34.26849365234375,
          -28.92439842224121,
          52.427433013916016,
          54.34244918823242,
          41.73846435546875,
          4.706006050109863,
          -7.729034900665283,
          -27.426387786865234,
          -57.2244758605957,
          34.193965911865234,
          42.03529739379883,
          2.6321611404418945,
          10.239596366882324,
          17.148910522460938,
          18.479900360107422,
          32.891754150390625,
          63.33776092529297,
          48.638729095458984,
          -37.66592025756836,
          4.306938171386719,
          -11.432583808898926,
          -3.415799379348755,
          -19.00140953063965,
          20.814315795898438,
          31.784626007080078,
          -3.66896653175354,
          42.27302169799805,
          38.831722259521484,
          34.61625671386719,
          52.84196090698242,
          35.97815704345703,
          -52.304115295410156,
          0.5974297523498535,
          10.59361743927002,
          -49.75775909423828,
          -14.644790649414062,
          -43.9139518737793,
          -57.22534942626953,
          -57.22494125366211,
          8.665491104125977,
          -43.309104919433594,
          12.674295425415039,
          28.292510986328125,
          -20.490440368652344,
          -5.043219089508057,
          -38.71432113647461,
          -18.024246215820312,
          -33.21833801269531,
          10.687284469604492,
          -26.891986846923828,
          -25.340408325195312,
          -20.24730110168457,
          -36.35979080200195,
          -10.399612426757812,
          -21.323715209960938,
          -58.701358795166016,
          -25.0080623626709,
          -7.625672340393066,
          -26.116575241088867,
          -9.673415184020996,
          -18.186193466186523,
          -50.697792053222656,
          -57.75011444091797,
          -10.976519584655762,
          -51.242034912109375,
          19.017545700073242,
          64.02169799804688,
          63.049198150634766,
          57.32861328125,
          45.36222839355469,
          44.27037048339844,
          36.10525131225586,
          -33.30907440185547,
          29.9678955078125,
          -41.08363723754883,
          -4.720988750457764,
          34.44102096557617,
          -12.999229431152344,
          -34.95310592651367,
          -38.30464553833008,
          48.11309051513672,
          -16.516653060913086,
          -50.82107925415039,
          -6.537356376647949,
          23.60079002380371,
          19.83137321472168,
          -30.92755126953125,
          -50.32532501220703,
          -55.950538635253906,
          45.251094818115234,
          47.23733901977539,
          46.40464401245117,
          -52.94721221923828,
          -24.325225830078125,
          65.40518188476562,
          -52.40113067626953,
          64.5440444946289,
          -4.458600997924805,
          -43.588417053222656,
          -2.0343375205993652,
          35.122589111328125,
          -17.711139678955078,
          -1.2093675136566162,
          -58.70343780517578,
          -36.876800537109375,
          -59.372779846191406,
          -28.490392684936523,
          31.090314865112305,
          30.804784774780273,
          -3.8710274696350098,
          29.37744903564453,
          31.582962036132812,
          -6.474632740020752,
          -29.06472396850586,
          -48.852455139160156,
          8.30960750579834,
          8.15181827545166,
          31.83952522277832,
          52.911659240722656,
          27.79792022705078,
          16.786640167236328,
          12.005509376525879,
          21.34072494506836,
          17.923114776611328,
          -3.388744831085205,
          -47.80894088745117,
          -6.32982063293457,
          -56.98441696166992,
          -59.142452239990234,
          9.772721290588379,
          -0.38469845056533813,
          31.262357711791992,
          25.79391860961914,
          -62.41284942626953,
          0.5760570764541626,
          9.744885444641113,
          -44.59579086303711,
          12.587862014770508,
          -50.065093994140625,
          43.40333557128906,
          -19.920822143554688,
          10.695908546447754
         ],
         "xaxis": "x",
         "y": [
          -25.19325065612793,
          -7.704685688018799,
          21.715410232543945,
          -36.22896957397461,
          -14.102971076965332,
          15.409937858581543,
          -10.325396537780762,
          -4.692662239074707,
          22.476194381713867,
          -28.941251754760742,
          41.55710983276367,
          6.494279384613037,
          21.291349411010742,
          -31.976360321044922,
          -38.340328216552734,
          -9.020506858825684,
          -35.315792083740234,
          -2.338926076889038,
          52.94133758544922,
          3.691803216934204,
          -25.055862426757812,
          -33.822357177734375,
          -28.910892486572266,
          -45.81167984008789,
          32.81145095825195,
          -29.132953643798828,
          -20.881481170654297,
          -22.36345863342285,
          47.41183853149414,
          -29.703039169311523,
          -24.823633193969727,
          43.98371505737305,
          -33.36349105834961,
          15.435298919677734,
          -7.885034561157227,
          49.577091217041016,
          -27.156902313232422,
          45.95401382446289,
          16.953153610229492,
          -3.4192354679107666,
          19.33856773376465,
          1.3853400945663452,
          -33.06156539916992,
          39.27488327026367,
          30.520536422729492,
          6.657878398895264,
          44.26282501220703,
          13.117895126342773,
          -11.226090431213379,
          28.0899715423584,
          -27.766916275024414,
          3.0680954456329346,
          -8.423859596252441,
          17.174041748046875,
          20.6005802154541,
          -3.3592965602874756,
          25.285768508911133,
          17.80216407775879,
          -14.140236854553223,
          -5.667165756225586,
          17.959291458129883,
          2.430877685546875,
          33.03977584838867,
          -12.813539505004883,
          36.208045959472656,
          -9.986628532409668,
          41.68490219116211,
          0.9917576313018799,
          21.86961555480957,
          -14.020663261413574,
          31.52852439880371,
          3.8591785430908203,
          -14.853328704833984,
          -40.125247955322266,
          -22.650833129882812,
          -23.65190315246582,
          -21.16582489013672,
          -28.747838973999023,
          47.99720001220703,
          -28.205677032470703,
          18.240978240966797,
          -20.347949981689453,
          14.148963928222656,
          -12.10661506652832,
          -34.068504333496094,
          38.775733947753906,
          26.085487365722656,
          33.491729736328125,
          -34.13658142089844,
          -44.24348068237305,
          21.737403869628906,
          23.026334762573242,
          29.08199119567871,
          4.809053897857666,
          -15.347929954528809,
          20.674476623535156,
          3.6901047229766846,
          2.4801571369171143,
          -48.02613067626953,
          5.048367977142334,
          -38.09835433959961,
          -26.437406539916992,
          24.742895126342773,
          26.93013572692871,
          -1.3613849878311157,
          -3.9574837684631348,
          4.368997573852539,
          20.667882919311523,
          2.869368076324463,
          12.90091609954834,
          0.8115885853767395,
          -7.045131206512451,
          14.9827299118042,
          3.0780861377716064,
          -32.47636795043945,
          -6.514355182647705,
          -11.145980834960938,
          21.640655517578125,
          -37.0277214050293,
          41.51191711425781,
          -15.178102493286133,
          -19.20221710205078,
          3.8540658950805664,
          15.669611930847168,
          11.930887222290039,
          -39.47821044921875,
          9.447979927062988,
          9.487202644348145,
          1.4833755493164062,
          -3.212023973464966,
          17.5905704498291,
          0.844883382320404,
          2.1724562644958496,
          12.828607559204102,
          25.46940040588379,
          35.729400634765625,
          -17.661474227905273,
          36.211116790771484,
          -30.53367042541504,
          13.018467903137207,
          35.30305862426758,
          13.018370628356934,
          5.031893730163574,
          -24.489124298095703,
          31.33005142211914,
          -8.843366622924805,
          6.708566188812256,
          -13.204523086547852,
          -10.788119316101074,
          17.442428588867188,
          -14.461543083190918,
          -40.97993087768555,
          -38.64482879638672,
          -18.50531768798828,
          -16.622135162353516,
          -22.221359252929688,
          40.914329528808594,
          39.94892501831055,
          0.7373784184455872,
          -3.6787707805633545,
          16.16631507873535,
          2.1826395988464355,
          -4.849031925201416,
          16.492372512817383,
          20.03135108947754,
          37.2688102722168,
          24.929550170898438,
          7.674809455871582,
          -5.879622936248779,
          14.28478717803955,
          20.97745132446289,
          -13.344961166381836,
          30.153905868530273,
          13.933609962463379,
          -8.92056941986084,
          47.961116790771484,
          -9.382537841796875,
          5.206179618835449,
          -1.7389291524887085,
          -37.44938278198242,
          -24.600521087646484,
          -29.220016479492188,
          26.789155960083008,
          -32.22742462158203,
          41.43179702758789,
          -1.7891991138458252,
          37.0984001159668,
          -24.012256622314453,
          -24.573511123657227,
          30.16796112060547,
          -22.224721908569336,
          24.419198989868164,
          47.96504592895508,
          5.735804080963135,
          -33.780887603759766,
          -32.890411376953125,
          -20.218923568725586,
          -15.489355087280273,
          -43.765724182128906,
          -10.30223560333252,
          -45.17646408081055,
          42.69832992553711,
          -44.944305419921875,
          -12.509164810180664,
          -41.057044982910156,
          23.15200424194336,
          -17.771350860595703,
          -0.751036524772644,
          -22.788331985473633,
          -32.83405685424805,
          -11.822267532348633,
          -2.9042017459869385,
          27.935081481933594,
          -35.30876541137695,
          -36.63924789428711,
          -35.670570373535156,
          -51.292816162109375,
          -44.32853698730469,
          -40.78139114379883,
          -41.725868225097656,
          -35.71000671386719,
          -18.20217514038086,
          -26.9419002532959,
          -33.71350860595703,
          -27.097291946411133,
          -2.687699556350708,
          -24.539913177490234,
          -31.91971778869629,
          -17.011150360107422,
          -23.578550338745117,
          -10.723555564880371,
          -22.736770629882812,
          -22.998947143554688,
          26.302635192871094,
          2.1847050189971924,
          6.0255632400512695,
          2.2894201278686523,
          -2.8172354698181152,
          42.095272064208984,
          17.846939086914062,
          -14.15857982635498,
          0.292725145816803,
          -3.204695701599121,
          49.706485748291016,
          2.278940439224243,
          -21.87947654724121,
          36.78485870361328,
          -35.62522888183594,
          4.409806251525879,
          -0.9889373183250427,
          -15.109134674072266,
          12.573962211608887,
          -25.948535919189453,
          -11.534314155578613,
          -12.0492582321167,
          17.60271453857422,
          52.6030387878418,
          52.602962493896484,
          -23.731361389160156,
          -10.400802612304688,
          44.305686950683594,
          43.740047454833984,
          32.86528396606445,
          17.363204956054688,
          37.08258056640625,
          -35.94954299926758,
          27.324766159057617,
          36.84302520751953,
          25.238588333129883,
          22.540884017944336,
          33.96936798095703,
          -26.677263259887695,
          -42.071781158447266,
          -15.680680274963379,
          -34.244789123535156,
          27.114797592163086,
          14.224136352539062,
          -35.403499603271484,
          -35.87810516357422,
          0.476641446352005,
          -35.401458740234375,
          20.44542694091797,
          43.82494354248047,
          -17.497947692871094,
          12.530770301818848,
          42.69146728515625,
          14.143144607543945,
          33.5645637512207,
          46.59895324707031,
          47.438785552978516,
          3.422152042388916,
          37.1511344909668,
          30.360374450683594,
          36.90367889404297,
          47.43857192993164,
          15.538090705871582,
          42.32319641113281,
          -34.7318115234375,
          -35.40018844604492,
          -35.704551696777344,
          -27.15082550048828,
          47.71968460083008,
          39.15119171142578,
          12.016786575317383,
          6.429260730743408,
          -32.756404876708984,
          -39.37936782836914,
          -27.126670837402344,
          39.278507232666016,
          -35.98278045654297,
          50.71559524536133,
          52.00018310546875,
          -33.0659294128418,
          23.667593002319336,
          -8.986662864685059,
          17.87749481201172,
          -14.42841911315918,
          10.746423721313477,
          35.39271926879883,
          25.68010902404785,
          18.761293411254883,
          -16.854047775268555,
          35.40385437011719,
          -43.59523391723633,
          11.946779251098633,
          8.727644920349121,
          16.567419052124023,
          -24.494848251342773,
          -17.498640060424805,
          21.669939041137695,
          11.467291831970215,
          -30.5064640045166,
          -22.09934425354004,
          -22.85501480102539,
          -26.208152770996094,
          -21.133642196655273,
          -15.207676887512207,
          10.406593322753906,
          37.88661575317383,
          -16.128997802734375,
          -37.56489944458008,
          -26.538599014282227,
          37.88859176635742,
          -13.854589462280273,
          -45.623836517333984,
          -2.329406976699829,
          -19.12700843811035,
          -14.671853065490723,
          39.511138916015625,
          31.470735549926758,
          37.88835906982422,
          21.752492904663086,
          14.450395584106445,
          -32.27691650390625,
          5.763233661651611,
          9.814983367919922,
          -35.50840377807617,
          15.37511157989502,
          25.992525100708008,
          21.41184425354004,
          -19.028820037841797,
          6.782378673553467,
          44.47581100463867,
          10.965435028076172,
          -24.709726333618164,
          -22.56841278076172,
          -15.868227005004883,
          -36.83662414550781,
          -23.05412483215332,
          -44.47919464111328,
          40.49378967285156,
          18.415082931518555,
          -25.259767532348633,
          38.15120315551758,
          14.35333251953125,
          18.488758087158203,
          -35.019222259521484,
          10.34970760345459,
          -34.9453125,
          -22.506988525390625,
          -10.440359115600586,
          24.17097282409668,
          -13.9191312789917,
          -4.65286111831665,
          -14.032671928405762,
          15.706677436828613,
          -16.284549713134766,
          -24.721725463867188,
          -4.319915294647217,
          -12.757537841796875,
          14.044002532958984,
          18.919105529785156,
          42.35898208618164,
          10.430131912231445,
          21.740402221679688,
          -4.105344772338867,
          -10.44609546661377,
          -34.721797943115234,
          51.51496124267578,
          36.5391960144043,
          42.85497283935547,
          -6.05661678314209,
          -38.22486877441406,
          -21.13519859313965,
          -11.643827438354492,
          20.076616287231445,
          -47.700801849365234,
          -39.30867004394531,
          47.71709060668945,
          -2.741779088973999,
          -15.350741386413574,
          -47.5375862121582,
          20.584442138671875,
          -23.0299129486084,
          28.32265281677246,
          -43.9595947265625,
          -17.17343521118164,
          -15.91356086730957,
          11.125663757324219,
          -26.280128479003906,
          -38.55259323120117,
          -23.980058670043945,
          3.615931987762451,
          -16.447694778442383,
          -17.904672622680664,
          -1.3040727376937866,
          -15.141406059265137,
          -22.17945098876953,
          18.710046768188477,
          35.099395751953125,
          -17.072580337524414,
          -8.969554901123047,
          35.65816879272461,
          2.2962684631347656,
          1.9403928518295288,
          -10.949896812438965,
          -10.96025276184082,
          -22.70577621459961,
          37.937461853027344,
          -16.312576293945312,
          26.68354034423828,
          37.23548889160156,
          34.50971984863281,
          7.667533874511719,
          33.27620315551758,
          21.97998046875,
          -10.017348289489746,
          2.96362042427063,
          19.32345199584961,
          23.11882209777832,
          33.08122634887695,
          -11.526243209838867,
          -13.888309478759766,
          -10.873299598693848,
          8.001513481140137,
          -8.851056098937988,
          -37.727264404296875,
          12.047322273254395,
          -10.294320106506348,
          -10.608817100524902,
          -10.018399238586426,
          -36.05537033081055,
          -40.243629455566406,
          21.408584594726562,
          -18.700773239135742,
          -45.55421829223633,
          -30.981929779052734,
          -32.37733840942383,
          -42.360801696777344,
          -32.34557342529297,
          -42.08876037597656,
          -23.573055267333984,
          -33.05173873901367,
          -15.205517768859863,
          3.6343271732330322,
          19.82901382446289,
          -16.741939544677734,
          -14.344985961914062,
          1.3543522357940674,
          44.87174987792969,
          -31.90977668762207,
          -5.899826526641846,
          -41.07256317138672,
          -2.7029569149017334,
          -13.826149940490723,
          -22.031707763671875,
          -16.71578025817871,
          -5.9046101570129395,
          -21.65632438659668,
          -4.49824857711792,
          5.404810905456543,
          14.393213272094727,
          -17.092418670654297,
          -5.030202388763428,
          -14.082901000976562,
          31.779172897338867,
          27.07204818725586,
          -40.64890670776367,
          41.093910217285156,
          4.321871757507324,
          4.77305793762207,
          -19.489789962768555,
          -27.44188117980957,
          2.8519818782806396,
          44.180362701416016,
          31.595428466796875,
          18.33345603942871,
          21.695470809936523,
          27.879894256591797,
          1.702789068222046,
          -36.47175979614258,
          27.371137619018555,
          -4.043414115905762,
          32.72006607055664,
          -28.739513397216797,
          -22.690561294555664,
          -29.26125144958496,
          -28.966163635253906,
          -1.7932446002960205,
          11.818293571472168,
          36.08073806762695,
          36.3265266418457,
          -35.85837173461914,
          19.945283889770508,
          -17.91765594482422,
          -45.40721893310547,
          28.48017692565918,
          -40.88314437866211,
          -6.255064487457275,
          -18.07196044921875,
          37.801509857177734,
          17.297935485839844,
          -10.928656578063965,
          -30.9871883392334,
          -20.4146728515625,
          -16.31308937072754,
          34.599571228027344,
          -14.728480339050293,
          35.6213493347168,
          -4.393125534057617,
          39.88065719604492,
          -18.37005043029785,
          -23.474403381347656,
          -4.5178446769714355,
          -30.987218856811523,
          -23.591554641723633,
          -12.791707038879395,
          -13.436956405639648,
          -23.086963653564453,
          -41.48874282836914,
          10.915252685546875,
          -44.25093460083008,
          -8.085087776184082,
          16.053926467895508,
          37.6483154296875,
          22.117706298828125,
          13.843789100646973,
          -0.027781739830970764,
          -8.350672721862793,
          24.958011627197266,
          32.50248718261719,
          -7.753190994262695,
          10.889435768127441,
          20.18547821044922,
          16.85243797302246,
          -16.22139549255371,
          22.17150115966797,
          -0.548384428024292,
          -9.652143478393555,
          -19.431692123413086,
          -9.985433578491211,
          -24.276437759399414,
          -32.394813537597656,
          9.300260543823242,
          22.199403762817383,
          7.557446479797363,
          30.21684455871582,
          -36.17923355102539,
          -26.194547653198242,
          -23.168851852416992,
          -7.200632572174072,
          33.43997573852539,
          -37.844573974609375,
          15.037248611450195,
          -11.87346363067627,
          23.990306854248047,
          -34.251686096191406,
          -39.59394836425781,
          -37.33495330810547,
          37.85108947753906,
          -40.527530670166016,
          34.20268630981445,
          44.83790588378906,
          -34.50729751586914,
          -36.80078125,
          22.712778091430664,
          38.34359359741211,
          1.7649532556533813,
          31.94699478149414,
          30.072162628173828,
          -13.522018432617188,
          -41.760311126708984,
          -12.710304260253906,
          20.230045318603516,
          -20.51628303527832,
          -18.667682647705078,
          -43.11122512817383,
          -12.229632377624512,
          -2.178893566131592,
          -11.203733444213867,
          -37.723297119140625,
          20.887962341308594,
          -39.589996337890625,
          26.73298454284668,
          -20.802005767822266,
          1.101837158203125,
          -38.26232147216797,
          12.30067253112793,
          26.007001876831055,
          22.824031829833984,
          -22.56068992614746,
          -31.723718643188477,
          -30.909515380859375,
          -24.806787490844727,
          -24.9119930267334,
          -33.77490234375,
          22.497535705566406,
          -30.89585304260254,
          -36.801456451416016,
          -29.38706398010254,
          -6.470055103302002,
          -38.93545913696289,
          -38.71781921386719,
          -21.655582427978516,
          -19.004558563232422,
          -32.06502151489258,
          0.734538733959198,
          -29.714462280273438,
          -18.307811737060547,
          -21.839431762695312,
          -20.368606567382812,
          -16.448740005493164,
          -19.286834716796875,
          -39.04218292236328,
          -20.495344161987305,
          -22.859970092773438,
          -19.18549346923828,
          -16.395204544067383,
          -18.392776489257812,
          -0.21087943017482758,
          1.2250704765319824,
          -39.16147994995117,
          -39.16237258911133,
          -27.832727432250977,
          -19.00621223449707,
          -40.64769744873047,
          3.585942268371582,
          37.07729721069336,
          -44.775962829589844,
          7.610065937042236,
          47.27946472167969,
          -19.797000885009766,
          -15.794522285461426,
          -31.89054298400879,
          11.849410057067871,
          3.368277072906494,
          -20.113082885742188,
          -25.186872482299805,
          -21.82951545715332,
          25.04165267944336,
          -44.55472183227539,
          14.148505210876465,
          -15.961373329162598,
          37.90506362915039,
          1.9416049718856812,
          27.806692123413086,
          3.3350725173950195,
          -3.048776626586914,
          -14.852302551269531,
          -23.53529930114746,
          -0.7539522051811218,
          -0.4347890615463257,
          -24.947113037109375,
          2.4868998527526855,
          -19.783517837524414,
          -25.059072494506836,
          -12.93423843383789,
          -14.859823226928711,
          -26.139667510986328,
          -27.806116104125977,
          -12.065963745117188,
          51.34295654296875,
          -33.914329528808594,
          -24.732797622680664,
          40.87472915649414,
          22.238407135009766,
          -33.62147903442383,
          13.650930404663086,
          -3.765932083129883,
          -28.918962478637695,
          -43.1068115234375,
          -2.5554747581481934,
          -29.535451889038086,
          -0.6061328053474426,
          -13.225981712341309,
          -0.6944907307624817,
          -30.780502319335938,
          -50.32899856567383,
          -36.04859924316406,
          11.18475341796875,
          8.078370094299316,
          -29.02593231201172,
          -3.694275140762329,
          -3.694162130355835,
          42.3112678527832,
          -0.7160670757293701,
          29.50910758972168,
          -16.95427894592285,
          -36.77273941040039,
          50.30362319946289,
          -43.369388580322266,
          -26.709007263183594,
          -31.472196578979492,
          -35.0041618347168,
          -27.89882469177246,
          -20.988706588745117,
          31.900068283081055,
          31.53230094909668,
          -31.132736206054688,
          -27.9344425201416,
          -23.86011505126953,
          -11.480713844299316,
          -42.64346694946289,
          -30.28487777709961,
          42.50132369995117,
          -32.92719268798828,
          -27.62440299987793,
          35.1312255859375,
          16.73536491394043,
          -45.063865661621094,
          -31.532896041870117,
          -30.892885208129883,
          -35.05033874511719,
          29.3388729095459,
          -28.229867935180664,
          44.499900817871094,
          15.998777389526367,
          -1.5333061218261719,
          -18.732484817504883,
          18.51326560974121,
          -2.2299416065216064,
          31.94699478149414,
          26.310449600219727,
          -33.88837814331055,
          24.716796875,
          4.649041652679443,
          44.610958099365234,
          -25.125383377075195,
          33.235107421875,
          43.18052673339844,
          0.29674938321113586,
          29.1269474029541,
          9.264389991760254,
          24.56157112121582,
          29.1269474029541,
          -44.34145736694336,
          -1.8573912382125854,
          -42.55088424682617,
          -11.26019287109375,
          18.13560676574707,
          15.573219299316406,
          37.79536056518555,
          38.805137634277344,
          -14.237737655639648,
          28.698505401611328,
          19.803834915161133,
          30.179004669189453,
          3.8751628398895264,
          19.3995304107666,
          22.188756942749023,
          21.555784225463867,
          29.550495147705078,
          28.11992835998535,
          37.067195892333984,
          36.52869415283203,
          34.82422637939453,
          9.255931854248047,
          40.49044418334961,
          41.99519729614258,
          22.82684326171875,
          46.031089782714844,
          24.84198760986328,
          -29.40529441833496,
          43.575462341308594,
          2.7222132682800293,
          -16.311412811279297,
          -39.28795623779297,
          3.5463719367980957,
          -34.11348342895508,
          9.145401000976562,
          -41.10905456542969,
          40.43208694458008,
          6.355711936950684,
          39.992069244384766,
          49.716835021972656,
          -3.697916269302368,
          -27.196638107299805,
          -21.733800888061523,
          -26.38977813720703,
          28.173852920532227,
          -34.778656005859375,
          43.35893630981445,
          39.917415618896484,
          1.8526562452316284,
          -21.175533294677734,
          6.222067356109619,
          -36.720455169677734,
          47.438663482666016,
          -25.609371185302734,
          29.086881637573242,
          17.45244789123535,
          27.37458610534668,
          -39.95546340942383,
          -8.335983276367188,
          -27.06975555419922,
          -31.06914520263672,
          -9.613524436950684,
          -1.8595293760299683,
          27.075220108032227,
          29.40816879272461,
          21.351552963256836,
          36.279964447021484,
          -20.78999900817871,
          -35.11017608642578,
          25.08953285217285,
          -34.67445755004883,
          22.069108963012695,
          -18.272607803344727,
          -41.1951904296875,
          -14.933462142944336,
          15.26685619354248,
          -2.8594534397125244,
          22.479076385498047,
          33.96936798095703,
          34.27672576904297,
          3.0556416511535645,
          36.15388488769531,
          -37.671409606933594,
          -3.954237699508667,
          -11.0880126953125,
          12.342098236083984,
          3.5350704193115234,
          28.030044555664062,
          28.408203125,
          0.15700453519821167,
          40.99204635620117,
          -27.944604873657227,
          3.4103946685791016,
          -2.4731616973876953,
          16.31452178955078,
          26.72702407836914,
          47.43279266357422,
          -9.564857482910156,
          26.084304809570312,
          -15.565302848815918,
          3.8763253688812256,
          -43.69053268432617,
          40.47892761230469,
          2.6126291751861572,
          -0.4470416009426117,
          -0.5053764581680298,
          -26.607770919799805,
          41.83772277832031,
          -22.92759132385254,
          -24.67130470275879,
          -42.4013786315918,
          23.578256607055664,
          26.934682846069336,
          36.170772552490234,
          -32.43310546875,
          -0.408312052488327,
          -35.4041748046875,
          34.93975067138672,
          22.734594345092773,
          13.679460525512695,
          -1.792770504951477,
          6.244644641876221,
          21.28911018371582,
          34.188289642333984,
          22.465232849121094,
          -15.41734790802002,
          2.478250026702881,
          16.152719497680664,
          -16.256092071533203,
          -17.216421127319336,
          36.52398681640625,
          26.794580459594727,
          -22.04828643798828,
          29.78230094909668,
          50.46955490112305,
          -9.15965747833252,
          13.900525093078613,
          28.271358489990234,
          -19.20209503173828,
          -14.25700855255127,
          -22.260761260986328,
          -30.061227798461914,
          36.211544036865234,
          -36.234336853027344,
          20.13144302368164,
          52.32001495361328,
          2.022853374481201,
          -24.53424072265625,
          46.08243942260742,
          39.14842987060547,
          12.069805145263672,
          -50.933197021484375,
          -16.654104232788086,
          17.857688903808594,
          -15.872900009155273,
          9.97125244140625,
          38.62246322631836,
          35.715850830078125,
          35.766849517822266,
          43.71251678466797,
          -44.24386215209961,
          40.24079132080078,
          10.17797565460205,
          -38.87730026245117,
          -1.0808742046356201,
          -30.143091201782227,
          -28.063304901123047,
          -22.384008407592773,
          -23.98635482788086,
          -40.37462615966797,
          -31.78009796142578,
          6.931687831878662,
          28.723230361938477,
          -3.9629218578338623,
          -17.79893684387207,
          14.184109687805176,
          -32.872554779052734,
          26.13450813293457,
          -2.9340031147003174,
          26.23945426940918,
          -16.953351974487305,
          -8.8814115524292,
          -19.374902725219727,
          12.636445999145508,
          -2.2623438835144043,
          39.636539459228516,
          -22.26847267150879,
          44.99787902832031,
          3.7854363918304443,
          -24.032211303710938,
          11.417394638061523,
          -19.028053283691406,
          12.556525230407715,
          14.952360153198242,
          -9.221925735473633,
          -22.150239944458008,
          26.550670623779297,
          -0.9955354332923889,
          14.44658088684082,
          -33.40830612182617,
          17.078683853149414,
          43.07874298095703,
          18.974781036376953,
          17.016963958740234,
          39.53428268432617,
          0.1633812040090561,
          25.840360641479492,
          25.184965133666992,
          35.148338317871094,
          27.253808975219727,
          4.105172157287598,
          30.672529220581055,
          -33.09007263183594,
          50.46504592895508,
          -32.87004852294922,
          22.325593948364258,
          -38.97011947631836,
          10.954763412475586,
          45.50669860839844,
          25.175899505615234,
          -27.830598831176758,
          2.526456594467163,
          -30.946313858032227,
          39.91742706298828,
          -24.793241500854492,
          17.312639236450195,
          6.247835636138916,
          33.60993957519531,
          13.0697603225708,
          -13.391579627990723,
          -44.98491287231445,
          29.847702026367188,
          11.504813194274902,
          38.787967681884766,
          18.183303833007812,
          43.99432373046875,
          -11.553572654724121,
          37.50419998168945,
          31.913925170898438,
          -33.47258377075195,
          9.365118980407715,
          -18.605329513549805,
          6.365009307861328,
          50.479835510253906,
          3.6933846473693848,
          -14.614723205566406,
          -10.716448783874512,
          37.43209457397461,
          29.43851661682129,
          0.45892637968063354,
          4.451852798461914,
          7.444419860839844,
          -17.340147018432617,
          -33.683189392089844,
          -16.709341049194336,
          -16.275850296020508,
          52.549198150634766,
          44.77427673339844,
          -36.812049865722656,
          15.238236427307129,
          28.160221099853516,
          17.291379928588867,
          -18.602725982666016,
          31.983579635620117,
          -35.89492416381836,
          -33.86245346069336,
          35.94606399536133,
          30.604156494140625,
          14.111194610595703,
          12.993779182434082,
          25.718486785888672,
          43.49874496459961,
          -31.27466583251953,
          -30.632123947143555,
          23.411388397216797,
          -35.33316421508789,
          -5.635479927062988,
          16.176542282104492,
          36.91157150268555,
          -14.453688621520996,
          -10.095083236694336,
          21.398006439208984,
          -20.604854583740234,
          -37.72564697265625,
          28.187360763549805,
          32.77898025512695,
          -34.25712203979492,
          -48.132015228271484,
          24.298839569091797,
          -39.119178771972656,
          -28.639183044433594,
          1.2135941982269287,
          -12.270029067993164,
          30.11151695251465,
          19.786579132080078,
          -31.209373474121094,
          -9.258176803588867,
          -11.07686996459961,
          -19.114383697509766,
          41.09392547607422,
          -40.41261291503906,
          21.688692092895508,
          -40.035091400146484,
          -36.20914840698242,
          -44.40769577026367,
          -25.331029891967773,
          7.754406929016113,
          10.954134941101074,
          -45.06499481201172,
          -45.04916000366211,
          25.176197052001953,
          -16.48744010925293,
          -1.692688226699829,
          3.914710521697998,
          -34.47407150268555,
          18.28316307067871,
          -24.4716796875,
          -24.768524169921875,
          -26.11709213256836,
          -30.31353759765625,
          -20.463624954223633,
          -12.486900329589844,
          45.576446533203125,
          44.4522590637207,
          -7.049971103668213,
          12.050410270690918,
          -7.744046211242676,
          13.71761703491211,
          -32.8953971862793,
          45.576480865478516,
          22.134870529174805,
          -35.76038360595703,
          -20.530189514160156,
          -9.421452522277832,
          46.6694221496582,
          4.793636322021484,
          -30.887863159179688,
          -14.255725860595703,
          -35.98910140991211,
          23.33186912536621,
          -33.481422424316406,
          -23.535947799682617,
          37.492210388183594,
          43.06888961791992,
          35.64227294921875,
          43.792335510253906,
          40.65214920043945,
          -26.83962059020996,
          10.12352180480957,
          41.260643005371094,
          54.918426513671875,
          20.159032821655273,
          11.267361640930176,
          25.629451751708984,
          -0.2864410877227783,
          54.90678024291992,
          13.674481391906738,
          45.390968322753906,
          30.865516662597656,
          4.41925573348999,
          10.290311813354492,
          30.074678421020508,
          -9.179286003112793,
          22.12296485900879,
          -21.50520896911621,
          -3.8407602310180664,
          43.25731658935547,
          21.17611312866211,
          39.663719177246094,
          7.151465892791748,
          -37.4141845703125,
          -34.8922004699707,
          -30.232357025146484,
          9.782210350036621,
          40.14057922363281,
          -2.4134790897369385,
          -25.84564208984375,
          26.916332244873047,
          17.86740493774414,
          29.259445190429688,
          27.395437240600586,
          24.799978256225586,
          14.541267395019531,
          33.63372802734375,
          17.390766143798828,
          -8.897821426391602,
          -33.56232833862305,
          4.9574666023254395,
          17.748394012451172,
          -32.321102142333984,
          -38.815025329589844,
          -16.46087074279785,
          -5.918191432952881,
          40.38124084472656,
          43.955265045166016,
          21.224103927612305,
          37.86500930786133,
          -30.303598403930664,
          -14.494340896606445,
          1.7991371154785156,
          44.503990173339844,
          32.83857727050781,
          -37.595848083496094,
          -31.580842971801758,
          -12.193232536315918,
          5.218973636627197,
          -15.023384094238281,
          45.79719924926758,
          6.939060211181641,
          -19.832866668701172,
          21.86156463623047,
          -31.947242736816406,
          -40.607913970947266,
          -14.536638259887695,
          21.38998794555664,
          43.474910736083984,
          21.296628952026367,
          -3.847452402114868,
          41.46923828125,
          -0.1403532326221466,
          -37.96136474609375,
          37.082420349121094,
          -12.474541664123535,
          20.867088317871094,
          28.532960891723633,
          13.413808822631836,
          0.5738847255706787,
          12.659955024719238,
          25.134050369262695,
          15.600204467773438,
          -3.294349193572998,
          44.17241287231445,
          37.69583511352539,
          2.477490186691284,
          -40.13264465332031,
          -36.21522903442383,
          1.2627869844436646,
          2.0343759059906006,
          3.164094924926758,
          -36.545989990234375,
          -31.9370059967041,
          23.9674015045166,
          -7.21641731262207,
          30.096599578857422,
          42.72905349731445,
          -14.3878812789917,
          44.402183532714844,
          45.51510238647461,
          42.76198196411133,
          18.48444175720215,
          49.77409362792969,
          -12.666068077087402,
          19.903743743896484,
          19.67970085144043,
          -45.785804748535156,
          -31.369417190551758,
          -46.91034698486328,
          -31.373008728027344,
          27.61809730529785,
          -30.833221435546875,
          22.934843063354492,
          21.65829849243164,
          -34.07651901245117,
          -7.793168544769287,
          41.52648162841797,
          19.13030242919922,
          33.24563217163086,
          -25.95945930480957,
          19.089757919311523,
          25.135019302368164,
          -33.50050735473633,
          -33.416290283203125,
          40.200252532958984,
          37.33456039428711,
          7.557446479797363,
          -1.6265043020248413,
          2.573615074157715,
          26.854747772216797,
          -36.41782760620117,
          0.12926515936851501,
          21.650829315185547,
          -2.1835787296295166,
          -17.5244140625,
          -2.8038790225982666,
          22.894100189208984,
          -46.667274475097656,
          -37.67573928833008,
          -12.567700386047363,
          -43.02593231201172,
          37.83796310424805,
          -21.868410110473633,
          38.81571578979492,
          -22.291318893432617,
          15.389327049255371,
          13.673274040222168,
          -10.545021057128906,
          43.237911224365234,
          23.97990608215332,
          -25.73927116394043,
          29.676074981689453,
          20.785253524780273,
          -29.252840042114258,
          26.935884475708008,
          -4.325693130493164,
          27.064794540405273,
          26.169591903686523,
          38.639366149902344,
          -14.213123321533203,
          -48.06523895263672,
          -39.137271881103516,
          -35.94950866699219,
          -19.986967086791992,
          -28.172636032104492,
          -39.22592544555664,
          -15.201863288879395,
          -34.42949676513672,
          -13.041589736938477,
          -31.00395965576172,
          -15.084249496459961,
          12.69293212890625,
          -24.809362411499023,
          -26.459613800048828,
          16.658199310302734,
          40.345863342285156,
          -27.228614807128906,
          -25.451745986938477,
          -43.68428039550781,
          -2.59958815574646,
          -11.035282135009766,
          -19.863819122314453,
          -1.188944935798645,
          34.34816360473633,
          -6.5501227378845215,
          -32.3763542175293,
          -36.46284866333008,
          -29.24312400817871,
          -31.04369354248047,
          -25.1781005859375,
          -23.779407501220703,
          1.6693600416183472,
          -1.7287476062774658,
          -15.461934089660645,
          46.507530212402344,
          -21.58943748474121,
          -21.589448928833008,
          -41.226749420166016,
          -36.262996673583984,
          -0.35043540596961975,
          28.348278045654297,
          -11.259081840515137,
          49.04069519042969,
          11.656954765319824,
          -0.591118574142456,
          -31.33772087097168,
          -40.317752838134766,
          -22.792499542236328,
          34.20208740234375,
          -20.501697540283203,
          -21.606361389160156,
          -16.4558162689209,
          -17.517375946044922,
          34.087154388427734,
          2.110443115234375,
          -48.01372528076172,
          -48.01370620727539,
          34.08672332763672,
          11.236988067626953,
          -2.9423937797546387,
          -4.081480503082275,
          -21.062606811523438,
          22.1383113861084,
          -15.212540626525879,
          -13.260736465454102,
          -13.274791717529297,
          21.079069137573242,
          -13.770380020141602,
          11.111504554748535,
          10.509757041931152,
          -3.5653111934661865,
          33.26618576049805,
          19.532291412353516,
          -37.66827392578125,
          -35.12903594970703,
          -27.64348030090332,
          38.511436462402344,
          6.804985046386719,
          -14.944404602050781,
          -13.843127250671387,
          -39.18946075439453,
          23.616405487060547,
          2.485027313232422,
          -12.023650169372559,
          -11.579936027526855,
          28.507200241088867,
          14.737678527832031,
          -8.807903289794922,
          1.3947314023971558,
          -9.238906860351562,
          19.652158737182617,
          -3.9436821937561035,
          -14.620923042297363,
          -2.6694741249084473,
          0.18870559334754944,
          2.510098934173584,
          0.3399966359138489,
          -14.797493934631348,
          18.77520179748535,
          -11.227823257446289,
          -5.5286407470703125,
          1.7406868934631348,
          36.614322662353516,
          -1.5276858806610107,
          33.89332580566406,
          3.8324215412139893,
          -6.121000289916992,
          18.41448211669922,
          -18.658506393432617,
          -8.130793571472168,
          7.9532036781311035,
          2.0763516426086426,
          31.946989059448242,
          27.43120765686035,
          -6.393680095672607,
          -35.80145263671875,
          19.579395294189453,
          33.2310791015625,
          -13.608481407165527,
          24.224403381347656,
          23.910140991210938,
          -5.70986795425415,
          12.060108184814453,
          -35.428287506103516,
          14.862696647644043,
          44.178348541259766,
          51.860595703125,
          14.38936996459961,
          21.523136138916016,
          21.96803092956543,
          -20.09363555908203,
          39.93558883666992,
          21.08402442932129,
          14.807854652404785,
          3.8399159908294678,
          -38.60310363769531,
          -39.786224365234375,
          0.04567744955420494,
          -35.94655990600586,
          -20.154958724975586,
          12.438247680664062,
          -44.33552932739258,
          -36.290672302246094,
          -6.189619064331055,
          -14.683638572692871,
          42.726463317871094,
          -3.7282402515411377,
          -0.6724811792373657,
          -7.238828659057617,
          -13.30803394317627,
          34.20207214355469,
          -32.8350830078125,
          -17.826555252075195,
          10.300597190856934,
          -15.452033042907715,
          -39.12833786010742,
          -15.043046951293945,
          40.18927764892578,
          4.071834564208984,
          -22.842529296875,
          -24.300626754760742,
          26.331789016723633,
          -9.084134101867676,
          -40.10282516479492,
          -28.388919830322266,
          -16.442426681518555,
          -39.99677658081055,
          32.535640716552734,
          -15.316203117370605,
          -15.787603378295898,
          -6.47005558013916,
          40.865962982177734,
          46.271690368652344,
          46.27141189575195,
          7.9764485359191895,
          -17.169410705566406,
          22.221460342407227,
          14.35247802734375,
          46.27170944213867,
          -39.67683029174805,
          46.079410552978516,
          -38.0543327331543,
          -38.912696838378906,
          -20.502912521362305,
          32.52607345581055,
          -9.19874382019043,
          7.694643974304199,
          -27.238601684570312,
          -39.0410041809082,
          -39.64644241333008,
          -14.942614555358887,
          27.967788696289062,
          -40.23455810546875,
          -24.407835006713867,
          -10.44638729095459,
          40.81053924560547,
          44.950767517089844,
          -14.086755752563477,
          -14.205721855163574,
          17.39432716369629,
          0.36198684573173523,
          32.911705017089844,
          33.609039306640625,
          28.67165184020996,
          -18.932567596435547,
          22.07278060913086,
          31.548925399780273,
          36.877464294433594,
          23.10436248779297,
          17.061203002929688,
          -22.73598861694336,
          -22.989866256713867,
          48.1364860534668,
          15.47025203704834,
          4.3528337478637695,
          -18.27793312072754,
          -20.187633514404297,
          -19.16506576538086,
          -28.376768112182617,
          -21.86260414123535,
          -13.13875675201416,
          16.5281925201416,
          -11.595650672912598,
          -8.97789478302002,
          23.88241958618164,
          15.112277030944824,
          5.330820560455322,
          8.238457679748535,
          24.498931884765625,
          43.92538070678711,
          -11.595710754394531,
          -19.797218322753906,
          30.41150665283203,
          -15.76583194732666,
          -21.31534767150879,
          18.77144432067871,
          32.361122131347656,
          34.366798400878906,
          42.56893539428711,
          26.799110412597656,
          23.99833869934082,
          34.37683868408203,
          34.62989807128906,
          9.930164337158203,
          21.4986515045166,
          24.324373245239258,
          36.87749099731445,
          19.6751766204834,
          5.79930305480957,
          24.23461151123047,
          -26.304861068725586,
          -12.435032844543457,
          20.565216064453125,
          -33.053226470947266,
          -25.62818717956543,
          -23.5062255859375,
          -37.61503982543945,
          -16.278409957885742,
          -27.131078720092773,
          -43.23137283325195,
          -28.91849136352539,
          29.90519142150879,
          -42.94082260131836,
          4.296086311340332,
          -24.958890914916992,
          -22.68375015258789,
          12.000513076782227,
          -23.661479949951172,
          -21.743396759033203,
          -23.779460906982422,
          23.223520278930664,
          -21.087032318115234,
          -24.665441513061523,
          12.33587646484375,
          -26.058713912963867,
          -13.147335052490234,
          -26.194786071777344,
          -17.99952507019043,
          12.645654678344727,
          -25.908061981201172,
          -26.396495819091797,
          -48.047935485839844,
          -27.588287353515625,
          -40.2663688659668,
          -40.55229568481445,
          -26.9715576171875,
          -40.79322814941406,
          16.56689453125,
          9.611551284790039,
          49.71247100830078,
          -3.6459155082702637,
          38.65884017944336,
          -33.81516647338867,
          0.0905233845114708,
          -38.0019645690918,
          39.25717544555664,
          -39.55754470825195,
          44.45273971557617,
          -6.405120372772217,
          -14.099730491638184,
          40.15479278564453,
          40.924591064453125,
          1.985855221748352,
          20.736495971679688,
          24.919883728027344,
          -25.934980392456055,
          -44.41203689575195,
          1.1199254989624023,
          -50.34037780761719,
          17.202680587768555,
          28.0899715423584,
          -21.033239364624023,
          -2.2689051628112793,
          -7.873819828033447,
          -9.185929298400879,
          -11.158641815185547,
          52.86490249633789,
          -36.901092529296875,
          52.79637908935547,
          -12.08199691772461,
          -29.95292854309082,
          -3.5557749271392822,
          20.615005493164062,
          -21.883289337158203,
          -29.078060150146484,
          -30.221271514892578,
          -12.424755096435547,
          7.002719402313232,
          21.176095962524414,
          2.303816318511963,
          -30.12090301513672,
          16.381107330322266,
          -24.836854934692383,
          -40.87815856933594,
          -41.94794464111328,
          34.67502212524414,
          -25.08451271057129,
          0.2237454056739807,
          -18.318084716796875,
          37.77531051635742,
          1.9994806051254272,
          -13.081084251403809,
          -5.8469696044921875,
          5.358976364135742,
          5.0249786376953125,
          14.24666976928711,
          -27.89706039428711,
          -0.8655766248703003,
          1.450897455215454,
          -23.657007217407227,
          43.490394592285156,
          22.94210433959961,
          25.917055130004883,
          -6.144340515136719,
          -31.148754119873047,
          -15.276082992553711,
          -22.110942840576172,
          -14.38121509552002,
          -23.023130416870117,
          7.499487400054932,
          3.8142337799072266,
          -34.11347579956055,
          -27.88690757751465,
          -1.5218586921691895,
          -28.482641220092773,
          -32.77589797973633,
          19.704198837280273,
          7.6100053787231445,
          -4.162538051605225,
          -18.58865737915039,
          23.90862274169922,
          -0.14029154181480408,
          29.56109619140625,
          4.969316005706787,
          4.2032790184021,
          2.9788856506347656,
          3.6760075092315674,
          -22.37333869934082,
          -22.22562599182129,
          -43.1114387512207,
          -24.742830276489258,
          -10.489734649658203,
          24.580869674682617,
          20.325990676879883,
          -9.092774391174316,
          -11.173347473144531,
          -32.501827239990234,
          -1.7888716459274292,
          -31.972137451171875,
          -8.06035041809082,
          27.976377487182617,
          10.963811874389648,
          5.556401252746582,
          14.054402351379395,
          -20.830474853515625,
          15.344331741333008,
          6.3107404708862305,
          -18.081497192382812,
          -37.72564697265625,
          -17.946725845336914,
          20.532209396362305,
          4.638845920562744,
          -10.003331184387207,
          12.586738586425781,
          25.91975975036621,
          -15.918094635009766,
          -37.10175704956055,
          34.470542907714844,
          21.051156997680664,
          37.70063018798828,
          -32.931427001953125,
          -6.902167320251465,
          -21.568208694458008,
          -19.098520278930664,
          -3.1821675300598145,
          -30.001747131347656,
          -39.89852523803711,
          15.004544258117676,
          -35.59368133544922,
          2.110443592071533,
          3.4050328731536865,
          -10.50507640838623,
          -1.8867919445037842,
          -24.794099807739258,
          -10.057271957397461,
          47.6512565612793,
          -3.3428304195404053,
          5.673795223236084,
          19.66342544555664,
          -42.742279052734375,
          -4.895020484924316,
          31.82159996032715,
          -3.707655429840088,
          -33.31496810913086,
          -10.341197967529297,
          -35.133087158203125,
          -25.822738647460938,
          -3.882688045501709,
          -34.07141876220703,
          -37.2304801940918,
          -44.92463684082031,
          -33.3632698059082,
          -25.93523597717285,
          -2.7192885875701904,
          36.196266174316406,
          23.724205017089844,
          4.268359184265137,
          6.552456378936768,
          47.61292266845703,
          19.192880630493164,
          -28.37955093383789,
          3.132180690765381,
          18.3474063873291,
          -15.989821434020996,
          -4.0775675773620605,
          -0.35020163655281067,
          10.711609840393066,
          13.148248672485352,
          -30.253639221191406,
          32.693756103515625,
          35.33736801147461,
          27.079246520996094,
          35.43197250366211,
          23.249868392944336,
          27.41724395751953,
          43.939598083496094,
          33.71687316894531,
          38.884090423583984,
          3.635718822479248,
          35.55034637451172,
          4.665046215057373,
          -9.27698802947998,
          -39.5595817565918,
          37.468788146972656,
          52.94135665893555,
          -26.79863739013672,
          -48.67763137817383,
          -35.72834396362305,
          -36.87247085571289,
          -34.95651626586914,
          -20.257713317871094,
          33.80880355834961,
          38.90932846069336,
          37.88702392578125,
          26.9459285736084,
          3.322554588317871,
          -33.10914993286133,
          -28.618940353393555,
          -15.006937980651855,
          3.5670430660247803,
          -3.463801860809326,
          28.623624801635742,
          10.746163368225098,
          -34.85646057128906,
          0.5387996435165405,
          -39.33394241333008,
          -18.146665573120117,
          1.150168776512146,
          -27.818634033203125,
          44.440521240234375,
          10.616138458251953,
          11.89193344116211,
          -7.595358371734619,
          -23.2788028717041,
          -3.9574837684631348,
          -3.5557820796966553,
          31.222410202026367,
          20.87557601928711,
          -18.019304275512695,
          -5.976011753082275,
          -18.146596908569336,
          12.32108211517334,
          -10.385017395019531,
          34.85032272338867,
          4.029754161834717,
          11.930438041687012,
          22.711484909057617,
          -17.91620445251465,
          14.053050994873047,
          28.144296646118164,
          34.42305374145508,
          -19.005727767944336,
          -13.629627227783203,
          -2.5621225833892822,
          -11.914368629455566,
          2.5940539836883545,
          31.411197662353516,
          34.468387603759766,
          17.991310119628906,
          10.488040924072266,
          10.966720581054688,
          1.3433454036712646,
          -28.00042152404785,
          -0.27959418296813965,
          16.672670364379883,
          -7.247494220733643,
          15.39173698425293,
          14.85367488861084,
          5.824707984924316,
          -15.02435302734375,
          -19.905649185180664,
          -26.282609939575195,
          -28.31845474243164,
          19.858741760253906,
          41.77762222290039,
          48.46885681152344,
          1.315211296081543,
          33.56428527832031,
          27.193761825561523,
          14.507026672363281,
          -13.056553840637207,
          44.09496307373047,
          32.754295349121094,
          10.375814437866211,
          12.487137794494629,
          -42.56590270996094,
          28.315549850463867,
          28.315221786499023,
          31.423391342163086,
          -3.2504444122314453,
          -21.275182723999023,
          17.19685935974121,
          -18.700773239135742,
          2.573603868484497,
          -25.87801742553711,
          -40.82210922241211,
          -23.028024673461914,
          -23.542001724243164,
          -23.66611671447754,
          -50.333473205566406,
          38.05287170410156,
          -31.32098388671875,
          25.096960067749023,
          -34.257179260253906,
          -29.205535888671875,
          45.925262451171875,
          -40.31774139404297,
          -25.238718032836914,
          -9.40531063079834,
          -35.213565826416016,
          -17.943408966064453,
          -14.457818031311035,
          -51.29268264770508,
          -31.907577514648438,
          -27.881277084350586,
          -40.21057891845703,
          -34.08210372924805,
          -36.79103469848633,
          23.363588333129883,
          -25.49493408203125,
          -23.0461368560791,
          -1.8555073738098145,
          -39.674259185791016,
          -34.73374938964844,
          26.644136428833008,
          -28.60813331604004,
          -30.913480758666992,
          -43.303123474121094,
          24.92192268371582,
          -40.41816329956055,
          23.465673446655273,
          -13.912200927734375,
          -30.730987548828125,
          25.20391845703125,
          50.85603713989258,
          -40.966609954833984,
          -6.5501227378845215,
          -16.098234176635742,
          -42.09117126464844,
          -30.735715866088867,
          6.525754928588867,
          8.037956237792969,
          28.798763275146484,
          -12.592000007629395,
          -15.163591384887695,
          1.7017933130264282,
          -7.47178316116333,
          -35.75397872924805,
          2.239652156829834,
          -34.429317474365234,
          1.2307637929916382,
          -15.43383502960205,
          -0.16744370758533478,
          20.725772857666016,
          38.76847839355469,
          -4.499545574188232,
          32.71497344970703,
          15.26265811920166,
          -9.920063972473145,
          48.023101806640625,
          -15.656633377075195,
          -19.16629409790039,
          15.267251968383789,
          -18.65142822265625,
          7.556543350219727,
          17.740564346313477,
          7.815948009490967,
          -5.682592868804932,
          2.6045589447021484,
          29.22850227355957,
          -29.814788818359375,
          -0.31533801555633545,
          -14.019044876098633,
          -35.290489196777344,
          23.724123001098633,
          20.454681396484375,
          30.3077392578125,
          21.887622833251953,
          21.887622833251953,
          9.049287796020508,
          23.840938568115234,
          42.75663757324219,
          -18.642017364501953,
          39.993343353271484,
          -14.126598358154297,
          -13.569257736206055,
          -8.789082527160645,
          43.284976959228516,
          3.8438220024108887,
          -19.445688247680664,
          10.607510566711426,
          3.394242763519287,
          -22.67337417602539,
          -17.170412063598633,
          31.96571922302246,
          2.010483503341675,
          31.961374282836914,
          -14.835641860961914,
          -36.96868133544922,
          -28.500930786132812,
          -23.005084991455078,
          -17.66791534423828,
          -42.55162048339844,
          -16.328353881835938,
          12.434608459472656,
          -19.100305557250977,
          14.46781063079834,
          -18.934072494506836,
          38.47756576538086,
          -18.53951644897461,
          -11.761781692504883,
          41.02299499511719,
          -11.766566276550293,
          -3.7792351245880127,
          36.59633255004883,
          -1.7425001859664917,
          47.297752380371094,
          -13.569422721862793,
          17.644075393676758,
          32.508792877197266,
          15.783652305603027,
          45.20089340209961,
          18.312458038330078,
          -40.22782897949219,
          16.273714065551758,
          18.174232482910156,
          27.90548324584961,
          26.210824966430664,
          -19.863052368164062,
          -4.688361167907715,
          23.246435165405273,
          35.5048828125,
          -16.878080368041992,
          22.04757308959961,
          -18.700138092041016,
          -44.725276947021484,
          33.46435546875,
          -33.72542953491211,
          -31.06922721862793,
          22.617956161499023,
          -13.507501602172852,
          -6.272721290588379,
          20.11758804321289,
          -10.933475494384766,
          37.72313690185547,
          20.21426773071289,
          30.859729766845703,
          -26.258216857910156,
          38.704837799072266,
          5.572862148284912,
          -18.99810791015625,
          -26.431121826171875,
          47.43856430053711,
          -1.7429711818695068,
          38.04176330566406,
          -3.343688488006592,
          -16.422807693481445,
          47.14401626586914,
          35.11080551147461,
          51.559104919433594,
          35.884002685546875,
          37.364723205566406,
          33.51408767700195,
          23.878202438354492,
          26.485225677490234,
          -31.687108993530273,
          -11.101481437683105,
          -22.62160873413086,
          -18.108957290649414,
          -40.32645797729492,
          -15.128044128417969,
          14.855053901672363,
          18.412277221679688,
          14.507360458374023,
          25.09009552001953,
          25.388809204101562,
          -35.411075592041016,
          23.7271785736084,
          -22.268287658691406,
          -11.137595176696777,
          -26.21719741821289,
          -31.923078536987305,
          -30.994220733642578,
          -11.752686500549316,
          -34.0973014831543,
          15.050610542297363,
          -22.524396896362305,
          33.78350830078125,
          29.498973846435547,
          -34.08255386352539,
          -4.281143665313721,
          2.3256754875183105,
          30.973377227783203,
          -26.92304229736328,
          -15.497888565063477,
          30.307008743286133,
          7.228631973266602,
          6.535823822021484,
          30.30612564086914,
          5.3957648277282715,
          -18.12778663635254,
          -14.793429374694824,
          -6.362006187438965,
          18.945512771606445,
          -11.157209396362305,
          -18.5784969329834,
          1.3736637830734253,
          8.995789527893066,
          29.92984390258789,
          30.067705154418945,
          19.9133243560791,
          27.804014205932617,
          -33.75736999511719,
          -20.726959228515625,
          -18.555896759033203,
          -7.050045967102051,
          36.294429779052734,
          10.672706604003906,
          22.131704330444336,
          -38.34761047363281,
          -35.4825439453125,
          -5.161008834838867,
          27.03807258605957,
          8.600809097290039,
          -4.636153697967529,
          -39.395572662353516,
          -39.28814697265625,
          45.168392181396484,
          -24.769622802734375,
          -39.59675598144531,
          -10.22496509552002,
          2.179959297180176,
          -29.38780975341797,
          -19.783403396606445,
          40.0579719543457,
          -19.205249786376953,
          27.617969512939453,
          29.18465805053711,
          29.347450256347656,
          10.079986572265625,
          -38.30375289916992,
          28.999008178710938,
          -42.900367736816406,
          -15.241992950439453,
          4.36551570892334,
          18.402780532836914,
          19.769325256347656,
          31.017784118652344,
          5.394941329956055,
          -26.993860244750977,
          35.893680572509766,
          -31.710813522338867,
          -27.136707305908203,
          6.193989276885986,
          -4.517621040344238,
          19.501571655273438,
          -22.622211456298828,
          37.0984001159668,
          -35.20027160644531,
          40.059329986572266,
          17.772478103637695,
          -35.320281982421875,
          39.52547073364258,
          -26.241390228271484,
          -3.957631826400757,
          16.931507110595703,
          -14.737220764160156,
          36.96147918701172,
          -12.403087615966797,
          -13.765445709228516,
          6.35051965713501,
          -37.8699836730957,
          12.356836318969727,
          -15.67086410522461,
          14.692265510559082,
          -0.193037748336792,
          -27.66001319885254,
          26.193111419677734,
          46.191165924072266,
          -11.20201301574707,
          -19.485050201416016,
          17.119142532348633,
          17.942644119262695,
          -15.130578994750977,
          -25.63137435913086,
          -27.00175666809082,
          3.0441489219665527,
          -28.594266891479492,
          -36.002567291259766,
          -15.09627628326416,
          26.07758331298828,
          1.8205193281173706,
          -22.329364776611328,
          -32.26028823852539,
          -34.2041015625,
          -1.7036211490631104,
          10.5325927734375,
          1.613417148590088,
          22.051485061645508,
          -4.31379508972168,
          0.5686498284339905,
          17.324142456054688,
          -39.40089797973633,
          5.84710168838501,
          -10.96134090423584,
          4.7950439453125,
          11.32715129852295,
          22.86359977722168,
          7.637654781341553,
          1.1151269674301147,
          3.594453811645508,
          36.4488410949707,
          -29.94292640686035,
          -34.89854431152344,
          -3.126235246658325,
          15.760231018066406,
          -17.6702938079834,
          26.252113342285156,
          24.294456481933594,
          -31.393226623535156,
          36.448890686035156,
          -3.069908618927002,
          -40.330970764160156,
          40.57736587524414,
          -18.979324340820312,
          -23.132017135620117,
          35.834144592285156,
          6.398072242736816,
          -0.19414718449115753,
          -8.660987854003906,
          -0.4358710050582886,
          2.220705270767212,
          39.625003814697266,
          22.420490264892578,
          4.585114479064941,
          -13.584611892700195,
          33.5441780090332,
          40.5937614440918,
          -12.316104888916016,
          -35.150447845458984,
          21.026613235473633,
          -10.96114444732666,
          -5.200625896453857,
          1.3174796104431152,
          -19.195432662963867,
          -0.02879234589636326,
          7.724311828613281,
          -22.15923309326172,
          5.606137275695801,
          4.966649055480957,
          9.991402626037598,
          -20.376859664916992,
          -18.33506965637207,
          -25.608442306518555,
          3.710069179534912,
          -18.251794815063477,
          31.971874237060547,
          -13.572866439819336,
          -16.32244873046875,
          36.07454299926758,
          1.5687323808670044,
          -36.61578369140625,
          -26.576133728027344,
          -26.361074447631836,
          35.592350006103516,
          22.96086311340332,
          27.385643005371094,
          36.13668441772461,
          -21.892288208007812,
          25.702381134033203,
          16.30756187438965,
          -6.677471160888672,
          13.998809814453125,
          -30.328227996826172,
          23.572702407836914,
          -1.0242048501968384,
          33.00076675415039,
          15.747930526733398,
          38.34164810180664,
          30.344127655029297,
          2.7152442932128906,
          -29.526201248168945,
          -41.61406707763672,
          0.23514463007450104,
          -19.133800506591797,
          -33.93098449707031,
          51.113128662109375,
          12.96640682220459,
          44.785377502441406,
          40.14468765258789,
          19.007184982299805,
          32.855770111083984,
          28.23073959350586,
          26.472251892089844,
          47.58451843261719,
          29.482341766357422,
          7.816303253173828,
          31.875164031982422,
          33.09675216674805,
          31.21484375,
          35.96844482421875,
          47.767791748046875,
          20.297359466552734,
          15.183795928955078,
          -44.25093078613281,
          -16.126178741455078,
          33.13450241088867,
          12.951414108276367,
          39.848541259765625,
          -23.653963088989258,
          -31.145448684692383,
          -1.0238070487976074,
          7.668157577514648,
          31.900754928588867,
          6.234400749206543,
          5.829738140106201,
          29.66537857055664,
          13.921501159667969,
          27.50436782836914,
          14.837384223937988,
          -42.46257781982422,
          -11.049638748168945,
          2.4981517791748047,
          -46.75566482543945,
          39.20524597167969,
          32.11173629760742,
          27.936172485351562,
          27.89163589477539,
          26.243425369262695,
          25.141633987426758,
          35.14827346801758,
          -31.907838821411133,
          12.859045028686523,
          -18.28171157836914,
          -28.92909812927246,
          -15.327662467956543,
          38.817420959472656,
          -15.526639938354492,
          -4.081343650817871,
          -2.540644645690918,
          -5.1486945152282715,
          -17.485801696777344,
          -32.83522415161133,
          9.236525535583496,
          -10.242953300476074,
          -40.67885208129883,
          -19.72468376159668,
          -43.915618896484375,
          -15.313047409057617,
          -25.784982681274414,
          -0.07450206577777863,
          -44.46365737915039,
          -3.6783788204193115,
          -11.118821144104004,
          -9.521079063415527,
          -26.49300193786621,
          0.6782082915306091,
          -1.0355342626571655,
          24.0399169921875,
          52.00018310546875,
          -39.82887649536133,
          23.699474334716797,
          -17.23703384399414,
          -23.898658752441406,
          21.715042114257812,
          32.687889099121094,
          1.909687876701355,
          38.173091888427734,
          32.562400817871094,
          -46.263710021972656,
          -25.215396881103516,
          -0.2966780960559845,
          -1.704115629196167,
          -21.991357803344727,
          -2.213901996612549,
          -0.9367910027503967,
          -27.69190788269043,
          -0.6909512877464294,
          -13.456195831298828,
          25.440919876098633,
          36.8685417175293,
          14.024187088012695,
          -33.87367248535156,
          -11.081975936889648,
          -32.880672454833984,
          -21.17875099182129,
          37.22793197631836,
          -4.9079413414001465,
          -30.33068084716797,
          35.913700103759766,
          -35.77240753173828,
          -5.289886474609375,
          20.476396560668945,
          27.355060577392578,
          38.90153884887695,
          4.927927494049072,
          40.65313720703125,
          15.248172760009766,
          33.3248176574707,
          -29.252826690673828,
          -31.648927688598633,
          -26.224374771118164,
          -5.1369476318359375,
          -1.6265043020248413,
          4.494919300079346,
          13.450128555297852,
          -4.095943927764893,
          7.724294662475586,
          16.63296890258789,
          30.410634994506836,
          13.740589141845703,
          -6.820712089538574,
          -6.117012023925781,
          -42.431339263916016,
          22.164587020874023,
          -40.030242919921875,
          12.000252723693848,
          -35.55880355834961,
          -36.0792236328125,
          -43.60797119140625,
          -37.240692138671875,
          -27.38983726501465,
          33.027984619140625,
          -12.403057098388672,
          -28.24111557006836,
          -35.29851150512695,
          11.618195533752441,
          -11.18149185180664,
          -21.544553756713867,
          -29.929378509521484,
          -5.700714588165283,
          -21.483844757080078,
          23.642139434814453,
          4.979244232177734,
          -13.72817611694336,
          46.8156623840332,
          31.90241241455078,
          26.218149185180664,
          -23.403593063354492,
          -15.817004203796387,
          28.423051834106445,
          26.086265563964844,
          23.22248077392578,
          27.096065521240234,
          25.946733474731445,
          25.902414321899414,
          25.90226936340332,
          -35.661800384521484,
          -23.045923233032227,
          35.758174896240234,
          17.34662628173828,
          -16.774124145507812,
          25.31010627746582,
          -29.720333099365234,
          15.616133689880371,
          34.861907958984375,
          -34.88340377807617,
          -27.631500244140625,
          21.497909545898438,
          -15.266270637512207,
          17.51668930053711,
          1.1098512411117554,
          -6.636721134185791,
          -32.664119720458984,
          -20.08324432373047,
          -36.50281524658203,
          -34.46989440917969,
          -32.90951919555664,
          -29.010883331298828,
          -32.534061431884766,
          -31.023893356323242,
          -36.7463493347168,
          -24.748268127441406,
          -37.94910430908203,
          1.0401393175125122,
          -33.531002044677734,
          31.622676849365234,
          -8.603851318359375,
          19.34050178527832,
          -11.74526309967041,
          -11.514110565185547,
          -40.96984100341797,
          -18.726856231689453,
          -18.323291778564453,
          2.325439929962158,
          33.72051239013672,
          -3.313905954360962,
          -21.01286506652832,
          -13.629050254821777,
          3.9080650806427,
          -22.976764678955078,
          1.37064790725708,
          12.859062194824219,
          17.809206008911133,
          -19.852933883666992,
          27.58811378479004,
          -18.42765998840332,
          14.422192573547363,
          -6.441956043243408,
          -5.391814231872559,
          3.0571796894073486,
          31.823375701904297,
          -12.877156257629395,
          -9.265493392944336,
          -22.030292510986328,
          33.3276481628418,
          33.103782653808594,
          -28.79816436767578,
          -32.31399154663086,
          -3.6803171634674072,
          -38.135013580322266,
          -36.988739013671875,
          28.196857452392578,
          30.054393768310547,
          -0.44042935967445374,
          -39.661624908447266,
          -22.60454750061035,
          -18.9731502532959,
          -39.176815032958984,
          22.571632385253906,
          15.447295188903809,
          1.0535670518875122,
          28.04450225830078,
          33.41349411010742,
          6.86032772064209,
          -16.029956817626953,
          22.363605499267578,
          11.384841918945312,
          -34.228023529052734,
          -10.425789833068848,
          -6.055142402648926,
          0.3114514648914337,
          -11.707123756408691,
          -13.103182792663574,
          -25.41798210144043,
          -31.98607635498047,
          -14.485664367675781,
          11.818302154541016,
          50.59187698364258,
          45.31017303466797,
          26.991044998168945,
          -32.275028228759766,
          27.559206008911133,
          -21.086755752563477,
          -10.914369583129883,
          31.435550689697266,
          -24.075767517089844,
          20.066272735595703,
          27.65945053100586,
          35.64366912841797,
          25.66275405883789,
          1.4498860836029053,
          22.536439895629883,
          11.188676834106445,
          32.89755630493164,
          -26.558820724487305,
          51.11311721801758,
          -2.0472218990325928,
          2.950150489807129,
          34.6836051940918,
          -3.420396089553833,
          12.701242446899414,
          29.74343490600586,
          -29.925512313842773,
          -20.416013717651367,
          21.43323516845703,
          -3.96239972114563,
          -45.11670684814453,
          -30.15995216369629,
          10.554282188415527,
          -35.58510971069336,
          -42.02077865600586,
          -33.85110092163086,
          -19.60470199584961,
          34.19883728027344,
          14.226822853088379,
          -25.49429702758789,
          -30.509057998657227,
          49.80209732055664,
          -24.468547821044922,
          -36.45249557495117,
          11.20004940032959,
          -17.58384895324707,
          11.523436546325684,
          17.348337173461914,
          -14.339641571044922,
          -5.316882133483887,
          -22.970767974853516,
          -33.392791748046875,
          -12.502434730529785,
          -27.9862060546875,
          -35.4328498840332,
          3.7472798824310303,
          43.76857376098633,
          6.503543853759766,
          37.309295654296875,
          -5.642361164093018,
          44.27061080932617,
          13.059388160705566,
          3.544726610183716,
          -30.182167053222656,
          -12.062302589416504,
          -0.026904869824647903,
          32.50502014160156,
          11.737794876098633,
          -32.19880294799805,
          -27.50919532775879,
          39.0919303894043,
          17.602706909179688,
          12.186430931091309,
          -33.65690994262695,
          -12.681498527526855,
          13.2511625289917,
          13.956342697143555,
          -39.86335754394531,
          -13.955341339111328,
          46.185523986816406,
          -11.20668888092041,
          -6.764267921447754,
          -26.09315299987793,
          44.026939392089844,
          28.10230827331543,
          5.568037986755371,
          28.102174758911133,
          7.191715717315674,
          -13.30144214630127,
          -31.025123596191406,
          -4.369855880737305,
          8.310431480407715,
          27.850027084350586,
          2.426017999649048,
          36.09838104248047,
          33.231082916259766,
          50.13574981689453,
          -23.01657485961914,
          -40.60362243652344,
          30.230358123779297,
          -31.747989654541016,
          -6.194993019104004,
          18.276573181152344,
          -32.21957778930664,
          27.955671310424805,
          -2.464484691619873,
          -13.109047889709473,
          -8.086464881896973,
          35.446842193603516,
          -0.12367719411849976,
          38.77131271362305,
          38.710479736328125,
          26.705951690673828,
          -20.40111541748047,
          -22.107315063476562,
          30.061294555664062,
          -18.09345054626465,
          -27.73650360107422,
          -38.051414489746094,
          -24.244470596313477,
          -18.702356338500977,
          -28.77861785888672,
          -24.16933250427246,
          26.213333129882812,
          22.243637084960938,
          -24.518054962158203,
          19.532302856445312,
          -35.14479064941406,
          16.53870964050293,
          20.53788185119629,
          26.12546157836914,
          31.506717681884766,
          -37.44266891479492,
          -27.077470779418945,
          -30.643129348754883,
          22.1309871673584,
          19.98453140258789,
          -14.570993423461914,
          37.518531799316406,
          -3.5391929149627686,
          -0.4679301977157593,
          -26.942201614379883,
          32.89982604980469,
          45.50672149658203,
          26.981964111328125,
          1.797967791557312,
          38.12571716308594,
          28.553525924682617,
          23.148653030395508,
          5.771327972412109,
          6.930303573608398,
          26.98189926147461,
          11.327837944030762,
          -13.690608978271484,
          7.541598320007324,
          21.15261459350586,
          -20.739850997924805,
          13.666023254394531,
          26.08551597595215,
          35.50310516357422,
          45.16670227050781,
          6.365259170532227,
          5.771327972412109,
          45.0505485534668,
          31.506698608398438,
          33.873619079589844,
          15.108135223388672,
          -11.677056312561035,
          -5.7702131271362305,
          9.421710014343262,
          -14.715431213378906,
          3.516730785369873,
          -1.9414443969726562,
          40.2209587097168,
          -35.438045501708984,
          -39.91941452026367,
          40.539817810058594,
          50.713050842285156,
          -29.308818817138672,
          -20.58317756652832,
          45.03263854980469,
          2.79483962059021,
          15.581439971923828,
          -24.26072120666504,
          -9.185625076293945,
          44.474918365478516,
          45.42995071411133,
          7.729438304901123,
          -20.189950942993164,
          -19.39988136291504,
          18.764963150024414,
          -32.65379333496094,
          -42.45515060424805,
          -39.40088653564453,
          -0.6720055341720581,
          -12.182868003845215,
          -12.903543472290039,
          -20.983318328857422,
          -3.935870409011841,
          -10.122599601745605,
          -11.122114181518555,
          -49.47124099731445,
          -1.1971850395202637,
          2.9788854122161865,
          -11.262247085571289,
          -34.922420501708984,
          -41.82493591308594,
          -36.559425354003906,
          -47.43541717529297,
          24.302783966064453,
          -41.76594924926758,
          -41.17204666137695,
          20.176223754882812,
          21.80218505859375,
          42.54644012451172,
          8.874226570129395,
          47.354591369628906,
          39.162559509277344,
          38.01810836791992,
          20.487668991088867,
          2.7584707736968994,
          -35.913326263427734,
          6.090571880340576,
          -33.384918212890625,
          15.814553260803223,
          -13.434131622314453,
          37.8730354309082,
          -31.94571876525879,
          -25.901077270507812,
          -1.097077488899231,
          -18.713058471679688,
          27.45146942138672,
          10.317118644714355,
          -26.013721466064453,
          -25.49405288696289,
          -34.736351013183594,
          -43.22951889038086,
          -25.705503463745117,
          21.52313232421875,
          -32.939697265625,
          -33.7269172668457,
          29.408300399780273,
          42.41262435913086,
          -44.61167526245117,
          -42.04105758666992,
          36.22639846801758,
          38.134178161621094,
          -42.2708625793457,
          -12.526042938232422,
          -42.5180549621582,
          -12.245769500732422,
          36.7908935546875,
          -45.95378875732422,
          -43.12797164916992,
          -28.694904327392578,
          -10.332490921020508,
          -38.99203109741211,
          -34.66878128051758,
          -9.772695541381836,
          -44.572959899902344,
          -35.11676788330078,
          -34.88401412963867,
          39.52537155151367,
          27.31405258178711,
          23.83197593688965,
          -31.386611938476562,
          1.3385320901870728,
          -9.168232917785645,
          16.124361038208008,
          6.875715255737305,
          -0.09310271590948105,
          -18.915681838989258,
          4.109873294830322,
          3.865663528442383,
          -12.109390258789062,
          -3.669254779815674,
          39.446571350097656,
          31.957441329956055,
          18.60492706298828,
          -24.370084762573242,
          -42.410491943359375,
          23.802825927734375,
          15.569806098937988,
          -17.744224548339844,
          -29.24007225036621,
          11.415948867797852,
          -23.83481216430664,
          -9.914909362792969,
          -10.994405746459961,
          -38.295955657958984,
          -16.0981502532959,
          -29.068029403686523,
          19.680112838745117,
          -38.515201568603516,
          -33.7749137878418,
          29.02086639404297,
          17.94153594970703,
          -22.958209991455078,
          34.59811019897461,
          25.20391845703125,
          -17.088350296020508,
          -28.142810821533203,
          12.42186164855957,
          24.91904067993164,
          -23.869400024414062,
          2.1562767028808594,
          37.29802703857422,
          -4.318464756011963,
          18.550254821777344,
          36.45187759399414,
          -1.4460722208023071,
          21.17584228515625,
          -30.7408390045166,
          -9.703516006469727,
          9.190075874328613,
          -11.487624168395996,
          -3.7939324378967285,
          -1.9546973705291748,
          -1.0342074632644653,
          45.01604461669922,
          45.037139892578125,
          28.093603134155273,
          34.33623123168945,
          49.82391357421875,
          16.198265075683594,
          -0.843004584312439,
          37.318603515625,
          -7.542641639709473,
          -4.4352216720581055,
          44.789207458496094,
          51.54698944091797,
          -3.425771474838257,
          19.154590606689453,
          26.94266700744629,
          16.513540267944336,
          -22.829368591308594,
          33.367897033691406,
          40.38082504272461,
          -7.742177963256836,
          29.919010162353516,
          -11.513699531555176,
          -25.8983211517334,
          -21.228487014770508,
          29.912281036376953,
          -31.117910385131836,
          -31.56542205810547,
          -35.769615173339844,
          3.1705892086029053,
          15.88082218170166,
          -14.623319625854492,
          -4.517599582672119,
          33.086997985839844,
          38.702083587646484,
          9.308917045593262,
          -2.8268349170684814,
          28.923837661743164,
          -11.357362747192383,
          -49.471439361572266,
          -44.168190002441406,
          38.97235870361328,
          -35.03095245361328,
          -37.12450408935547,
          -12.090974807739258,
          30.18878173828125,
          17.740760803222656,
          -3.073546886444092,
          -4.6466546058654785,
          4.425381660461426,
          6.573667049407959,
          40.73335647583008,
          -5.823619365692139,
          -46.78656768798828,
          7.25488805770874,
          -45.94820785522461,
          18.23808479309082,
          32.718013763427734,
          -40.0991325378418,
          -12.635563850402832,
          -28.239835739135742,
          -32.67021942138672,
          7.507319927215576,
          -7.176171779632568,
          2.8257896900177,
          22.195219039916992,
          -23.54215431213379,
          -31.082151412963867,
          12.562941551208496,
          25.417022705078125,
          38.972816467285156,
          38.97224044799805,
          37.5185546875,
          23.2464542388916,
          27.771808624267578,
          -37.94422149658203,
          -42.01337432861328,
          -16.320280075073242,
          -38.416786193847656,
          -47.20596694946289,
          2.07332444190979,
          17.02230453491211,
          -41.93873596191406,
          -43.075103759765625,
          -47.24634552001953,
          -27.00841522216797,
          -42.27499771118164,
          -40.759212493896484,
          31.85689353942871,
          -43.566951751708984,
          -46.68478012084961,
          -42.83834457397461,
          -41.18625259399414,
          -46.8604621887207,
          -29.05718231201172,
          22.002077102661133,
          -21.07695770263672,
          -27.447669982910156,
          -2.0747509002685547,
          4.851606845855713,
          9.439142227172852,
          4.167850017547607,
          -13.127961158752441,
          28.13429069519043,
          28.332372665405273,
          -33.3708610534668,
          33.21443176269531,
          -22.137527465820312,
          -35.732975006103516,
          -24.216501235961914,
          -24.724464416503906,
          32.94638442993164,
          47.47919464111328,
          -32.02322769165039,
          -41.431209564208984,
          0.6440751552581787,
          -42.036705017089844,
          -1.6314215660095215,
          -36.34889221191406,
          10.86017894744873,
          46.71341323852539,
          3.1052355766296387,
          22.287626266479492,
          23.907371520996094,
          24.31058692932129,
          20.2614803314209,
          3.358059883117676,
          -3.3908843994140625,
          39.823883056640625,
          -3.7024881839752197,
          -16.759258270263672,
          33.496490478515625,
          -6.696812629699707,
          -25.104890823364258,
          -16.098281860351562,
          -41.5715446472168,
          -14.305521965026855,
          -17.77267074584961,
          -2.372974157333374,
          -15.614463806152344,
          -11.122077941894531,
          38.6511344909668,
          -10.076264381408691,
          -9.0651273727417,
          17.92311668395996,
          -3.433807373046875,
          -18.78829002380371,
          -14.082266807556152,
          2.34232497215271,
          2.1509013175964355,
          24.109472274780273,
          -11.476369857788086,
          28.79574966430664,
          -12.372644424438477,
          -40.54597091674805,
          42.02629089355469,
          -32.6061897277832,
          -14.661843299865723,
          15.516494750976562,
          -38.67933654785156,
          -12.556323051452637,
          5.57286262512207,
          -18.719751358032227,
          0.12584708631038666,
          -29.699119567871094,
          -4.0112833976745605,
          33.51913833618164,
          1.5473324060440063,
          -1.8432998657226562,
          46.96925735473633,
          12.805074691772461,
          41.90797805786133,
          -31.0020751953125,
          -51.33837127685547,
          -37.781925201416016
         ],
         "yaxis": "y"
        }
       ],
       "layout": {
        "coloraxis": {
         "colorbar": {
          "title": {
           "text": "cluster"
          }
         },
         "colorscale": [
          [
           0,
           "#0d0887"
          ],
          [
           0.1111111111111111,
           "#46039f"
          ],
          [
           0.2222222222222222,
           "#7201a8"
          ],
          [
           0.3333333333333333,
           "#9c179e"
          ],
          [
           0.4444444444444444,
           "#bd3786"
          ],
          [
           0.5555555555555556,
           "#d8576b"
          ],
          [
           0.6666666666666666,
           "#ed7953"
          ],
          [
           0.7777777777777778,
           "#fb9f3a"
          ],
          [
           0.8888888888888888,
           "#fdca26"
          ],
          [
           1,
           "#f0f921"
          ]
         ]
        },
        "legend": {
         "tracegroupgap": 0
        },
        "margin": {
         "t": 60
        },
        "template": {
         "data": {
          "bar": [
           {
            "error_x": {
             "color": "#2a3f5f"
            },
            "error_y": {
             "color": "#2a3f5f"
            },
            "marker": {
             "line": {
              "color": "#E5ECF6",
              "width": 0.5
             },
             "pattern": {
              "fillmode": "overlay",
              "size": 10,
              "solidity": 0.2
             }
            },
            "type": "bar"
           }
          ],
          "barpolar": [
           {
            "marker": {
             "line": {
              "color": "#E5ECF6",
              "width": 0.5
             },
             "pattern": {
              "fillmode": "overlay",
              "size": 10,
              "solidity": 0.2
             }
            },
            "type": "barpolar"
           }
          ],
          "carpet": [
           {
            "aaxis": {
             "endlinecolor": "#2a3f5f",
             "gridcolor": "white",
             "linecolor": "white",
             "minorgridcolor": "white",
             "startlinecolor": "#2a3f5f"
            },
            "baxis": {
             "endlinecolor": "#2a3f5f",
             "gridcolor": "white",
             "linecolor": "white",
             "minorgridcolor": "white",
             "startlinecolor": "#2a3f5f"
            },
            "type": "carpet"
           }
          ],
          "choropleth": [
           {
            "colorbar": {
             "outlinewidth": 0,
             "ticks": ""
            },
            "type": "choropleth"
           }
          ],
          "contour": [
           {
            "colorbar": {
             "outlinewidth": 0,
             "ticks": ""
            },
            "colorscale": [
             [
              0,
              "#0d0887"
             ],
             [
              0.1111111111111111,
              "#46039f"
             ],
             [
              0.2222222222222222,
              "#7201a8"
             ],
             [
              0.3333333333333333,
              "#9c179e"
             ],
             [
              0.4444444444444444,
              "#bd3786"
             ],
             [
              0.5555555555555556,
              "#d8576b"
             ],
             [
              0.6666666666666666,
              "#ed7953"
             ],
             [
              0.7777777777777778,
              "#fb9f3a"
             ],
             [
              0.8888888888888888,
              "#fdca26"
             ],
             [
              1,
              "#f0f921"
             ]
            ],
            "type": "contour"
           }
          ],
          "contourcarpet": [
           {
            "colorbar": {
             "outlinewidth": 0,
             "ticks": ""
            },
            "type": "contourcarpet"
           }
          ],
          "heatmap": [
           {
            "colorbar": {
             "outlinewidth": 0,
             "ticks": ""
            },
            "colorscale": [
             [
              0,
              "#0d0887"
             ],
             [
              0.1111111111111111,
              "#46039f"
             ],
             [
              0.2222222222222222,
              "#7201a8"
             ],
             [
              0.3333333333333333,
              "#9c179e"
             ],
             [
              0.4444444444444444,
              "#bd3786"
             ],
             [
              0.5555555555555556,
              "#d8576b"
             ],
             [
              0.6666666666666666,
              "#ed7953"
             ],
             [
              0.7777777777777778,
              "#fb9f3a"
             ],
             [
              0.8888888888888888,
              "#fdca26"
             ],
             [
              1,
              "#f0f921"
             ]
            ],
            "type": "heatmap"
           }
          ],
          "heatmapgl": [
           {
            "colorbar": {
             "outlinewidth": 0,
             "ticks": ""
            },
            "colorscale": [
             [
              0,
              "#0d0887"
             ],
             [
              0.1111111111111111,
              "#46039f"
             ],
             [
              0.2222222222222222,
              "#7201a8"
             ],
             [
              0.3333333333333333,
              "#9c179e"
             ],
             [
              0.4444444444444444,
              "#bd3786"
             ],
             [
              0.5555555555555556,
              "#d8576b"
             ],
             [
              0.6666666666666666,
              "#ed7953"
             ],
             [
              0.7777777777777778,
              "#fb9f3a"
             ],
             [
              0.8888888888888888,
              "#fdca26"
             ],
             [
              1,
              "#f0f921"
             ]
            ],
            "type": "heatmapgl"
           }
          ],
          "histogram": [
           {
            "marker": {
             "pattern": {
              "fillmode": "overlay",
              "size": 10,
              "solidity": 0.2
             }
            },
            "type": "histogram"
           }
          ],
          "histogram2d": [
           {
            "colorbar": {
             "outlinewidth": 0,
             "ticks": ""
            },
            "colorscale": [
             [
              0,
              "#0d0887"
             ],
             [
              0.1111111111111111,
              "#46039f"
             ],
             [
              0.2222222222222222,
              "#7201a8"
             ],
             [
              0.3333333333333333,
              "#9c179e"
             ],
             [
              0.4444444444444444,
              "#bd3786"
             ],
             [
              0.5555555555555556,
              "#d8576b"
             ],
             [
              0.6666666666666666,
              "#ed7953"
             ],
             [
              0.7777777777777778,
              "#fb9f3a"
             ],
             [
              0.8888888888888888,
              "#fdca26"
             ],
             [
              1,
              "#f0f921"
             ]
            ],
            "type": "histogram2d"
           }
          ],
          "histogram2dcontour": [
           {
            "colorbar": {
             "outlinewidth": 0,
             "ticks": ""
            },
            "colorscale": [
             [
              0,
              "#0d0887"
             ],
             [
              0.1111111111111111,
              "#46039f"
             ],
             [
              0.2222222222222222,
              "#7201a8"
             ],
             [
              0.3333333333333333,
              "#9c179e"
             ],
             [
              0.4444444444444444,
              "#bd3786"
             ],
             [
              0.5555555555555556,
              "#d8576b"
             ],
             [
              0.6666666666666666,
              "#ed7953"
             ],
             [
              0.7777777777777778,
              "#fb9f3a"
             ],
             [
              0.8888888888888888,
              "#fdca26"
             ],
             [
              1,
              "#f0f921"
             ]
            ],
            "type": "histogram2dcontour"
           }
          ],
          "mesh3d": [
           {
            "colorbar": {
             "outlinewidth": 0,
             "ticks": ""
            },
            "type": "mesh3d"
           }
          ],
          "parcoords": [
           {
            "line": {
             "colorbar": {
              "outlinewidth": 0,
              "ticks": ""
             }
            },
            "type": "parcoords"
           }
          ],
          "pie": [
           {
            "automargin": true,
            "type": "pie"
           }
          ],
          "scatter": [
           {
            "marker": {
             "colorbar": {
              "outlinewidth": 0,
              "ticks": ""
             }
            },
            "type": "scatter"
           }
          ],
          "scatter3d": [
           {
            "line": {
             "colorbar": {
              "outlinewidth": 0,
              "ticks": ""
             }
            },
            "marker": {
             "colorbar": {
              "outlinewidth": 0,
              "ticks": ""
             }
            },
            "type": "scatter3d"
           }
          ],
          "scattercarpet": [
           {
            "marker": {
             "colorbar": {
              "outlinewidth": 0,
              "ticks": ""
             }
            },
            "type": "scattercarpet"
           }
          ],
          "scattergeo": [
           {
            "marker": {
             "colorbar": {
              "outlinewidth": 0,
              "ticks": ""
             }
            },
            "type": "scattergeo"
           }
          ],
          "scattergl": [
           {
            "marker": {
             "colorbar": {
              "outlinewidth": 0,
              "ticks": ""
             }
            },
            "type": "scattergl"
           }
          ],
          "scattermapbox": [
           {
            "marker": {
             "colorbar": {
              "outlinewidth": 0,
              "ticks": ""
             }
            },
            "type": "scattermapbox"
           }
          ],
          "scatterpolar": [
           {
            "marker": {
             "colorbar": {
              "outlinewidth": 0,
              "ticks": ""
             }
            },
            "type": "scatterpolar"
           }
          ],
          "scatterpolargl": [
           {
            "marker": {
             "colorbar": {
              "outlinewidth": 0,
              "ticks": ""
             }
            },
            "type": "scatterpolargl"
           }
          ],
          "scatterternary": [
           {
            "marker": {
             "colorbar": {
              "outlinewidth": 0,
              "ticks": ""
             }
            },
            "type": "scatterternary"
           }
          ],
          "surface": [
           {
            "colorbar": {
             "outlinewidth": 0,
             "ticks": ""
            },
            "colorscale": [
             [
              0,
              "#0d0887"
             ],
             [
              0.1111111111111111,
              "#46039f"
             ],
             [
              0.2222222222222222,
              "#7201a8"
             ],
             [
              0.3333333333333333,
              "#9c179e"
             ],
             [
              0.4444444444444444,
              "#bd3786"
             ],
             [
              0.5555555555555556,
              "#d8576b"
             ],
             [
              0.6666666666666666,
              "#ed7953"
             ],
             [
              0.7777777777777778,
              "#fb9f3a"
             ],
             [
              0.8888888888888888,
              "#fdca26"
             ],
             [
              1,
              "#f0f921"
             ]
            ],
            "type": "surface"
           }
          ],
          "table": [
           {
            "cells": {
             "fill": {
              "color": "#EBF0F8"
             },
             "line": {
              "color": "white"
             }
            },
            "header": {
             "fill": {
              "color": "#C8D4E3"
             },
             "line": {
              "color": "white"
             }
            },
            "type": "table"
           }
          ]
         },
         "layout": {
          "annotationdefaults": {
           "arrowcolor": "#2a3f5f",
           "arrowhead": 0,
           "arrowwidth": 1
          },
          "autotypenumbers": "strict",
          "coloraxis": {
           "colorbar": {
            "outlinewidth": 0,
            "ticks": ""
           }
          },
          "colorscale": {
           "diverging": [
            [
             0,
             "#8e0152"
            ],
            [
             0.1,
             "#c51b7d"
            ],
            [
             0.2,
             "#de77ae"
            ],
            [
             0.3,
             "#f1b6da"
            ],
            [
             0.4,
             "#fde0ef"
            ],
            [
             0.5,
             "#f7f7f7"
            ],
            [
             0.6,
             "#e6f5d0"
            ],
            [
             0.7,
             "#b8e186"
            ],
            [
             0.8,
             "#7fbc41"
            ],
            [
             0.9,
             "#4d9221"
            ],
            [
             1,
             "#276419"
            ]
           ],
           "sequential": [
            [
             0,
             "#0d0887"
            ],
            [
             0.1111111111111111,
             "#46039f"
            ],
            [
             0.2222222222222222,
             "#7201a8"
            ],
            [
             0.3333333333333333,
             "#9c179e"
            ],
            [
             0.4444444444444444,
             "#bd3786"
            ],
            [
             0.5555555555555556,
             "#d8576b"
            ],
            [
             0.6666666666666666,
             "#ed7953"
            ],
            [
             0.7777777777777778,
             "#fb9f3a"
            ],
            [
             0.8888888888888888,
             "#fdca26"
            ],
            [
             1,
             "#f0f921"
            ]
           ],
           "sequentialminus": [
            [
             0,
             "#0d0887"
            ],
            [
             0.1111111111111111,
             "#46039f"
            ],
            [
             0.2222222222222222,
             "#7201a8"
            ],
            [
             0.3333333333333333,
             "#9c179e"
            ],
            [
             0.4444444444444444,
             "#bd3786"
            ],
            [
             0.5555555555555556,
             "#d8576b"
            ],
            [
             0.6666666666666666,
             "#ed7953"
            ],
            [
             0.7777777777777778,
             "#fb9f3a"
            ],
            [
             0.8888888888888888,
             "#fdca26"
            ],
            [
             1,
             "#f0f921"
            ]
           ]
          },
          "colorway": [
           "#636efa",
           "#EF553B",
           "#00cc96",
           "#ab63fa",
           "#FFA15A",
           "#19d3f3",
           "#FF6692",
           "#B6E880",
           "#FF97FF",
           "#FECB52"
          ],
          "font": {
           "color": "#2a3f5f"
          },
          "geo": {
           "bgcolor": "white",
           "lakecolor": "white",
           "landcolor": "#E5ECF6",
           "showlakes": true,
           "showland": true,
           "subunitcolor": "white"
          },
          "hoverlabel": {
           "align": "left"
          },
          "hovermode": "closest",
          "mapbox": {
           "style": "light"
          },
          "paper_bgcolor": "white",
          "plot_bgcolor": "#E5ECF6",
          "polar": {
           "angularaxis": {
            "gridcolor": "white",
            "linecolor": "white",
            "ticks": ""
           },
           "bgcolor": "#E5ECF6",
           "radialaxis": {
            "gridcolor": "white",
            "linecolor": "white",
            "ticks": ""
           }
          },
          "scene": {
           "xaxis": {
            "backgroundcolor": "#E5ECF6",
            "gridcolor": "white",
            "gridwidth": 2,
            "linecolor": "white",
            "showbackground": true,
            "ticks": "",
            "zerolinecolor": "white"
           },
           "yaxis": {
            "backgroundcolor": "#E5ECF6",
            "gridcolor": "white",
            "gridwidth": 2,
            "linecolor": "white",
            "showbackground": true,
            "ticks": "",
            "zerolinecolor": "white"
           },
           "zaxis": {
            "backgroundcolor": "#E5ECF6",
            "gridcolor": "white",
            "gridwidth": 2,
            "linecolor": "white",
            "showbackground": true,
            "ticks": "",
            "zerolinecolor": "white"
           }
          },
          "shapedefaults": {
           "line": {
            "color": "#2a3f5f"
           }
          },
          "ternary": {
           "aaxis": {
            "gridcolor": "white",
            "linecolor": "white",
            "ticks": ""
           },
           "baxis": {
            "gridcolor": "white",
            "linecolor": "white",
            "ticks": ""
           },
           "bgcolor": "#E5ECF6",
           "caxis": {
            "gridcolor": "white",
            "linecolor": "white",
            "ticks": ""
           }
          },
          "title": {
           "x": 0.05
          },
          "xaxis": {
           "automargin": true,
           "gridcolor": "white",
           "linecolor": "white",
           "ticks": "",
           "title": {
            "standoff": 15
           },
           "zerolinecolor": "white",
           "zerolinewidth": 2
          },
          "yaxis": {
           "automargin": true,
           "gridcolor": "white",
           "linecolor": "white",
           "ticks": "",
           "title": {
            "standoff": 15
           },
           "zerolinecolor": "white",
           "zerolinewidth": 2
          }
         }
        },
        "xaxis": {
         "anchor": "y",
         "domain": [
          0,
          1
         ],
         "title": {
          "text": "x"
         }
        },
        "yaxis": {
         "anchor": "x",
         "domain": [
          0,
          1
         ],
         "title": {
          "text": "y"
         }
        }
       }
      }
     },
     "metadata": {},
     "output_type": "display_data"
    }
   ],
   "source": [
    "# Visualizing the genre clustering\n",
    "from sklearn.manifold import TSNE\n",
    "\n",
    "tsne_pipeline = Pipeline([('scaler', StandardScaler()), ('tsne', TSNE(n_components = 2, verbose = 1))])\n",
    "genre_embedding = tsne_pipeline.fit_transform(X)\n",
    "projection = pd.DataFrame(columns = ['x', 'y'], data = genre_embedding)\n",
    "projection['genres'] = genre['genres']\n",
    "projection['cluster'] = genre['cluster']\n",
    "\n",
    "fig = px.scatter(\n",
    "    projection, x = 'x', y = 'y', color = 'cluster', hover_data = ['x', 'y', 'genres'])\n",
    "fig.show()"
   ]
  },
  {
   "cell_type": "code",
   "execution_count": 85,
   "metadata": {},
   "outputs": [],
   "source": [
    "# Clustering songs with K-Means\n",
    "from sklearn.pipeline import Pipeline\n",
    "from sklearn.preprocessing import StandardScaler\n",
    "from sklearn.cluster import KMeans\n",
    "\n",
    "song_cluster_pipeline = Pipeline([('scaler', StandardScaler()), \n",
    "                                ('kmeans', KMeans(n_clusters = 20, verbose = False))], \n",
    "                                verbose = False)\n",
    "\n",
    "#general_data = pd.read_csv(r\"C:\\Users\\ckraft\\Downloads\\Spotify\\General.csv\")\n",
    "\n",
    "X = general_data.select_dtypes(np.number)\n",
    "number_cols = list(X.columns)\n",
    "song_cluster_pipeline.fit(X)\n",
    "song_cluster_labels = song_cluster_pipeline.predict(X)\n",
    "general_data['cluster_label'] = song_cluster_labels"
   ]
  },
  {
   "cell_type": "code",
   "execution_count": 86,
   "metadata": {},
   "outputs": [
    {
     "ename": "SyntaxError",
     "evalue": "(unicode error) 'unicodeescape' codec can't decode bytes in position 106-107: truncated \\UXXXXXXXX escape (Temp/ipykernel_5824/106234084.py, line 17)",
     "output_type": "error",
     "traceback": [
      "\u001b[1;36m  File \u001b[1;32m\"C:\\Users\\ckraft\\AppData\\Local\\Temp/ipykernel_5824/106234084.py\"\u001b[1;36m, line \u001b[1;32m17\u001b[0m\n\u001b[1;33m    \"\"\"\u001b[0m\n\u001b[1;37m       ^\u001b[0m\n\u001b[1;31mSyntaxError\u001b[0m\u001b[1;31m:\u001b[0m (unicode error) 'unicodeescape' codec can't decode bytes in position 106-107: truncated \\UXXXXXXXX escape\n"
     ]
    }
   ],
   "source": [
    "# Visualizing the song clustering\n",
    "\"\"\"\n",
    "from sklearn.cluster import KMeans\n",
    "from sklearn.decomposition import PCA\n",
    "\n",
    "general_data = pd.read_csv(r\"C:\\Users\\ckraft\\Downloads\\Spotify\\General.csv\")\n",
    "\n",
    "pca_pipeline = Pipeline([('scaler', StandardScaler()), ('PCA', PCA(n_components = 2))])\n",
    "song_embedding = pca_pipeline.fit_transform(X)\n",
    "projection = pd.DataFrame(columns = ['x', 'y'], data = song_embedding)\n",
    "projection['title'] = general_data['name']\n",
    "projection['cluster'] = general_data['cluster_label']\n",
    "\n",
    "fig = px.scatter(\n",
    "    projection, x = 'x', y = 'y', color = 'cluster', hover_data = ['x', 'y', 'title'])\n",
    "fig.show()\n",
    "\"\"\"\n"
   ]
  },
  {
   "cell_type": "code",
   "execution_count": null,
   "metadata": {},
   "outputs": [
    {
     "name": "stdout",
     "output_type": "stream",
     "text": [
      "Collecting spotipyNote: you may need to restart the kernel to use updated packages.\n"
     ]
    },
    {
     "name": "stderr",
     "output_type": "stream",
     "text": [
      "WARNING: Ignoring invalid distribution -illow (c:\\users\\ckraft\\appdata\\local\\programs\\python\\python39\\lib\\site-packages)\n",
      "WARNING: Ignoring invalid distribution -illow (c:\\users\\ckraft\\appdata\\local\\programs\\python\\python39\\lib\\site-packages)\n",
      "WARNING: Ignoring invalid distribution -illow (c:\\users\\ckraft\\appdata\\local\\programs\\python\\python39\\lib\\site-packages)\n",
      "WARNING: Ignoring invalid distribution -illow (c:\\users\\ckraft\\appdata\\local\\programs\\python\\python39\\lib\\site-packages)\n",
      "WARNING: Ignoring invalid distribution -illow (c:\\users\\ckraft\\appdata\\local\\programs\\python\\python39\\lib\\site-packages)\n",
      "WARNING: Ignoring invalid distribution -illow (c:\\users\\ckraft\\appdata\\local\\programs\\python\\python39\\lib\\site-packages)\n",
      "WARNING: Ignoring invalid distribution -illow (c:\\users\\ckraft\\appdata\\local\\programs\\python\\python39\\lib\\site-packages)\n",
      "WARNING: Ignoring invalid distribution -illow (c:\\users\\ckraft\\appdata\\local\\programs\\python\\python39\\lib\\site-packages)\n",
      "WARNING: You are using pip version 21.3; however, version 22.1.2 is available.\n",
      "You should consider upgrading via the 'c:\\Users\\ckraft\\AppData\\Local\\Programs\\Python\\Python39\\python.exe -m pip install --upgrade pip' command.\n"
     ]
    },
    {
     "name": "stdout",
     "output_type": "stream",
     "text": [
      "\n",
      "  Downloading spotipy-2.20.0-py3-none-any.whl (27 kB)\n",
      "Requirement already satisfied: requests>=2.25.0 in c:\\users\\ckraft\\appdata\\local\\programs\\python\\python39\\lib\\site-packages (from spotipy) (2.27.1)\n",
      "Requirement already satisfied: urllib3>=1.26.0 in c:\\users\\ckraft\\appdata\\local\\programs\\python\\python39\\lib\\site-packages (from spotipy) (1.26.7)\n",
      "Requirement already satisfied: six>=1.15.0 in c:\\users\\ckraft\\appdata\\local\\programs\\python\\python39\\lib\\site-packages (from spotipy) (1.16.0)\n",
      "Collecting redis>=3.5.3\n",
      "  Downloading redis-4.3.4-py3-none-any.whl (246 kB)\n",
      "Collecting async-timeout>=4.0.2\n",
      "  Downloading async_timeout-4.0.2-py3-none-any.whl (5.8 kB)\n",
      "Collecting deprecated>=1.2.3\n",
      "  Downloading Deprecated-1.2.13-py2.py3-none-any.whl (9.6 kB)\n",
      "Requirement already satisfied: packaging>=20.4 in c:\\users\\ckraft\\appdata\\local\\programs\\python\\python39\\lib\\site-packages (from redis>=3.5.3->spotipy) (21.2)\n",
      "Requirement already satisfied: charset-normalizer~=2.0.0 in c:\\users\\ckraft\\appdata\\local\\programs\\python\\python39\\lib\\site-packages (from requests>=2.25.0->spotipy) (2.0.7)\n",
      "Requirement already satisfied: idna<4,>=2.5 in c:\\users\\ckraft\\appdata\\local\\programs\\python\\python39\\lib\\site-packages (from requests>=2.25.0->spotipy) (3.3)\n",
      "Requirement already satisfied: certifi>=2017.4.17 in c:\\users\\ckraft\\appdata\\local\\programs\\python\\python39\\lib\\site-packages (from requests>=2.25.0->spotipy) (2021.10.8)\n",
      "Requirement already satisfied: wrapt<2,>=1.10 in c:\\users\\ckraft\\appdata\\local\\programs\\python\\python39\\lib\\site-packages (from deprecated>=1.2.3->redis>=3.5.3->spotipy) (1.14.1)\n",
      "Requirement already satisfied: pyparsing<3,>=2.0.2 in c:\\users\\ckraft\\appdata\\local\\programs\\python\\python39\\lib\\site-packages (from packaging>=20.4->redis>=3.5.3->spotipy) (2.4.7)\n",
      "Installing collected packages: deprecated, async-timeout, redis, spotipy\n",
      "Successfully installed async-timeout-4.0.2 deprecated-1.2.13 redis-4.3.4 spotipy-2.20.0\n"
     ]
    }
   ],
   "source": [
    "#pip install spotipy"
   ]
  },
  {
   "cell_type": "code",
   "execution_count": null,
   "metadata": {},
   "outputs": [],
   "source": [
    "# Recommendation Machine\n",
    "import spotipy\n",
    "from spotipy.oauth2 import SpotifyClientCredentials\n",
    "from collections import defaultdict\n",
    "\n",
    "#Spotify API Docs: https://developer.spotify.com/documentation/web-api/\n",
    "\n",
    "\n",
    "sp = spotipy.Spotify(auth_manager = SpotifyClientCredentials(client_id = \"my_client_id\",\n",
    "                                                        client_secret = \"it's a secret\"))\n",
    "\n",
    "def find_song(name, year):\n",
    "    song_data = defaultdict()\n",
    "    results = sp.search(q= 'track: {} year: {}'.format(name,year), limit=1)\n",
    "    if results['tracks']['items'] == []:\n",
    "        return None\n",
    "\n",
    "    results = results['tracks']['items'][0]\n",
    "    track_id = results['id']\n",
    "    audio_features = sp.audio_features(track_id)[0]\n",
    "\n",
    "    song_data['name'] = [name]\n",
    "    song_data['year'] = [year]\n",
    "    song_data['explicit'] = [int(results['explicit'])]\n",
    "    song_data['duration_ms'] = [results['duration_ms']]\n",
    "    song_data['popularity'] = [results['popularity']]\n",
    "\n",
    "    for key, value in audio_features.items():\n",
    "        song_data[key] = value\n",
    "\n",
    "    return pd.DataFrame(song_data)"
   ]
  },
  {
   "cell_type": "code",
   "execution_count": null,
   "metadata": {},
   "outputs": [],
   "source": [
    "from collections import defaultdict\n",
    "from sklearn.metrics import euclidean_distances\n",
    "from scipy.spatial.distance import cdist\n",
    "import difflib\n",
    "\n",
    "number_cols = ['valence', \n",
    "            'year', \n",
    "            'acousticness', \n",
    "            'danceability', \n",
    "            'duration_ms', \n",
    "            'energy', \n",
    "            'explicit',\n",
    "            'instrumentalness',\n",
    "            'key', \n",
    "            'liveness', \n",
    "            'loudness', \n",
    "            'mode', \n",
    "            'popularity',\n",
    "            'speechiness', \n",
    "            'tempo']\n",
    "\n",
    "def get_song_data(song, spotify_data):\n",
    "    \n",
    "    try:\n",
    "        song_data = spotify_data[(spotify_data['name'] == song['name']) \n",
    "                                & (spotify_data['year'] == song['year'])].iloc[0]\n",
    "        return song_data\n",
    "    \n",
    "    except IndexError:\n",
    "        return find_song(song['name'], song['year'])\n",
    "\n",
    "\n",
    "def get_mean_vector(song_list, spotify_data):\n",
    "    \n",
    "    song_vectors = []\n",
    "    \n",
    "    for song in song_list:\n",
    "        song_data = get_song_data(song, spotify_data)\n",
    "        if song_data is None:\n",
    "            print('Warning: {} does not exist in Spotify or in database'.format(song['name']))\n",
    "            continue\n",
    "        song_vector = song_data[number_cols].values\n",
    "        song_vectors.append(song_vector)  \n",
    "    \n",
    "    song_matrix = np.array(list(song_vectors))\n",
    "    return np.mean(song_matrix, axis = 0)\n",
    "\n",
    "def flatten_dict_list(dict_list):\n",
    "    \n",
    "    flattened_dict = defaultdict()\n",
    "    for key in dict_list[0].keys():\n",
    "        flattened_dict[key] = []\n",
    "    \n",
    "    for dictionary in dict_list:\n",
    "        for key, value in dictionary.items():\n",
    "            flattened_dict[key].append(value)\n",
    "            \n",
    "    return flattened_dict\n",
    "\n",
    "def recommend_songs( song_list, spotify_data, n_songs=10):\n",
    "    \n",
    "    metadata_cols = ['name', 'year', 'artists']\n",
    "    song_dict = flatten_dict_list(song_list)\n",
    "    \n",
    "    song_center = get_mean_vector(song_list, spotify_data)\n",
    "    scaler = song_cluster_pipeline.steps[0][1]\n",
    "    scaled_data = scaler.transform(spotify_data[number_cols])\n",
    "    scaled_song_center = scaler.transform(song_center.reshape(1, -1))\n",
    "    distances = cdist(scaled_song_center, scaled_data, 'cosine')\n",
    "    index = list(np.argsort(distances)[:, :n_songs][0])\n",
    "    \n",
    "    rec_songs = spotify_data.iloc[index]\n",
    "    rec_songs = rec_songs[~rec_songs['name'].isin(song_dict['name'])]\n",
    "    return rec_songs[metadata_cols].to_dict(orient ='records')"
   ]
  },
  {
   "cell_type": "code",
   "execution_count": null,
   "metadata": {},
   "outputs": [
    {
     "data": {
      "text/plain": [
       "[{'name': 'Sphärenklänge, Walzer, Op. 235',\n",
       "  'year': 2019,\n",
       "  'artists': \"['Josef Strauss', 'Christian Thielemann', 'Wiener Philharmoniker']\"},\n",
       " {'name': 'Flute Concerto No. 1 in G Major, K. 313: II. Adagio non troppo',\n",
       "  'year': 1998,\n",
       "  'artists': \"['Wolfgang Amadeus Mozart', 'Anton Gisler', 'Werner Tripp', 'Wiener Philharmoniker', 'Karl Böhm']\"},\n",
       " {'name': 'Andante spianato et Grande polonaise brillante, Op. 22: Grande Polonaise in E-flat Major. Molto allegro',\n",
       "  'year': 1995,\n",
       "  'artists': \"['Frédéric Chopin', 'Janusz Olejniczak', 'Tadeusz Strugala', 'The Warsaw Philharmonic National Orchestra of Poland']\"},\n",
       " {'name': \"Variations On A Theme From Pachelbel's Canon In D Major\",\n",
       "  'year': 1991,\n",
       "  'artists': \"['David Lanz']\"},\n",
       " {'name': 'String Quartet No. 8 in E Minor, Op. 59, No. 2 \"Rasumovsky\": III. Allegretto (Arranged by Barry Lieberman)',\n",
       "  'year': 2011,\n",
       "  'artists': \"['Ludwig van Beethoven', 'The American String Project']\"},\n",
       " {'name': 'Piano Concerto No. 24 in C Minor, K. 491: II. Larghetto',\n",
       "  'year': 1990,\n",
       "  'artists': \"['Wolfgang Amadeus Mozart', 'Jenő Jandó', 'Concentus Hungaricus', 'Matyas Antal']\"},\n",
       " {'name': \"Prelude a l'apres-midi d'un faune, L. 86\",\n",
       "  'year': 2011,\n",
       "  'artists': \"['Claude Debussy', 'Valery Gergiev', 'London Symphony Orchestra']\"},\n",
       " {'name': 'Concerto For Two Pianos, K. 365, 3rd Movement',\n",
       "  'year': 1984,\n",
       "  'artists': \"['Wolfgang Amadeus Mozart', 'Sir Neville Marriner', 'Academy of St. Martin in the Fields', 'Imogen Cooper', 'Anne Queffélec']\"},\n",
       " {'name': 'Sinfonia No. 12 in G Minor, MWV N12, \"Fuga\": II. Andante',\n",
       "  'year': 1997,\n",
       "  'artists': \"['Felix Mendelssohn', 'Northern Chamber Orchestra', 'Nicholas Ward']\"},\n",
       " {'name': \"Cello Sonata No. 5 in D Major, Op. 102 No. 2: II. Adagio con molto sentimento d'affetto\",\n",
       "  'year': 1984,\n",
       "  'artists': \"['Ludwig van Beethoven', 'Emanuel Ax', 'Yo-Yo Ma']\"}]"
      ]
     },
     "execution_count": 70,
     "metadata": {},
     "output_type": "execute_result"
    }
   ],
   "source": [
    "recommend_songs([{'name': 'Prelude 2', 'year': 2021},\n",
    "                {'name': 'Sonata for Violin Solo No. 2 in A Minor, BWV 1003:3. Andante', 'year': 2018},\n",
    "                {'name': 'Minuet in G for Piano', 'year': 2020},\n",
    "                {'name': 'Symphony No. 7 in C Major, Op. 105', 'year': 2016},\n",
    "                {'name': 'Intermezzi, Op. 117: 1. In E-Flat Major', 'year': 2005}],  general_data)"
   ]
  },
  {
   "cell_type": "code",
   "execution_count": null,
   "metadata": {},
   "outputs": [],
   "source": []
  }
 ],
 "metadata": {
  "kernelspec": {
   "display_name": "Python 3.9.5 64-bit",
   "language": "python",
   "name": "python3"
  },
  "language_info": {
   "codemirror_mode": {
    "name": "ipython",
    "version": 3
   },
   "file_extension": ".py",
   "mimetype": "text/x-python",
   "name": "python",
   "nbconvert_exporter": "python",
   "pygments_lexer": "ipython3",
   "version": "3.9.5"
  },
  "orig_nbformat": 4,
  "vscode": {
   "interpreter": {
    "hash": "a1e7865366026992a9ce10d0aa31687cc23edbb28b0a7b117cacc3eb7a507505"
   }
  }
 },
 "nbformat": 4,
 "nbformat_minor": 2
}
